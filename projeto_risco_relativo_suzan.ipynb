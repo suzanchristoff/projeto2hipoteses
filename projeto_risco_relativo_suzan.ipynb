{
  "nbformat": 4,
  "nbformat_minor": 0,
  "metadata": {
    "colab": {
      "provenance": [],
      "collapsed_sections": [
        "4DE8Vof9GOyS",
        "DEoD2ZcazRyf",
        "LzUg4v4pEXtU",
        "6QX78ubN1LgX",
        "1g0WSlJxF_GM",
        "kJuN0CztZi99",
        "xddl7YUnUTeJ",
        "mCdp9x_byTrX",
        "h7xfwW2Ls2Dg",
        "tmPG82bhKG2N",
        "2nmCNHAmaJha",
        "eMFliSpSSAzS",
        "3p621_SiyvK-",
        "juejf-WOM1Vu",
        "KDov9K4eeQHo",
        "hWUzng6zee52",
        "b_0SjsW63hik",
        "Zbhek_RxsAn2"
      ],
      "toc_visible": true,
      "authorship_tag": "ABX9TyNfCvkucyNRappHpb1hPboO",
      "include_colab_link": true
    },
    "kernelspec": {
      "name": "python3",
      "display_name": "Python 3"
    },
    "language_info": {
      "name": "python"
    }
  },
  "cells": [
    {
      "cell_type": "markdown",
      "metadata": {
        "id": "view-in-github",
        "colab_type": "text"
      },
      "source": [
        "<a href=\"https://colab.research.google.com/github/suzanchristoff/projeto2hipoteses/blob/main/projeto_risco_relativo_suzan.ipynb\" target=\"_parent\"><img src=\"https://colab.research.google.com/assets/colab-badge.svg\" alt=\"Open In Colab\"/></a>"
      ]
    },
    {
      "cell_type": "markdown",
      "source": [
        "# **Importação bibliotecas, leitura do dataframe e renomeação colunas**"
      ],
      "metadata": {
        "id": "4DE8Vof9GOyS"
      }
    },
    {
      "cell_type": "code",
      "source": [
        "# Importação bibliotecas\n",
        "import pandas as pd\n",
        "import matplotlib.pyplot as plt\n",
        "import seaborn as sns\n",
        "import numpy as np\n",
        "from scipy import stats\n",
        "import matplotlib.ticker as ticker"
      ],
      "metadata": {
        "id": "QSnaTYLWGMSp"
      },
      "execution_count": 1,
      "outputs": []
    },
    {
      "cell_type": "code",
      "source": [
        "#Leitura do dataframe\n",
        "caminho_arquivo=\"/content/tb_final_dados_integrados_bigquery_projeto3.csv\"\n",
        "df=pd.read_csv(caminho_arquivo)"
      ],
      "metadata": {
        "id": "YrhKKqgRbivc"
      },
      "execution_count": 2,
      "outputs": []
    },
    {
      "cell_type": "code",
      "source": [
        "df.head()"
      ],
      "metadata": {
        "colab": {
          "base_uri": "https://localhost:8080/",
          "height": 226
        },
        "id": "Nv_f7FN5ovx0",
        "outputId": "e5cf1f80-aff3-4927-fe4a-9cb85fee8aa2"
      },
      "execution_count": 3,
      "outputs": [
        {
          "output_type": "execute_result",
          "data": {
            "text/plain": [
              "   user_id  default_flag  more_90_days_overdue  \\\n",
              "0       17             0                     0   \n",
              "1      180             0                     0   \n",
              "2      353             0                     0   \n",
              "3      404             0                     0   \n",
              "4      405             0                     0   \n",
              "\n",
              "   using_lines_not_secured_personal_assets  \\\n",
              "0                                 0.142582   \n",
              "1                                 0.067297   \n",
              "2                                 0.118795   \n",
              "3                                 0.058924   \n",
              "4                                 0.173502   \n",
              "\n",
              "   number_times_delayed_payment_loan_30_59_days    debt_ratio  \\\n",
              "0                                             0      0.082849   \n",
              "1                                             1      0.153106   \n",
              "2                                             0      1.383004   \n",
              "3                                             0      0.639308   \n",
              "4                                             0  12403.000000   \n",
              "\n",
              "   number_times_delayed_payment_loan_60_89_days  age sex  last_month_salary  \\\n",
              "0                                             0   79   M            10500.0   \n",
              "1                                             1   66   M             8000.0   \n",
              "2                                             0   59   F             4200.0   \n",
              "3                                             0   56   F             6700.0   \n",
              "4                                             0   69   M                NaN   \n",
              "\n",
              "   number_dependents  total_real_estate  total_other  total_loans  \n",
              "0                0.0                  0           22           22  \n",
              "1                0.0                  0           25           25  \n",
              "2                0.0                  5           19           24  \n",
              "3                1.0                  2           29           31  \n",
              "4                0.0                  9           22           31  "
            ],
            "text/html": [
              "\n",
              "  <div id=\"df-cc84332e-7bfb-4cf4-b0f2-2428092e2759\" class=\"colab-df-container\">\n",
              "    <div>\n",
              "<style scoped>\n",
              "    .dataframe tbody tr th:only-of-type {\n",
              "        vertical-align: middle;\n",
              "    }\n",
              "\n",
              "    .dataframe tbody tr th {\n",
              "        vertical-align: top;\n",
              "    }\n",
              "\n",
              "    .dataframe thead th {\n",
              "        text-align: right;\n",
              "    }\n",
              "</style>\n",
              "<table border=\"1\" class=\"dataframe\">\n",
              "  <thead>\n",
              "    <tr style=\"text-align: right;\">\n",
              "      <th></th>\n",
              "      <th>user_id</th>\n",
              "      <th>default_flag</th>\n",
              "      <th>more_90_days_overdue</th>\n",
              "      <th>using_lines_not_secured_personal_assets</th>\n",
              "      <th>number_times_delayed_payment_loan_30_59_days</th>\n",
              "      <th>debt_ratio</th>\n",
              "      <th>number_times_delayed_payment_loan_60_89_days</th>\n",
              "      <th>age</th>\n",
              "      <th>sex</th>\n",
              "      <th>last_month_salary</th>\n",
              "      <th>number_dependents</th>\n",
              "      <th>total_real_estate</th>\n",
              "      <th>total_other</th>\n",
              "      <th>total_loans</th>\n",
              "    </tr>\n",
              "  </thead>\n",
              "  <tbody>\n",
              "    <tr>\n",
              "      <th>0</th>\n",
              "      <td>17</td>\n",
              "      <td>0</td>\n",
              "      <td>0</td>\n",
              "      <td>0.142582</td>\n",
              "      <td>0</td>\n",
              "      <td>0.082849</td>\n",
              "      <td>0</td>\n",
              "      <td>79</td>\n",
              "      <td>M</td>\n",
              "      <td>10500.0</td>\n",
              "      <td>0.0</td>\n",
              "      <td>0</td>\n",
              "      <td>22</td>\n",
              "      <td>22</td>\n",
              "    </tr>\n",
              "    <tr>\n",
              "      <th>1</th>\n",
              "      <td>180</td>\n",
              "      <td>0</td>\n",
              "      <td>0</td>\n",
              "      <td>0.067297</td>\n",
              "      <td>1</td>\n",
              "      <td>0.153106</td>\n",
              "      <td>1</td>\n",
              "      <td>66</td>\n",
              "      <td>M</td>\n",
              "      <td>8000.0</td>\n",
              "      <td>0.0</td>\n",
              "      <td>0</td>\n",
              "      <td>25</td>\n",
              "      <td>25</td>\n",
              "    </tr>\n",
              "    <tr>\n",
              "      <th>2</th>\n",
              "      <td>353</td>\n",
              "      <td>0</td>\n",
              "      <td>0</td>\n",
              "      <td>0.118795</td>\n",
              "      <td>0</td>\n",
              "      <td>1.383004</td>\n",
              "      <td>0</td>\n",
              "      <td>59</td>\n",
              "      <td>F</td>\n",
              "      <td>4200.0</td>\n",
              "      <td>0.0</td>\n",
              "      <td>5</td>\n",
              "      <td>19</td>\n",
              "      <td>24</td>\n",
              "    </tr>\n",
              "    <tr>\n",
              "      <th>3</th>\n",
              "      <td>404</td>\n",
              "      <td>0</td>\n",
              "      <td>0</td>\n",
              "      <td>0.058924</td>\n",
              "      <td>0</td>\n",
              "      <td>0.639308</td>\n",
              "      <td>0</td>\n",
              "      <td>56</td>\n",
              "      <td>F</td>\n",
              "      <td>6700.0</td>\n",
              "      <td>1.0</td>\n",
              "      <td>2</td>\n",
              "      <td>29</td>\n",
              "      <td>31</td>\n",
              "    </tr>\n",
              "    <tr>\n",
              "      <th>4</th>\n",
              "      <td>405</td>\n",
              "      <td>0</td>\n",
              "      <td>0</td>\n",
              "      <td>0.173502</td>\n",
              "      <td>0</td>\n",
              "      <td>12403.000000</td>\n",
              "      <td>0</td>\n",
              "      <td>69</td>\n",
              "      <td>M</td>\n",
              "      <td>NaN</td>\n",
              "      <td>0.0</td>\n",
              "      <td>9</td>\n",
              "      <td>22</td>\n",
              "      <td>31</td>\n",
              "    </tr>\n",
              "  </tbody>\n",
              "</table>\n",
              "</div>\n",
              "    <div class=\"colab-df-buttons\">\n",
              "\n",
              "  <div class=\"colab-df-container\">\n",
              "    <button class=\"colab-df-convert\" onclick=\"convertToInteractive('df-cc84332e-7bfb-4cf4-b0f2-2428092e2759')\"\n",
              "            title=\"Convert this dataframe to an interactive table.\"\n",
              "            style=\"display:none;\">\n",
              "\n",
              "  <svg xmlns=\"http://www.w3.org/2000/svg\" height=\"24px\" viewBox=\"0 -960 960 960\">\n",
              "    <path d=\"M120-120v-720h720v720H120Zm60-500h600v-160H180v160Zm220 220h160v-160H400v160Zm0 220h160v-160H400v160ZM180-400h160v-160H180v160Zm440 0h160v-160H620v160ZM180-180h160v-160H180v160Zm440 0h160v-160H620v160Z\"/>\n",
              "  </svg>\n",
              "    </button>\n",
              "\n",
              "  <style>\n",
              "    .colab-df-container {\n",
              "      display:flex;\n",
              "      gap: 12px;\n",
              "    }\n",
              "\n",
              "    .colab-df-convert {\n",
              "      background-color: #E8F0FE;\n",
              "      border: none;\n",
              "      border-radius: 50%;\n",
              "      cursor: pointer;\n",
              "      display: none;\n",
              "      fill: #1967D2;\n",
              "      height: 32px;\n",
              "      padding: 0 0 0 0;\n",
              "      width: 32px;\n",
              "    }\n",
              "\n",
              "    .colab-df-convert:hover {\n",
              "      background-color: #E2EBFA;\n",
              "      box-shadow: 0px 1px 2px rgba(60, 64, 67, 0.3), 0px 1px 3px 1px rgba(60, 64, 67, 0.15);\n",
              "      fill: #174EA6;\n",
              "    }\n",
              "\n",
              "    .colab-df-buttons div {\n",
              "      margin-bottom: 4px;\n",
              "    }\n",
              "\n",
              "    [theme=dark] .colab-df-convert {\n",
              "      background-color: #3B4455;\n",
              "      fill: #D2E3FC;\n",
              "    }\n",
              "\n",
              "    [theme=dark] .colab-df-convert:hover {\n",
              "      background-color: #434B5C;\n",
              "      box-shadow: 0px 1px 3px 1px rgba(0, 0, 0, 0.15);\n",
              "      filter: drop-shadow(0px 1px 2px rgba(0, 0, 0, 0.3));\n",
              "      fill: #FFFFFF;\n",
              "    }\n",
              "  </style>\n",
              "\n",
              "    <script>\n",
              "      const buttonEl =\n",
              "        document.querySelector('#df-cc84332e-7bfb-4cf4-b0f2-2428092e2759 button.colab-df-convert');\n",
              "      buttonEl.style.display =\n",
              "        google.colab.kernel.accessAllowed ? 'block' : 'none';\n",
              "\n",
              "      async function convertToInteractive(key) {\n",
              "        const element = document.querySelector('#df-cc84332e-7bfb-4cf4-b0f2-2428092e2759');\n",
              "        const dataTable =\n",
              "          await google.colab.kernel.invokeFunction('convertToInteractive',\n",
              "                                                    [key], {});\n",
              "        if (!dataTable) return;\n",
              "\n",
              "        const docLinkHtml = 'Like what you see? Visit the ' +\n",
              "          '<a target=\"_blank\" href=https://colab.research.google.com/notebooks/data_table.ipynb>data table notebook</a>'\n",
              "          + ' to learn more about interactive tables.';\n",
              "        element.innerHTML = '';\n",
              "        dataTable['output_type'] = 'display_data';\n",
              "        await google.colab.output.renderOutput(dataTable, element);\n",
              "        const docLink = document.createElement('div');\n",
              "        docLink.innerHTML = docLinkHtml;\n",
              "        element.appendChild(docLink);\n",
              "      }\n",
              "    </script>\n",
              "  </div>\n",
              "\n",
              "\n",
              "<div id=\"df-2f35c3ac-941c-4d1a-bf0a-69fc5cc1a5ff\">\n",
              "  <button class=\"colab-df-quickchart\" onclick=\"quickchart('df-2f35c3ac-941c-4d1a-bf0a-69fc5cc1a5ff')\"\n",
              "            title=\"Suggest charts\"\n",
              "            style=\"display:none;\">\n",
              "\n",
              "<svg xmlns=\"http://www.w3.org/2000/svg\" height=\"24px\"viewBox=\"0 0 24 24\"\n",
              "     width=\"24px\">\n",
              "    <g>\n",
              "        <path d=\"M19 3H5c-1.1 0-2 .9-2 2v14c0 1.1.9 2 2 2h14c1.1 0 2-.9 2-2V5c0-1.1-.9-2-2-2zM9 17H7v-7h2v7zm4 0h-2V7h2v10zm4 0h-2v-4h2v4z\"/>\n",
              "    </g>\n",
              "</svg>\n",
              "  </button>\n",
              "\n",
              "<style>\n",
              "  .colab-df-quickchart {\n",
              "      --bg-color: #E8F0FE;\n",
              "      --fill-color: #1967D2;\n",
              "      --hover-bg-color: #E2EBFA;\n",
              "      --hover-fill-color: #174EA6;\n",
              "      --disabled-fill-color: #AAA;\n",
              "      --disabled-bg-color: #DDD;\n",
              "  }\n",
              "\n",
              "  [theme=dark] .colab-df-quickchart {\n",
              "      --bg-color: #3B4455;\n",
              "      --fill-color: #D2E3FC;\n",
              "      --hover-bg-color: #434B5C;\n",
              "      --hover-fill-color: #FFFFFF;\n",
              "      --disabled-bg-color: #3B4455;\n",
              "      --disabled-fill-color: #666;\n",
              "  }\n",
              "\n",
              "  .colab-df-quickchart {\n",
              "    background-color: var(--bg-color);\n",
              "    border: none;\n",
              "    border-radius: 50%;\n",
              "    cursor: pointer;\n",
              "    display: none;\n",
              "    fill: var(--fill-color);\n",
              "    height: 32px;\n",
              "    padding: 0;\n",
              "    width: 32px;\n",
              "  }\n",
              "\n",
              "  .colab-df-quickchart:hover {\n",
              "    background-color: var(--hover-bg-color);\n",
              "    box-shadow: 0 1px 2px rgba(60, 64, 67, 0.3), 0 1px 3px 1px rgba(60, 64, 67, 0.15);\n",
              "    fill: var(--button-hover-fill-color);\n",
              "  }\n",
              "\n",
              "  .colab-df-quickchart-complete:disabled,\n",
              "  .colab-df-quickchart-complete:disabled:hover {\n",
              "    background-color: var(--disabled-bg-color);\n",
              "    fill: var(--disabled-fill-color);\n",
              "    box-shadow: none;\n",
              "  }\n",
              "\n",
              "  .colab-df-spinner {\n",
              "    border: 2px solid var(--fill-color);\n",
              "    border-color: transparent;\n",
              "    border-bottom-color: var(--fill-color);\n",
              "    animation:\n",
              "      spin 1s steps(1) infinite;\n",
              "  }\n",
              "\n",
              "  @keyframes spin {\n",
              "    0% {\n",
              "      border-color: transparent;\n",
              "      border-bottom-color: var(--fill-color);\n",
              "      border-left-color: var(--fill-color);\n",
              "    }\n",
              "    20% {\n",
              "      border-color: transparent;\n",
              "      border-left-color: var(--fill-color);\n",
              "      border-top-color: var(--fill-color);\n",
              "    }\n",
              "    30% {\n",
              "      border-color: transparent;\n",
              "      border-left-color: var(--fill-color);\n",
              "      border-top-color: var(--fill-color);\n",
              "      border-right-color: var(--fill-color);\n",
              "    }\n",
              "    40% {\n",
              "      border-color: transparent;\n",
              "      border-right-color: var(--fill-color);\n",
              "      border-top-color: var(--fill-color);\n",
              "    }\n",
              "    60% {\n",
              "      border-color: transparent;\n",
              "      border-right-color: var(--fill-color);\n",
              "    }\n",
              "    80% {\n",
              "      border-color: transparent;\n",
              "      border-right-color: var(--fill-color);\n",
              "      border-bottom-color: var(--fill-color);\n",
              "    }\n",
              "    90% {\n",
              "      border-color: transparent;\n",
              "      border-bottom-color: var(--fill-color);\n",
              "    }\n",
              "  }\n",
              "</style>\n",
              "\n",
              "  <script>\n",
              "    async function quickchart(key) {\n",
              "      const quickchartButtonEl =\n",
              "        document.querySelector('#' + key + ' button');\n",
              "      quickchartButtonEl.disabled = true;  // To prevent multiple clicks.\n",
              "      quickchartButtonEl.classList.add('colab-df-spinner');\n",
              "      try {\n",
              "        const charts = await google.colab.kernel.invokeFunction(\n",
              "            'suggestCharts', [key], {});\n",
              "      } catch (error) {\n",
              "        console.error('Error during call to suggestCharts:', error);\n",
              "      }\n",
              "      quickchartButtonEl.classList.remove('colab-df-spinner');\n",
              "      quickchartButtonEl.classList.add('colab-df-quickchart-complete');\n",
              "    }\n",
              "    (() => {\n",
              "      let quickchartButtonEl =\n",
              "        document.querySelector('#df-2f35c3ac-941c-4d1a-bf0a-69fc5cc1a5ff button');\n",
              "      quickchartButtonEl.style.display =\n",
              "        google.colab.kernel.accessAllowed ? 'block' : 'none';\n",
              "    })();\n",
              "  </script>\n",
              "</div>\n",
              "\n",
              "    </div>\n",
              "  </div>\n"
            ],
            "application/vnd.google.colaboratory.intrinsic+json": {
              "type": "dataframe",
              "variable_name": "df",
              "summary": "{\n  \"name\": \"df\",\n  \"rows\": 36000,\n  \"fields\": [\n    {\n      \"column\": \"user_id\",\n      \"properties\": {\n        \"dtype\": \"number\",\n        \"std\": 10392,\n        \"min\": 1,\n        \"max\": 36000,\n        \"num_unique_values\": 36000,\n        \"samples\": [\n          15599,\n          28762,\n          29631\n        ],\n        \"semantic_type\": \"\",\n        \"description\": \"\"\n      }\n    },\n    {\n      \"column\": \"default_flag\",\n      \"properties\": {\n        \"dtype\": \"number\",\n        \"std\": 0,\n        \"min\": 0,\n        \"max\": 1,\n        \"num_unique_values\": 2,\n        \"samples\": [\n          1,\n          0\n        ],\n        \"semantic_type\": \"\",\n        \"description\": \"\"\n      }\n    },\n    {\n      \"column\": \"more_90_days_overdue\",\n      \"properties\": {\n        \"dtype\": \"number\",\n        \"std\": 4,\n        \"min\": 0,\n        \"max\": 98,\n        \"num_unique_values\": 18,\n        \"samples\": [\n          0,\n          1\n        ],\n        \"semantic_type\": \"\",\n        \"description\": \"\"\n      }\n    },\n    {\n      \"column\": \"using_lines_not_secured_personal_assets\",\n      \"properties\": {\n        \"dtype\": \"number\",\n        \"std\": 223.4071444591422,\n        \"min\": 0.0,\n        \"max\": 22000.0,\n        \"num_unique_values\": 30824,\n        \"samples\": [\n          0.066770604,\n          0.376826554\n        ],\n        \"semantic_type\": \"\",\n        \"description\": \"\"\n      }\n    },\n    {\n      \"column\": \"number_times_delayed_payment_loan_30_59_days\",\n      \"properties\": {\n        \"dtype\": \"number\",\n        \"std\": 4,\n        \"min\": 0,\n        \"max\": 98,\n        \"num_unique_values\": 14,\n        \"samples\": [\n          96,\n          7\n        ],\n        \"semantic_type\": \"\",\n        \"description\": \"\"\n      }\n    },\n    {\n      \"column\": \"debt_ratio\",\n      \"properties\": {\n        \"dtype\": \"number\",\n        \"std\": 2011.6353409106562,\n        \"min\": 0.0,\n        \"max\": 307001.0,\n        \"num_unique_values\": 30643,\n        \"samples\": [\n          0.241821397,\n          4911.0\n        ],\n        \"semantic_type\": \"\",\n        \"description\": \"\"\n      }\n    },\n    {\n      \"column\": \"number_times_delayed_payment_loan_60_89_days\",\n      \"properties\": {\n        \"dtype\": \"number\",\n        \"std\": 4,\n        \"min\": 0,\n        \"max\": 98,\n        \"num_unique_values\": 10,\n        \"samples\": [\n          5,\n          1\n        ],\n        \"semantic_type\": \"\",\n        \"description\": \"\"\n      }\n    },\n    {\n      \"column\": \"age\",\n      \"properties\": {\n        \"dtype\": \"number\",\n        \"std\": 14,\n        \"min\": 21,\n        \"max\": 109,\n        \"num_unique_values\": 81,\n        \"samples\": [\n          60,\n          79\n        ],\n        \"semantic_type\": \"\",\n        \"description\": \"\"\n      }\n    },\n    {\n      \"column\": \"sex\",\n      \"properties\": {\n        \"dtype\": \"category\",\n        \"num_unique_values\": 2,\n        \"samples\": [\n          \"F\",\n          \"M\"\n        ],\n        \"semantic_type\": \"\",\n        \"description\": \"\"\n      }\n    },\n    {\n      \"column\": \"last_month_salary\",\n      \"properties\": {\n        \"dtype\": \"number\",\n        \"std\": 12961.77847729005,\n        \"min\": 0.0,\n        \"max\": 1560100.0,\n        \"num_unique_values\": 7389,\n        \"samples\": [\n          18833.0,\n          2624.0\n        ],\n        \"semantic_type\": \"\",\n        \"description\": \"\"\n      }\n    },\n    {\n      \"column\": \"number_dependents\",\n      \"properties\": {\n        \"dtype\": \"number\",\n        \"std\": 1.1187389026209864,\n        \"min\": 0.0,\n        \"max\": 13.0,\n        \"num_unique_values\": 12,\n        \"samples\": [\n          10.0,\n          13.0\n        ],\n        \"semantic_type\": \"\",\n        \"description\": \"\"\n      }\n    },\n    {\n      \"column\": \"total_real_estate\",\n      \"properties\": {\n        \"dtype\": \"number\",\n        \"std\": 1,\n        \"min\": 0,\n        \"max\": 25,\n        \"num_unique_values\": 21,\n        \"samples\": [\n          0,\n          19\n        ],\n        \"semantic_type\": \"\",\n        \"description\": \"\"\n      }\n    },\n    {\n      \"column\": \"total_other\",\n      \"properties\": {\n        \"dtype\": \"number\",\n        \"std\": 4,\n        \"min\": 0,\n        \"max\": 56,\n        \"num_unique_values\": 50,\n        \"samples\": [\n          30,\n          56\n        ],\n        \"semantic_type\": \"\",\n        \"description\": \"\"\n      }\n    },\n    {\n      \"column\": \"total_loans\",\n      \"properties\": {\n        \"dtype\": \"number\",\n        \"std\": 5,\n        \"min\": 0,\n        \"max\": 57,\n        \"num_unique_values\": 52,\n        \"samples\": [\n          37,\n          11\n        ],\n        \"semantic_type\": \"\",\n        \"description\": \"\"\n      }\n    }\n  ]\n}"
            }
          },
          "metadata": {},
          "execution_count": 3
        }
      ]
    },
    {
      "cell_type": "code",
      "source": [
        "#COLUNAS ATUAIS\n",
        "df.columns"
      ],
      "metadata": {
        "colab": {
          "base_uri": "https://localhost:8080/"
        },
        "id": "6K1ByGuPj_dk",
        "outputId": "266e9d49-fbaf-477b-8914-4f8d4c5755e5"
      },
      "execution_count": 4,
      "outputs": [
        {
          "output_type": "execute_result",
          "data": {
            "text/plain": [
              "Index(['user_id', 'default_flag', 'more_90_days_overdue',\n",
              "       'using_lines_not_secured_personal_assets',\n",
              "       'number_times_delayed_payment_loan_30_59_days', 'debt_ratio',\n",
              "       'number_times_delayed_payment_loan_60_89_days', 'age', 'sex',\n",
              "       'last_month_salary', 'number_dependents', 'total_real_estate',\n",
              "       'total_other', 'total_loans'],\n",
              "      dtype='object')"
            ]
          },
          "metadata": {},
          "execution_count": 4
        }
      ]
    },
    {
      "cell_type": "code",
      "source": [
        "#RENOMEANDO COLUNAS\n",
        "df=df.rename(columns={'user_id':'id_usuario',\n",
        "                    'default_flag': 'indicador_inadimplencia',\n",
        "                      'more_90_days_overdue': 'mais_90_dias_atraso',\n",
        "                      'number_times_delayed_payment_loan_30_59_days': 'numero_vezes_atraso_emprestimo_30_59_dias',\n",
        "                      'using_lines_not_secured_personal_assets': 'quanto_esta_usando_em_relação_ao_limite_de_crédito',\n",
        "                      'debt_ratio':'relacao_dividas_ativos',\n",
        "                      'number_times_delayed_payment_loan_60_89_days': 'numero_vezes_atraso_emprestimo_60_89_dias',\n",
        "                      'age': 'idade',\n",
        "                      'sex': 'sexo',\n",
        "                      'last_month_salary': 'salario_ultimo_mes',\n",
        "                      'number_dependents': 'numero_dependentes',\n",
        "                      'total_real_estate': 'total_imovel',\n",
        "                      'total_other': 'total_outros',\n",
        "                      'total_loans': 'total_emprestimos'})"
      ],
      "metadata": {
        "id": "Kd_dt92kZlRT"
      },
      "execution_count": 5,
      "outputs": []
    },
    {
      "cell_type": "code",
      "source": [
        "#NOMES NOVAS COLUNAS\n",
        "df.columns"
      ],
      "metadata": {
        "colab": {
          "base_uri": "https://localhost:8080/"
        },
        "id": "b1zddJTN4XnF",
        "outputId": "7326d0fb-4cd7-476d-816b-ca2a23b50890"
      },
      "execution_count": 6,
      "outputs": [
        {
          "output_type": "execute_result",
          "data": {
            "text/plain": [
              "Index(['id_usuario', 'indicador_inadimplencia', 'mais_90_dias_atraso',\n",
              "       'quanto_esta_usando_em_relação_ao_limite_de_crédito',\n",
              "       'numero_vezes_atraso_emprestimo_30_59_dias', 'relacao_dividas_ativos',\n",
              "       'numero_vezes_atraso_emprestimo_60_89_dias', 'idade', 'sexo',\n",
              "       'salario_ultimo_mes', 'numero_dependentes', 'total_imovel',\n",
              "       'total_outros', 'total_emprestimos'],\n",
              "      dtype='object')"
            ]
          },
          "metadata": {},
          "execution_count": 6
        }
      ]
    },
    {
      "cell_type": "markdown",
      "source": [
        "# **Identificação dos nulos**\n",
        "Identificados 7.199 nulos referente à variável \"salário último mês\" e 943 nulos referente à variável \"número de dependentes\""
      ],
      "metadata": {
        "id": "DEoD2ZcazRyf"
      }
    },
    {
      "cell_type": "code",
      "source": [
        "df.info()"
      ],
      "metadata": {
        "colab": {
          "base_uri": "https://localhost:8080/"
        },
        "id": "ewzZoV58zXwk",
        "outputId": "4eb1ac9a-9086-4322-baa0-06da402533d4"
      },
      "execution_count": 7,
      "outputs": [
        {
          "output_type": "stream",
          "name": "stdout",
          "text": [
            "<class 'pandas.core.frame.DataFrame'>\n",
            "RangeIndex: 36000 entries, 0 to 35999\n",
            "Data columns (total 14 columns):\n",
            " #   Column                                              Non-Null Count  Dtype  \n",
            "---  ------                                              --------------  -----  \n",
            " 0   id_usuario                                          36000 non-null  int64  \n",
            " 1   indicador_inadimplencia                             36000 non-null  int64  \n",
            " 2   mais_90_dias_atraso                                 36000 non-null  int64  \n",
            " 3   quanto_esta_usando_em_relação_ao_limite_de_crédito  36000 non-null  float64\n",
            " 4   numero_vezes_atraso_emprestimo_30_59_dias           36000 non-null  int64  \n",
            " 5   relacao_dividas_ativos                              36000 non-null  float64\n",
            " 6   numero_vezes_atraso_emprestimo_60_89_dias           36000 non-null  int64  \n",
            " 7   idade                                               36000 non-null  int64  \n",
            " 8   sexo                                                36000 non-null  object \n",
            " 9   salario_ultimo_mes                                  28801 non-null  float64\n",
            " 10  numero_dependentes                                  35057 non-null  float64\n",
            " 11  total_imovel                                        36000 non-null  int64  \n",
            " 12  total_outros                                        36000 non-null  int64  \n",
            " 13  total_emprestimos                                   36000 non-null  int64  \n",
            "dtypes: float64(4), int64(9), object(1)\n",
            "memory usage: 3.8+ MB\n"
          ]
        }
      ]
    },
    {
      "cell_type": "markdown",
      "source": [
        "# **Cálculo correlação entre as variáveis relacionadas ao atraso no pagamento (possibilidade de estarem altamente correlacionadas)**\n",
        "*   Por estarem altamente correlacionadas, optou-se por manter apenas a variável 'mais_90_dias_atraso', que será necessária para validação ou refutação de uma das hipóteses.\n",
        "\n",
        "\n"
      ],
      "metadata": {
        "id": "LzUg4v4pEXtU"
      }
    },
    {
      "cell_type": "code",
      "source": [
        "#CORRELAÇÃO PEARSON\n",
        "corr_1 = df['numero_vezes_atraso_emprestimo_30_59_dias'].corr(df['numero_vezes_atraso_emprestimo_60_89_dias'])\n",
        "print(f'A correlação entre o número de atrasos de 30-59 dias e 60-89 dias é: {corr_1}')\n",
        "corr_2 = df['numero_vezes_atraso_emprestimo_30_59_dias'].corr(df['mais_90_dias_atraso'])\n",
        "print(f'A correlação entre o número de atrasos de 30-59 dias e mais de 90 dias é: {corr_2}')\n",
        "corr_3 = df['numero_vezes_atraso_emprestimo_30_59_dias'].corr(df['indicador_inadimplencia'])\n",
        "print(f'A correlação entre o número de atrasos de 30-59 dias e o indicador de inadimplência é: {corr_3}')\n"
      ],
      "metadata": {
        "colab": {
          "base_uri": "https://localhost:8080/"
        },
        "id": "fk5R5wt8kI6H",
        "outputId": "5bea6ad7-fb32-461f-bc63-1d55fd17c8eb"
      },
      "execution_count": 8,
      "outputs": [
        {
          "output_type": "stream",
          "name": "stdout",
          "text": [
            "A correlação entre o número de atrasos de 30-59 dias e 60-89 dias é: 0.9865536454986691\n",
            "A correlação entre o número de atrasos de 30-59 dias e mais de 90 dias é: 0.9829168066145929\n",
            "A correlação entre o número de atrasos de 30-59 dias e o indicador de inadimplência é: 0.2992078811236374\n"
          ]
        }
      ]
    },
    {
      "cell_type": "code",
      "source": [
        "sns.regplot( x='numero_vezes_atraso_emprestimo_30_59_dias',y='numero_vezes_atraso_emprestimo_60_89_dias', data=df)"
      ],
      "metadata": {
        "colab": {
          "base_uri": "https://localhost:8080/",
          "height": 0
        },
        "id": "E8D5U2BP2luM",
        "outputId": "32ca2ee9-70eb-455a-c171-33ffbcbbf73b"
      },
      "execution_count": 9,
      "outputs": [
        {
          "output_type": "execute_result",
          "data": {
            "text/plain": [
              "<Axes: xlabel='numero_vezes_atraso_emprestimo_30_59_dias', ylabel='numero_vezes_atraso_emprestimo_60_89_dias'>"
            ]
          },
          "metadata": {},
          "execution_count": 9
        },
        {
          "output_type": "display_data",
          "data": {
            "text/plain": [
              "<Figure size 640x480 with 1 Axes>"
            ],
            "image/png": "[encoded data removed]"
          },
          "metadata": {}
        }
      ]
    },
    {
      "cell_type": "code",
      "source": [
        "#DESVIO PADRÃO\n",
        "df[['numero_vezes_atraso_emprestimo_30_59_dias','numero_vezes_atraso_emprestimo_60_89_dias','mais_90_dias_atraso']].std()"
      ],
      "metadata": {
        "colab": {
          "base_uri": "https://localhost:8080/"
        },
        "id": "8ZlWBIPy4xSm",
        "outputId": "d7645f5b-b999-409e-bdaf-510f92641c7e"
      },
      "execution_count": 10,
      "outputs": [
        {
          "output_type": "execute_result",
          "data": {
            "text/plain": [
              "numero_vezes_atraso_emprestimo_30_59_dias    4.144020\n",
              "numero_vezes_atraso_emprestimo_60_89_dias    4.105515\n",
              "mais_90_dias_atraso                          4.121365\n",
              "dtype: float64"
            ]
          },
          "metadata": {},
          "execution_count": 10
        }
      ]
    },
    {
      "cell_type": "markdown",
      "source": [
        "# **Clientes com flag de inadimplência antes exclusão dos outliers**"
      ],
      "metadata": {
        "id": "WeHXdRa8X6yf"
      }
    },
    {
      "cell_type": "code",
      "source": [
        "df.groupby('indicador_inadimplencia')['id_usuario'].count()"
      ],
      "metadata": {
        "colab": {
          "base_uri": "https://localhost:8080/"
        },
        "id": "hb7isqeYYBk-",
        "outputId": "5b9eedfd-5887-45da-a752-7aa66614c014"
      },
      "execution_count": 11,
      "outputs": [
        {
          "output_type": "execute_result",
          "data": {
            "text/plain": [
              "indicador_inadimplencia\n",
              "0    35317\n",
              "1      683\n",
              "Name: id_usuario, dtype: int64"
            ]
          },
          "metadata": {},
          "execution_count": 11
        }
      ]
    },
    {
      "cell_type": "markdown",
      "source": [
        "# **Análise e exclusão dos outliers**\n",
        "Optei por desconsiderar os outliers extremos em relação as variáveis 'número de vezes que atrasou o pagamento' , 'relacão dividas ativos' e 'uso do limite de crédito'"
      ],
      "metadata": {
        "id": "6QX78ubN1LgX"
      }
    },
    {
      "cell_type": "code",
      "source": [
        "df[(df['mais_90_dias_atraso'] >= 96)].count()"
      ],
      "metadata": {
        "colab": {
          "base_uri": "https://localhost:8080/"
        },
        "id": "KV1rw7s5Yel7",
        "outputId": "c38da2a8-4e5f-48e5-c768-2e186029137a"
      },
      "execution_count": 12,
      "outputs": [
        {
          "output_type": "execute_result",
          "data": {
            "text/plain": [
              "id_usuario                                            63\n",
              "indicador_inadimplencia                               63\n",
              "mais_90_dias_atraso                                   63\n",
              "quanto_esta_usando_em_relação_ao_limite_de_crédito    63\n",
              "numero_vezes_atraso_emprestimo_30_59_dias             63\n",
              "relacao_dividas_ativos                                63\n",
              "numero_vezes_atraso_emprestimo_60_89_dias             63\n",
              "idade                                                 63\n",
              "sexo                                                  63\n",
              "salario_ultimo_mes                                    31\n",
              "numero_dependentes                                    56\n",
              "total_imovel                                          63\n",
              "total_outros                                          63\n",
              "total_emprestimos                                     63\n",
              "dtype: int64"
            ]
          },
          "metadata": {},
          "execution_count": 12
        }
      ]
    },
    {
      "cell_type": "code",
      "source": [
        "df[(df['quanto_esta_usando_em_relação_ao_limite_de_crédito'] >= 10000)].count()"
      ],
      "metadata": {
        "colab": {
          "base_uri": "https://localhost:8080/"
        },
        "id": "Qk_TlLwwaVJ7",
        "outputId": "fb23c225-feb1-456d-ec9e-a52a2751293d"
      },
      "execution_count": 13,
      "outputs": [
        {
          "output_type": "execute_result",
          "data": {
            "text/plain": [
              "id_usuario                                            4\n",
              "indicador_inadimplencia                               4\n",
              "mais_90_dias_atraso                                   4\n",
              "quanto_esta_usando_em_relação_ao_limite_de_crédito    4\n",
              "numero_vezes_atraso_emprestimo_30_59_dias             4\n",
              "relacao_dividas_ativos                                4\n",
              "numero_vezes_atraso_emprestimo_60_89_dias             4\n",
              "idade                                                 4\n",
              "sexo                                                  4\n",
              "salario_ultimo_mes                                    3\n",
              "numero_dependentes                                    4\n",
              "total_imovel                                          4\n",
              "total_outros                                          4\n",
              "total_emprestimos                                     4\n",
              "dtype: int64"
            ]
          },
          "metadata": {},
          "execution_count": 13
        }
      ]
    },
    {
      "cell_type": "code",
      "source": [
        "df[(df['relacao_dividas_ativos'] >= 307000)].count()"
      ],
      "metadata": {
        "colab": {
          "base_uri": "https://localhost:8080/"
        },
        "id": "3zdXWw1vaveJ",
        "outputId": "4e24e98d-2e6b-458c-d40f-b273d19b87c5"
      },
      "execution_count": 14,
      "outputs": [
        {
          "output_type": "execute_result",
          "data": {
            "text/plain": [
              "id_usuario                                            1\n",
              "indicador_inadimplencia                               1\n",
              "mais_90_dias_atraso                                   1\n",
              "quanto_esta_usando_em_relação_ao_limite_de_crédito    1\n",
              "numero_vezes_atraso_emprestimo_30_59_dias             1\n",
              "relacao_dividas_ativos                                1\n",
              "numero_vezes_atraso_emprestimo_60_89_dias             1\n",
              "idade                                                 1\n",
              "sexo                                                  1\n",
              "salario_ultimo_mes                                    0\n",
              "numero_dependentes                                    1\n",
              "total_imovel                                          1\n",
              "total_outros                                          1\n",
              "total_emprestimos                                     1\n",
              "dtype: int64"
            ]
          },
          "metadata": {},
          "execution_count": 14
        }
      ]
    },
    {
      "cell_type": "code",
      "source": [
        "df[(df['mais_90_dias_atraso'] >=80) | (df['relacao_dividas_ativos']>=307000.00) | (df['quanto_esta_usando_em_relação_ao_limite_de_crédito']>=10000)]"
      ],
      "metadata": {
        "colab": {
          "base_uri": "https://localhost:8080/",
          "height": 0
        },
        "id": "Au6xieIda51w",
        "outputId": "364fa562-b047-48c1-b2b9-f78158c34f1b"
      },
      "execution_count": 15,
      "outputs": [
        {
          "output_type": "execute_result",
          "data": {
            "text/plain": [
              "       id_usuario  indicador_inadimplencia  mais_90_dias_atraso  \\\n",
              "790           865                        0                   98   \n",
              "807          3108                        0                   98   \n",
              "906         12771                        0                   98   \n",
              "954         17431                        0                   98   \n",
              "987         20824                        0                   98   \n",
              "...           ...                      ...                  ...   \n",
              "6265         3680                        0                    0   \n",
              "9326         6579                        0                    0   \n",
              "10048       15531                        0                    0   \n",
              "16054       10876                        0                    0   \n",
              "33826       18739                        0                    0   \n",
              "\n",
              "       quanto_esta_usando_em_relação_ao_limite_de_crédito  \\\n",
              "790                                              1.00000    \n",
              "807                                              1.00000    \n",
              "906                                              1.00000    \n",
              "954                                              1.00000    \n",
              "987                                              1.00000    \n",
              "...                                                  ...    \n",
              "6265                                         13930.00000    \n",
              "9326                                         18300.00000    \n",
              "10048                                        12369.00000    \n",
              "16054                                        22000.00000    \n",
              "33826                                            0.03429    \n",
              "\n",
              "       numero_vezes_atraso_emprestimo_30_59_dias  relacao_dividas_ativos  \\\n",
              "790                                           98                0.000000   \n",
              "807                                           98                0.000000   \n",
              "906                                           98                0.000000   \n",
              "954                                           98                0.000000   \n",
              "987                                           98                0.000000   \n",
              "...                                          ...                     ...   \n",
              "6265                                           0             4902.000000   \n",
              "9326                                           0                0.221582   \n",
              "10048                                          2                0.134352   \n",
              "16054                                          0                1.080020   \n",
              "33826                                          1           307001.000000   \n",
              "\n",
              "       numero_vezes_atraso_emprestimo_60_89_dias  idade sexo  \\\n",
              "790                                           98     21    M   \n",
              "807                                           98     21    M   \n",
              "906                                           98     22    M   \n",
              "954                                           98     22    M   \n",
              "987                                           98     22    F   \n",
              "...                                          ...    ...  ...   \n",
              "6265                                           0     45    M   \n",
              "9326                                           0     45    F   \n",
              "10048                                          0     40    M   \n",
              "16054                                          0     38    F   \n",
              "33826                                          0     58    F   \n",
              "\n",
              "       salario_ultimo_mes  numero_dependentes  total_imovel  total_outros  \\\n",
              "790                 867.0                 0.0             0             0   \n",
              "807                   NaN                 0.0             0             0   \n",
              "906                   NaN                 NaN             0             0   \n",
              "954                   NaN                 0.0             0             0   \n",
              "987                4500.0                 0.0             0             0   \n",
              "...                   ...                 ...           ...           ...   \n",
              "6265                  NaN                 0.0             2             2   \n",
              "9326              12500.0                 2.0             1             4   \n",
              "10048             30300.0                 0.0             1             4   \n",
              "16054              3973.0                 3.0             2             5   \n",
              "33826                 NaN                 2.0             4            12   \n",
              "\n",
              "       total_emprestimos  \n",
              "790                    0  \n",
              "807                    0  \n",
              "906                    0  \n",
              "954                    0  \n",
              "987                    0  \n",
              "...                  ...  \n",
              "6265                   4  \n",
              "9326                   5  \n",
              "10048                  5  \n",
              "16054                  7  \n",
              "33826                 16  \n",
              "\n",
              "[68 rows x 14 columns]"
            ],
            "text/html": [
              "\n",
              "  <div id=\"df-21f9b5b5-d80e-4be8-8a98-16a61dd104ea\" class=\"colab-df-container\">\n",
              "    <div>\n",
              "<style scoped>\n",
              "    .dataframe tbody tr th:only-of-type {\n",
              "        vertical-align: middle;\n",
              "    }\n",
              "\n",
              "    .dataframe tbody tr th {\n",
              "        vertical-align: top;\n",
              "    }\n",
              "\n",
              "    .dataframe thead th {\n",
              "        text-align: right;\n",
              "    }\n",
              "</style>\n",
              "<table border=\"1\" class=\"dataframe\">\n",
              "  <thead>\n",
              "    <tr style=\"text-align: right;\">\n",
              "      <th></th>\n",
              "      <th>id_usuario</th>\n",
              "      <th>indicador_inadimplencia</th>\n",
              "      <th>mais_90_dias_atraso</th>\n",
              "      <th>quanto_esta_usando_em_relação_ao_limite_de_crédito</th>\n",
              "      <th>numero_vezes_atraso_emprestimo_30_59_dias</th>\n",
              "      <th>relacao_dividas_ativos</th>\n",
              "      <th>numero_vezes_atraso_emprestimo_60_89_dias</th>\n",
              "      <th>idade</th>\n",
              "      <th>sexo</th>\n",
              "      <th>salario_ultimo_mes</th>\n",
              "      <th>numero_dependentes</th>\n",
              "      <th>total_imovel</th>\n",
              "      <th>total_outros</th>\n",
              "      <th>total_emprestimos</th>\n",
              "    </tr>\n",
              "  </thead>\n",
              "  <tbody>\n",
              "    <tr>\n",
              "      <th>790</th>\n",
              "      <td>865</td>\n",
              "      <td>0</td>\n",
              "      <td>98</td>\n",
              "      <td>1.00000</td>\n",
              "      <td>98</td>\n",
              "      <td>0.000000</td>\n",
              "      <td>98</td>\n",
              "      <td>21</td>\n",
              "      <td>M</td>\n",
              "      <td>867.0</td>\n",
              "      <td>0.0</td>\n",
              "      <td>0</td>\n",
              "      <td>0</td>\n",
              "      <td>0</td>\n",
              "    </tr>\n",
              "    <tr>\n",
              "      <th>807</th>\n",
              "      <td>3108</td>\n",
              "      <td>0</td>\n",
              "      <td>98</td>\n",
              "      <td>1.00000</td>\n",
              "      <td>98</td>\n",
              "      <td>0.000000</td>\n",
              "      <td>98</td>\n",
              "      <td>21</td>\n",
              "      <td>M</td>\n",
              "      <td>NaN</td>\n",
              "      <td>0.0</td>\n",
              "      <td>0</td>\n",
              "      <td>0</td>\n",
              "      <td>0</td>\n",
              "    </tr>\n",
              "    <tr>\n",
              "      <th>906</th>\n",
              "      <td>12771</td>\n",
              "      <td>0</td>\n",
              "      <td>98</td>\n",
              "      <td>1.00000</td>\n",
              "      <td>98</td>\n",
              "      <td>0.000000</td>\n",
              "      <td>98</td>\n",
              "      <td>22</td>\n",
              "      <td>M</td>\n",
              "      <td>NaN</td>\n",
              "      <td>NaN</td>\n",
              "      <td>0</td>\n",
              "      <td>0</td>\n",
              "      <td>0</td>\n",
              "    </tr>\n",
              "    <tr>\n",
              "      <th>954</th>\n",
              "      <td>17431</td>\n",
              "      <td>0</td>\n",
              "      <td>98</td>\n",
              "      <td>1.00000</td>\n",
              "      <td>98</td>\n",
              "      <td>0.000000</td>\n",
              "      <td>98</td>\n",
              "      <td>22</td>\n",
              "      <td>M</td>\n",
              "      <td>NaN</td>\n",
              "      <td>0.0</td>\n",
              "      <td>0</td>\n",
              "      <td>0</td>\n",
              "      <td>0</td>\n",
              "    </tr>\n",
              "    <tr>\n",
              "      <th>987</th>\n",
              "      <td>20824</td>\n",
              "      <td>0</td>\n",
              "      <td>98</td>\n",
              "      <td>1.00000</td>\n",
              "      <td>98</td>\n",
              "      <td>0.000000</td>\n",
              "      <td>98</td>\n",
              "      <td>22</td>\n",
              "      <td>F</td>\n",
              "      <td>4500.0</td>\n",
              "      <td>0.0</td>\n",
              "      <td>0</td>\n",
              "      <td>0</td>\n",
              "      <td>0</td>\n",
              "    </tr>\n",
              "    <tr>\n",
              "      <th>...</th>\n",
              "      <td>...</td>\n",
              "      <td>...</td>\n",
              "      <td>...</td>\n",
              "      <td>...</td>\n",
              "      <td>...</td>\n",
              "      <td>...</td>\n",
              "      <td>...</td>\n",
              "      <td>...</td>\n",
              "      <td>...</td>\n",
              "      <td>...</td>\n",
              "      <td>...</td>\n",
              "      <td>...</td>\n",
              "      <td>...</td>\n",
              "      <td>...</td>\n",
              "    </tr>\n",
              "    <tr>\n",
              "      <th>6265</th>\n",
              "      <td>3680</td>\n",
              "      <td>0</td>\n",
              "      <td>0</td>\n",
              "      <td>13930.00000</td>\n",
              "      <td>0</td>\n",
              "      <td>4902.000000</td>\n",
              "      <td>0</td>\n",
              "      <td>45</td>\n",
              "      <td>M</td>\n",
              "      <td>NaN</td>\n",
              "      <td>0.0</td>\n",
              "      <td>2</td>\n",
              "      <td>2</td>\n",
              "      <td>4</td>\n",
              "    </tr>\n",
              "    <tr>\n",
              "      <th>9326</th>\n",
              "      <td>6579</td>\n",
              "      <td>0</td>\n",
              "      <td>0</td>\n",
              "      <td>18300.00000</td>\n",
              "      <td>0</td>\n",
              "      <td>0.221582</td>\n",
              "      <td>0</td>\n",
              "      <td>45</td>\n",
              "      <td>F</td>\n",
              "      <td>12500.0</td>\n",
              "      <td>2.0</td>\n",
              "      <td>1</td>\n",
              "      <td>4</td>\n",
              "      <td>5</td>\n",
              "    </tr>\n",
              "    <tr>\n",
              "      <th>10048</th>\n",
              "      <td>15531</td>\n",
              "      <td>0</td>\n",
              "      <td>0</td>\n",
              "      <td>12369.00000</td>\n",
              "      <td>2</td>\n",
              "      <td>0.134352</td>\n",
              "      <td>0</td>\n",
              "      <td>40</td>\n",
              "      <td>M</td>\n",
              "      <td>30300.0</td>\n",
              "      <td>0.0</td>\n",
              "      <td>1</td>\n",
              "      <td>4</td>\n",
              "      <td>5</td>\n",
              "    </tr>\n",
              "    <tr>\n",
              "      <th>16054</th>\n",
              "      <td>10876</td>\n",
              "      <td>0</td>\n",
              "      <td>0</td>\n",
              "      <td>22000.00000</td>\n",
              "      <td>0</td>\n",
              "      <td>1.080020</td>\n",
              "      <td>0</td>\n",
              "      <td>38</td>\n",
              "      <td>F</td>\n",
              "      <td>3973.0</td>\n",
              "      <td>3.0</td>\n",
              "      <td>2</td>\n",
              "      <td>5</td>\n",
              "      <td>7</td>\n",
              "    </tr>\n",
              "    <tr>\n",
              "      <th>33826</th>\n",
              "      <td>18739</td>\n",
              "      <td>0</td>\n",
              "      <td>0</td>\n",
              "      <td>0.03429</td>\n",
              "      <td>1</td>\n",
              "      <td>307001.000000</td>\n",
              "      <td>0</td>\n",
              "      <td>58</td>\n",
              "      <td>F</td>\n",
              "      <td>NaN</td>\n",
              "      <td>2.0</td>\n",
              "      <td>4</td>\n",
              "      <td>12</td>\n",
              "      <td>16</td>\n",
              "    </tr>\n",
              "  </tbody>\n",
              "</table>\n",
              "<p>68 rows × 14 columns</p>\n",
              "</div>\n",
              "    <div class=\"colab-df-buttons\">\n",
              "\n",
              "  <div class=\"colab-df-container\">\n",
              "    <button class=\"colab-df-convert\" onclick=\"convertToInteractive('df-21f9b5b5-d80e-4be8-8a98-16a61dd104ea')\"\n",
              "            title=\"Convert this dataframe to an interactive table.\"\n",
              "            style=\"display:none;\">\n",
              "\n",
              "  <svg xmlns=\"http://www.w3.org/2000/svg\" height=\"24px\" viewBox=\"0 -960 960 960\">\n",
              "    <path d=\"M120-120v-720h720v720H120Zm60-500h600v-160H180v160Zm220 220h160v-160H400v160Zm0 220h160v-160H400v160ZM180-400h160v-160H180v160Zm440 0h160v-160H620v160ZM180-180h160v-160H180v160Zm440 0h160v-160H620v160Z\"/>\n",
              "  </svg>\n",
              "    </button>\n",
              "\n",
              "  <style>\n",
              "    .colab-df-container {\n",
              "      display:flex;\n",
              "      gap: 12px;\n",
              "    }\n",
              "\n",
              "    .colab-df-convert {\n",
              "      background-color: #E8F0FE;\n",
              "      border: none;\n",
              "      border-radius: 50%;\n",
              "      cursor: pointer;\n",
              "      display: none;\n",
              "      fill: #1967D2;\n",
              "      height: 32px;\n",
              "      padding: 0 0 0 0;\n",
              "      width: 32px;\n",
              "    }\n",
              "\n",
              "    .colab-df-convert:hover {\n",
              "      background-color: #E2EBFA;\n",
              "      box-shadow: 0px 1px 2px rgba(60, 64, 67, 0.3), 0px 1px 3px 1px rgba(60, 64, 67, 0.15);\n",
              "      fill: #174EA6;\n",
              "    }\n",
              "\n",
              "    .colab-df-buttons div {\n",
              "      margin-bottom: 4px;\n",
              "    }\n",
              "\n",
              "    [theme=dark] .colab-df-convert {\n",
              "      background-color: #3B4455;\n",
              "      fill: #D2E3FC;\n",
              "    }\n",
              "\n",
              "    [theme=dark] .colab-df-convert:hover {\n",
              "      background-color: #434B5C;\n",
              "      box-shadow: 0px 1px 3px 1px rgba(0, 0, 0, 0.15);\n",
              "      filter: drop-shadow(0px 1px 2px rgba(0, 0, 0, 0.3));\n",
              "      fill: #FFFFFF;\n",
              "    }\n",
              "  </style>\n",
              "\n",
              "    <script>\n",
              "      const buttonEl =\n",
              "        document.querySelector('#df-21f9b5b5-d80e-4be8-8a98-16a61dd104ea button.colab-df-convert');\n",
              "      buttonEl.style.display =\n",
              "        google.colab.kernel.accessAllowed ? 'block' : 'none';\n",
              "\n",
              "      async function convertToInteractive(key) {\n",
              "        const element = document.querySelector('#df-21f9b5b5-d80e-4be8-8a98-16a61dd104ea');\n",
              "        const dataTable =\n",
              "          await google.colab.kernel.invokeFunction('convertToInteractive',\n",
              "                                                    [key], {});\n",
              "        if (!dataTable) return;\n",
              "\n",
              "        const docLinkHtml = 'Like what you see? Visit the ' +\n",
              "          '<a target=\"_blank\" href=https://colab.research.google.com/notebooks/data_table.ipynb>data table notebook</a>'\n",
              "          + ' to learn more about interactive tables.';\n",
              "        element.innerHTML = '';\n",
              "        dataTable['output_type'] = 'display_data';\n",
              "        await google.colab.output.renderOutput(dataTable, element);\n",
              "        const docLink = document.createElement('div');\n",
              "        docLink.innerHTML = docLinkHtml;\n",
              "        element.appendChild(docLink);\n",
              "      }\n",
              "    </script>\n",
              "  </div>\n",
              "\n",
              "\n",
              "<div id=\"df-1a3c3437-bc59-4f56-9b04-221ccbd00bb5\">\n",
              "  <button class=\"colab-df-quickchart\" onclick=\"quickchart('df-1a3c3437-bc59-4f56-9b04-221ccbd00bb5')\"\n",
              "            title=\"Suggest charts\"\n",
              "            style=\"display:none;\">\n",
              "\n",
              "<svg xmlns=\"http://www.w3.org/2000/svg\" height=\"24px\"viewBox=\"0 0 24 24\"\n",
              "     width=\"24px\">\n",
              "    <g>\n",
              "        <path d=\"M19 3H5c-1.1 0-2 .9-2 2v14c0 1.1.9 2 2 2h14c1.1 0 2-.9 2-2V5c0-1.1-.9-2-2-2zM9 17H7v-7h2v7zm4 0h-2V7h2v10zm4 0h-2v-4h2v4z\"/>\n",
              "    </g>\n",
              "</svg>\n",
              "  </button>\n",
              "\n",
              "<style>\n",
              "  .colab-df-quickchart {\n",
              "      --bg-color: #E8F0FE;\n",
              "      --fill-color: #1967D2;\n",
              "      --hover-bg-color: #E2EBFA;\n",
              "      --hover-fill-color: #174EA6;\n",
              "      --disabled-fill-color: #AAA;\n",
              "      --disabled-bg-color: #DDD;\n",
              "  }\n",
              "\n",
              "  [theme=dark] .colab-df-quickchart {\n",
              "      --bg-color: #3B4455;\n",
              "      --fill-color: #D2E3FC;\n",
              "      --hover-bg-color: #434B5C;\n",
              "      --hover-fill-color: #FFFFFF;\n",
              "      --disabled-bg-color: #3B4455;\n",
              "      --disabled-fill-color: #666;\n",
              "  }\n",
              "\n",
              "  .colab-df-quickchart {\n",
              "    background-color: var(--bg-color);\n",
              "    border: none;\n",
              "    border-radius: 50%;\n",
              "    cursor: pointer;\n",
              "    display: none;\n",
              "    fill: var(--fill-color);\n",
              "    height: 32px;\n",
              "    padding: 0;\n",
              "    width: 32px;\n",
              "  }\n",
              "\n",
              "  .colab-df-quickchart:hover {\n",
              "    background-color: var(--hover-bg-color);\n",
              "    box-shadow: 0 1px 2px rgba(60, 64, 67, 0.3), 0 1px 3px 1px rgba(60, 64, 67, 0.15);\n",
              "    fill: var(--button-hover-fill-color);\n",
              "  }\n",
              "\n",
              "  .colab-df-quickchart-complete:disabled,\n",
              "  .colab-df-quickchart-complete:disabled:hover {\n",
              "    background-color: var(--disabled-bg-color);\n",
              "    fill: var(--disabled-fill-color);\n",
              "    box-shadow: none;\n",
              "  }\n",
              "\n",
              "  .colab-df-spinner {\n",
              "    border: 2px solid var(--fill-color);\n",
              "    border-color: transparent;\n",
              "    border-bottom-color: var(--fill-color);\n",
              "    animation:\n",
              "      spin 1s steps(1) infinite;\n",
              "  }\n",
              "\n",
              "  @keyframes spin {\n",
              "    0% {\n",
              "      border-color: transparent;\n",
              "      border-bottom-color: var(--fill-color);\n",
              "      border-left-color: var(--fill-color);\n",
              "    }\n",
              "    20% {\n",
              "      border-color: transparent;\n",
              "      border-left-color: var(--fill-color);\n",
              "      border-top-color: var(--fill-color);\n",
              "    }\n",
              "    30% {\n",
              "      border-color: transparent;\n",
              "      border-left-color: var(--fill-color);\n",
              "      border-top-color: var(--fill-color);\n",
              "      border-right-color: var(--fill-color);\n",
              "    }\n",
              "    40% {\n",
              "      border-color: transparent;\n",
              "      border-right-color: var(--fill-color);\n",
              "      border-top-color: var(--fill-color);\n",
              "    }\n",
              "    60% {\n",
              "      border-color: transparent;\n",
              "      border-right-color: var(--fill-color);\n",
              "    }\n",
              "    80% {\n",
              "      border-color: transparent;\n",
              "      border-right-color: var(--fill-color);\n",
              "      border-bottom-color: var(--fill-color);\n",
              "    }\n",
              "    90% {\n",
              "      border-color: transparent;\n",
              "      border-bottom-color: var(--fill-color);\n",
              "    }\n",
              "  }\n",
              "</style>\n",
              "\n",
              "  <script>\n",
              "    async function quickchart(key) {\n",
              "      const quickchartButtonEl =\n",
              "        document.querySelector('#' + key + ' button');\n",
              "      quickchartButtonEl.disabled = true;  // To prevent multiple clicks.\n",
              "      quickchartButtonEl.classList.add('colab-df-spinner');\n",
              "      try {\n",
              "        const charts = await google.colab.kernel.invokeFunction(\n",
              "            'suggestCharts', [key], {});\n",
              "      } catch (error) {\n",
              "        console.error('Error during call to suggestCharts:', error);\n",
              "      }\n",
              "      quickchartButtonEl.classList.remove('colab-df-spinner');\n",
              "      quickchartButtonEl.classList.add('colab-df-quickchart-complete');\n",
              "    }\n",
              "    (() => {\n",
              "      let quickchartButtonEl =\n",
              "        document.querySelector('#df-1a3c3437-bc59-4f56-9b04-221ccbd00bb5 button');\n",
              "      quickchartButtonEl.style.display =\n",
              "        google.colab.kernel.accessAllowed ? 'block' : 'none';\n",
              "    })();\n",
              "  </script>\n",
              "</div>\n",
              "\n",
              "    </div>\n",
              "  </div>\n"
            ],
            "application/vnd.google.colaboratory.intrinsic+json": {
              "type": "dataframe",
              "summary": "{\n  \"name\": \"df[(df['mais_90_dias_atraso'] >=80) | (df['relacao_dividas_ativos']>=307000\",\n  \"rows\": 68,\n  \"fields\": [\n    {\n      \"column\": \"id_usuario\",\n      \"properties\": {\n        \"dtype\": \"number\",\n        \"std\": 10312,\n        \"min\": 120,\n        \"max\": 35897,\n        \"num_unique_values\": 68,\n        \"samples\": [\n          24046,\n          4256,\n          20824\n        ],\n        \"semantic_type\": \"\",\n        \"description\": \"\"\n      }\n    },\n    {\n      \"column\": \"indicador_inadimplencia\",\n      \"properties\": {\n        \"dtype\": \"number\",\n        \"std\": 0,\n        \"min\": 0,\n        \"max\": 1,\n        \"num_unique_values\": 2,\n        \"samples\": [\n          1,\n          0\n        ],\n        \"semantic_type\": \"\",\n        \"description\": \"\"\n      }\n    },\n    {\n      \"column\": \"mais_90_dias_atraso\",\n      \"properties\": {\n        \"dtype\": \"number\",\n        \"std\": 25,\n        \"min\": 0,\n        \"max\": 98,\n        \"num_unique_values\": 3,\n        \"samples\": [\n          98,\n          96\n        ],\n        \"semantic_type\": \"\",\n        \"description\": \"\"\n      }\n    },\n    {\n      \"column\": \"quanto_esta_usando_em_rela\\u00e7\\u00e3o_ao_limite_de_cr\\u00e9dito\",\n      \"properties\": {\n        \"dtype\": \"number\",\n        \"std\": 4052.9641440832856,\n        \"min\": 0.034289594,\n        \"max\": 22000.0,\n        \"num_unique_values\": 6,\n        \"samples\": [\n          0.9999999,\n          13930.0\n        ],\n        \"semantic_type\": \"\",\n        \"description\": \"\"\n      }\n    },\n    {\n      \"column\": \"numero_vezes_atraso_emprestimo_30_59_dias\",\n      \"properties\": {\n        \"dtype\": \"number\",\n        \"std\": 25,\n        \"min\": 0,\n        \"max\": 98,\n        \"num_unique_values\": 5,\n        \"samples\": [\n          96,\n          1\n        ],\n        \"semantic_type\": \"\",\n        \"description\": \"\"\n      }\n    },\n    {\n      \"column\": \"relacao_dividas_ativos\",\n      \"properties\": {\n        \"dtype\": \"number\",\n        \"std\": 37224.120123899505,\n        \"min\": 0.0,\n        \"max\": 307001.0,\n        \"num_unique_values\": 26,\n        \"samples\": [\n          45.0,\n          49.0\n        ],\n        \"semantic_type\": \"\",\n        \"description\": \"\"\n      }\n    },\n    {\n      \"column\": \"numero_vezes_atraso_emprestimo_60_89_dias\",\n      \"properties\": {\n        \"dtype\": \"number\",\n        \"std\": 25,\n        \"min\": 0,\n        \"max\": 98,\n        \"num_unique_values\": 3,\n        \"samples\": [\n          98,\n          96\n        ],\n        \"semantic_type\": \"\",\n        \"description\": \"\"\n      }\n    },\n    {\n      \"column\": \"idade\",\n      \"properties\": {\n        \"dtype\": \"number\",\n        \"std\": 12,\n        \"min\": 21,\n        \"max\": 68,\n        \"num_unique_values\": 30,\n        \"samples\": [\n          45,\n          37\n        ],\n        \"semantic_type\": \"\",\n        \"description\": \"\"\n      }\n    },\n    {\n      \"column\": \"sexo\",\n      \"properties\": {\n        \"dtype\": \"category\",\n        \"num_unique_values\": 2,\n        \"samples\": [\n          \"F\",\n          \"M\"\n        ],\n        \"semantic_type\": \"\",\n        \"description\": \"\"\n      }\n    },\n    {\n      \"column\": \"salario_ultimo_mes\",\n      \"properties\": {\n        \"dtype\": \"number\",\n        \"std\": 5243.7581624036975,\n        \"min\": 0.0,\n        \"max\": 30300.0,\n        \"num_unique_values\": 32,\n        \"samples\": [\n          12500.0,\n          1375.0\n        ],\n        \"semantic_type\": \"\",\n        \"description\": \"\"\n      }\n    },\n    {\n      \"column\": \"numero_dependentes\",\n      \"properties\": {\n        \"dtype\": \"number\",\n        \"std\": 0.976779586526939,\n        \"min\": 0.0,\n        \"max\": 4.0,\n        \"num_unique_values\": 5,\n        \"samples\": [\n          4.0,\n          2.0\n        ],\n        \"semantic_type\": \"\",\n        \"description\": \"\"\n      }\n    },\n    {\n      \"column\": \"total_imovel\",\n      \"properties\": {\n        \"dtype\": \"number\",\n        \"std\": 0,\n        \"min\": 0,\n        \"max\": 4,\n        \"num_unique_values\": 4,\n        \"samples\": [\n          2,\n          4\n        ],\n        \"semantic_type\": \"\",\n        \"description\": \"\"\n      }\n    },\n    {\n      \"column\": \"total_outros\",\n      \"properties\": {\n        \"dtype\": \"number\",\n        \"std\": 1,\n        \"min\": 0,\n        \"max\": 12,\n        \"num_unique_values\": 6,\n        \"samples\": [\n          0,\n          1\n        ],\n        \"semantic_type\": \"\",\n        \"description\": \"\"\n      }\n    },\n    {\n      \"column\": \"total_emprestimos\",\n      \"properties\": {\n        \"dtype\": \"number\",\n        \"std\": 2,\n        \"min\": 0,\n        \"max\": 16,\n        \"num_unique_values\": 6,\n        \"samples\": [\n          0,\n          1\n        ],\n        \"semantic_type\": \"\",\n        \"description\": \"\"\n      }\n    }\n  ]\n}"
            }
          },
          "metadata": {},
          "execution_count": 15
        }
      ]
    },
    {
      "cell_type": "code",
      "source": [
        "df[(df['mais_90_dias_atraso'] <= 80) & (df['relacao_dividas_ativos']<307000.00) & (df['quanto_esta_usando_em_relação_ao_limite_de_crédito']<10000)]"
      ],
      "metadata": {
        "colab": {
          "base_uri": "https://localhost:8080/",
          "height": 0
        },
        "id": "FvkEcliPbpwY",
        "outputId": "c027bea9-1fe4-4fa0-fb67-55066806c786"
      },
      "execution_count": 16,
      "outputs": [
        {
          "output_type": "execute_result",
          "data": {
            "text/plain": [
              "       id_usuario  indicador_inadimplencia  mais_90_dias_atraso  \\\n",
              "0              17                        0                    0   \n",
              "1             180                        0                    0   \n",
              "2             353                        0                    0   \n",
              "3             404                        0                    0   \n",
              "4             405                        0                    0   \n",
              "...           ...                      ...                  ...   \n",
              "35995       35581                        0                    0   \n",
              "35996       35795                        0                    0   \n",
              "35997       35972                        0                    0   \n",
              "35998       12012                        1                    4   \n",
              "35999       23246                        1                    1   \n",
              "\n",
              "       quanto_esta_usando_em_relação_ao_limite_de_crédito  \\\n",
              "0                                               0.142582    \n",
              "1                                               0.067297    \n",
              "2                                               0.118795    \n",
              "3                                               0.058924    \n",
              "4                                               0.173502    \n",
              "...                                                  ...    \n",
              "35995                                           0.490135    \n",
              "35996                                           0.009620    \n",
              "35997                                           0.005944    \n",
              "35998                                           0.391521    \n",
              "35999                                           1.026993    \n",
              "\n",
              "       numero_vezes_atraso_emprestimo_30_59_dias  relacao_dividas_ativos  \\\n",
              "0                                              0                0.082849   \n",
              "1                                              1                0.153106   \n",
              "2                                              0                1.383004   \n",
              "3                                              0                0.639308   \n",
              "4                                              0            12403.000000   \n",
              "...                                          ...                     ...   \n",
              "35995                                          1                0.521878   \n",
              "35996                                          2             1981.000000   \n",
              "35997                                          0                0.151164   \n",
              "35998                                          1                3.578655   \n",
              "35999                                          3                0.265767   \n",
              "\n",
              "       numero_vezes_atraso_emprestimo_60_89_dias  idade sexo  \\\n",
              "0                                              0     79    M   \n",
              "1                                              1     66    M   \n",
              "2                                              0     59    F   \n",
              "3                                              0     56    F   \n",
              "4                                              0     69    M   \n",
              "...                                          ...    ...  ...   \n",
              "35995                                          0     37    F   \n",
              "35996                                          0     63    M   \n",
              "35997                                          0     64    M   \n",
              "35998                                          1     51    M   \n",
              "35999                                          1     53    F   \n",
              "\n",
              "       salario_ultimo_mes  numero_dependentes  total_imovel  total_outros  \\\n",
              "0                 10500.0                 0.0             0            22   \n",
              "1                  8000.0                 0.0             0            25   \n",
              "2                  4200.0                 0.0             5            19   \n",
              "3                  6700.0                 1.0             2            29   \n",
              "4                     NaN                 0.0             9            22   \n",
              "...                   ...                 ...           ...           ...   \n",
              "35995             12500.0                 1.0             4            17   \n",
              "35996                 NaN                 2.0             0            21   \n",
              "35997              9750.0                 1.0             2            19   \n",
              "35998              3419.0                 2.0             6            15   \n",
              "35999              5707.0                 1.0             0            21   \n",
              "\n",
              "       total_emprestimos  \n",
              "0                     22  \n",
              "1                     25  \n",
              "2                     24  \n",
              "3                     31  \n",
              "4                     31  \n",
              "...                  ...  \n",
              "35995                 21  \n",
              "35996                 21  \n",
              "35997                 21  \n",
              "35998                 21  \n",
              "35999                 21  \n",
              "\n",
              "[35932 rows x 14 columns]"
            ],
            "text/html": [
              "\n",
              "  <div id=\"df-d0a64bda-6227-4257-a8be-b9e9301d2581\" class=\"colab-df-container\">\n",
              "    <div>\n",
              "<style scoped>\n",
              "    .dataframe tbody tr th:only-of-type {\n",
              "        vertical-align: middle;\n",
              "    }\n",
              "\n",
              "    .dataframe tbody tr th {\n",
              "        vertical-align: top;\n",
              "    }\n",
              "\n",
              "    .dataframe thead th {\n",
              "        text-align: right;\n",
              "    }\n",
              "</style>\n",
              "<table border=\"1\" class=\"dataframe\">\n",
              "  <thead>\n",
              "    <tr style=\"text-align: right;\">\n",
              "      <th></th>\n",
              "      <th>id_usuario</th>\n",
              "      <th>indicador_inadimplencia</th>\n",
              "      <th>mais_90_dias_atraso</th>\n",
              "      <th>quanto_esta_usando_em_relação_ao_limite_de_crédito</th>\n",
              "      <th>numero_vezes_atraso_emprestimo_30_59_dias</th>\n",
              "      <th>relacao_dividas_ativos</th>\n",
              "      <th>numero_vezes_atraso_emprestimo_60_89_dias</th>\n",
              "      <th>idade</th>\n",
              "      <th>sexo</th>\n",
              "      <th>salario_ultimo_mes</th>\n",
              "      <th>numero_dependentes</th>\n",
              "      <th>total_imovel</th>\n",
              "      <th>total_outros</th>\n",
              "      <th>total_emprestimos</th>\n",
              "    </tr>\n",
              "  </thead>\n",
              "  <tbody>\n",
              "    <tr>\n",
              "      <th>0</th>\n",
              "      <td>17</td>\n",
              "      <td>0</td>\n",
              "      <td>0</td>\n",
              "      <td>0.142582</td>\n",
              "      <td>0</td>\n",
              "      <td>0.082849</td>\n",
              "      <td>0</td>\n",
              "      <td>79</td>\n",
              "      <td>M</td>\n",
              "      <td>10500.0</td>\n",
              "      <td>0.0</td>\n",
              "      <td>0</td>\n",
              "      <td>22</td>\n",
              "      <td>22</td>\n",
              "    </tr>\n",
              "    <tr>\n",
              "      <th>1</th>\n",
              "      <td>180</td>\n",
              "      <td>0</td>\n",
              "      <td>0</td>\n",
              "      <td>0.067297</td>\n",
              "      <td>1</td>\n",
              "      <td>0.153106</td>\n",
              "      <td>1</td>\n",
              "      <td>66</td>\n",
              "      <td>M</td>\n",
              "      <td>8000.0</td>\n",
              "      <td>0.0</td>\n",
              "      <td>0</td>\n",
              "      <td>25</td>\n",
              "      <td>25</td>\n",
              "    </tr>\n",
              "    <tr>\n",
              "      <th>2</th>\n",
              "      <td>353</td>\n",
              "      <td>0</td>\n",
              "      <td>0</td>\n",
              "      <td>0.118795</td>\n",
              "      <td>0</td>\n",
              "      <td>1.383004</td>\n",
              "      <td>0</td>\n",
              "      <td>59</td>\n",
              "      <td>F</td>\n",
              "      <td>4200.0</td>\n",
              "      <td>0.0</td>\n",
              "      <td>5</td>\n",
              "      <td>19</td>\n",
              "      <td>24</td>\n",
              "    </tr>\n",
              "    <tr>\n",
              "      <th>3</th>\n",
              "      <td>404</td>\n",
              "      <td>0</td>\n",
              "      <td>0</td>\n",
              "      <td>0.058924</td>\n",
              "      <td>0</td>\n",
              "      <td>0.639308</td>\n",
              "      <td>0</td>\n",
              "      <td>56</td>\n",
              "      <td>F</td>\n",
              "      <td>6700.0</td>\n",
              "      <td>1.0</td>\n",
              "      <td>2</td>\n",
              "      <td>29</td>\n",
              "      <td>31</td>\n",
              "    </tr>\n",
              "    <tr>\n",
              "      <th>4</th>\n",
              "      <td>405</td>\n",
              "      <td>0</td>\n",
              "      <td>0</td>\n",
              "      <td>0.173502</td>\n",
              "      <td>0</td>\n",
              "      <td>12403.000000</td>\n",
              "      <td>0</td>\n",
              "      <td>69</td>\n",
              "      <td>M</td>\n",
              "      <td>NaN</td>\n",
              "      <td>0.0</td>\n",
              "      <td>9</td>\n",
              "      <td>22</td>\n",
              "      <td>31</td>\n",
              "    </tr>\n",
              "    <tr>\n",
              "      <th>...</th>\n",
              "      <td>...</td>\n",
              "      <td>...</td>\n",
              "      <td>...</td>\n",
              "      <td>...</td>\n",
              "      <td>...</td>\n",
              "      <td>...</td>\n",
              "      <td>...</td>\n",
              "      <td>...</td>\n",
              "      <td>...</td>\n",
              "      <td>...</td>\n",
              "      <td>...</td>\n",
              "      <td>...</td>\n",
              "      <td>...</td>\n",
              "      <td>...</td>\n",
              "    </tr>\n",
              "    <tr>\n",
              "      <th>35995</th>\n",
              "      <td>35581</td>\n",
              "      <td>0</td>\n",
              "      <td>0</td>\n",
              "      <td>0.490135</td>\n",
              "      <td>1</td>\n",
              "      <td>0.521878</td>\n",
              "      <td>0</td>\n",
              "      <td>37</td>\n",
              "      <td>F</td>\n",
              "      <td>12500.0</td>\n",
              "      <td>1.0</td>\n",
              "      <td>4</td>\n",
              "      <td>17</td>\n",
              "      <td>21</td>\n",
              "    </tr>\n",
              "    <tr>\n",
              "      <th>35996</th>\n",
              "      <td>35795</td>\n",
              "      <td>0</td>\n",
              "      <td>0</td>\n",
              "      <td>0.009620</td>\n",
              "      <td>2</td>\n",
              "      <td>1981.000000</td>\n",
              "      <td>0</td>\n",
              "      <td>63</td>\n",
              "      <td>M</td>\n",
              "      <td>NaN</td>\n",
              "      <td>2.0</td>\n",
              "      <td>0</td>\n",
              "      <td>21</td>\n",
              "      <td>21</td>\n",
              "    </tr>\n",
              "    <tr>\n",
              "      <th>35997</th>\n",
              "      <td>35972</td>\n",
              "      <td>0</td>\n",
              "      <td>0</td>\n",
              "      <td>0.005944</td>\n",
              "      <td>0</td>\n",
              "      <td>0.151164</td>\n",
              "      <td>0</td>\n",
              "      <td>64</td>\n",
              "      <td>M</td>\n",
              "      <td>9750.0</td>\n",
              "      <td>1.0</td>\n",
              "      <td>2</td>\n",
              "      <td>19</td>\n",
              "      <td>21</td>\n",
              "    </tr>\n",
              "    <tr>\n",
              "      <th>35998</th>\n",
              "      <td>12012</td>\n",
              "      <td>1</td>\n",
              "      <td>4</td>\n",
              "      <td>0.391521</td>\n",
              "      <td>1</td>\n",
              "      <td>3.578655</td>\n",
              "      <td>1</td>\n",
              "      <td>51</td>\n",
              "      <td>M</td>\n",
              "      <td>3419.0</td>\n",
              "      <td>2.0</td>\n",
              "      <td>6</td>\n",
              "      <td>15</td>\n",
              "      <td>21</td>\n",
              "    </tr>\n",
              "    <tr>\n",
              "      <th>35999</th>\n",
              "      <td>23246</td>\n",
              "      <td>1</td>\n",
              "      <td>1</td>\n",
              "      <td>1.026993</td>\n",
              "      <td>3</td>\n",
              "      <td>0.265767</td>\n",
              "      <td>1</td>\n",
              "      <td>53</td>\n",
              "      <td>F</td>\n",
              "      <td>5707.0</td>\n",
              "      <td>1.0</td>\n",
              "      <td>0</td>\n",
              "      <td>21</td>\n",
              "      <td>21</td>\n",
              "    </tr>\n",
              "  </tbody>\n",
              "</table>\n",
              "<p>35932 rows × 14 columns</p>\n",
              "</div>\n",
              "    <div class=\"colab-df-buttons\">\n",
              "\n",
              "  <div class=\"colab-df-container\">\n",
              "    <button class=\"colab-df-convert\" onclick=\"convertToInteractive('df-d0a64bda-6227-4257-a8be-b9e9301d2581')\"\n",
              "            title=\"Convert this dataframe to an interactive table.\"\n",
              "            style=\"display:none;\">\n",
              "\n",
              "  <svg xmlns=\"http://www.w3.org/2000/svg\" height=\"24px\" viewBox=\"0 -960 960 960\">\n",
              "    <path d=\"M120-120v-720h720v720H120Zm60-500h600v-160H180v160Zm220 220h160v-160H400v160Zm0 220h160v-160H400v160ZM180-400h160v-160H180v160Zm440 0h160v-160H620v160ZM180-180h160v-160H180v160Zm440 0h160v-160H620v160Z\"/>\n",
              "  </svg>\n",
              "    </button>\n",
              "\n",
              "  <style>\n",
              "    .colab-df-container {\n",
              "      display:flex;\n",
              "      gap: 12px;\n",
              "    }\n",
              "\n",
              "    .colab-df-convert {\n",
              "      background-color: #E8F0FE;\n",
              "      border: none;\n",
              "      border-radius: 50%;\n",
              "      cursor: pointer;\n",
              "      display: none;\n",
              "      fill: #1967D2;\n",
              "      height: 32px;\n",
              "      padding: 0 0 0 0;\n",
              "      width: 32px;\n",
              "    }\n",
              "\n",
              "    .colab-df-convert:hover {\n",
              "      background-color: #E2EBFA;\n",
              "      box-shadow: 0px 1px 2px rgba(60, 64, 67, 0.3), 0px 1px 3px 1px rgba(60, 64, 67, 0.15);\n",
              "      fill: #174EA6;\n",
              "    }\n",
              "\n",
              "    .colab-df-buttons div {\n",
              "      margin-bottom: 4px;\n",
              "    }\n",
              "\n",
              "    [theme=dark] .colab-df-convert {\n",
              "      background-color: #3B4455;\n",
              "      fill: #D2E3FC;\n",
              "    }\n",
              "\n",
              "    [theme=dark] .colab-df-convert:hover {\n",
              "      background-color: #434B5C;\n",
              "      box-shadow: 0px 1px 3px 1px rgba(0, 0, 0, 0.15);\n",
              "      filter: drop-shadow(0px 1px 2px rgba(0, 0, 0, 0.3));\n",
              "      fill: #FFFFFF;\n",
              "    }\n",
              "  </style>\n",
              "\n",
              "    <script>\n",
              "      const buttonEl =\n",
              "        document.querySelector('#df-d0a64bda-6227-4257-a8be-b9e9301d2581 button.colab-df-convert');\n",
              "      buttonEl.style.display =\n",
              "        google.colab.kernel.accessAllowed ? 'block' : 'none';\n",
              "\n",
              "      async function convertToInteractive(key) {\n",
              "        const element = document.querySelector('#df-d0a64bda-6227-4257-a8be-b9e9301d2581');\n",
              "        const dataTable =\n",
              "          await google.colab.kernel.invokeFunction('convertToInteractive',\n",
              "                                                    [key], {});\n",
              "        if (!dataTable) return;\n",
              "\n",
              "        const docLinkHtml = 'Like what you see? Visit the ' +\n",
              "          '<a target=\"_blank\" href=https://colab.research.google.com/notebooks/data_table.ipynb>data table notebook</a>'\n",
              "          + ' to learn more about interactive tables.';\n",
              "        element.innerHTML = '';\n",
              "        dataTable['output_type'] = 'display_data';\n",
              "        await google.colab.output.renderOutput(dataTable, element);\n",
              "        const docLink = document.createElement('div');\n",
              "        docLink.innerHTML = docLinkHtml;\n",
              "        element.appendChild(docLink);\n",
              "      }\n",
              "    </script>\n",
              "  </div>\n",
              "\n",
              "\n",
              "<div id=\"df-fc734dfa-f3db-49d0-ac79-6aefdf9f222c\">\n",
              "  <button class=\"colab-df-quickchart\" onclick=\"quickchart('df-fc734dfa-f3db-49d0-ac79-6aefdf9f222c')\"\n",
              "            title=\"Suggest charts\"\n",
              "            style=\"display:none;\">\n",
              "\n",
              "<svg xmlns=\"http://www.w3.org/2000/svg\" height=\"24px\"viewBox=\"0 0 24 24\"\n",
              "     width=\"24px\">\n",
              "    <g>\n",
              "        <path d=\"M19 3H5c-1.1 0-2 .9-2 2v14c0 1.1.9 2 2 2h14c1.1 0 2-.9 2-2V5c0-1.1-.9-2-2-2zM9 17H7v-7h2v7zm4 0h-2V7h2v10zm4 0h-2v-4h2v4z\"/>\n",
              "    </g>\n",
              "</svg>\n",
              "  </button>\n",
              "\n",
              "<style>\n",
              "  .colab-df-quickchart {\n",
              "      --bg-color: #E8F0FE;\n",
              "      --fill-color: #1967D2;\n",
              "      --hover-bg-color: #E2EBFA;\n",
              "      --hover-fill-color: #174EA6;\n",
              "      --disabled-fill-color: #AAA;\n",
              "      --disabled-bg-color: #DDD;\n",
              "  }\n",
              "\n",
              "  [theme=dark] .colab-df-quickchart {\n",
              "      --bg-color: #3B4455;\n",
              "      --fill-color: #D2E3FC;\n",
              "      --hover-bg-color: #434B5C;\n",
              "      --hover-fill-color: #FFFFFF;\n",
              "      --disabled-bg-color: #3B4455;\n",
              "      --disabled-fill-color: #666;\n",
              "  }\n",
              "\n",
              "  .colab-df-quickchart {\n",
              "    background-color: var(--bg-color);\n",
              "    border: none;\n",
              "    border-radius: 50%;\n",
              "    cursor: pointer;\n",
              "    display: none;\n",
              "    fill: var(--fill-color);\n",
              "    height: 32px;\n",
              "    padding: 0;\n",
              "    width: 32px;\n",
              "  }\n",
              "\n",
              "  .colab-df-quickchart:hover {\n",
              "    background-color: var(--hover-bg-color);\n",
              "    box-shadow: 0 1px 2px rgba(60, 64, 67, 0.3), 0 1px 3px 1px rgba(60, 64, 67, 0.15);\n",
              "    fill: var(--button-hover-fill-color);\n",
              "  }\n",
              "\n",
              "  .colab-df-quickchart-complete:disabled,\n",
              "  .colab-df-quickchart-complete:disabled:hover {\n",
              "    background-color: var(--disabled-bg-color);\n",
              "    fill: var(--disabled-fill-color);\n",
              "    box-shadow: none;\n",
              "  }\n",
              "\n",
              "  .colab-df-spinner {\n",
              "    border: 2px solid var(--fill-color);\n",
              "    border-color: transparent;\n",
              "    border-bottom-color: var(--fill-color);\n",
              "    animation:\n",
              "      spin 1s steps(1) infinite;\n",
              "  }\n",
              "\n",
              "  @keyframes spin {\n",
              "    0% {\n",
              "      border-color: transparent;\n",
              "      border-bottom-color: var(--fill-color);\n",
              "      border-left-color: var(--fill-color);\n",
              "    }\n",
              "    20% {\n",
              "      border-color: transparent;\n",
              "      border-left-color: var(--fill-color);\n",
              "      border-top-color: var(--fill-color);\n",
              "    }\n",
              "    30% {\n",
              "      border-color: transparent;\n",
              "      border-left-color: var(--fill-color);\n",
              "      border-top-color: var(--fill-color);\n",
              "      border-right-color: var(--fill-color);\n",
              "    }\n",
              "    40% {\n",
              "      border-color: transparent;\n",
              "      border-right-color: var(--fill-color);\n",
              "      border-top-color: var(--fill-color);\n",
              "    }\n",
              "    60% {\n",
              "      border-color: transparent;\n",
              "      border-right-color: var(--fill-color);\n",
              "    }\n",
              "    80% {\n",
              "      border-color: transparent;\n",
              "      border-right-color: var(--fill-color);\n",
              "      border-bottom-color: var(--fill-color);\n",
              "    }\n",
              "    90% {\n",
              "      border-color: transparent;\n",
              "      border-bottom-color: var(--fill-color);\n",
              "    }\n",
              "  }\n",
              "</style>\n",
              "\n",
              "  <script>\n",
              "    async function quickchart(key) {\n",
              "      const quickchartButtonEl =\n",
              "        document.querySelector('#' + key + ' button');\n",
              "      quickchartButtonEl.disabled = true;  // To prevent multiple clicks.\n",
              "      quickchartButtonEl.classList.add('colab-df-spinner');\n",
              "      try {\n",
              "        const charts = await google.colab.kernel.invokeFunction(\n",
              "            'suggestCharts', [key], {});\n",
              "      } catch (error) {\n",
              "        console.error('Error during call to suggestCharts:', error);\n",
              "      }\n",
              "      quickchartButtonEl.classList.remove('colab-df-spinner');\n",
              "      quickchartButtonEl.classList.add('colab-df-quickchart-complete');\n",
              "    }\n",
              "    (() => {\n",
              "      let quickchartButtonEl =\n",
              "        document.querySelector('#df-fc734dfa-f3db-49d0-ac79-6aefdf9f222c button');\n",
              "      quickchartButtonEl.style.display =\n",
              "        google.colab.kernel.accessAllowed ? 'block' : 'none';\n",
              "    })();\n",
              "  </script>\n",
              "</div>\n",
              "\n",
              "    </div>\n",
              "  </div>\n"
            ],
            "application/vnd.google.colaboratory.intrinsic+json": {
              "type": "dataframe",
              "summary": "{\n  \"name\": \"df[(df['mais_90_dias_atraso'] <= 80) & (df['relacao_dividas_ativos']<307000\",\n  \"rows\": 35932,\n  \"fields\": [\n    {\n      \"column\": \"id_usuario\",\n      \"properties\": {\n        \"dtype\": \"number\",\n        \"std\": 10392,\n        \"min\": 1,\n        \"max\": 36000,\n        \"num_unique_values\": 35932,\n        \"samples\": [\n          20199,\n          29730,\n          16033\n        ],\n        \"semantic_type\": \"\",\n        \"description\": \"\"\n      }\n    },\n    {\n      \"column\": \"indicador_inadimplencia\",\n      \"properties\": {\n        \"dtype\": \"number\",\n        \"std\": 0,\n        \"min\": 0,\n        \"max\": 1,\n        \"num_unique_values\": 2,\n        \"samples\": [\n          1,\n          0\n        ],\n        \"semantic_type\": \"\",\n        \"description\": \"\"\n      }\n    },\n    {\n      \"column\": \"mais_90_dias_atraso\",\n      \"properties\": {\n        \"dtype\": \"number\",\n        \"std\": 0,\n        \"min\": 0,\n        \"max\": 15,\n        \"num_unique_values\": 16,\n        \"samples\": [\n          0,\n          1\n        ],\n        \"semantic_type\": \"\",\n        \"description\": \"\"\n      }\n    },\n    {\n      \"column\": \"quanto_esta_usando_em_rela\\u00e7\\u00e3o_ao_limite_de_cr\\u00e9dito\",\n      \"properties\": {\n        \"dtype\": \"number\",\n        \"std\": 132.56784207190486,\n        \"min\": 0.0,\n        \"max\": 8710.0,\n        \"num_unique_values\": 30819,\n        \"samples\": [\n          0.045529977,\n          0.006987305\n        ],\n        \"semantic_type\": \"\",\n        \"description\": \"\"\n      }\n    },\n    {\n      \"column\": \"numero_vezes_atraso_emprestimo_30_59_dias\",\n      \"properties\": {\n        \"dtype\": \"number\",\n        \"std\": 0,\n        \"min\": 0,\n        \"max\": 11,\n        \"num_unique_values\": 12,\n        \"samples\": [\n          10,\n          7\n        ],\n        \"semantic_type\": \"\",\n        \"description\": \"\"\n      }\n    },\n    {\n      \"column\": \"relacao_dividas_ativos\",\n      \"properties\": {\n        \"dtype\": \"number\",\n        \"std\": 1198.5027712424408,\n        \"min\": 0.0,\n        \"max\": 60212.0,\n        \"num_unique_values\": 30630,\n        \"samples\": [\n          0.178601166,\n          3451.0\n        ],\n        \"semantic_type\": \"\",\n        \"description\": \"\"\n      }\n    },\n    {\n      \"column\": \"numero_vezes_atraso_emprestimo_60_89_dias\",\n      \"properties\": {\n        \"dtype\": \"number\",\n        \"std\": 0,\n        \"min\": 0,\n        \"max\": 7,\n        \"num_unique_values\": 8,\n        \"samples\": [\n          1,\n          4\n        ],\n        \"semantic_type\": \"\",\n        \"description\": \"\"\n      }\n    },\n    {\n      \"column\": \"idade\",\n      \"properties\": {\n        \"dtype\": \"number\",\n        \"std\": 14,\n        \"min\": 21,\n        \"max\": 109,\n        \"num_unique_values\": 81,\n        \"samples\": [\n          60,\n          79\n        ],\n        \"semantic_type\": \"\",\n        \"description\": \"\"\n      }\n    },\n    {\n      \"column\": \"sexo\",\n      \"properties\": {\n        \"dtype\": \"category\",\n        \"num_unique_values\": 2,\n        \"samples\": [\n          \"F\",\n          \"M\"\n        ],\n        \"semantic_type\": \"\",\n        \"description\": \"\"\n      }\n    },\n    {\n      \"column\": \"salario_ultimo_mes\",\n      \"properties\": {\n        \"dtype\": \"number\",\n        \"std\": 12967.841168786626,\n        \"min\": 0.0,\n        \"max\": 1560100.0,\n        \"num_unique_values\": 7388,\n        \"samples\": [\n          18833.0,\n          10001.0\n        ],\n        \"semantic_type\": \"\",\n        \"description\": \"\"\n      }\n    },\n    {\n      \"column\": \"numero_dependentes\",\n      \"properties\": {\n        \"dtype\": \"number\",\n        \"std\": 1.1189340912589811,\n        \"min\": 0.0,\n        \"max\": 13.0,\n        \"num_unique_values\": 12,\n        \"samples\": [\n          10.0,\n          13.0\n        ],\n        \"semantic_type\": \"\",\n        \"description\": \"\"\n      }\n    },\n    {\n      \"column\": \"total_imovel\",\n      \"properties\": {\n        \"dtype\": \"number\",\n        \"std\": 1,\n        \"min\": 0,\n        \"max\": 25,\n        \"num_unique_values\": 21,\n        \"samples\": [\n          0,\n          19\n        ],\n        \"semantic_type\": \"\",\n        \"description\": \"\"\n      }\n    },\n    {\n      \"column\": \"total_outros\",\n      \"properties\": {\n        \"dtype\": \"number\",\n        \"std\": 4,\n        \"min\": 0,\n        \"max\": 56,\n        \"num_unique_values\": 50,\n        \"samples\": [\n          30,\n          56\n        ],\n        \"semantic_type\": \"\",\n        \"description\": \"\"\n      }\n    },\n    {\n      \"column\": \"total_emprestimos\",\n      \"properties\": {\n        \"dtype\": \"number\",\n        \"std\": 5,\n        \"min\": 0,\n        \"max\": 57,\n        \"num_unique_values\": 52,\n        \"samples\": [\n          37,\n          11\n        ],\n        \"semantic_type\": \"\",\n        \"description\": \"\"\n      }\n    }\n  ]\n}"
            }
          },
          "metadata": {},
          "execution_count": 16
        }
      ]
    },
    {
      "cell_type": "code",
      "source": [
        "df=df[(df['mais_90_dias_atraso'] <= 80) & (df['relacao_dividas_ativos']<307000.00)& (df['quanto_esta_usando_em_relação_ao_limite_de_crédito']<10000)]\n",
        "df.count()"
      ],
      "metadata": {
        "id": "mjOBO9Cg1O5T",
        "colab": {
          "base_uri": "https://localhost:8080/"
        },
        "outputId": "9edaca0b-0105-469e-c4fe-04f11c2af9dd"
      },
      "execution_count": 17,
      "outputs": [
        {
          "output_type": "execute_result",
          "data": {
            "text/plain": [
              "id_usuario                                            35932\n",
              "indicador_inadimplencia                               35932\n",
              "mais_90_dias_atraso                                   35932\n",
              "quanto_esta_usando_em_relação_ao_limite_de_crédito    35932\n",
              "numero_vezes_atraso_emprestimo_30_59_dias             35932\n",
              "relacao_dividas_ativos                                35932\n",
              "numero_vezes_atraso_emprestimo_60_89_dias             35932\n",
              "idade                                                 35932\n",
              "sexo                                                  35932\n",
              "salario_ultimo_mes                                    28767\n",
              "numero_dependentes                                    34996\n",
              "total_imovel                                          35932\n",
              "total_outros                                          35932\n",
              "total_emprestimos                                     35932\n",
              "dtype: int64"
            ]
          },
          "metadata": {},
          "execution_count": 17
        }
      ]
    },
    {
      "cell_type": "markdown",
      "source": [
        "# **Seleção variáveis dentro do escopo**"
      ],
      "metadata": {
        "id": "1g0WSlJxF_GM"
      }
    },
    {
      "cell_type": "code",
      "source": [
        "#SELECIONANDO APENAS AS VARIÁVEIS DENTRO DO ESCOPO\n",
        "df=df[['id_usuario', 'indicador_inadimplencia',\n",
        "       'quanto_esta_usando_em_relação_ao_limite_de_crédito',\n",
        "        'relacao_dividas_ativos',\n",
        "       'mais_90_dias_atraso', 'idade', 'sexo',\n",
        "       'salario_ultimo_mes', 'numero_dependentes', 'total_imovel',\n",
        "       'total_outros', 'total_emprestimos']]"
      ],
      "metadata": {
        "id": "aYYiz7cJFOCx"
      },
      "execution_count": 18,
      "outputs": []
    },
    {
      "cell_type": "markdown",
      "source": [
        "# **Tratamento nulos**"
      ],
      "metadata": {
        "id": "-bhaoejR0sSI"
      }
    },
    {
      "cell_type": "code",
      "source": [
        "#TRATANDO VALORES NULOS VARIÁVEIS SALÁRIOS E NUMERO DEPENDENTES\n",
        "mediana_salarios=df['salario_ultimo_mes'].median()\n",
        "mediana_n_dependentes=df['numero_dependentes'].median()\n",
        "df['salario_ultimo_mes'].fillna(mediana_salarios, inplace=True)\n",
        "df['numero_dependentes'].fillna(mediana_n_dependentes, inplace=True)"
      ],
      "metadata": {
        "id": "d9mefVGzFrZj"
      },
      "execution_count": 19,
      "outputs": []
    },
    {
      "cell_type": "code",
      "source": [
        "df.info()"
      ],
      "metadata": {
        "colab": {
          "base_uri": "https://localhost:8080/"
        },
        "id": "u5ZJwpSzYbOw",
        "outputId": "71bf85d9-1b9f-4e40-e839-3d7d8d81def6"
      },
      "execution_count": 20,
      "outputs": [
        {
          "output_type": "stream",
          "name": "stdout",
          "text": [
            "<class 'pandas.core.frame.DataFrame'>\n",
            "Index: 35932 entries, 0 to 35999\n",
            "Data columns (total 12 columns):\n",
            " #   Column                                              Non-Null Count  Dtype  \n",
            "---  ------                                              --------------  -----  \n",
            " 0   id_usuario                                          35932 non-null  int64  \n",
            " 1   indicador_inadimplencia                             35932 non-null  int64  \n",
            " 2   quanto_esta_usando_em_relação_ao_limite_de_crédito  35932 non-null  float64\n",
            " 3   relacao_dividas_ativos                              35932 non-null  float64\n",
            " 4   mais_90_dias_atraso                                 35932 non-null  int64  \n",
            " 5   idade                                               35932 non-null  int64  \n",
            " 6   sexo                                                35932 non-null  object \n",
            " 7   salario_ultimo_mes                                  35932 non-null  float64\n",
            " 8   numero_dependentes                                  35932 non-null  float64\n",
            " 9   total_imovel                                        35932 non-null  int64  \n",
            " 10  total_outros                                        35932 non-null  int64  \n",
            " 11  total_emprestimos                                   35932 non-null  int64  \n",
            "dtypes: float64(4), int64(7), object(1)\n",
            "memory usage: 3.6+ MB\n"
          ]
        }
      ]
    },
    {
      "cell_type": "markdown",
      "source": [
        "# **Criação variáveis dummy_dependentes e dummy_atrasos para análise de correlações**"
      ],
      "metadata": {
        "id": "NGYS5JUZi7t_"
      }
    },
    {
      "cell_type": "code",
      "source": [
        "df['dummy_atraso']=df['mais_90_dias_atraso'].apply(lambda x: 1 if x > 0 else 0)\n",
        "df['dummy_dependentes']=df['numero_dependentes'].apply(lambda x: 1 if x > 0 else 0)"
      ],
      "metadata": {
        "id": "_mfmlMaVjIsx"
      },
      "execution_count": 21,
      "outputs": []
    },
    {
      "cell_type": "markdown",
      "source": [
        "# **Correlações positivas possíveis**\n",
        "*   Idade e salário\n",
        "*   Ter dependentes e salário\n",
        "*   Salário e taxa de endividamento\n",
        "*   Taxa endividamento e indicador de inadimplência\n",
        "*   Uso limite crédito e taxa de endividamento\n",
        "*   Número de empréstimos e indicador de inadimplência\n",
        "*   Atrasos e indicador de inadimplência\n"
      ],
      "metadata": {
        "id": "1hBBxXsRjCTD"
      }
    },
    {
      "cell_type": "code",
      "source": [
        "corr_a=df['idade'].corr(df['salario_ultimo_mes'])\n",
        "print(f'A correlação entre a idade e o salário é: {corr_a}')\n",
        "corr_b=df['dummy_dependentes'].corr(df['salario_ultimo_mes'])\n",
        "print(f'A correlação entre o ter dependentes e ter maior salário é: {corr_b}')\n",
        "corr_c=df['salario_ultimo_mes'].corr(df['relacao_dividas_ativos'])\n",
        "print(f'A correlação entre salário e taxa de endividamento é: {corr_c}')\n",
        "corr_d=(df['relacao_dividas_ativos'].corr(df['indicador_inadimplencia']))\n",
        "print(f'A correlação entre a taxa de endividamento e o indicador de inadimplência é: {corr_d}')\n",
        "corr_e=(df['quanto_esta_usando_em_relação_ao_limite_de_crédito'].corr(df['relacao_dividas_ativos']))\n",
        "print(f'A correlação entre o uso do limite de crédito e a taxa de endividamento é: {corr_e}')\n",
        "corr_f=df['total_emprestimos'].corr(df['indicador_inadimplencia'])\n",
        "print(f'A correlação entre o número total de empréstimos e o indicador de inadimplência é: {corr_f}')\n",
        "corr_g=df['dummy_atraso'].corr(df['indicador_inadimplencia'])\n",
        "print(f'A correlação entre o número de atrasos e o indicador de inadimplência é: {corr_g}')"
      ],
      "metadata": {
        "colab": {
          "base_uri": "https://localhost:8080/"
        },
        "id": "aZFEuZ7Zjdny",
        "outputId": "8cdb4633-fd5e-40a4-d98f-b29f9cd0ae7f"
      },
      "execution_count": 22,
      "outputs": [
        {
          "output_type": "stream",
          "name": "stdout",
          "text": [
            "A correlação entre a idade e o salário é: 0.025196280785083614\n",
            "A correlação entre o ter dependentes e ter maior salário é: 0.0816565821541943\n",
            "A correlação entre salário e taxa de endividamento é: -0.033098221883111574\n",
            "A correlação entre a taxa de endividamento e o indicador de inadimplência é: -0.00913463437524751\n",
            "A correlação entre o uso do limite de crédito e a taxa de endividamento é: 0.03488079806117224\n",
            "A correlação entre o número total de empréstimos e o indicador de inadimplência é: -0.043288244607268635\n",
            "A correlação entre o número de atrasos e o indicador de inadimplência é: 0.5157773474592263\n"
          ]
        }
      ]
    },
    {
      "cell_type": "code",
      "source": [
        "df['relacao_dividas_ativos'].describe()"
      ],
      "metadata": {
        "colab": {
          "base_uri": "https://localhost:8080/"
        },
        "id": "CgmghgFro_aA",
        "outputId": "b928055d-f44e-4862-dc60-178c6c8a7eba"
      },
      "execution_count": 23,
      "outputs": [
        {
          "output_type": "execute_result",
          "data": {
            "text/plain": [
              "count    35932.000000\n",
              "mean       343.548286\n",
              "std       1198.502771\n",
              "min          0.000000\n",
              "25%          0.177061\n",
              "50%          0.366492\n",
              "75%          0.874466\n",
              "max      60212.000000\n",
              "Name: relacao_dividas_ativos, dtype: float64"
            ]
          },
          "metadata": {},
          "execution_count": 23
        }
      ]
    },
    {
      "cell_type": "code",
      "source": [
        "sns.regplot( x='dummy_atraso',y='indicador_inadimplencia', data=df)"
      ],
      "metadata": {
        "colab": {
          "base_uri": "https://localhost:8080/",
          "height": 468
        },
        "id": "97TUxt5gpsWT",
        "outputId": "20dca971-0d7a-4049-b04e-6750255d951b"
      },
      "execution_count": 137,
      "outputs": [
        {
          "output_type": "execute_result",
          "data": {
            "text/plain": [
              "<Axes: xlabel='dummy_atraso', ylabel='indicador_inadimplencia'>"
            ]
          },
          "metadata": {},
          "execution_count": 137
        },
        {
          "output_type": "display_data",
          "data": {
            "text/plain": [
              "<Figure size 640x480 with 1 Axes>"
            ],
            "image/png": "[encoded data removed]"
          },
          "metadata": {}
        }
      ]
    },
    {
      "cell_type": "markdown",
      "source": [
        "# **Correlações negativas possíveis**\n",
        "*   Idade e indicador de inadimplência\n",
        "*   Idade e atrasos\n",
        "*   Salário e atrasos\n"
      ],
      "metadata": {
        "id": "I5AozdbNm71O"
      }
    },
    {
      "cell_type": "code",
      "source": [
        "corr_h=df['idade'].corr(df['indicador_inadimplencia'])\n",
        "print(f'A correlação entre a idade e o indicador de inadimplência é: {corr_h}')\n",
        "corr_i=df['idade'].corr(df['dummy_atraso'])\n",
        "print(f'A correlação entre a idade e o atraso nos pagamentos é: {corr_i}')\n",
        "corr_j=df['salario_ultimo_mes'].corr(df['dummy_atraso'])\n",
        "print(f'A correlação entre o salário e o atraso nos pagamentos é: {corr_j}')"
      ],
      "metadata": {
        "colab": {
          "base_uri": "https://localhost:8080/"
        },
        "id": "_PpL1oWbkP8g",
        "outputId": "da71d380-5b29-42b8-ca21-e9c00aa6c8b0"
      },
      "execution_count": 25,
      "outputs": [
        {
          "output_type": "stream",
          "name": "stdout",
          "text": [
            "A correlação entre a idade e o indicador de inadimplência é: -0.07061200537364948\n",
            "A correlação entre a idade e o atraso nos pagamentos é: -0.0955404944665207\n",
            "A correlação entre o salário e o atraso nos pagamentos é: -0.025888252742959417\n"
          ]
        }
      ]
    },
    {
      "cell_type": "markdown",
      "source": [
        "# **Número clientes com flag inadimplência**\n",
        "\n",
        "*   Total de 35.932 clientes -  632 clientes com flag de inadimplência\n",
        "*   Taxa inadimplência geral é de 1,75%\n",
        "\n",
        "\n",
        "\n",
        "\n",
        "\n"
      ],
      "metadata": {
        "id": "OrhtH-tDnq12"
      }
    },
    {
      "cell_type": "code",
      "source": [
        "df.groupby('indicador_inadimplencia')['id_usuario'].count()"
      ],
      "metadata": {
        "colab": {
          "base_uri": "https://localhost:8080/"
        },
        "id": "LbKzgz_kWrwG",
        "outputId": "062774ff-ded8-4042-b977-0595c1384f1c"
      },
      "execution_count": 26,
      "outputs": [
        {
          "output_type": "execute_result",
          "data": {
            "text/plain": [
              "indicador_inadimplencia\n",
              "0    35300\n",
              "1      632\n",
              "Name: id_usuario, dtype: int64"
            ]
          },
          "metadata": {},
          "execution_count": 26
        }
      ]
    },
    {
      "cell_type": "code",
      "source": [
        "35300+632"
      ],
      "metadata": {
        "colab": {
          "base_uri": "https://localhost:8080/"
        },
        "id": "WPre66FU1vLi",
        "outputId": "cb370bba-2b0b-4bc8-dc46-285a2ee28647"
      },
      "execution_count": 27,
      "outputs": [
        {
          "output_type": "execute_result",
          "data": {
            "text/plain": [
              "35932"
            ]
          },
          "metadata": {},
          "execution_count": 27
        }
      ]
    },
    {
      "cell_type": "code",
      "source": [
        "632/35932*100"
      ],
      "metadata": {
        "colab": {
          "base_uri": "https://localhost:8080/"
        },
        "id": "HZ7pRpuLn6K6",
        "outputId": "16100849-c508-444d-9c1c-1f0a75a61c95"
      },
      "execution_count": 28,
      "outputs": [
        {
          "output_type": "execute_result",
          "data": {
            "text/plain": [
              "1.7588778804408327"
            ]
          },
          "metadata": {},
          "execution_count": 28
        }
      ]
    },
    {
      "cell_type": "markdown",
      "source": [
        "# **Emprestimos imoveis**"
      ],
      "metadata": {
        "id": "5Fho7JFKiSoD"
      }
    },
    {
      "cell_type": "code",
      "source": [
        "#clientes que têm exclusivamente empréstimos imóveis\n",
        "df_imoveis=df[(df['total_imovel']>=1) & (df['total_outros']==0)]\n",
        "df_imoveis.count()"
      ],
      "metadata": {
        "colab": {
          "base_uri": "https://localhost:8080/"
        },
        "id": "Q56xHKmFgMbq",
        "outputId": "c7761b6d-2659-4275-cf6b-3a81415bccf9"
      },
      "execution_count": 29,
      "outputs": [
        {
          "output_type": "execute_result",
          "data": {
            "text/plain": [
              "id_usuario                                            90\n",
              "indicador_inadimplencia                               90\n",
              "quanto_esta_usando_em_relação_ao_limite_de_crédito    90\n",
              "relacao_dividas_ativos                                90\n",
              "mais_90_dias_atraso                                   90\n",
              "idade                                                 90\n",
              "sexo                                                  90\n",
              "salario_ultimo_mes                                    90\n",
              "numero_dependentes                                    90\n",
              "total_imovel                                          90\n",
              "total_outros                                          90\n",
              "total_emprestimos                                     90\n",
              "dummy_atraso                                          90\n",
              "dummy_dependentes                                     90\n",
              "dtype: int64"
            ]
          },
          "metadata": {},
          "execution_count": 29
        }
      ]
    },
    {
      "cell_type": "markdown",
      "source": [
        "# **Outros empréstimos**"
      ],
      "metadata": {
        "id": "HzjKXo-WiY_3"
      }
    },
    {
      "cell_type": "code",
      "source": [
        "#clientes que têm\n",
        "df_outros=df[(df['total_outros']>=1) & (df['total_imovel']==0)]\n",
        "df_outros.count()"
      ],
      "metadata": {
        "colab": {
          "base_uri": "https://localhost:8080/"
        },
        "id": "-bHzoE-ZidMk",
        "outputId": "00841e59-bd81-4bf5-8a7c-db9f7662bcb7"
      },
      "execution_count": 30,
      "outputs": [
        {
          "output_type": "execute_result",
          "data": {
            "text/plain": [
              "id_usuario                                            13118\n",
              "indicador_inadimplencia                               13118\n",
              "quanto_esta_usando_em_relação_ao_limite_de_crédito    13118\n",
              "relacao_dividas_ativos                                13118\n",
              "mais_90_dias_atraso                                   13118\n",
              "idade                                                 13118\n",
              "sexo                                                  13118\n",
              "salario_ultimo_mes                                    13118\n",
              "numero_dependentes                                    13118\n",
              "total_imovel                                          13118\n",
              "total_outros                                          13118\n",
              "total_emprestimos                                     13118\n",
              "dummy_atraso                                          13118\n",
              "dummy_dependentes                                     13118\n",
              "dtype: int64"
            ]
          },
          "metadata": {},
          "execution_count": 30
        }
      ]
    },
    {
      "cell_type": "markdown",
      "source": [
        "# **Total clientes sem empréstimos ativos**\n",
        "Embora tenham sido identificados 363 clientes sem empréstimos ativos, optou-se por mantê-los, pois eles possuem outros atributos, tais como flag de inadimplência, dívidas e uso do limite de crédito, salário e idade, variáveis essas que podem ser consideradas no risco de concessão de novas linhas de créditos que esses clientes possam vir a contratar\n",
        "\n"
      ],
      "metadata": {
        "id": "EuluzbtFoRo6"
      }
    },
    {
      "cell_type": "code",
      "source": [
        "(363/35932)-1"
      ],
      "metadata": {
        "colab": {
          "base_uri": "https://localhost:8080/"
        },
        "id": "XzRSE-uj3kWf",
        "outputId": "e4309572-9bba-444f-f800-790da8192cc6"
      },
      "execution_count": 31,
      "outputs": [
        {
          "output_type": "execute_result",
          "data": {
            "text/plain": [
              "-0.989897584325949"
            ]
          },
          "metadata": {},
          "execution_count": 31
        }
      ]
    },
    {
      "cell_type": "code",
      "source": [
        "df.count()"
      ],
      "metadata": {
        "colab": {
          "base_uri": "https://localhost:8080/"
        },
        "id": "rlu5X_ni3ct_",
        "outputId": "d848f5cd-00a3-4190-e076-869175a77dec"
      },
      "execution_count": 32,
      "outputs": [
        {
          "output_type": "execute_result",
          "data": {
            "text/plain": [
              "id_usuario                                            35932\n",
              "indicador_inadimplencia                               35932\n",
              "quanto_esta_usando_em_relação_ao_limite_de_crédito    35932\n",
              "relacao_dividas_ativos                                35932\n",
              "mais_90_dias_atraso                                   35932\n",
              "idade                                                 35932\n",
              "sexo                                                  35932\n",
              "salario_ultimo_mes                                    35932\n",
              "numero_dependentes                                    35932\n",
              "total_imovel                                          35932\n",
              "total_outros                                          35932\n",
              "total_emprestimos                                     35932\n",
              "dummy_atraso                                          35932\n",
              "dummy_dependentes                                     35932\n",
              "dtype: int64"
            ]
          },
          "metadata": {},
          "execution_count": 32
        }
      ]
    },
    {
      "cell_type": "code",
      "source": [
        "#total clientes sem empréstimos ativos\n",
        "clientes_sem_emprestimos_ativos=df[df['total_emprestimos']==0]\n",
        "clientes_sem_emprestimos_ativos"
      ],
      "metadata": {
        "colab": {
          "base_uri": "https://localhost:8080/",
          "height": 443
        },
        "id": "jAogMdAFYoD6",
        "outputId": "3b8b5ce2-4d8d-4610-c04a-970b7c81aacf"
      },
      "execution_count": 33,
      "outputs": [
        {
          "output_type": "execute_result",
          "data": {
            "text/plain": [
              "      id_usuario  indicador_inadimplencia  \\\n",
              "776           56                        0   \n",
              "777           59                        0   \n",
              "778          169                        0   \n",
              "779          208                        0   \n",
              "780          252                        0   \n",
              "...          ...                      ...   \n",
              "1172       17717                        1   \n",
              "1174       18593                        1   \n",
              "1177       21016                        1   \n",
              "1178       21056                        1   \n",
              "1180       21442                        1   \n",
              "\n",
              "      quanto_esta_usando_em_relação_ao_limite_de_crédito  \\\n",
              "776                                                 1.0    \n",
              "777                                                 1.0    \n",
              "778                                                 1.0    \n",
              "779                                                 1.0    \n",
              "780                                                 1.0    \n",
              "...                                                 ...    \n",
              "1172                                                1.0    \n",
              "1174                                                1.0    \n",
              "1177                                                1.0    \n",
              "1178                                                1.0    \n",
              "1180                                                1.0    \n",
              "\n",
              "      relacao_dividas_ativos  mais_90_dias_atraso  idade sexo  \\\n",
              "776                  0.00000                    0     41    F   \n",
              "777                  0.00000                    0     57    F   \n",
              "778                  0.00000                    0     79    M   \n",
              "779                  0.00000                    0     47    M   \n",
              "780                  0.00000                    0     23    M   \n",
              "...                      ...                  ...    ...  ...   \n",
              "1172                 0.18512                    4     30    M   \n",
              "1174                58.00000                    5     30    F   \n",
              "1177                 0.00000                    3     31    F   \n",
              "1178               356.00000                    4     49    F   \n",
              "1180               106.00000                    3     32    M   \n",
              "\n",
              "      salario_ultimo_mes  numero_dependentes  total_imovel  total_outros  \\\n",
              "776               5408.0                 0.0             0             0   \n",
              "777               5408.0                 0.0             0             0   \n",
              "778               5408.0                 0.0             0             0   \n",
              "779               5408.0                 0.0             0             0   \n",
              "780                800.0                 0.0             0             0   \n",
              "...                  ...                 ...           ...           ...   \n",
              "1172              1706.0                 3.0             0             0   \n",
              "1174              5408.0                 0.0             0             0   \n",
              "1177              5408.0                 0.0             0             0   \n",
              "1178              5408.0                 2.0             0             0   \n",
              "1180              5408.0                 0.0             0             0   \n",
              "\n",
              "      total_emprestimos  dummy_atraso  dummy_dependentes  \n",
              "776                   0             0                  0  \n",
              "777                   0             0                  0  \n",
              "778                   0             0                  0  \n",
              "779                   0             0                  0  \n",
              "780                   0             0                  0  \n",
              "...                 ...           ...                ...  \n",
              "1172                  0             1                  1  \n",
              "1174                  0             1                  0  \n",
              "1177                  0             1                  0  \n",
              "1178                  0             1                  1  \n",
              "1180                  0             1                  0  \n",
              "\n",
              "[363 rows x 14 columns]"
            ],
            "text/html": [
              "\n",
              "  <div id=\"df-57a8f06e-062d-41d4-9f6d-7bac74fef8f8\" class=\"colab-df-container\">\n",
              "    <div>\n",
              "<style scoped>\n",
              "    .dataframe tbody tr th:only-of-type {\n",
              "        vertical-align: middle;\n",
              "    }\n",
              "\n",
              "    .dataframe tbody tr th {\n",
              "        vertical-align: top;\n",
              "    }\n",
              "\n",
              "    .dataframe thead th {\n",
              "        text-align: right;\n",
              "    }\n",
              "</style>\n",
              "<table border=\"1\" class=\"dataframe\">\n",
              "  <thead>\n",
              "    <tr style=\"text-align: right;\">\n",
              "      <th></th>\n",
              "      <th>id_usuario</th>\n",
              "      <th>indicador_inadimplencia</th>\n",
              "      <th>quanto_esta_usando_em_relação_ao_limite_de_crédito</th>\n",
              "      <th>relacao_dividas_ativos</th>\n",
              "      <th>mais_90_dias_atraso</th>\n",
              "      <th>idade</th>\n",
              "      <th>sexo</th>\n",
              "      <th>salario_ultimo_mes</th>\n",
              "      <th>numero_dependentes</th>\n",
              "      <th>total_imovel</th>\n",
              "      <th>total_outros</th>\n",
              "      <th>total_emprestimos</th>\n",
              "      <th>dummy_atraso</th>\n",
              "      <th>dummy_dependentes</th>\n",
              "    </tr>\n",
              "  </thead>\n",
              "  <tbody>\n",
              "    <tr>\n",
              "      <th>776</th>\n",
              "      <td>56</td>\n",
              "      <td>0</td>\n",
              "      <td>1.0</td>\n",
              "      <td>0.00000</td>\n",
              "      <td>0</td>\n",
              "      <td>41</td>\n",
              "      <td>F</td>\n",
              "      <td>5408.0</td>\n",
              "      <td>0.0</td>\n",
              "      <td>0</td>\n",
              "      <td>0</td>\n",
              "      <td>0</td>\n",
              "      <td>0</td>\n",
              "      <td>0</td>\n",
              "    </tr>\n",
              "    <tr>\n",
              "      <th>777</th>\n",
              "      <td>59</td>\n",
              "      <td>0</td>\n",
              "      <td>1.0</td>\n",
              "      <td>0.00000</td>\n",
              "      <td>0</td>\n",
              "      <td>57</td>\n",
              "      <td>F</td>\n",
              "      <td>5408.0</td>\n",
              "      <td>0.0</td>\n",
              "      <td>0</td>\n",
              "      <td>0</td>\n",
              "      <td>0</td>\n",
              "      <td>0</td>\n",
              "      <td>0</td>\n",
              "    </tr>\n",
              "    <tr>\n",
              "      <th>778</th>\n",
              "      <td>169</td>\n",
              "      <td>0</td>\n",
              "      <td>1.0</td>\n",
              "      <td>0.00000</td>\n",
              "      <td>0</td>\n",
              "      <td>79</td>\n",
              "      <td>M</td>\n",
              "      <td>5408.0</td>\n",
              "      <td>0.0</td>\n",
              "      <td>0</td>\n",
              "      <td>0</td>\n",
              "      <td>0</td>\n",
              "      <td>0</td>\n",
              "      <td>0</td>\n",
              "    </tr>\n",
              "    <tr>\n",
              "      <th>779</th>\n",
              "      <td>208</td>\n",
              "      <td>0</td>\n",
              "      <td>1.0</td>\n",
              "      <td>0.00000</td>\n",
              "      <td>0</td>\n",
              "      <td>47</td>\n",
              "      <td>M</td>\n",
              "      <td>5408.0</td>\n",
              "      <td>0.0</td>\n",
              "      <td>0</td>\n",
              "      <td>0</td>\n",
              "      <td>0</td>\n",
              "      <td>0</td>\n",
              "      <td>0</td>\n",
              "    </tr>\n",
              "    <tr>\n",
              "      <th>780</th>\n",
              "      <td>252</td>\n",
              "      <td>0</td>\n",
              "      <td>1.0</td>\n",
              "      <td>0.00000</td>\n",
              "      <td>0</td>\n",
              "      <td>23</td>\n",
              "      <td>M</td>\n",
              "      <td>800.0</td>\n",
              "      <td>0.0</td>\n",
              "      <td>0</td>\n",
              "      <td>0</td>\n",
              "      <td>0</td>\n",
              "      <td>0</td>\n",
              "      <td>0</td>\n",
              "    </tr>\n",
              "    <tr>\n",
              "      <th>...</th>\n",
              "      <td>...</td>\n",
              "      <td>...</td>\n",
              "      <td>...</td>\n",
              "      <td>...</td>\n",
              "      <td>...</td>\n",
              "      <td>...</td>\n",
              "      <td>...</td>\n",
              "      <td>...</td>\n",
              "      <td>...</td>\n",
              "      <td>...</td>\n",
              "      <td>...</td>\n",
              "      <td>...</td>\n",
              "      <td>...</td>\n",
              "      <td>...</td>\n",
              "    </tr>\n",
              "    <tr>\n",
              "      <th>1172</th>\n",
              "      <td>17717</td>\n",
              "      <td>1</td>\n",
              "      <td>1.0</td>\n",
              "      <td>0.18512</td>\n",
              "      <td>4</td>\n",
              "      <td>30</td>\n",
              "      <td>M</td>\n",
              "      <td>1706.0</td>\n",
              "      <td>3.0</td>\n",
              "      <td>0</td>\n",
              "      <td>0</td>\n",
              "      <td>0</td>\n",
              "      <td>1</td>\n",
              "      <td>1</td>\n",
              "    </tr>\n",
              "    <tr>\n",
              "      <th>1174</th>\n",
              "      <td>18593</td>\n",
              "      <td>1</td>\n",
              "      <td>1.0</td>\n",
              "      <td>58.00000</td>\n",
              "      <td>5</td>\n",
              "      <td>30</td>\n",
              "      <td>F</td>\n",
              "      <td>5408.0</td>\n",
              "      <td>0.0</td>\n",
              "      <td>0</td>\n",
              "      <td>0</td>\n",
              "      <td>0</td>\n",
              "      <td>1</td>\n",
              "      <td>0</td>\n",
              "    </tr>\n",
              "    <tr>\n",
              "      <th>1177</th>\n",
              "      <td>21016</td>\n",
              "      <td>1</td>\n",
              "      <td>1.0</td>\n",
              "      <td>0.00000</td>\n",
              "      <td>3</td>\n",
              "      <td>31</td>\n",
              "      <td>F</td>\n",
              "      <td>5408.0</td>\n",
              "      <td>0.0</td>\n",
              "      <td>0</td>\n",
              "      <td>0</td>\n",
              "      <td>0</td>\n",
              "      <td>1</td>\n",
              "      <td>0</td>\n",
              "    </tr>\n",
              "    <tr>\n",
              "      <th>1178</th>\n",
              "      <td>21056</td>\n",
              "      <td>1</td>\n",
              "      <td>1.0</td>\n",
              "      <td>356.00000</td>\n",
              "      <td>4</td>\n",
              "      <td>49</td>\n",
              "      <td>F</td>\n",
              "      <td>5408.0</td>\n",
              "      <td>2.0</td>\n",
              "      <td>0</td>\n",
              "      <td>0</td>\n",
              "      <td>0</td>\n",
              "      <td>1</td>\n",
              "      <td>1</td>\n",
              "    </tr>\n",
              "    <tr>\n",
              "      <th>1180</th>\n",
              "      <td>21442</td>\n",
              "      <td>1</td>\n",
              "      <td>1.0</td>\n",
              "      <td>106.00000</td>\n",
              "      <td>3</td>\n",
              "      <td>32</td>\n",
              "      <td>M</td>\n",
              "      <td>5408.0</td>\n",
              "      <td>0.0</td>\n",
              "      <td>0</td>\n",
              "      <td>0</td>\n",
              "      <td>0</td>\n",
              "      <td>1</td>\n",
              "      <td>0</td>\n",
              "    </tr>\n",
              "  </tbody>\n",
              "</table>\n",
              "<p>363 rows × 14 columns</p>\n",
              "</div>\n",
              "    <div class=\"colab-df-buttons\">\n",
              "\n",
              "  <div class=\"colab-df-container\">\n",
              "    <button class=\"colab-df-convert\" onclick=\"convertToInteractive('df-57a8f06e-062d-41d4-9f6d-7bac74fef8f8')\"\n",
              "            title=\"Convert this dataframe to an interactive table.\"\n",
              "            style=\"display:none;\">\n",
              "\n",
              "  <svg xmlns=\"http://www.w3.org/2000/svg\" height=\"24px\" viewBox=\"0 -960 960 960\">\n",
              "    <path d=\"M120-120v-720h720v720H120Zm60-500h600v-160H180v160Zm220 220h160v-160H400v160Zm0 220h160v-160H400v160ZM180-400h160v-160H180v160Zm440 0h160v-160H620v160ZM180-180h160v-160H180v160Zm440 0h160v-160H620v160Z\"/>\n",
              "  </svg>\n",
              "    </button>\n",
              "\n",
              "  <style>\n",
              "    .colab-df-container {\n",
              "      display:flex;\n",
              "      gap: 12px;\n",
              "    }\n",
              "\n",
              "    .colab-df-convert {\n",
              "      background-color: #E8F0FE;\n",
              "      border: none;\n",
              "      border-radius: 50%;\n",
              "      cursor: pointer;\n",
              "      display: none;\n",
              "      fill: #1967D2;\n",
              "      height: 32px;\n",
              "      padding: 0 0 0 0;\n",
              "      width: 32px;\n",
              "    }\n",
              "\n",
              "    .colab-df-convert:hover {\n",
              "      background-color: #E2EBFA;\n",
              "      box-shadow: 0px 1px 2px rgba(60, 64, 67, 0.3), 0px 1px 3px 1px rgba(60, 64, 67, 0.15);\n",
              "      fill: #174EA6;\n",
              "    }\n",
              "\n",
              "    .colab-df-buttons div {\n",
              "      margin-bottom: 4px;\n",
              "    }\n",
              "\n",
              "    [theme=dark] .colab-df-convert {\n",
              "      background-color: #3B4455;\n",
              "      fill: #D2E3FC;\n",
              "    }\n",
              "\n",
              "    [theme=dark] .colab-df-convert:hover {\n",
              "      background-color: #434B5C;\n",
              "      box-shadow: 0px 1px 3px 1px rgba(0, 0, 0, 0.15);\n",
              "      filter: drop-shadow(0px 1px 2px rgba(0, 0, 0, 0.3));\n",
              "      fill: #FFFFFF;\n",
              "    }\n",
              "  </style>\n",
              "\n",
              "    <script>\n",
              "      const buttonEl =\n",
              "        document.querySelector('#df-57a8f06e-062d-41d4-9f6d-7bac74fef8f8 button.colab-df-convert');\n",
              "      buttonEl.style.display =\n",
              "        google.colab.kernel.accessAllowed ? 'block' : 'none';\n",
              "\n",
              "      async function convertToInteractive(key) {\n",
              "        const element = document.querySelector('#df-57a8f06e-062d-41d4-9f6d-7bac74fef8f8');\n",
              "        const dataTable =\n",
              "          await google.colab.kernel.invokeFunction('convertToInteractive',\n",
              "                                                    [key], {});\n",
              "        if (!dataTable) return;\n",
              "\n",
              "        const docLinkHtml = 'Like what you see? Visit the ' +\n",
              "          '<a target=\"_blank\" href=https://colab.research.google.com/notebooks/data_table.ipynb>data table notebook</a>'\n",
              "          + ' to learn more about interactive tables.';\n",
              "        element.innerHTML = '';\n",
              "        dataTable['output_type'] = 'display_data';\n",
              "        await google.colab.output.renderOutput(dataTable, element);\n",
              "        const docLink = document.createElement('div');\n",
              "        docLink.innerHTML = docLinkHtml;\n",
              "        element.appendChild(docLink);\n",
              "      }\n",
              "    </script>\n",
              "  </div>\n",
              "\n",
              "\n",
              "<div id=\"df-4525e525-a0b3-4e3c-971f-95ecf545bf4c\">\n",
              "  <button class=\"colab-df-quickchart\" onclick=\"quickchart('df-4525e525-a0b3-4e3c-971f-95ecf545bf4c')\"\n",
              "            title=\"Suggest charts\"\n",
              "            style=\"display:none;\">\n",
              "\n",
              "<svg xmlns=\"http://www.w3.org/2000/svg\" height=\"24px\"viewBox=\"0 0 24 24\"\n",
              "     width=\"24px\">\n",
              "    <g>\n",
              "        <path d=\"M19 3H5c-1.1 0-2 .9-2 2v14c0 1.1.9 2 2 2h14c1.1 0 2-.9 2-2V5c0-1.1-.9-2-2-2zM9 17H7v-7h2v7zm4 0h-2V7h2v10zm4 0h-2v-4h2v4z\"/>\n",
              "    </g>\n",
              "</svg>\n",
              "  </button>\n",
              "\n",
              "<style>\n",
              "  .colab-df-quickchart {\n",
              "      --bg-color: #E8F0FE;\n",
              "      --fill-color: #1967D2;\n",
              "      --hover-bg-color: #E2EBFA;\n",
              "      --hover-fill-color: #174EA6;\n",
              "      --disabled-fill-color: #AAA;\n",
              "      --disabled-bg-color: #DDD;\n",
              "  }\n",
              "\n",
              "  [theme=dark] .colab-df-quickchart {\n",
              "      --bg-color: #3B4455;\n",
              "      --fill-color: #D2E3FC;\n",
              "      --hover-bg-color: #434B5C;\n",
              "      --hover-fill-color: #FFFFFF;\n",
              "      --disabled-bg-color: #3B4455;\n",
              "      --disabled-fill-color: #666;\n",
              "  }\n",
              "\n",
              "  .colab-df-quickchart {\n",
              "    background-color: var(--bg-color);\n",
              "    border: none;\n",
              "    border-radius: 50%;\n",
              "    cursor: pointer;\n",
              "    display: none;\n",
              "    fill: var(--fill-color);\n",
              "    height: 32px;\n",
              "    padding: 0;\n",
              "    width: 32px;\n",
              "  }\n",
              "\n",
              "  .colab-df-quickchart:hover {\n",
              "    background-color: var(--hover-bg-color);\n",
              "    box-shadow: 0 1px 2px rgba(60, 64, 67, 0.3), 0 1px 3px 1px rgba(60, 64, 67, 0.15);\n",
              "    fill: var(--button-hover-fill-color);\n",
              "  }\n",
              "\n",
              "  .colab-df-quickchart-complete:disabled,\n",
              "  .colab-df-quickchart-complete:disabled:hover {\n",
              "    background-color: var(--disabled-bg-color);\n",
              "    fill: var(--disabled-fill-color);\n",
              "    box-shadow: none;\n",
              "  }\n",
              "\n",
              "  .colab-df-spinner {\n",
              "    border: 2px solid var(--fill-color);\n",
              "    border-color: transparent;\n",
              "    border-bottom-color: var(--fill-color);\n",
              "    animation:\n",
              "      spin 1s steps(1) infinite;\n",
              "  }\n",
              "\n",
              "  @keyframes spin {\n",
              "    0% {\n",
              "      border-color: transparent;\n",
              "      border-bottom-color: var(--fill-color);\n",
              "      border-left-color: var(--fill-color);\n",
              "    }\n",
              "    20% {\n",
              "      border-color: transparent;\n",
              "      border-left-color: var(--fill-color);\n",
              "      border-top-color: var(--fill-color);\n",
              "    }\n",
              "    30% {\n",
              "      border-color: transparent;\n",
              "      border-left-color: var(--fill-color);\n",
              "      border-top-color: var(--fill-color);\n",
              "      border-right-color: var(--fill-color);\n",
              "    }\n",
              "    40% {\n",
              "      border-color: transparent;\n",
              "      border-right-color: var(--fill-color);\n",
              "      border-top-color: var(--fill-color);\n",
              "    }\n",
              "    60% {\n",
              "      border-color: transparent;\n",
              "      border-right-color: var(--fill-color);\n",
              "    }\n",
              "    80% {\n",
              "      border-color: transparent;\n",
              "      border-right-color: var(--fill-color);\n",
              "      border-bottom-color: var(--fill-color);\n",
              "    }\n",
              "    90% {\n",
              "      border-color: transparent;\n",
              "      border-bottom-color: var(--fill-color);\n",
              "    }\n",
              "  }\n",
              "</style>\n",
              "\n",
              "  <script>\n",
              "    async function quickchart(key) {\n",
              "      const quickchartButtonEl =\n",
              "        document.querySelector('#' + key + ' button');\n",
              "      quickchartButtonEl.disabled = true;  // To prevent multiple clicks.\n",
              "      quickchartButtonEl.classList.add('colab-df-spinner');\n",
              "      try {\n",
              "        const charts = await google.colab.kernel.invokeFunction(\n",
              "            'suggestCharts', [key], {});\n",
              "      } catch (error) {\n",
              "        console.error('Error during call to suggestCharts:', error);\n",
              "      }\n",
              "      quickchartButtonEl.classList.remove('colab-df-spinner');\n",
              "      quickchartButtonEl.classList.add('colab-df-quickchart-complete');\n",
              "    }\n",
              "    (() => {\n",
              "      let quickchartButtonEl =\n",
              "        document.querySelector('#df-4525e525-a0b3-4e3c-971f-95ecf545bf4c button');\n",
              "      quickchartButtonEl.style.display =\n",
              "        google.colab.kernel.accessAllowed ? 'block' : 'none';\n",
              "    })();\n",
              "  </script>\n",
              "</div>\n",
              "\n",
              "  <div id=\"id_b9bad7dd-f4f6-48a7-ad30-aa2a4aa21def\">\n",
              "    <style>\n",
              "      .colab-df-generate {\n",
              "        background-color: #E8F0FE;\n",
              "        border: none;\n",
              "        border-radius: 50%;\n",
              "        cursor: pointer;\n",
              "        display: none;\n",
              "        fill: #1967D2;\n",
              "        height: 32px;\n",
              "        padding: 0 0 0 0;\n",
              "        width: 32px;\n",
              "      }\n",
              "\n",
              "      .colab-df-generate:hover {\n",
              "        background-color: #E2EBFA;\n",
              "        box-shadow: 0px 1px 2px rgba(60, 64, 67, 0.3), 0px 1px 3px 1px rgba(60, 64, 67, 0.15);\n",
              "        fill: #174EA6;\n",
              "      }\n",
              "\n",
              "      [theme=dark] .colab-df-generate {\n",
              "        background-color: #3B4455;\n",
              "        fill: #D2E3FC;\n",
              "      }\n",
              "\n",
              "      [theme=dark] .colab-df-generate:hover {\n",
              "        background-color: #434B5C;\n",
              "        box-shadow: 0px 1px 3px 1px rgba(0, 0, 0, 0.15);\n",
              "        filter: drop-shadow(0px 1px 2px rgba(0, 0, 0, 0.3));\n",
              "        fill: #FFFFFF;\n",
              "      }\n",
              "    </style>\n",
              "    <button class=\"colab-df-generate\" onclick=\"generateWithVariable('clientes_sem_emprestimos_ativos')\"\n",
              "            title=\"Generate code using this dataframe.\"\n",
              "            style=\"display:none;\">\n",
              "\n",
              "  <svg xmlns=\"http://www.w3.org/2000/svg\" height=\"24px\"viewBox=\"0 0 24 24\"\n",
              "       width=\"24px\">\n",
              "    <path d=\"M7,19H8.4L18.45,9,17,7.55,7,17.6ZM5,21V16.75L18.45,3.32a2,2,0,0,1,2.83,0l1.4,1.43a1.91,1.91,0,0,1,.58,1.4,1.91,1.91,0,0,1-.58,1.4L9.25,21ZM18.45,9,17,7.55Zm-12,3A5.31,5.31,0,0,0,4.9,8.1,5.31,5.31,0,0,0,1,6.5,5.31,5.31,0,0,0,4.9,4.9,5.31,5.31,0,0,0,6.5,1,5.31,5.31,0,0,0,8.1,4.9,5.31,5.31,0,0,0,12,6.5,5.46,5.46,0,0,0,6.5,12Z\"/>\n",
              "  </svg>\n",
              "    </button>\n",
              "    <script>\n",
              "      (() => {\n",
              "      const buttonEl =\n",
              "        document.querySelector('#id_b9bad7dd-f4f6-48a7-ad30-aa2a4aa21def button.colab-df-generate');\n",
              "      buttonEl.style.display =\n",
              "        google.colab.kernel.accessAllowed ? 'block' : 'none';\n",
              "\n",
              "      buttonEl.onclick = () => {\n",
              "        google.colab.notebook.generateWithVariable('clientes_sem_emprestimos_ativos');\n",
              "      }\n",
              "      })();\n",
              "    </script>\n",
              "  </div>\n",
              "\n",
              "    </div>\n",
              "  </div>\n"
            ],
            "application/vnd.google.colaboratory.intrinsic+json": {
              "type": "dataframe",
              "variable_name": "clientes_sem_emprestimos_ativos",
              "summary": "{\n  \"name\": \"clientes_sem_emprestimos_ativos\",\n  \"rows\": 363,\n  \"fields\": [\n    {\n      \"column\": \"id_usuario\",\n      \"properties\": {\n        \"dtype\": \"number\",\n        \"std\": 10280,\n        \"min\": 56,\n        \"max\": 36000,\n        \"num_unique_values\": 363,\n        \"samples\": [\n          16003,\n          3368,\n          1193\n        ],\n        \"semantic_type\": \"\",\n        \"description\": \"\"\n      }\n    },\n    {\n      \"column\": \"indicador_inadimplencia\",\n      \"properties\": {\n        \"dtype\": \"number\",\n        \"std\": 0,\n        \"min\": 0,\n        \"max\": 1,\n        \"num_unique_values\": 2,\n        \"samples\": [\n          1,\n          0\n        ],\n        \"semantic_type\": \"\",\n        \"description\": \"\"\n      }\n    },\n    {\n      \"column\": \"quanto_esta_usando_em_rela\\u00e7\\u00e3o_ao_limite_de_cr\\u00e9dito\",\n      \"properties\": {\n        \"dtype\": \"number\",\n        \"std\": 0.043686280362655684,\n        \"min\": 0.9999999,\n        \"max\": 1.832335329,\n        \"num_unique_values\": 2,\n        \"samples\": [\n          1.832335329,\n          0.9999999\n        ],\n        \"semantic_type\": \"\",\n        \"description\": \"\"\n      }\n    },\n    {\n      \"column\": \"relacao_dividas_ativos\",\n      \"properties\": {\n        \"dtype\": \"number\",\n        \"std\": 98.44949631916904,\n        \"min\": 0.0,\n        \"max\": 1205.0,\n        \"num_unique_values\": 157,\n        \"samples\": [\n          0.033029118,\n          8.0\n        ],\n        \"semantic_type\": \"\",\n        \"description\": \"\"\n      }\n    },\n    {\n      \"column\": \"mais_90_dias_atraso\",\n      \"properties\": {\n        \"dtype\": \"number\",\n        \"std\": 0,\n        \"min\": 0,\n        \"max\": 7,\n        \"num_unique_values\": 7,\n        \"samples\": [\n          0,\n          2\n        ],\n        \"semantic_type\": \"\",\n        \"description\": \"\"\n      }\n    },\n    {\n      \"column\": \"idade\",\n      \"properties\": {\n        \"dtype\": \"number\",\n        \"std\": 16,\n        \"min\": 21,\n        \"max\": 91,\n        \"num_unique_values\": 65,\n        \"samples\": [\n          76,\n          59\n        ],\n        \"semantic_type\": \"\",\n        \"description\": \"\"\n      }\n    },\n    {\n      \"column\": \"sexo\",\n      \"properties\": {\n        \"dtype\": \"category\",\n        \"num_unique_values\": 2,\n        \"samples\": [\n          \"M\",\n          \"F\"\n        ],\n        \"semantic_type\": \"\",\n        \"description\": \"\"\n      }\n    },\n    {\n      \"column\": \"salario_ultimo_mes\",\n      \"properties\": {\n        \"dtype\": \"number\",\n        \"std\": 3017.062865500736,\n        \"min\": 0.0,\n        \"max\": 44514.0,\n        \"num_unique_values\": 168,\n        \"samples\": [\n          6123.0,\n          5420.0\n        ],\n        \"semantic_type\": \"\",\n        \"description\": \"\"\n      }\n    },\n    {\n      \"column\": \"numero_dependentes\",\n      \"properties\": {\n        \"dtype\": \"number\",\n        \"std\": 0.9558380985465059,\n        \"min\": 0.0,\n        \"max\": 6.0,\n        \"num_unique_values\": 6,\n        \"samples\": [\n          0.0,\n          2.0\n        ],\n        \"semantic_type\": \"\",\n        \"description\": \"\"\n      }\n    },\n    {\n      \"column\": \"total_imovel\",\n      \"properties\": {\n        \"dtype\": \"number\",\n        \"std\": 0,\n        \"min\": 0,\n        \"max\": 0,\n        \"num_unique_values\": 1,\n        \"samples\": [\n          0\n        ],\n        \"semantic_type\": \"\",\n        \"description\": \"\"\n      }\n    },\n    {\n      \"column\": \"total_outros\",\n      \"properties\": {\n        \"dtype\": \"number\",\n        \"std\": 0,\n        \"min\": 0,\n        \"max\": 0,\n        \"num_unique_values\": 1,\n        \"samples\": [\n          0\n        ],\n        \"semantic_type\": \"\",\n        \"description\": \"\"\n      }\n    },\n    {\n      \"column\": \"total_emprestimos\",\n      \"properties\": {\n        \"dtype\": \"number\",\n        \"std\": 0,\n        \"min\": 0,\n        \"max\": 0,\n        \"num_unique_values\": 1,\n        \"samples\": [\n          0\n        ],\n        \"semantic_type\": \"\",\n        \"description\": \"\"\n      }\n    },\n    {\n      \"column\": \"dummy_atraso\",\n      \"properties\": {\n        \"dtype\": \"number\",\n        \"std\": 0,\n        \"min\": 0,\n        \"max\": 1,\n        \"num_unique_values\": 2,\n        \"samples\": [\n          1\n        ],\n        \"semantic_type\": \"\",\n        \"description\": \"\"\n      }\n    },\n    {\n      \"column\": \"dummy_dependentes\",\n      \"properties\": {\n        \"dtype\": \"number\",\n        \"std\": 0,\n        \"min\": 0,\n        \"max\": 1,\n        \"num_unique_values\": 2,\n        \"samples\": [\n          1\n        ],\n        \"semantic_type\": \"\",\n        \"description\": \"\"\n      }\n    }\n  ]\n}"
            }
          },
          "metadata": {},
          "execution_count": 33
        }
      ]
    },
    {
      "cell_type": "code",
      "source": [
        "df[(df['total_emprestimos']==0)&(df['indicador_inadimplencia']==1)].count()"
      ],
      "metadata": {
        "colab": {
          "base_uri": "https://localhost:8080/"
        },
        "id": "c4xokHqk3Gpf",
        "outputId": "ae82d8de-7445-4b9a-dba1-98e86a8c0752"
      },
      "execution_count": 34,
      "outputs": [
        {
          "output_type": "execute_result",
          "data": {
            "text/plain": [
              "id_usuario                                            11\n",
              "indicador_inadimplencia                               11\n",
              "quanto_esta_usando_em_relação_ao_limite_de_crédito    11\n",
              "relacao_dividas_ativos                                11\n",
              "mais_90_dias_atraso                                   11\n",
              "idade                                                 11\n",
              "sexo                                                  11\n",
              "salario_ultimo_mes                                    11\n",
              "numero_dependentes                                    11\n",
              "total_imovel                                          11\n",
              "total_outros                                          11\n",
              "total_emprestimos                                     11\n",
              "dummy_atraso                                          11\n",
              "dummy_dependentes                                     11\n",
              "dtype: int64"
            ]
          },
          "metadata": {},
          "execution_count": 34
        }
      ]
    },
    {
      "cell_type": "markdown",
      "source": [
        "# Função para formatar os números com 2 casas decimais após a vírgula"
      ],
      "metadata": {
        "id": "kJuN0CztZi99"
      }
    },
    {
      "cell_type": "code",
      "source": [
        "#Função para formatar os números em um formato mais legível\n",
        "pd.options.display.float_format = '{:.2f}'.format"
      ],
      "metadata": {
        "id": "sK4qfLYqrDxe"
      },
      "execution_count": 35,
      "outputs": []
    },
    {
      "cell_type": "markdown",
      "source": [
        "# **ANÁLISE UTILIZAÇÃO LIMITE CRÉDITO**\n",
        "Quanto o cliente está utilizando em relação ao seu limite de crédito, em linhas que não são garantidas por bens pessoais, como imóveis e automóveis\n",
        "*   Metade dos clientes estão usando em torno de 0 A 15% do seu limite de crédito\n",
        "*   25% usam de 16 a 55% do limite disponível\n",
        "*   25% usam mais de 55% do limite de crédito\n",
        "*   Foram identificados 173 clientes, cujo uso do limite de crédito são considerados extremos, usando mais de 1,32 vezes o valor disponível para crédito\n",
        "\n",
        "\n",
        "\n",
        "\n",
        "\n",
        "\n"
      ],
      "metadata": {
        "id": "7RxD-QrJp7CY"
      }
    },
    {
      "cell_type": "code",
      "source": [
        "df['quanto_esta_usando_em_relação_ao_limite_de_crédito'].describe()"
      ],
      "metadata": {
        "colab": {
          "base_uri": "https://localhost:8080/"
        },
        "id": "ls7nCPI9quf-",
        "outputId": "e1e89629-3327-4bc7-a4f4-028c903ca895"
      },
      "execution_count": 36,
      "outputs": [
        {
          "output_type": "execute_result",
          "data": {
            "text/plain": [
              "count   35932.00\n",
              "mean        3.96\n",
              "std       132.57\n",
              "min         0.00\n",
              "25%         0.03\n",
              "50%         0.15\n",
              "75%         0.55\n",
              "max      8710.00\n",
              "Name: quanto_esta_usando_em_relação_ao_limite_de_crédito, dtype: float64"
            ]
          },
          "metadata": {},
          "execution_count": 36
        }
      ]
    },
    {
      "cell_type": "code",
      "source": [
        "plt.figure(figsize=(10, 6))\n",
        "plt.boxplot(df['quanto_esta_usando_em_relação_ao_limite_de_crédito'], vert=True)"
      ],
      "metadata": {
        "colab": {
          "base_uri": "https://localhost:8080/",
          "height": 667
        },
        "id": "nYJf0jJsDF8B",
        "outputId": "59500924-c90f-459f-8081-990e38e19ccf"
      },
      "execution_count": 37,
      "outputs": [
        {
          "output_type": "execute_result",
          "data": {
            "text/plain": [
              "{'whiskers': [<matplotlib.lines.Line2D at 0x7a3d049eb850>,\n",
              "  <matplotlib.lines.Line2D at 0x7a3d049ebaf0>],\n",
              " 'caps': [<matplotlib.lines.Line2D at 0x7a3d049ebd90>,\n",
              "  <matplotlib.lines.Line2D at 0x7a3d049b0070>],\n",
              " 'boxes': [<matplotlib.lines.Line2D at 0x7a3d049eb6d0>],\n",
              " 'medians': [<matplotlib.lines.Line2D at 0x7a3d049b0310>],\n",
              " 'fliers': [<matplotlib.lines.Line2D at 0x7a3d049b05b0>],\n",
              " 'means': []}"
            ]
          },
          "metadata": {},
          "execution_count": 37
        },
        {
          "output_type": "display_data",
          "data": {
            "text/plain": [
              "<Figure size 1000x600 with 1 Axes>"
            ],
            "image/png": "[encoded data removed]"
          },
          "metadata": {}
        }
      ]
    },
    {
      "cell_type": "code",
      "source": [
        "df['quanto_esta_usando_em_relação_ao_limite_de_crédito'].hist()"
      ],
      "metadata": {
        "colab": {
          "base_uri": "https://localhost:8080/",
          "height": 448
        },
        "id": "EjSzVOaRQKbk",
        "outputId": "8a04d4e1-1e96-43c8-eda4-aded370c1774"
      },
      "execution_count": 38,
      "outputs": [
        {
          "output_type": "execute_result",
          "data": {
            "text/plain": [
              "<Axes: >"
            ]
          },
          "metadata": {},
          "execution_count": 38
        },
        {
          "output_type": "display_data",
          "data": {
            "text/plain": [
              "<Figure size 640x480 with 1 Axes>"
            ],
            "image/png": "[encoded data removed]"
          },
          "metadata": {}
        }
      ]
    },
    {
      "cell_type": "code",
      "source": [
        "# OUTLIERS\n",
        "# Calcular Q1 (25º percentil) e Q3 (75º percentil)\n",
        "Q1 = df['quanto_esta_usando_em_relação_ao_limite_de_crédito'].quantile(0.25)\n",
        "Q3 = df['quanto_esta_usando_em_relação_ao_limite_de_crédito'].quantile(0.75)\n",
        "\n",
        "# Calcular IQR\n",
        "IQR = Q3 - Q1\n",
        "\n",
        "# Definir limites para outliers\n",
        "lower_bound = Q1 - 1.5 * IQR\n",
        "upper_bound = Q3 + 1.5 * IQR\n",
        "\n",
        "# Identificar outliers\n",
        "outliers_quanto_esta_usando_em_relação_ao_limite_de_crédito = df[(df['quanto_esta_usando_em_relação_ao_limite_de_crédito'] < lower_bound) | (df['quanto_esta_usando_em_relação_ao_limite_de_crédito'] > upper_bound)]\n",
        "outliers_quanto_esta_usando_em_relação_ao_limite_de_crédito\n",
        "\n",
        "print(lower_bound)\n",
        "print(Q1)\n",
        "print(Q3)\n",
        "print(upper_bound)"
      ],
      "metadata": {
        "colab": {
          "base_uri": "https://localhost:8080/"
        },
        "id": "B3K94NSSqnkN",
        "outputId": "8f46bafc-d6eb-4d24-c994-8006c2a3e1eb"
      },
      "execution_count": 39,
      "outputs": [
        {
          "output_type": "stream",
          "name": "stdout",
          "text": [
            "-0.7459384256249999\n",
            "0.02944540875\n",
            "0.546367965\n",
            "1.3217517993749999\n"
          ]
        }
      ]
    },
    {
      "cell_type": "code",
      "source": [
        "outliers_quanto_esta_usando_em_relação_ao_limite_de_crédito.count()"
      ],
      "metadata": {
        "colab": {
          "base_uri": "https://localhost:8080/"
        },
        "id": "r4cg6_mJC1RR",
        "outputId": "8c7f0a2d-86c4-4556-8dea-57a827c681ba"
      },
      "execution_count": 40,
      "outputs": [
        {
          "output_type": "execute_result",
          "data": {
            "text/plain": [
              "id_usuario                                            173\n",
              "indicador_inadimplencia                               173\n",
              "quanto_esta_usando_em_relação_ao_limite_de_crédito    173\n",
              "relacao_dividas_ativos                                173\n",
              "mais_90_dias_atraso                                   173\n",
              "idade                                                 173\n",
              "sexo                                                  173\n",
              "salario_ultimo_mes                                    173\n",
              "numero_dependentes                                    173\n",
              "total_imovel                                          173\n",
              "total_outros                                          173\n",
              "total_emprestimos                                     173\n",
              "dummy_atraso                                          173\n",
              "dummy_dependentes                                     173\n",
              "dtype: int64"
            ]
          },
          "metadata": {},
          "execution_count": 40
        }
      ]
    },
    {
      "cell_type": "code",
      "source": [
        "#DISTRIBUIÇÃO DOS OUTLIERS\n",
        "outliers_quanto_esta_usando_em_relação_ao_limite_de_crédito['quanto_esta_usando_em_relação_ao_limite_de_crédito'].hist(figsize=(10, 5))"
      ],
      "metadata": {
        "colab": {
          "base_uri": "https://localhost:8080/",
          "height": 463
        },
        "id": "StwLCixWx1g5",
        "outputId": "fac37527-bbea-4d1e-f2b9-55f1697c7099"
      },
      "execution_count": 41,
      "outputs": [
        {
          "output_type": "execute_result",
          "data": {
            "text/plain": [
              "<Axes: >"
            ]
          },
          "metadata": {},
          "execution_count": 41
        },
        {
          "output_type": "display_data",
          "data": {
            "text/plain": [
              "<Figure size 1000x500 with 1 Axes>"
            ],
            "image/png": "[encoded data removed]"
          },
          "metadata": {}
        }
      ]
    },
    {
      "cell_type": "markdown",
      "source": [
        "# **Criação faixas uso limite crédito**\n",
        "*   Baixo Uso: 0 - 0.15 (valores até a mediana)\n",
        "*   Uso Moderado: 0.16 - 0.55 (valores entre a mediana e o terceiro quartil)\n",
        "*   Uso Alto: 0.56 - 1.32 (valores entre o terceiro quartil e o limite superior no boxplot, um valor significativo que representa 132% do limite de crédito)\n",
        "*   Uso Extremo : 1.32+ (valores acima de 1.32, cobrindo os outliers extremos)\n",
        "\n",
        "\n",
        "\n",
        "\n",
        "\n",
        "\n",
        "\n",
        "\n",
        "\n"
      ],
      "metadata": {
        "id": "xddl7YUnUTeJ"
      }
    },
    {
      "cell_type": "code",
      "source": [
        "total_linhas_antes = df.shape[0]\n",
        "print(f'Total de linhas antes da categorização: {total_linhas_antes}')"
      ],
      "metadata": {
        "colab": {
          "base_uri": "https://localhost:8080/"
        },
        "id": "kjRVA3dJEa-f",
        "outputId": "8fe4359d-0feb-47b4-c91f-e3bfbde92036"
      },
      "execution_count": 42,
      "outputs": [
        {
          "output_type": "stream",
          "name": "stdout",
          "text": [
            "Total de linhas antes da categorização: 35932\n"
          ]
        }
      ]
    },
    {
      "cell_type": "code",
      "source": [
        "# Divisão em faixas\n",
        "bins = [0.0, 0.15, 0.55, 1.32,  float('inf')]\n",
        "rotulos = ['Baixo Uso - 0 a 15%', 'Uso Moderado - 16% a 55%', 'Uso Alto - 56% a 132%', 'Uso Extremo - mais de 132% ']\n",
        "df['faixa_uso_credito'] = pd.cut(df['quanto_esta_usando_em_relação_ao_limite_de_crédito'], bins=bins, labels=rotulos, include_lowest=True)\n",
        "\n",
        "# Verificar distribuição dos dados\n",
        "distribuicao_faixas = df['faixa_uso_credito'].value_counts()\n",
        "\n",
        "# Visualizar\n",
        "distribuicao_faixas"
      ],
      "metadata": {
        "colab": {
          "base_uri": "https://localhost:8080/"
        },
        "id": "CuDqPu3LUjbL",
        "outputId": "767a7c76-7cbb-4285-e003-c8da243663ac"
      },
      "execution_count": 43,
      "outputs": [
        {
          "output_type": "execute_result",
          "data": {
            "text/plain": [
              "faixa_uso_credito\n",
              "Baixo Uso - 0 a 15%            18018\n",
              "Uso Moderado - 16% a 55%        9005\n",
              "Uso Alto - 56% a 132%           8736\n",
              "Uso Extremo - mais de 132%       173\n",
              "Name: count, dtype: int64"
            ]
          },
          "metadata": {},
          "execution_count": 43
        }
      ]
    },
    {
      "cell_type": "code",
      "source": [
        "# Verificar total de linhas após a categorização\n",
        "total_linhas_depois = df['faixa_uso_credito'].notnull().sum()\n",
        "print(f'Total de linhas após a categorização: {total_linhas_depois}')"
      ],
      "metadata": {
        "colab": {
          "base_uri": "https://localhost:8080/"
        },
        "id": "HORWI8WfHppX",
        "outputId": "d6aa5de6-b888-4c39-8826-c8ae2a23642d"
      },
      "execution_count": 44,
      "outputs": [
        {
          "output_type": "stream",
          "name": "stdout",
          "text": [
            "Total de linhas após a categorização: 35932\n"
          ]
        }
      ]
    },
    {
      "cell_type": "markdown",
      "source": [
        "# **ANÁLISE NÍVEL ENDIVIDAMENTO (RELAÇÃO DÍVIDAS X ATIVOS)**\n",
        "\n",
        "*  Dos 35.932 clientes, 935 (2,6%) não têm nenhuma dívida\n",
        "*  50% têm até 37% do patrimônio comprometido\n",
        "*  25% têm mais de 87% do patrimônio comprometido\n",
        "*  7.566 clientes (cerca de 21% da amostra) devem valores equivalentes a mais de 1,92 o valor do seu patrimônio\n",
        "\n",
        "\n",
        "\n"
      ],
      "metadata": {
        "id": "mCdp9x_byTrX"
      }
    },
    {
      "cell_type": "code",
      "source": [
        "df.count()"
      ],
      "metadata": {
        "colab": {
          "base_uri": "https://localhost:8080/"
        },
        "id": "8vaqQCim8Jpm",
        "outputId": "52f5c67d-45c9-4a42-8e67-26ad1190ca36"
      },
      "execution_count": 45,
      "outputs": [
        {
          "output_type": "execute_result",
          "data": {
            "text/plain": [
              "id_usuario                                            35932\n",
              "indicador_inadimplencia                               35932\n",
              "quanto_esta_usando_em_relação_ao_limite_de_crédito    35932\n",
              "relacao_dividas_ativos                                35932\n",
              "mais_90_dias_atraso                                   35932\n",
              "idade                                                 35932\n",
              "sexo                                                  35932\n",
              "salario_ultimo_mes                                    35932\n",
              "numero_dependentes                                    35932\n",
              "total_imovel                                          35932\n",
              "total_outros                                          35932\n",
              "total_emprestimos                                     35932\n",
              "dummy_atraso                                          35932\n",
              "dummy_dependentes                                     35932\n",
              "faixa_uso_credito                                     35932\n",
              "dtype: int64"
            ]
          },
          "metadata": {},
          "execution_count": 45
        }
      ]
    },
    {
      "cell_type": "code",
      "source": [
        "df['relacao_dividas_ativos'].describe()"
      ],
      "metadata": {
        "colab": {
          "base_uri": "https://localhost:8080/"
        },
        "id": "pFixPLw0zmTh",
        "outputId": "6ad34af3-4cc5-4575-becf-2b92af703635"
      },
      "execution_count": 46,
      "outputs": [
        {
          "output_type": "execute_result",
          "data": {
            "text/plain": [
              "count   35932.00\n",
              "mean      343.55\n",
              "std      1198.50\n",
              "min         0.00\n",
              "25%         0.18\n",
              "50%         0.37\n",
              "75%         0.87\n",
              "max     60212.00\n",
              "Name: relacao_dividas_ativos, dtype: float64"
            ]
          },
          "metadata": {},
          "execution_count": 46
        }
      ]
    },
    {
      "cell_type": "code",
      "source": [
        "#Clientes sem dívidas\n",
        "df[df['relacao_dividas_ativos']==0.00]"
      ],
      "metadata": {
        "colab": {
          "base_uri": "https://localhost:8080/",
          "height": 0
        },
        "id": "FimU9xQd0Cz3",
        "outputId": "3e9e7bca-3e77-4a02-90d4-46c1d175d33f"
      },
      "execution_count": 47,
      "outputs": [
        {
          "output_type": "execute_result",
          "data": {
            "text/plain": [
              "       id_usuario  indicador_inadimplencia  \\\n",
              "776            56                        0   \n",
              "777            59                        0   \n",
              "778           169                        0   \n",
              "779           208                        0   \n",
              "780           252                        0   \n",
              "...           ...                      ...   \n",
              "29737       27583                        0   \n",
              "30064       34516                        0   \n",
              "30085       34994                        0   \n",
              "31893       14075                        0   \n",
              "35475       31477                        0   \n",
              "\n",
              "       quanto_esta_usando_em_relação_ao_limite_de_crédito  \\\n",
              "776                                                 1.00    \n",
              "777                                                 1.00    \n",
              "778                                                 1.00    \n",
              "779                                                 1.00    \n",
              "780                                                 1.00    \n",
              "...                                                  ...    \n",
              "29737                                               0.00    \n",
              "30064                                               0.00    \n",
              "30085                                               0.00    \n",
              "31893                                               0.00    \n",
              "35475                                               0.00    \n",
              "\n",
              "       relacao_dividas_ativos  mais_90_dias_atraso  idade sexo  \\\n",
              "776                      0.00                    0     41    F   \n",
              "777                      0.00                    0     57    F   \n",
              "778                      0.00                    0     79    M   \n",
              "779                      0.00                    0     47    M   \n",
              "780                      0.00                    0     23    M   \n",
              "...                       ...                  ...    ...  ...   \n",
              "29737                    0.00                    0     57    M   \n",
              "30064                    0.00                    0     37    F   \n",
              "30085                    0.00                    0     71    M   \n",
              "31893                    0.00                    0     47    M   \n",
              "35475                    0.00                    0     57    M   \n",
              "\n",
              "       salario_ultimo_mes  numero_dependentes  total_imovel  total_outros  \\\n",
              "776               5408.00                0.00             0             0   \n",
              "777               5408.00                0.00             0             0   \n",
              "778               5408.00                0.00             0             0   \n",
              "779               5408.00                0.00             0             0   \n",
              "780                800.00                0.00             0             0   \n",
              "...                   ...                 ...           ...           ...   \n",
              "29737             4832.00                0.00             0            12   \n",
              "30064             4122.00                3.00             0            12   \n",
              "30085             5000.00                0.00             0            12   \n",
              "31893             5000.00                0.00             0            14   \n",
              "35475             3750.00                0.00             0            19   \n",
              "\n",
              "       total_emprestimos  dummy_atraso  dummy_dependentes  \\\n",
              "776                    0             0                  0   \n",
              "777                    0             0                  0   \n",
              "778                    0             0                  0   \n",
              "779                    0             0                  0   \n",
              "780                    0             0                  0   \n",
              "...                  ...           ...                ...   \n",
              "29737                 12             0                  0   \n",
              "30064                 12             0                  1   \n",
              "30085                 12             0                  0   \n",
              "31893                 14             0                  0   \n",
              "35475                 19             0                  0   \n",
              "\n",
              "           faixa_uso_credito  \n",
              "776    Uso Alto - 56% a 132%  \n",
              "777    Uso Alto - 56% a 132%  \n",
              "778    Uso Alto - 56% a 132%  \n",
              "779    Uso Alto - 56% a 132%  \n",
              "780    Uso Alto - 56% a 132%  \n",
              "...                      ...  \n",
              "29737    Baixo Uso - 0 a 15%  \n",
              "30064    Baixo Uso - 0 a 15%  \n",
              "30085    Baixo Uso - 0 a 15%  \n",
              "31893    Baixo Uso - 0 a 15%  \n",
              "35475    Baixo Uso - 0 a 15%  \n",
              "\n",
              "[935 rows x 15 columns]"
            ],
            "text/html": [
              "\n",
              "  <div id=\"df-21a6d01a-ca2d-44dc-8ed5-dbba273a703a\" class=\"colab-df-container\">\n",
              "    <div>\n",
              "<style scoped>\n",
              "    .dataframe tbody tr th:only-of-type {\n",
              "        vertical-align: middle;\n",
              "    }\n",
              "\n",
              "    .dataframe tbody tr th {\n",
              "        vertical-align: top;\n",
              "    }\n",
              "\n",
              "    .dataframe thead th {\n",
              "        text-align: right;\n",
              "    }\n",
              "</style>\n",
              "<table border=\"1\" class=\"dataframe\">\n",
              "  <thead>\n",
              "    <tr style=\"text-align: right;\">\n",
              "      <th></th>\n",
              "      <th>id_usuario</th>\n",
              "      <th>indicador_inadimplencia</th>\n",
              "      <th>quanto_esta_usando_em_relação_ao_limite_de_crédito</th>\n",
              "      <th>relacao_dividas_ativos</th>\n",
              "      <th>mais_90_dias_atraso</th>\n",
              "      <th>idade</th>\n",
              "      <th>sexo</th>\n",
              "      <th>salario_ultimo_mes</th>\n",
              "      <th>numero_dependentes</th>\n",
              "      <th>total_imovel</th>\n",
              "      <th>total_outros</th>\n",
              "      <th>total_emprestimos</th>\n",
              "      <th>dummy_atraso</th>\n",
              "      <th>dummy_dependentes</th>\n",
              "      <th>faixa_uso_credito</th>\n",
              "    </tr>\n",
              "  </thead>\n",
              "  <tbody>\n",
              "    <tr>\n",
              "      <th>776</th>\n",
              "      <td>56</td>\n",
              "      <td>0</td>\n",
              "      <td>1.00</td>\n",
              "      <td>0.00</td>\n",
              "      <td>0</td>\n",
              "      <td>41</td>\n",
              "      <td>F</td>\n",
              "      <td>5408.00</td>\n",
              "      <td>0.00</td>\n",
              "      <td>0</td>\n",
              "      <td>0</td>\n",
              "      <td>0</td>\n",
              "      <td>0</td>\n",
              "      <td>0</td>\n",
              "      <td>Uso Alto - 56% a 132%</td>\n",
              "    </tr>\n",
              "    <tr>\n",
              "      <th>777</th>\n",
              "      <td>59</td>\n",
              "      <td>0</td>\n",
              "      <td>1.00</td>\n",
              "      <td>0.00</td>\n",
              "      <td>0</td>\n",
              "      <td>57</td>\n",
              "      <td>F</td>\n",
              "      <td>5408.00</td>\n",
              "      <td>0.00</td>\n",
              "      <td>0</td>\n",
              "      <td>0</td>\n",
              "      <td>0</td>\n",
              "      <td>0</td>\n",
              "      <td>0</td>\n",
              "      <td>Uso Alto - 56% a 132%</td>\n",
              "    </tr>\n",
              "    <tr>\n",
              "      <th>778</th>\n",
              "      <td>169</td>\n",
              "      <td>0</td>\n",
              "      <td>1.00</td>\n",
              "      <td>0.00</td>\n",
              "      <td>0</td>\n",
              "      <td>79</td>\n",
              "      <td>M</td>\n",
              "      <td>5408.00</td>\n",
              "      <td>0.00</td>\n",
              "      <td>0</td>\n",
              "      <td>0</td>\n",
              "      <td>0</td>\n",
              "      <td>0</td>\n",
              "      <td>0</td>\n",
              "      <td>Uso Alto - 56% a 132%</td>\n",
              "    </tr>\n",
              "    <tr>\n",
              "      <th>779</th>\n",
              "      <td>208</td>\n",
              "      <td>0</td>\n",
              "      <td>1.00</td>\n",
              "      <td>0.00</td>\n",
              "      <td>0</td>\n",
              "      <td>47</td>\n",
              "      <td>M</td>\n",
              "      <td>5408.00</td>\n",
              "      <td>0.00</td>\n",
              "      <td>0</td>\n",
              "      <td>0</td>\n",
              "      <td>0</td>\n",
              "      <td>0</td>\n",
              "      <td>0</td>\n",
              "      <td>Uso Alto - 56% a 132%</td>\n",
              "    </tr>\n",
              "    <tr>\n",
              "      <th>780</th>\n",
              "      <td>252</td>\n",
              "      <td>0</td>\n",
              "      <td>1.00</td>\n",
              "      <td>0.00</td>\n",
              "      <td>0</td>\n",
              "      <td>23</td>\n",
              "      <td>M</td>\n",
              "      <td>800.00</td>\n",
              "      <td>0.00</td>\n",
              "      <td>0</td>\n",
              "      <td>0</td>\n",
              "      <td>0</td>\n",
              "      <td>0</td>\n",
              "      <td>0</td>\n",
              "      <td>Uso Alto - 56% a 132%</td>\n",
              "    </tr>\n",
              "    <tr>\n",
              "      <th>...</th>\n",
              "      <td>...</td>\n",
              "      <td>...</td>\n",
              "      <td>...</td>\n",
              "      <td>...</td>\n",
              "      <td>...</td>\n",
              "      <td>...</td>\n",
              "      <td>...</td>\n",
              "      <td>...</td>\n",
              "      <td>...</td>\n",
              "      <td>...</td>\n",
              "      <td>...</td>\n",
              "      <td>...</td>\n",
              "      <td>...</td>\n",
              "      <td>...</td>\n",
              "      <td>...</td>\n",
              "    </tr>\n",
              "    <tr>\n",
              "      <th>29737</th>\n",
              "      <td>27583</td>\n",
              "      <td>0</td>\n",
              "      <td>0.00</td>\n",
              "      <td>0.00</td>\n",
              "      <td>0</td>\n",
              "      <td>57</td>\n",
              "      <td>M</td>\n",
              "      <td>4832.00</td>\n",
              "      <td>0.00</td>\n",
              "      <td>0</td>\n",
              "      <td>12</td>\n",
              "      <td>12</td>\n",
              "      <td>0</td>\n",
              "      <td>0</td>\n",
              "      <td>Baixo Uso - 0 a 15%</td>\n",
              "    </tr>\n",
              "    <tr>\n",
              "      <th>30064</th>\n",
              "      <td>34516</td>\n",
              "      <td>0</td>\n",
              "      <td>0.00</td>\n",
              "      <td>0.00</td>\n",
              "      <td>0</td>\n",
              "      <td>37</td>\n",
              "      <td>F</td>\n",
              "      <td>4122.00</td>\n",
              "      <td>3.00</td>\n",
              "      <td>0</td>\n",
              "      <td>12</td>\n",
              "      <td>12</td>\n",
              "      <td>0</td>\n",
              "      <td>1</td>\n",
              "      <td>Baixo Uso - 0 a 15%</td>\n",
              "    </tr>\n",
              "    <tr>\n",
              "      <th>30085</th>\n",
              "      <td>34994</td>\n",
              "      <td>0</td>\n",
              "      <td>0.00</td>\n",
              "      <td>0.00</td>\n",
              "      <td>0</td>\n",
              "      <td>71</td>\n",
              "      <td>M</td>\n",
              "      <td>5000.00</td>\n",
              "      <td>0.00</td>\n",
              "      <td>0</td>\n",
              "      <td>12</td>\n",
              "      <td>12</td>\n",
              "      <td>0</td>\n",
              "      <td>0</td>\n",
              "      <td>Baixo Uso - 0 a 15%</td>\n",
              "    </tr>\n",
              "    <tr>\n",
              "      <th>31893</th>\n",
              "      <td>14075</td>\n",
              "      <td>0</td>\n",
              "      <td>0.00</td>\n",
              "      <td>0.00</td>\n",
              "      <td>0</td>\n",
              "      <td>47</td>\n",
              "      <td>M</td>\n",
              "      <td>5000.00</td>\n",
              "      <td>0.00</td>\n",
              "      <td>0</td>\n",
              "      <td>14</td>\n",
              "      <td>14</td>\n",
              "      <td>0</td>\n",
              "      <td>0</td>\n",
              "      <td>Baixo Uso - 0 a 15%</td>\n",
              "    </tr>\n",
              "    <tr>\n",
              "      <th>35475</th>\n",
              "      <td>31477</td>\n",
              "      <td>0</td>\n",
              "      <td>0.00</td>\n",
              "      <td>0.00</td>\n",
              "      <td>0</td>\n",
              "      <td>57</td>\n",
              "      <td>M</td>\n",
              "      <td>3750.00</td>\n",
              "      <td>0.00</td>\n",
              "      <td>0</td>\n",
              "      <td>19</td>\n",
              "      <td>19</td>\n",
              "      <td>0</td>\n",
              "      <td>0</td>\n",
              "      <td>Baixo Uso - 0 a 15%</td>\n",
              "    </tr>\n",
              "  </tbody>\n",
              "</table>\n",
              "<p>935 rows × 15 columns</p>\n",
              "</div>\n",
              "    <div class=\"colab-df-buttons\">\n",
              "\n",
              "  <div class=\"colab-df-container\">\n",
              "    <button class=\"colab-df-convert\" onclick=\"convertToInteractive('df-21a6d01a-ca2d-44dc-8ed5-dbba273a703a')\"\n",
              "            title=\"Convert this dataframe to an interactive table.\"\n",
              "            style=\"display:none;\">\n",
              "\n",
              "  <svg xmlns=\"http://www.w3.org/2000/svg\" height=\"24px\" viewBox=\"0 -960 960 960\">\n",
              "    <path d=\"M120-120v-720h720v720H120Zm60-500h600v-160H180v160Zm220 220h160v-160H400v160Zm0 220h160v-160H400v160ZM180-400h160v-160H180v160Zm440 0h160v-160H620v160ZM180-180h160v-160H180v160Zm440 0h160v-160H620v160Z\"/>\n",
              "  </svg>\n",
              "    </button>\n",
              "\n",
              "  <style>\n",
              "    .colab-df-container {\n",
              "      display:flex;\n",
              "      gap: 12px;\n",
              "    }\n",
              "\n",
              "    .colab-df-convert {\n",
              "      background-color: #E8F0FE;\n",
              "      border: none;\n",
              "      border-radius: 50%;\n",
              "      cursor: pointer;\n",
              "      display: none;\n",
              "      fill: #1967D2;\n",
              "      height: 32px;\n",
              "      padding: 0 0 0 0;\n",
              "      width: 32px;\n",
              "    }\n",
              "\n",
              "    .colab-df-convert:hover {\n",
              "      background-color: #E2EBFA;\n",
              "      box-shadow: 0px 1px 2px rgba(60, 64, 67, 0.3), 0px 1px 3px 1px rgba(60, 64, 67, 0.15);\n",
              "      fill: #174EA6;\n",
              "    }\n",
              "\n",
              "    .colab-df-buttons div {\n",
              "      margin-bottom: 4px;\n",
              "    }\n",
              "\n",
              "    [theme=dark] .colab-df-convert {\n",
              "      background-color: #3B4455;\n",
              "      fill: #D2E3FC;\n",
              "    }\n",
              "\n",
              "    [theme=dark] .colab-df-convert:hover {\n",
              "      background-color: #434B5C;\n",
              "      box-shadow: 0px 1px 3px 1px rgba(0, 0, 0, 0.15);\n",
              "      filter: drop-shadow(0px 1px 2px rgba(0, 0, 0, 0.3));\n",
              "      fill: #FFFFFF;\n",
              "    }\n",
              "  </style>\n",
              "\n",
              "    <script>\n",
              "      const buttonEl =\n",
              "        document.querySelector('#df-21a6d01a-ca2d-44dc-8ed5-dbba273a703a button.colab-df-convert');\n",
              "      buttonEl.style.display =\n",
              "        google.colab.kernel.accessAllowed ? 'block' : 'none';\n",
              "\n",
              "      async function convertToInteractive(key) {\n",
              "        const element = document.querySelector('#df-21a6d01a-ca2d-44dc-8ed5-dbba273a703a');\n",
              "        const dataTable =\n",
              "          await google.colab.kernel.invokeFunction('convertToInteractive',\n",
              "                                                    [key], {});\n",
              "        if (!dataTable) return;\n",
              "\n",
              "        const docLinkHtml = 'Like what you see? Visit the ' +\n",
              "          '<a target=\"_blank\" href=https://colab.research.google.com/notebooks/data_table.ipynb>data table notebook</a>'\n",
              "          + ' to learn more about interactive tables.';\n",
              "        element.innerHTML = '';\n",
              "        dataTable['output_type'] = 'display_data';\n",
              "        await google.colab.output.renderOutput(dataTable, element);\n",
              "        const docLink = document.createElement('div');\n",
              "        docLink.innerHTML = docLinkHtml;\n",
              "        element.appendChild(docLink);\n",
              "      }\n",
              "    </script>\n",
              "  </div>\n",
              "\n",
              "\n",
              "<div id=\"df-94c9783f-afe9-4655-b2af-2279a34c8572\">\n",
              "  <button class=\"colab-df-quickchart\" onclick=\"quickchart('df-94c9783f-afe9-4655-b2af-2279a34c8572')\"\n",
              "            title=\"Suggest charts\"\n",
              "            style=\"display:none;\">\n",
              "\n",
              "<svg xmlns=\"http://www.w3.org/2000/svg\" height=\"24px\"viewBox=\"0 0 24 24\"\n",
              "     width=\"24px\">\n",
              "    <g>\n",
              "        <path d=\"M19 3H5c-1.1 0-2 .9-2 2v14c0 1.1.9 2 2 2h14c1.1 0 2-.9 2-2V5c0-1.1-.9-2-2-2zM9 17H7v-7h2v7zm4 0h-2V7h2v10zm4 0h-2v-4h2v4z\"/>\n",
              "    </g>\n",
              "</svg>\n",
              "  </button>\n",
              "\n",
              "<style>\n",
              "  .colab-df-quickchart {\n",
              "      --bg-color: #E8F0FE;\n",
              "      --fill-color: #1967D2;\n",
              "      --hover-bg-color: #E2EBFA;\n",
              "      --hover-fill-color: #174EA6;\n",
              "      --disabled-fill-color: #AAA;\n",
              "      --disabled-bg-color: #DDD;\n",
              "  }\n",
              "\n",
              "  [theme=dark] .colab-df-quickchart {\n",
              "      --bg-color: #3B4455;\n",
              "      --fill-color: #D2E3FC;\n",
              "      --hover-bg-color: #434B5C;\n",
              "      --hover-fill-color: #FFFFFF;\n",
              "      --disabled-bg-color: #3B4455;\n",
              "      --disabled-fill-color: #666;\n",
              "  }\n",
              "\n",
              "  .colab-df-quickchart {\n",
              "    background-color: var(--bg-color);\n",
              "    border: none;\n",
              "    border-radius: 50%;\n",
              "    cursor: pointer;\n",
              "    display: none;\n",
              "    fill: var(--fill-color);\n",
              "    height: 32px;\n",
              "    padding: 0;\n",
              "    width: 32px;\n",
              "  }\n",
              "\n",
              "  .colab-df-quickchart:hover {\n",
              "    background-color: var(--hover-bg-color);\n",
              "    box-shadow: 0 1px 2px rgba(60, 64, 67, 0.3), 0 1px 3px 1px rgba(60, 64, 67, 0.15);\n",
              "    fill: var(--button-hover-fill-color);\n",
              "  }\n",
              "\n",
              "  .colab-df-quickchart-complete:disabled,\n",
              "  .colab-df-quickchart-complete:disabled:hover {\n",
              "    background-color: var(--disabled-bg-color);\n",
              "    fill: var(--disabled-fill-color);\n",
              "    box-shadow: none;\n",
              "  }\n",
              "\n",
              "  .colab-df-spinner {\n",
              "    border: 2px solid var(--fill-color);\n",
              "    border-color: transparent;\n",
              "    border-bottom-color: var(--fill-color);\n",
              "    animation:\n",
              "      spin 1s steps(1) infinite;\n",
              "  }\n",
              "\n",
              "  @keyframes spin {\n",
              "    0% {\n",
              "      border-color: transparent;\n",
              "      border-bottom-color: var(--fill-color);\n",
              "      border-left-color: var(--fill-color);\n",
              "    }\n",
              "    20% {\n",
              "      border-color: transparent;\n",
              "      border-left-color: var(--fill-color);\n",
              "      border-top-color: var(--fill-color);\n",
              "    }\n",
              "    30% {\n",
              "      border-color: transparent;\n",
              "      border-left-color: var(--fill-color);\n",
              "      border-top-color: var(--fill-color);\n",
              "      border-right-color: var(--fill-color);\n",
              "    }\n",
              "    40% {\n",
              "      border-color: transparent;\n",
              "      border-right-color: var(--fill-color);\n",
              "      border-top-color: var(--fill-color);\n",
              "    }\n",
              "    60% {\n",
              "      border-color: transparent;\n",
              "      border-right-color: var(--fill-color);\n",
              "    }\n",
              "    80% {\n",
              "      border-color: transparent;\n",
              "      border-right-color: var(--fill-color);\n",
              "      border-bottom-color: var(--fill-color);\n",
              "    }\n",
              "    90% {\n",
              "      border-color: transparent;\n",
              "      border-bottom-color: var(--fill-color);\n",
              "    }\n",
              "  }\n",
              "</style>\n",
              "\n",
              "  <script>\n",
              "    async function quickchart(key) {\n",
              "      const quickchartButtonEl =\n",
              "        document.querySelector('#' + key + ' button');\n",
              "      quickchartButtonEl.disabled = true;  // To prevent multiple clicks.\n",
              "      quickchartButtonEl.classList.add('colab-df-spinner');\n",
              "      try {\n",
              "        const charts = await google.colab.kernel.invokeFunction(\n",
              "            'suggestCharts', [key], {});\n",
              "      } catch (error) {\n",
              "        console.error('Error during call to suggestCharts:', error);\n",
              "      }\n",
              "      quickchartButtonEl.classList.remove('colab-df-spinner');\n",
              "      quickchartButtonEl.classList.add('colab-df-quickchart-complete');\n",
              "    }\n",
              "    (() => {\n",
              "      let quickchartButtonEl =\n",
              "        document.querySelector('#df-94c9783f-afe9-4655-b2af-2279a34c8572 button');\n",
              "      quickchartButtonEl.style.display =\n",
              "        google.colab.kernel.accessAllowed ? 'block' : 'none';\n",
              "    })();\n",
              "  </script>\n",
              "</div>\n",
              "\n",
              "    </div>\n",
              "  </div>\n"
            ],
            "application/vnd.google.colaboratory.intrinsic+json": {
              "type": "dataframe",
              "summary": "{\n  \"name\": \"df[df['relacao_dividas_ativos']==0\",\n  \"rows\": 935,\n  \"fields\": [\n    {\n      \"column\": \"id_usuario\",\n      \"properties\": {\n        \"dtype\": \"number\",\n        \"std\": 10470,\n        \"min\": 13,\n        \"max\": 35963,\n        \"num_unique_values\": 935,\n        \"samples\": [\n          19283,\n          11573,\n          2262\n        ],\n        \"semantic_type\": \"\",\n        \"description\": \"\"\n      }\n    },\n    {\n      \"column\": \"indicador_inadimplencia\",\n      \"properties\": {\n        \"dtype\": \"number\",\n        \"std\": 0,\n        \"min\": 0,\n        \"max\": 1,\n        \"num_unique_values\": 2,\n        \"samples\": [\n          1,\n          0\n        ],\n        \"semantic_type\": \"\",\n        \"description\": \"\"\n      }\n    },\n    {\n      \"column\": \"quanto_esta_usando_em_rela\\u00e7\\u00e3o_ao_limite_de_cr\\u00e9dito\",\n      \"properties\": {\n        \"dtype\": \"number\",\n        \"std\": 0.4906952358263415,\n        \"min\": 0.0,\n        \"max\": 0.9999999,\n        \"num_unique_values\": 104,\n        \"samples\": [\n          0.001249938,\n          0.000651133\n        ],\n        \"semantic_type\": \"\",\n        \"description\": \"\"\n      }\n    },\n    {\n      \"column\": \"relacao_dividas_ativos\",\n      \"properties\": {\n        \"dtype\": \"number\",\n        \"std\": 0.0,\n        \"min\": 0.0,\n        \"max\": 0.0,\n        \"num_unique_values\": 1,\n        \"samples\": [\n          0.0\n        ],\n        \"semantic_type\": \"\",\n        \"description\": \"\"\n      }\n    },\n    {\n      \"column\": \"mais_90_dias_atraso\",\n      \"properties\": {\n        \"dtype\": \"number\",\n        \"std\": 0,\n        \"min\": 0,\n        \"max\": 5,\n        \"num_unique_values\": 5,\n        \"samples\": [\n          1\n        ],\n        \"semantic_type\": \"\",\n        \"description\": \"\"\n      }\n    },\n    {\n      \"column\": \"idade\",\n      \"properties\": {\n        \"dtype\": \"number\",\n        \"std\": 21,\n        \"min\": 21,\n        \"max\": 97,\n        \"num_unique_values\": 76,\n        \"samples\": [\n          23\n        ],\n        \"semantic_type\": \"\",\n        \"description\": \"\"\n      }\n    },\n    {\n      \"column\": \"sexo\",\n      \"properties\": {\n        \"dtype\": \"category\",\n        \"num_unique_values\": 2,\n        \"samples\": [\n          \"M\"\n        ],\n        \"semantic_type\": \"\",\n        \"description\": \"\"\n      }\n    },\n    {\n      \"column\": \"salario_ultimo_mes\",\n      \"properties\": {\n        \"dtype\": \"number\",\n        \"std\": 3250.9973336894373,\n        \"min\": 0.0,\n        \"max\": 44514.0,\n        \"num_unique_values\": 311,\n        \"samples\": [\n          5700.0\n        ],\n        \"semantic_type\": \"\",\n        \"description\": \"\"\n      }\n    },\n    {\n      \"column\": \"numero_dependentes\",\n      \"properties\": {\n        \"dtype\": \"number\",\n        \"std\": 0.7323943094386809,\n        \"min\": 0.0,\n        \"max\": 6.0,\n        \"num_unique_values\": 6,\n        \"samples\": [\n          0.0\n        ],\n        \"semantic_type\": \"\",\n        \"description\": \"\"\n      }\n    },\n    {\n      \"column\": \"total_imovel\",\n      \"properties\": {\n        \"dtype\": \"number\",\n        \"std\": 0,\n        \"min\": 0,\n        \"max\": 0,\n        \"num_unique_values\": 1,\n        \"samples\": [\n          0\n        ],\n        \"semantic_type\": \"\",\n        \"description\": \"\"\n      }\n    },\n    {\n      \"column\": \"total_outros\",\n      \"properties\": {\n        \"dtype\": \"number\",\n        \"std\": 2,\n        \"min\": 0,\n        \"max\": 19,\n        \"num_unique_values\": 15,\n        \"samples\": [\n          9\n        ],\n        \"semantic_type\": \"\",\n        \"description\": \"\"\n      }\n    },\n    {\n      \"column\": \"total_emprestimos\",\n      \"properties\": {\n        \"dtype\": \"number\",\n        \"std\": 2,\n        \"min\": 0,\n        \"max\": 19,\n        \"num_unique_values\": 15,\n        \"samples\": [\n          9\n        ],\n        \"semantic_type\": \"\",\n        \"description\": \"\"\n      }\n    },\n    {\n      \"column\": \"dummy_atraso\",\n      \"properties\": {\n        \"dtype\": \"number\",\n        \"std\": 0,\n        \"min\": 0,\n        \"max\": 1,\n        \"num_unique_values\": 2,\n        \"samples\": [\n          1\n        ],\n        \"semantic_type\": \"\",\n        \"description\": \"\"\n      }\n    },\n    {\n      \"column\": \"dummy_dependentes\",\n      \"properties\": {\n        \"dtype\": \"number\",\n        \"std\": 0,\n        \"min\": 0,\n        \"max\": 1,\n        \"num_unique_values\": 2,\n        \"samples\": [\n          1\n        ],\n        \"semantic_type\": \"\",\n        \"description\": \"\"\n      }\n    },\n    {\n      \"column\": \"faixa_uso_credito\",\n      \"properties\": {\n        \"dtype\": \"category\",\n        \"num_unique_values\": 2,\n        \"samples\": [\n          \"Baixo Uso - 0 a 15%\"\n        ],\n        \"semantic_type\": \"\",\n        \"description\": \"\"\n      }\n    }\n  ]\n}"
            }
          },
          "metadata": {},
          "execution_count": 47
        }
      ]
    },
    {
      "cell_type": "code",
      "source": [
        "#Devedores outliers\n",
        "df[df['relacao_dividas_ativos']>=1.92]"
      ],
      "metadata": {
        "colab": {
          "base_uri": "https://localhost:8080/",
          "height": 0
        },
        "id": "virmMlPWwMgv",
        "outputId": "987c1811-473c-43bf-df9b-80a7ae976b17"
      },
      "execution_count": 48,
      "outputs": [
        {
          "output_type": "execute_result",
          "data": {
            "text/plain": [
              "       id_usuario  indicador_inadimplencia  \\\n",
              "4             405                        0   \n",
              "7             517                        0   \n",
              "18           1160                        0   \n",
              "22           1274                        0   \n",
              "27           1409                        0   \n",
              "...           ...                      ...   \n",
              "35977       31619                        0   \n",
              "35979       32179                        0   \n",
              "35993       34690                        0   \n",
              "35996       35795                        0   \n",
              "35998       12012                        1   \n",
              "\n",
              "       quanto_esta_usando_em_relação_ao_limite_de_crédito  \\\n",
              "4                                                   0.17    \n",
              "7                                                   0.00    \n",
              "18                                                  0.18    \n",
              "22                                                  0.25    \n",
              "27                                                  0.01    \n",
              "...                                                  ...    \n",
              "35977                                               0.03    \n",
              "35979                                               0.71    \n",
              "35993                                               0.05    \n",
              "35996                                               0.01    \n",
              "35998                                               0.39    \n",
              "\n",
              "       relacao_dividas_ativos  mais_90_dias_atraso  idade sexo  \\\n",
              "4                    12403.00                    0     69    M   \n",
              "7                       34.00                    0     73    M   \n",
              "18                    1897.00                    0     61    M   \n",
              "22                    2362.00                    0     65    M   \n",
              "27                     103.00                    0     76    M   \n",
              "...                       ...                  ...    ...  ...   \n",
              "35977                 5088.00                    0     44    F   \n",
              "35979                 5174.00                    0     54    F   \n",
              "35993                 3013.00                    0     61    F   \n",
              "35996                 1981.00                    0     63    M   \n",
              "35998                    3.58                    4     51    M   \n",
              "\n",
              "       salario_ultimo_mes  numero_dependentes  total_imovel  total_outros  \\\n",
              "4                 5408.00                0.00             9            22   \n",
              "7                 5408.00                0.00             0            24   \n",
              "18                5408.00                0.00             2            28   \n",
              "22                5408.00                0.00             0            27   \n",
              "27                   0.00                0.00             1            24   \n",
              "...                   ...                 ...           ...           ...   \n",
              "35977             5408.00                2.00             2            19   \n",
              "35979             5408.00                2.00             1            20   \n",
              "35993             5408.00                0.00             2            19   \n",
              "35996             5408.00                2.00             0            21   \n",
              "35998             3419.00                2.00             6            15   \n",
              "\n",
              "       total_emprestimos  dummy_atraso  dummy_dependentes  \\\n",
              "4                     31             0                  0   \n",
              "7                     24             0                  0   \n",
              "18                    30             0                  0   \n",
              "22                    27             0                  0   \n",
              "27                    25             0                  0   \n",
              "...                  ...           ...                ...   \n",
              "35977                 21             0                  1   \n",
              "35979                 21             0                  1   \n",
              "35993                 21             0                  0   \n",
              "35996                 21             0                  1   \n",
              "35998                 21             1                  1   \n",
              "\n",
              "              faixa_uso_credito  \n",
              "4      Uso Moderado - 16% a 55%  \n",
              "7           Baixo Uso - 0 a 15%  \n",
              "18     Uso Moderado - 16% a 55%  \n",
              "22     Uso Moderado - 16% a 55%  \n",
              "27          Baixo Uso - 0 a 15%  \n",
              "...                         ...  \n",
              "35977       Baixo Uso - 0 a 15%  \n",
              "35979     Uso Alto - 56% a 132%  \n",
              "35993       Baixo Uso - 0 a 15%  \n",
              "35996       Baixo Uso - 0 a 15%  \n",
              "35998  Uso Moderado - 16% a 55%  \n",
              "\n",
              "[7566 rows x 15 columns]"
            ],
            "text/html": [
              "\n",
              "  <div id=\"df-682d2155-3535-48d3-b428-031092a4fbe9\" class=\"colab-df-container\">\n",
              "    <div>\n",
              "<style scoped>\n",
              "    .dataframe tbody tr th:only-of-type {\n",
              "        vertical-align: middle;\n",
              "    }\n",
              "\n",
              "    .dataframe tbody tr th {\n",
              "        vertical-align: top;\n",
              "    }\n",
              "\n",
              "    .dataframe thead th {\n",
              "        text-align: right;\n",
              "    }\n",
              "</style>\n",
              "<table border=\"1\" class=\"dataframe\">\n",
              "  <thead>\n",
              "    <tr style=\"text-align: right;\">\n",
              "      <th></th>\n",
              "      <th>id_usuario</th>\n",
              "      <th>indicador_inadimplencia</th>\n",
              "      <th>quanto_esta_usando_em_relação_ao_limite_de_crédito</th>\n",
              "      <th>relacao_dividas_ativos</th>\n",
              "      <th>mais_90_dias_atraso</th>\n",
              "      <th>idade</th>\n",
              "      <th>sexo</th>\n",
              "      <th>salario_ultimo_mes</th>\n",
              "      <th>numero_dependentes</th>\n",
              "      <th>total_imovel</th>\n",
              "      <th>total_outros</th>\n",
              "      <th>total_emprestimos</th>\n",
              "      <th>dummy_atraso</th>\n",
              "      <th>dummy_dependentes</th>\n",
              "      <th>faixa_uso_credito</th>\n",
              "    </tr>\n",
              "  </thead>\n",
              "  <tbody>\n",
              "    <tr>\n",
              "      <th>4</th>\n",
              "      <td>405</td>\n",
              "      <td>0</td>\n",
              "      <td>0.17</td>\n",
              "      <td>12403.00</td>\n",
              "      <td>0</td>\n",
              "      <td>69</td>\n",
              "      <td>M</td>\n",
              "      <td>5408.00</td>\n",
              "      <td>0.00</td>\n",
              "      <td>9</td>\n",
              "      <td>22</td>\n",
              "      <td>31</td>\n",
              "      <td>0</td>\n",
              "      <td>0</td>\n",
              "      <td>Uso Moderado - 16% a 55%</td>\n",
              "    </tr>\n",
              "    <tr>\n",
              "      <th>7</th>\n",
              "      <td>517</td>\n",
              "      <td>0</td>\n",
              "      <td>0.00</td>\n",
              "      <td>34.00</td>\n",
              "      <td>0</td>\n",
              "      <td>73</td>\n",
              "      <td>M</td>\n",
              "      <td>5408.00</td>\n",
              "      <td>0.00</td>\n",
              "      <td>0</td>\n",
              "      <td>24</td>\n",
              "      <td>24</td>\n",
              "      <td>0</td>\n",
              "      <td>0</td>\n",
              "      <td>Baixo Uso - 0 a 15%</td>\n",
              "    </tr>\n",
              "    <tr>\n",
              "      <th>18</th>\n",
              "      <td>1160</td>\n",
              "      <td>0</td>\n",
              "      <td>0.18</td>\n",
              "      <td>1897.00</td>\n",
              "      <td>0</td>\n",
              "      <td>61</td>\n",
              "      <td>M</td>\n",
              "      <td>5408.00</td>\n",
              "      <td>0.00</td>\n",
              "      <td>2</td>\n",
              "      <td>28</td>\n",
              "      <td>30</td>\n",
              "      <td>0</td>\n",
              "      <td>0</td>\n",
              "      <td>Uso Moderado - 16% a 55%</td>\n",
              "    </tr>\n",
              "    <tr>\n",
              "      <th>22</th>\n",
              "      <td>1274</td>\n",
              "      <td>0</td>\n",
              "      <td>0.25</td>\n",
              "      <td>2362.00</td>\n",
              "      <td>0</td>\n",
              "      <td>65</td>\n",
              "      <td>M</td>\n",
              "      <td>5408.00</td>\n",
              "      <td>0.00</td>\n",
              "      <td>0</td>\n",
              "      <td>27</td>\n",
              "      <td>27</td>\n",
              "      <td>0</td>\n",
              "      <td>0</td>\n",
              "      <td>Uso Moderado - 16% a 55%</td>\n",
              "    </tr>\n",
              "    <tr>\n",
              "      <th>27</th>\n",
              "      <td>1409</td>\n",
              "      <td>0</td>\n",
              "      <td>0.01</td>\n",
              "      <td>103.00</td>\n",
              "      <td>0</td>\n",
              "      <td>76</td>\n",
              "      <td>M</td>\n",
              "      <td>0.00</td>\n",
              "      <td>0.00</td>\n",
              "      <td>1</td>\n",
              "      <td>24</td>\n",
              "      <td>25</td>\n",
              "      <td>0</td>\n",
              "      <td>0</td>\n",
              "      <td>Baixo Uso - 0 a 15%</td>\n",
              "    </tr>\n",
              "    <tr>\n",
              "      <th>...</th>\n",
              "      <td>...</td>\n",
              "      <td>...</td>\n",
              "      <td>...</td>\n",
              "      <td>...</td>\n",
              "      <td>...</td>\n",
              "      <td>...</td>\n",
              "      <td>...</td>\n",
              "      <td>...</td>\n",
              "      <td>...</td>\n",
              "      <td>...</td>\n",
              "      <td>...</td>\n",
              "      <td>...</td>\n",
              "      <td>...</td>\n",
              "      <td>...</td>\n",
              "      <td>...</td>\n",
              "    </tr>\n",
              "    <tr>\n",
              "      <th>35977</th>\n",
              "      <td>31619</td>\n",
              "      <td>0</td>\n",
              "      <td>0.03</td>\n",
              "      <td>5088.00</td>\n",
              "      <td>0</td>\n",
              "      <td>44</td>\n",
              "      <td>F</td>\n",
              "      <td>5408.00</td>\n",
              "      <td>2.00</td>\n",
              "      <td>2</td>\n",
              "      <td>19</td>\n",
              "      <td>21</td>\n",
              "      <td>0</td>\n",
              "      <td>1</td>\n",
              "      <td>Baixo Uso - 0 a 15%</td>\n",
              "    </tr>\n",
              "    <tr>\n",
              "      <th>35979</th>\n",
              "      <td>32179</td>\n",
              "      <td>0</td>\n",
              "      <td>0.71</td>\n",
              "      <td>5174.00</td>\n",
              "      <td>0</td>\n",
              "      <td>54</td>\n",
              "      <td>F</td>\n",
              "      <td>5408.00</td>\n",
              "      <td>2.00</td>\n",
              "      <td>1</td>\n",
              "      <td>20</td>\n",
              "      <td>21</td>\n",
              "      <td>0</td>\n",
              "      <td>1</td>\n",
              "      <td>Uso Alto - 56% a 132%</td>\n",
              "    </tr>\n",
              "    <tr>\n",
              "      <th>35993</th>\n",
              "      <td>34690</td>\n",
              "      <td>0</td>\n",
              "      <td>0.05</td>\n",
              "      <td>3013.00</td>\n",
              "      <td>0</td>\n",
              "      <td>61</td>\n",
              "      <td>F</td>\n",
              "      <td>5408.00</td>\n",
              "      <td>0.00</td>\n",
              "      <td>2</td>\n",
              "      <td>19</td>\n",
              "      <td>21</td>\n",
              "      <td>0</td>\n",
              "      <td>0</td>\n",
              "      <td>Baixo Uso - 0 a 15%</td>\n",
              "    </tr>\n",
              "    <tr>\n",
              "      <th>35996</th>\n",
              "      <td>35795</td>\n",
              "      <td>0</td>\n",
              "      <td>0.01</td>\n",
              "      <td>1981.00</td>\n",
              "      <td>0</td>\n",
              "      <td>63</td>\n",
              "      <td>M</td>\n",
              "      <td>5408.00</td>\n",
              "      <td>2.00</td>\n",
              "      <td>0</td>\n",
              "      <td>21</td>\n",
              "      <td>21</td>\n",
              "      <td>0</td>\n",
              "      <td>1</td>\n",
              "      <td>Baixo Uso - 0 a 15%</td>\n",
              "    </tr>\n",
              "    <tr>\n",
              "      <th>35998</th>\n",
              "      <td>12012</td>\n",
              "      <td>1</td>\n",
              "      <td>0.39</td>\n",
              "      <td>3.58</td>\n",
              "      <td>4</td>\n",
              "      <td>51</td>\n",
              "      <td>M</td>\n",
              "      <td>3419.00</td>\n",
              "      <td>2.00</td>\n",
              "      <td>6</td>\n",
              "      <td>15</td>\n",
              "      <td>21</td>\n",
              "      <td>1</td>\n",
              "      <td>1</td>\n",
              "      <td>Uso Moderado - 16% a 55%</td>\n",
              "    </tr>\n",
              "  </tbody>\n",
              "</table>\n",
              "<p>7566 rows × 15 columns</p>\n",
              "</div>\n",
              "    <div class=\"colab-df-buttons\">\n",
              "\n",
              "  <div class=\"colab-df-container\">\n",
              "    <button class=\"colab-df-convert\" onclick=\"convertToInteractive('df-682d2155-3535-48d3-b428-031092a4fbe9')\"\n",
              "            title=\"Convert this dataframe to an interactive table.\"\n",
              "            style=\"display:none;\">\n",
              "\n",
              "  <svg xmlns=\"http://www.w3.org/2000/svg\" height=\"24px\" viewBox=\"0 -960 960 960\">\n",
              "    <path d=\"M120-120v-720h720v720H120Zm60-500h600v-160H180v160Zm220 220h160v-160H400v160Zm0 220h160v-160H400v160ZM180-400h160v-160H180v160Zm440 0h160v-160H620v160ZM180-180h160v-160H180v160Zm440 0h160v-160H620v160Z\"/>\n",
              "  </svg>\n",
              "    </button>\n",
              "\n",
              "  <style>\n",
              "    .colab-df-container {\n",
              "      display:flex;\n",
              "      gap: 12px;\n",
              "    }\n",
              "\n",
              "    .colab-df-convert {\n",
              "      background-color: #E8F0FE;\n",
              "      border: none;\n",
              "      border-radius: 50%;\n",
              "      cursor: pointer;\n",
              "      display: none;\n",
              "      fill: #1967D2;\n",
              "      height: 32px;\n",
              "      padding: 0 0 0 0;\n",
              "      width: 32px;\n",
              "    }\n",
              "\n",
              "    .colab-df-convert:hover {\n",
              "      background-color: #E2EBFA;\n",
              "      box-shadow: 0px 1px 2px rgba(60, 64, 67, 0.3), 0px 1px 3px 1px rgba(60, 64, 67, 0.15);\n",
              "      fill: #174EA6;\n",
              "    }\n",
              "\n",
              "    .colab-df-buttons div {\n",
              "      margin-bottom: 4px;\n",
              "    }\n",
              "\n",
              "    [theme=dark] .colab-df-convert {\n",
              "      background-color: #3B4455;\n",
              "      fill: #D2E3FC;\n",
              "    }\n",
              "\n",
              "    [theme=dark] .colab-df-convert:hover {\n",
              "      background-color: #434B5C;\n",
              "      box-shadow: 0px 1px 3px 1px rgba(0, 0, 0, 0.15);\n",
              "      filter: drop-shadow(0px 1px 2px rgba(0, 0, 0, 0.3));\n",
              "      fill: #FFFFFF;\n",
              "    }\n",
              "  </style>\n",
              "\n",
              "    <script>\n",
              "      const buttonEl =\n",
              "        document.querySelector('#df-682d2155-3535-48d3-b428-031092a4fbe9 button.colab-df-convert');\n",
              "      buttonEl.style.display =\n",
              "        google.colab.kernel.accessAllowed ? 'block' : 'none';\n",
              "\n",
              "      async function convertToInteractive(key) {\n",
              "        const element = document.querySelector('#df-682d2155-3535-48d3-b428-031092a4fbe9');\n",
              "        const dataTable =\n",
              "          await google.colab.kernel.invokeFunction('convertToInteractive',\n",
              "                                                    [key], {});\n",
              "        if (!dataTable) return;\n",
              "\n",
              "        const docLinkHtml = 'Like what you see? Visit the ' +\n",
              "          '<a target=\"_blank\" href=https://colab.research.google.com/notebooks/data_table.ipynb>data table notebook</a>'\n",
              "          + ' to learn more about interactive tables.';\n",
              "        element.innerHTML = '';\n",
              "        dataTable['output_type'] = 'display_data';\n",
              "        await google.colab.output.renderOutput(dataTable, element);\n",
              "        const docLink = document.createElement('div');\n",
              "        docLink.innerHTML = docLinkHtml;\n",
              "        element.appendChild(docLink);\n",
              "      }\n",
              "    </script>\n",
              "  </div>\n",
              "\n",
              "\n",
              "<div id=\"df-5bddd933-e5d3-4382-a923-2b666282b3b1\">\n",
              "  <button class=\"colab-df-quickchart\" onclick=\"quickchart('df-5bddd933-e5d3-4382-a923-2b666282b3b1')\"\n",
              "            title=\"Suggest charts\"\n",
              "            style=\"display:none;\">\n",
              "\n",
              "<svg xmlns=\"http://www.w3.org/2000/svg\" height=\"24px\"viewBox=\"0 0 24 24\"\n",
              "     width=\"24px\">\n",
              "    <g>\n",
              "        <path d=\"M19 3H5c-1.1 0-2 .9-2 2v14c0 1.1.9 2 2 2h14c1.1 0 2-.9 2-2V5c0-1.1-.9-2-2-2zM9 17H7v-7h2v7zm4 0h-2V7h2v10zm4 0h-2v-4h2v4z\"/>\n",
              "    </g>\n",
              "</svg>\n",
              "  </button>\n",
              "\n",
              "<style>\n",
              "  .colab-df-quickchart {\n",
              "      --bg-color: #E8F0FE;\n",
              "      --fill-color: #1967D2;\n",
              "      --hover-bg-color: #E2EBFA;\n",
              "      --hover-fill-color: #174EA6;\n",
              "      --disabled-fill-color: #AAA;\n",
              "      --disabled-bg-color: #DDD;\n",
              "  }\n",
              "\n",
              "  [theme=dark] .colab-df-quickchart {\n",
              "      --bg-color: #3B4455;\n",
              "      --fill-color: #D2E3FC;\n",
              "      --hover-bg-color: #434B5C;\n",
              "      --hover-fill-color: #FFFFFF;\n",
              "      --disabled-bg-color: #3B4455;\n",
              "      --disabled-fill-color: #666;\n",
              "  }\n",
              "\n",
              "  .colab-df-quickchart {\n",
              "    background-color: var(--bg-color);\n",
              "    border: none;\n",
              "    border-radius: 50%;\n",
              "    cursor: pointer;\n",
              "    display: none;\n",
              "    fill: var(--fill-color);\n",
              "    height: 32px;\n",
              "    padding: 0;\n",
              "    width: 32px;\n",
              "  }\n",
              "\n",
              "  .colab-df-quickchart:hover {\n",
              "    background-color: var(--hover-bg-color);\n",
              "    box-shadow: 0 1px 2px rgba(60, 64, 67, 0.3), 0 1px 3px 1px rgba(60, 64, 67, 0.15);\n",
              "    fill: var(--button-hover-fill-color);\n",
              "  }\n",
              "\n",
              "  .colab-df-quickchart-complete:disabled,\n",
              "  .colab-df-quickchart-complete:disabled:hover {\n",
              "    background-color: var(--disabled-bg-color);\n",
              "    fill: var(--disabled-fill-color);\n",
              "    box-shadow: none;\n",
              "  }\n",
              "\n",
              "  .colab-df-spinner {\n",
              "    border: 2px solid var(--fill-color);\n",
              "    border-color: transparent;\n",
              "    border-bottom-color: var(--fill-color);\n",
              "    animation:\n",
              "      spin 1s steps(1) infinite;\n",
              "  }\n",
              "\n",
              "  @keyframes spin {\n",
              "    0% {\n",
              "      border-color: transparent;\n",
              "      border-bottom-color: var(--fill-color);\n",
              "      border-left-color: var(--fill-color);\n",
              "    }\n",
              "    20% {\n",
              "      border-color: transparent;\n",
              "      border-left-color: var(--fill-color);\n",
              "      border-top-color: var(--fill-color);\n",
              "    }\n",
              "    30% {\n",
              "      border-color: transparent;\n",
              "      border-left-color: var(--fill-color);\n",
              "      border-top-color: var(--fill-color);\n",
              "      border-right-color: var(--fill-color);\n",
              "    }\n",
              "    40% {\n",
              "      border-color: transparent;\n",
              "      border-right-color: var(--fill-color);\n",
              "      border-top-color: var(--fill-color);\n",
              "    }\n",
              "    60% {\n",
              "      border-color: transparent;\n",
              "      border-right-color: var(--fill-color);\n",
              "    }\n",
              "    80% {\n",
              "      border-color: transparent;\n",
              "      border-right-color: var(--fill-color);\n",
              "      border-bottom-color: var(--fill-color);\n",
              "    }\n",
              "    90% {\n",
              "      border-color: transparent;\n",
              "      border-bottom-color: var(--fill-color);\n",
              "    }\n",
              "  }\n",
              "</style>\n",
              "\n",
              "  <script>\n",
              "    async function quickchart(key) {\n",
              "      const quickchartButtonEl =\n",
              "        document.querySelector('#' + key + ' button');\n",
              "      quickchartButtonEl.disabled = true;  // To prevent multiple clicks.\n",
              "      quickchartButtonEl.classList.add('colab-df-spinner');\n",
              "      try {\n",
              "        const charts = await google.colab.kernel.invokeFunction(\n",
              "            'suggestCharts', [key], {});\n",
              "      } catch (error) {\n",
              "        console.error('Error during call to suggestCharts:', error);\n",
              "      }\n",
              "      quickchartButtonEl.classList.remove('colab-df-spinner');\n",
              "      quickchartButtonEl.classList.add('colab-df-quickchart-complete');\n",
              "    }\n",
              "    (() => {\n",
              "      let quickchartButtonEl =\n",
              "        document.querySelector('#df-5bddd933-e5d3-4382-a923-2b666282b3b1 button');\n",
              "      quickchartButtonEl.style.display =\n",
              "        google.colab.kernel.accessAllowed ? 'block' : 'none';\n",
              "    })();\n",
              "  </script>\n",
              "</div>\n",
              "\n",
              "    </div>\n",
              "  </div>\n"
            ],
            "application/vnd.google.colaboratory.intrinsic+json": {
              "type": "dataframe",
              "summary": "{\n  \"name\": \"df[df['relacao_dividas_ativos']>=1\",\n  \"rows\": 7566,\n  \"fields\": [\n    {\n      \"column\": \"id_usuario\",\n      \"properties\": {\n        \"dtype\": \"number\",\n        \"std\": 10400,\n        \"min\": 10,\n        \"max\": 35990,\n        \"num_unique_values\": 7566,\n        \"samples\": [\n          24357,\n          22529,\n          4307\n        ],\n        \"semantic_type\": \"\",\n        \"description\": \"\"\n      }\n    },\n    {\n      \"column\": \"indicador_inadimplencia\",\n      \"properties\": {\n        \"dtype\": \"number\",\n        \"std\": 0,\n        \"min\": 0,\n        \"max\": 1,\n        \"num_unique_values\": 2,\n        \"samples\": [\n          1,\n          0\n        ],\n        \"semantic_type\": \"\",\n        \"description\": \"\"\n      }\n    },\n    {\n      \"column\": \"quanto_esta_usando_em_rela\\u00e7\\u00e3o_ao_limite_de_cr\\u00e9dito\",\n      \"properties\": {\n        \"dtype\": \"number\",\n        \"std\": 166.63653539544214,\n        \"min\": 0.0,\n        \"max\": 8328.0,\n        \"num_unique_values\": 6435,\n        \"samples\": [\n          0.399246704,\n          0.794623284\n        ],\n        \"semantic_type\": \"\",\n        \"description\": \"\"\n      }\n    },\n    {\n      \"column\": \"relacao_dividas_ativos\",\n      \"properties\": {\n        \"dtype\": \"number\",\n        \"std\": 2173.653453929722,\n        \"min\": 1.920327625,\n        \"max\": 60212.0,\n        \"num_unique_values\": 3766,\n        \"samples\": [\n          3246.0,\n          4387.0\n        ],\n        \"semantic_type\": \"\",\n        \"description\": \"\"\n      }\n    },\n    {\n      \"column\": \"mais_90_dias_atraso\",\n      \"properties\": {\n        \"dtype\": \"number\",\n        \"std\": 0,\n        \"min\": 0,\n        \"max\": 11,\n        \"num_unique_values\": 11,\n        \"samples\": [\n          3,\n          0\n        ],\n        \"semantic_type\": \"\",\n        \"description\": \"\"\n      }\n    },\n    {\n      \"column\": \"idade\",\n      \"properties\": {\n        \"dtype\": \"number\",\n        \"std\": 15,\n        \"min\": 21,\n        \"max\": 109,\n        \"num_unique_values\": 78,\n        \"samples\": [\n          41,\n          69\n        ],\n        \"semantic_type\": \"\",\n        \"description\": \"\"\n      }\n    },\n    {\n      \"column\": \"sexo\",\n      \"properties\": {\n        \"dtype\": \"category\",\n        \"num_unique_values\": 2,\n        \"samples\": [\n          \"F\",\n          \"M\"\n        ],\n        \"semantic_type\": \"\",\n        \"description\": \"\"\n      }\n    },\n    {\n      \"column\": \"salario_ultimo_mes\",\n      \"properties\": {\n        \"dtype\": \"number\",\n        \"std\": 1538.1342518948773,\n        \"min\": 0.0,\n        \"max\": 15000.0,\n        \"num_unique_values\": 211,\n        \"samples\": [\n          1541.0,\n          1929.0\n        ],\n        \"semantic_type\": \"\",\n        \"description\": \"\"\n      }\n    },\n    {\n      \"column\": \"numero_dependentes\",\n      \"properties\": {\n        \"dtype\": \"number\",\n        \"std\": 0.8453044315343824,\n        \"min\": 0.0,\n        \"max\": 8.0,\n        \"num_unique_values\": 8,\n        \"samples\": [\n          3.0,\n          6.0\n        ],\n        \"semantic_type\": \"\",\n        \"description\": \"\"\n      }\n    },\n    {\n      \"column\": \"total_imovel\",\n      \"properties\": {\n        \"dtype\": \"number\",\n        \"std\": 1,\n        \"min\": 0,\n        \"max\": 18,\n        \"num_unique_values\": 17,\n        \"samples\": [\n          9,\n          0\n        ],\n        \"semantic_type\": \"\",\n        \"description\": \"\"\n      }\n    },\n    {\n      \"column\": \"total_outros\",\n      \"properties\": {\n        \"dtype\": \"number\",\n        \"std\": 4,\n        \"min\": 0,\n        \"max\": 42,\n        \"num_unique_values\": 38,\n        \"samples\": [\n          10,\n          14\n        ],\n        \"semantic_type\": \"\",\n        \"description\": \"\"\n      }\n    },\n    {\n      \"column\": \"total_emprestimos\",\n      \"properties\": {\n        \"dtype\": \"number\",\n        \"std\": 4,\n        \"min\": 0,\n        \"max\": 45,\n        \"num_unique_values\": 39,\n        \"samples\": [\n          16,\n          19\n        ],\n        \"semantic_type\": \"\",\n        \"description\": \"\"\n      }\n    },\n    {\n      \"column\": \"dummy_atraso\",\n      \"properties\": {\n        \"dtype\": \"number\",\n        \"std\": 0,\n        \"min\": 0,\n        \"max\": 1,\n        \"num_unique_values\": 2,\n        \"samples\": [\n          1,\n          0\n        ],\n        \"semantic_type\": \"\",\n        \"description\": \"\"\n      }\n    },\n    {\n      \"column\": \"dummy_dependentes\",\n      \"properties\": {\n        \"dtype\": \"number\",\n        \"std\": 0,\n        \"min\": 0,\n        \"max\": 1,\n        \"num_unique_values\": 2,\n        \"samples\": [\n          1,\n          0\n        ],\n        \"semantic_type\": \"\",\n        \"description\": \"\"\n      }\n    },\n    {\n      \"column\": \"faixa_uso_credito\",\n      \"properties\": {\n        \"dtype\": \"category\",\n        \"num_unique_values\": 4,\n        \"samples\": [\n          \"Baixo Uso - 0 a 15%\",\n          \"Uso Extremo - mais de 132% \"\n        ],\n        \"semantic_type\": \"\",\n        \"description\": \"\"\n      }\n    }\n  ]\n}"
            }
          },
          "metadata": {},
          "execution_count": 48
        }
      ]
    },
    {
      "cell_type": "code",
      "source": [
        "plt.boxplot(df['relacao_dividas_ativos'])"
      ],
      "metadata": {
        "colab": {
          "base_uri": "https://localhost:8080/",
          "height": 0
        },
        "id": "pkzhhe7xwuEn",
        "outputId": "4875f25b-9dc5-41e6-a68d-5944444c8010"
      },
      "execution_count": 49,
      "outputs": [
        {
          "output_type": "execute_result",
          "data": {
            "text/plain": [
              "{'whiskers': [<matplotlib.lines.Line2D at 0x7a3d048260b0>,\n",
              "  <matplotlib.lines.Line2D at 0x7a3d04826350>],\n",
              " 'caps': [<matplotlib.lines.Line2D at 0x7a3d048265f0>,\n",
              "  <matplotlib.lines.Line2D at 0x7a3d04826890>],\n",
              " 'boxes': [<matplotlib.lines.Line2D at 0x7a3d04825e10>],\n",
              " 'medians': [<matplotlib.lines.Line2D at 0x7a3d04826b30>],\n",
              " 'fliers': [<matplotlib.lines.Line2D at 0x7a3d04826dd0>],\n",
              " 'means': []}"
            ]
          },
          "metadata": {},
          "execution_count": 49
        },
        {
          "output_type": "display_data",
          "data": {
            "text/plain": [
              "<Figure size 640x480 with 1 Axes>"
            ],
            "image/png": "[encoded data removed]"
          },
          "metadata": {}
        }
      ]
    },
    {
      "cell_type": "code",
      "source": [
        "#IDENTIFICANDO OUTLIERS VARIÁVEL relacao_dividas_ativos\n",
        "\n",
        "# Calcular Q1 (25º percentil) e Q3 (75º percentil)\n",
        "Q1 = df['relacao_dividas_ativos'].quantile(0.25)\n",
        "Q3 = df['relacao_dividas_ativos'].quantile(0.75)\n",
        "\n",
        "# Calcular IQR\n",
        "IQR = Q3 - Q1\n",
        "\n",
        "# Definir limites para outliers\n",
        "lower_bound = Q1 - 1.5 * IQR\n",
        "upper_bound = Q3 + 1.5 * IQR\n",
        "\n",
        "# Identificar outliers\n",
        "outliers_relacao_dividas_ativos = df[(df['relacao_dividas_ativos'] < lower_bound) | (df['relacao_dividas_ativos'] > upper_bound)]\n",
        "outliers_relacao_dividas_ativos.count()"
      ],
      "metadata": {
        "colab": {
          "base_uri": "https://localhost:8080/"
        },
        "id": "Xk4f340bynxh",
        "outputId": "92723621-69f1-4fe2-8610-fc14cbb3fda5"
      },
      "execution_count": 50,
      "outputs": [
        {
          "output_type": "execute_result",
          "data": {
            "text/plain": [
              "id_usuario                                            7565\n",
              "indicador_inadimplencia                               7565\n",
              "quanto_esta_usando_em_relação_ao_limite_de_crédito    7565\n",
              "relacao_dividas_ativos                                7565\n",
              "mais_90_dias_atraso                                   7565\n",
              "idade                                                 7565\n",
              "sexo                                                  7565\n",
              "salario_ultimo_mes                                    7565\n",
              "numero_dependentes                                    7565\n",
              "total_imovel                                          7565\n",
              "total_outros                                          7565\n",
              "total_emprestimos                                     7565\n",
              "dummy_atraso                                          7565\n",
              "dummy_dependentes                                     7565\n",
              "faixa_uso_credito                                     7565\n",
              "dtype: int64"
            ]
          },
          "metadata": {},
          "execution_count": 50
        }
      ]
    },
    {
      "cell_type": "code",
      "source": [
        "print(lower_bound)\n",
        "print(Q1)\n",
        "print(Q3)\n",
        "print(upper_bound)"
      ],
      "metadata": {
        "colab": {
          "base_uri": "https://localhost:8080/"
        },
        "id": "2NoM6lWn6QAB",
        "outputId": "8c6cd4ed-b34a-41ae-df99-803e98be0778"
      },
      "execution_count": 51,
      "outputs": [
        {
          "output_type": "stream",
          "name": "stdout",
          "text": [
            "-0.869046175375\n",
            "0.17706107525\n",
            "0.874465909\n",
            "1.920573159625\n"
          ]
        }
      ]
    },
    {
      "cell_type": "markdown",
      "source": [
        "# **Criação faixas endividamento**\n",
        "*   Baixo endividamento: 0 - 0.18(valores até o 1º quartil)\n",
        "*   Endividamento moderado: 0.19 - 0.37 (valores entre o 1º quartil e a mediana)\n",
        "*   Alto endividamento: 0.38 - 0.87 (valores entre a mediana e o 3º quartil)\n",
        "*   Endividamento muito alto: 0.88 - 1.92 (valores entre o 3º quartil e o limite superior do boxplot)\n",
        "*   Extremo endividamento: 1.92 +  (valores acima de 1.91, cobrindo os outliers extremos)"
      ],
      "metadata": {
        "id": "xUk_oYPndAzf"
      }
    },
    {
      "cell_type": "code",
      "source": [
        "df['relacao_dividas_ativos'].describe()"
      ],
      "metadata": {
        "colab": {
          "base_uri": "https://localhost:8080/"
        },
        "id": "QqJLdFWxfNyf",
        "outputId": "f341e0dc-517c-4542-9370-14a13307f448"
      },
      "execution_count": 52,
      "outputs": [
        {
          "output_type": "execute_result",
          "data": {
            "text/plain": [
              "count   35932.00\n",
              "mean      343.55\n",
              "std      1198.50\n",
              "min         0.00\n",
              "25%         0.18\n",
              "50%         0.37\n",
              "75%         0.87\n",
              "max     60212.00\n",
              "Name: relacao_dividas_ativos, dtype: float64"
            ]
          },
          "metadata": {},
          "execution_count": 52
        }
      ]
    },
    {
      "cell_type": "code",
      "source": [
        "#Divisão faixas endividamento\n",
        "bins = [0, 0.18, 0.37, 0.87, 1.92, float('inf')]\n",
        "rotulos = ['Baixo endividamento - 0 a 18%', 'Endividamento moderado - 19% a 37%', 'Alto endividamento - 38% a 87%', 'Endividamento muito alto - 88% a 192%', 'Extremo endividamento - mais de 192%']\n",
        "df['faixa_endividamento'] = pd.cut(df['relacao_dividas_ativos'], bins=bins, labels=rotulos, include_lowest=True)\n",
        "\n",
        "# Verificar distribuição dos dados\n",
        "distribuicao_faixas = df['faixa_endividamento'].value_counts()\n",
        "\n",
        "# Visualizar\n",
        "distribuicao_faixas"
      ],
      "metadata": {
        "colab": {
          "base_uri": "https://localhost:8080/"
        },
        "id": "cjwDT3kaiiob",
        "outputId": "624c6aa6-a252-4e30-9d68-6c0ac404a120"
      },
      "execution_count": 53,
      "outputs": [
        {
          "output_type": "execute_result",
          "data": {
            "text/plain": [
              "faixa_endividamento\n",
              "Baixo endividamento - 0 a 18%            9123\n",
              "Endividamento moderado - 19% a 37%       8981\n",
              "Alto endividamento - 38% a 87%           8822\n",
              "Extremo endividamento - mais de 192%     7566\n",
              "Endividamento muito alto - 88% a 192%    1440\n",
              "Name: count, dtype: int64"
            ]
          },
          "metadata": {},
          "execution_count": 53
        }
      ]
    },
    {
      "cell_type": "code",
      "source": [
        "df.groupby('faixa_endividamento')['indicador_inadimplencia'].value_counts()"
      ],
      "metadata": {
        "colab": {
          "base_uri": "https://localhost:8080/"
        },
        "id": "V5ahLABzOgco",
        "outputId": "9a7e0821-24dc-4478-8cf5-40638657939e"
      },
      "execution_count": 54,
      "outputs": [
        {
          "output_type": "execute_result",
          "data": {
            "text/plain": [
              "faixa_endividamento                    indicador_inadimplencia\n",
              "Baixo endividamento - 0 a 18%          0                          9000\n",
              "                                       1                           123\n",
              "Endividamento moderado - 19% a 37%     0                          8842\n",
              "                                       1                           139\n",
              "Alto endividamento - 38% a 87%         0                          8620\n",
              "                                       1                           202\n",
              "Endividamento muito alto - 88% a 192%  0                          1390\n",
              "                                       1                            50\n",
              "Extremo endividamento - mais de 192%   0                          7448\n",
              "                                       1                           118\n",
              "Name: count, dtype: int64"
            ]
          },
          "metadata": {},
          "execution_count": 54
        }
      ]
    },
    {
      "cell_type": "code",
      "source": [],
      "metadata": {
        "id": "YUdVqjMtPSwG"
      },
      "execution_count": 54,
      "outputs": []
    },
    {
      "cell_type": "markdown",
      "source": [
        "# **ANÁLISE VARIÁVEL  ATRASO DO EMPRÉSTIMO EM MAIS DE 90 DIAS**\n",
        "*   Dos 35.932 clientes, 94,75% nunca atrasaram o pagamento\n",
        "*   1.735(4,83%) atrasaram entre 1 e 3 vezes\n",
        "*   119 (0,33%) clientes atrasaram entre 4 e 6 vezes\n",
        "*   Apenas 29 clientes(0,08%) atrasaram mais de 7 vezes\n",
        "\n",
        "\n",
        "\n"
      ],
      "metadata": {
        "id": "h7xfwW2Ls2Dg"
      }
    },
    {
      "cell_type": "code",
      "source": [
        "df['mais_90_dias_atraso'].describe()"
      ],
      "metadata": {
        "colab": {
          "base_uri": "https://localhost:8080/"
        },
        "id": "WGuC1pX_fsGi",
        "outputId": "54e2b516-e40c-42cd-fddb-cfaac6c4bea4"
      },
      "execution_count": 55,
      "outputs": [
        {
          "output_type": "execute_result",
          "data": {
            "text/plain": [
              "count   35932.00\n",
              "mean        0.09\n",
              "std         0.50\n",
              "min         0.00\n",
              "25%         0.00\n",
              "50%         0.00\n",
              "75%         0.00\n",
              "max        15.00\n",
              "Name: mais_90_dias_atraso, dtype: float64"
            ]
          },
          "metadata": {},
          "execution_count": 55
        }
      ]
    },
    {
      "cell_type": "code",
      "source": [
        "34049/35932"
      ],
      "metadata": {
        "colab": {
          "base_uri": "https://localhost:8080/"
        },
        "id": "H1oYFlMqGa9H",
        "outputId": "621a0cfa-1163-4dd1-d089-8d17f6bd9a6c"
      },
      "execution_count": 56,
      "outputs": [
        {
          "output_type": "execute_result",
          "data": {
            "text/plain": [
              "0.9475954580874986"
            ]
          },
          "metadata": {},
          "execution_count": 56
        }
      ]
    },
    {
      "cell_type": "code",
      "source": [
        "df.groupby('mais_90_dias_atraso')['id_usuario'].count()"
      ],
      "metadata": {
        "colab": {
          "base_uri": "https://localhost:8080/"
        },
        "id": "dnTsRuB8eUiN",
        "outputId": "1e1d1a77-a3b6-4c2b-e2b1-da385fa98913"
      },
      "execution_count": 57,
      "outputs": [
        {
          "output_type": "execute_result",
          "data": {
            "text/plain": [
              "mais_90_dias_atraso\n",
              "0     34049\n",
              "1      1220\n",
              "2       355\n",
              "3       160\n",
              "4        77\n",
              "5        23\n",
              "6        19\n",
              "7        10\n",
              "8         4\n",
              "9         4\n",
              "10        2\n",
              "11        3\n",
              "12        2\n",
              "13        2\n",
              "14        1\n",
              "15        1\n",
              "Name: id_usuario, dtype: int64"
            ]
          },
          "metadata": {},
          "execution_count": 57
        }
      ]
    },
    {
      "cell_type": "code",
      "source": [
        "#IDENTIFICANDO OULIERS VARIÁVEL mais_90_dias_atraso\n",
        "\n",
        "# Calcular Q1 (25º percentil) e Q3 (75º percentil)\n",
        "Q1 = df['mais_90_dias_atraso'].quantile(0.25)\n",
        "Q3 = df['mais_90_dias_atraso'].quantile(0.75)\n",
        "\n",
        "# Calcular IQR\n",
        "IQR = Q3 - Q1\n",
        "\n",
        "# Definir limites para outliers\n",
        "lower_bound = Q1 - 1.5 * IQR\n",
        "upper_bound = Q3 + 1.5 * IQR\n",
        "\n",
        "# Identificar outliers\n",
        "outliers_mais_90_dias_atraso = df[(df['mais_90_dias_atraso'] < lower_bound) | (df['mais_90_dias_atraso'] > upper_bound)]\n",
        "outliers_mais_90_dias_atraso.count()"
      ],
      "metadata": {
        "colab": {
          "base_uri": "https://localhost:8080/"
        },
        "id": "ThnS0vFbtQjf",
        "outputId": "8d3102e7-5018-42ac-fab1-69c108337b00"
      },
      "execution_count": 58,
      "outputs": [
        {
          "output_type": "execute_result",
          "data": {
            "text/plain": [
              "id_usuario                                            1883\n",
              "indicador_inadimplencia                               1883\n",
              "quanto_esta_usando_em_relação_ao_limite_de_crédito    1883\n",
              "relacao_dividas_ativos                                1883\n",
              "mais_90_dias_atraso                                   1883\n",
              "idade                                                 1883\n",
              "sexo                                                  1883\n",
              "salario_ultimo_mes                                    1883\n",
              "numero_dependentes                                    1883\n",
              "total_imovel                                          1883\n",
              "total_outros                                          1883\n",
              "total_emprestimos                                     1883\n",
              "dummy_atraso                                          1883\n",
              "dummy_dependentes                                     1883\n",
              "faixa_uso_credito                                     1883\n",
              "faixa_endividamento                                   1883\n",
              "dtype: int64"
            ]
          },
          "metadata": {},
          "execution_count": 58
        }
      ]
    },
    {
      "cell_type": "code",
      "source": [
        "print(lower_bound)\n",
        "print(Q1)\n",
        "print(Q3)\n",
        "print(upper_bound)"
      ],
      "metadata": {
        "colab": {
          "base_uri": "https://localhost:8080/"
        },
        "id": "xkKQp_06wgnk",
        "outputId": "48d802d3-1299-468e-a74c-b0562687b966"
      },
      "execution_count": 59,
      "outputs": [
        {
          "output_type": "stream",
          "name": "stdout",
          "text": [
            "0.0\n",
            "0.0\n",
            "0.0\n",
            "0.0\n"
          ]
        }
      ]
    },
    {
      "cell_type": "code",
      "source": [
        "#BOXPLOT OUTLIERS\n",
        "\n",
        "plt.boxplot(outliers_mais_90_dias_atraso['mais_90_dias_atraso'], vert=True)"
      ],
      "metadata": {
        "colab": {
          "base_uri": "https://localhost:8080/",
          "height": 0
        },
        "id": "tvEhErrNuR1_",
        "outputId": "4a17f042-1b7c-42b5-d883-840f1904c5a2"
      },
      "execution_count": 60,
      "outputs": [
        {
          "output_type": "execute_result",
          "data": {
            "text/plain": [
              "{'whiskers': [<matplotlib.lines.Line2D at 0x7a3d046aff70>,\n",
              "  <matplotlib.lines.Line2D at 0x7a3d046e0130>],\n",
              " 'caps': [<matplotlib.lines.Line2D at 0x7a3d046e03d0>,\n",
              "  <matplotlib.lines.Line2D at 0x7a3d046e0670>],\n",
              " 'boxes': [<matplotlib.lines.Line2D at 0x7a3d046afcd0>],\n",
              " 'medians': [<matplotlib.lines.Line2D at 0x7a3d046e0910>],\n",
              " 'fliers': [<matplotlib.lines.Line2D at 0x7a3d046e0bb0>],\n",
              " 'means': []}"
            ]
          },
          "metadata": {},
          "execution_count": 60
        },
        {
          "output_type": "display_data",
          "data": {
            "text/plain": [
              "<Figure size 640x480 with 1 Axes>"
            ],
            "image/png": "[encoded data removed]"
          },
          "metadata": {}
        }
      ]
    },
    {
      "cell_type": "markdown",
      "source": [
        "# **Criação faixas atraso**\n",
        "\n",
        "\n",
        "*  Nenhum atraso: 0 vezes\n",
        "*  Poucos atrasos: 1 a 3 vezes (embora tenham poucos atrasos, requerem atenção)\n",
        "*  Atrasos moderados: 4 a 6 vezes (comportamento mais preocupante)\n",
        "*  Muitos atrasos: mais de 7 vezes (comportamento indicando um risco maior)\n"
      ],
      "metadata": {
        "id": "tmPG82bhKG2N"
      }
    },
    {
      "cell_type": "markdown",
      "source": [],
      "metadata": {
        "id": "vkwOWvDecWIJ"
      }
    },
    {
      "cell_type": "code",
      "source": [
        "# Função para categorizar os dados referentes ao número de atrasos\n",
        "def categorizar_atrasos(atrasos):\n",
        "    if atrasos == 0:\n",
        "        return 'Nenhum atraso'\n",
        "    elif 1 <= atrasos <= 3:\n",
        "        return 'Poucos atrasos (1 a 3 vezes)'\n",
        "    elif 4 <= atrasos <= 6:\n",
        "        return 'Atrasos moderados (4 a 6 vezes)'\n",
        "    elif atrasos >= 7:\n",
        "        return 'Muitos atrasos (mais de 7 vezes)'\n",
        "    else:\n",
        "        return 'Outros'  # Caso existam outros valores não previstos\n"
      ],
      "metadata": {
        "id": "A6jEEOLyPnME"
      },
      "execution_count": 61,
      "outputs": []
    },
    {
      "cell_type": "code",
      "source": [
        "#Aplicando a função\n",
        "df['faixa_atrasos'] = df['mais_90_dias_atraso'].apply(categorizar_atrasos)\n",
        "df['faixa_atrasos']"
      ],
      "metadata": {
        "colab": {
          "base_uri": "https://localhost:8080/"
        },
        "id": "Xrgzx2Y-P7BY",
        "outputId": "327121b3-ec9c-4bca-b9da-dca5209b53e9"
      },
      "execution_count": 62,
      "outputs": [
        {
          "output_type": "execute_result",
          "data": {
            "text/plain": [
              "0                          Nenhum atraso\n",
              "1                          Nenhum atraso\n",
              "2                          Nenhum atraso\n",
              "3                          Nenhum atraso\n",
              "4                          Nenhum atraso\n",
              "                      ...               \n",
              "35995                      Nenhum atraso\n",
              "35996                      Nenhum atraso\n",
              "35997                      Nenhum atraso\n",
              "35998    Atrasos moderados (4 a 6 vezes)\n",
              "35999       Poucos atrasos (1 a 3 vezes)\n",
              "Name: faixa_atrasos, Length: 35932, dtype: object"
            ]
          },
          "metadata": {},
          "execution_count": 62
        }
      ]
    },
    {
      "cell_type": "code",
      "source": [
        "df['faixa_atrasos'].value_counts()"
      ],
      "metadata": {
        "colab": {
          "base_uri": "https://localhost:8080/"
        },
        "id": "515rrhBLH4pV",
        "outputId": "39cbc9b8-3c62-4224-8754-4b13f28202c3"
      },
      "execution_count": 63,
      "outputs": [
        {
          "output_type": "execute_result",
          "data": {
            "text/plain": [
              "faixa_atrasos\n",
              "Nenhum atraso                       34049\n",
              "Poucos atrasos (1 a 3 vezes)         1735\n",
              "Atrasos moderados (4 a 6 vezes)       119\n",
              "Muitos atrasos (mais de 7 vezes)       29\n",
              "Name: count, dtype: int64"
            ]
          },
          "metadata": {},
          "execution_count": 63
        }
      ]
    },
    {
      "cell_type": "markdown",
      "source": [
        "# **ANÁLISE DISTRIBUIÇÃO DAS IDADES**\n",
        "*  A idade dos clientes está bem distribuida , tendo por média 52 anos\n",
        "\n"
      ],
      "metadata": {
        "id": "d0tt2K272kHj"
      }
    },
    {
      "cell_type": "code",
      "source": [
        "df['idade'].describe()"
      ],
      "metadata": {
        "colab": {
          "base_uri": "https://localhost:8080/"
        },
        "id": "mMbY7vrl1bF2",
        "outputId": "57574354-bbd9-450a-dcd1-79ea41b3cefb"
      },
      "execution_count": 64,
      "outputs": [
        {
          "output_type": "execute_result",
          "data": {
            "text/plain": [
              "count   35932.00\n",
              "mean       52.45\n",
              "std        14.78\n",
              "min        21.00\n",
              "25%        41.00\n",
              "50%        52.00\n",
              "75%        63.00\n",
              "max       109.00\n",
              "Name: idade, dtype: float64"
            ]
          },
          "metadata": {},
          "execution_count": 64
        }
      ]
    },
    {
      "cell_type": "code",
      "source": [
        "#idade mulheres\n",
        "df[df['sexo']=='F']['idade'].describe()"
      ],
      "metadata": {
        "colab": {
          "base_uri": "https://localhost:8080/"
        },
        "id": "yfJzK0yye7jZ",
        "outputId": "bfce04e0-8b20-48aa-d28e-38abb2cbafed"
      },
      "execution_count": 65,
      "outputs": [
        {
          "output_type": "execute_result",
          "data": {
            "text/plain": [
              "count   14371.00\n",
              "mean       52.44\n",
              "std        14.88\n",
              "min        21.00\n",
              "25%        41.00\n",
              "50%        52.00\n",
              "75%        63.00\n",
              "max       103.00\n",
              "Name: idade, dtype: float64"
            ]
          },
          "metadata": {},
          "execution_count": 65
        }
      ]
    },
    {
      "cell_type": "code",
      "source": [
        "#idade homens\n",
        "df[df['sexo']=='M']['idade'].describe()"
      ],
      "metadata": {
        "colab": {
          "base_uri": "https://localhost:8080/"
        },
        "id": "i1W_DzncfA_0",
        "outputId": "bd5d2aae-bd7b-40a4-af4e-a6a56ee1a977"
      },
      "execution_count": 66,
      "outputs": [
        {
          "output_type": "execute_result",
          "data": {
            "text/plain": [
              "count   21561.00\n",
              "mean       52.45\n",
              "std        14.71\n",
              "min        21.00\n",
              "25%        41.00\n",
              "50%        52.00\n",
              "75%        63.00\n",
              "max       109.00\n",
              "Name: idade, dtype: float64"
            ]
          },
          "metadata": {},
          "execution_count": 66
        }
      ]
    },
    {
      "cell_type": "code",
      "source": [
        "df.columns"
      ],
      "metadata": {
        "colab": {
          "base_uri": "https://localhost:8080/"
        },
        "id": "iGs8x3QBen7l",
        "outputId": "ab542bf7-b94d-4d2e-a3eb-6bb57e52737f"
      },
      "execution_count": 67,
      "outputs": [
        {
          "output_type": "execute_result",
          "data": {
            "text/plain": [
              "Index(['id_usuario', 'indicador_inadimplencia',\n",
              "       'quanto_esta_usando_em_relação_ao_limite_de_crédito',\n",
              "       'relacao_dividas_ativos', 'mais_90_dias_atraso', 'idade', 'sexo',\n",
              "       'salario_ultimo_mes', 'numero_dependentes', 'total_imovel',\n",
              "       'total_outros', 'total_emprestimos', 'dummy_atraso',\n",
              "       'dummy_dependentes', 'faixa_uso_credito', 'faixa_endividamento',\n",
              "       'faixa_atrasos'],\n",
              "      dtype='object')"
            ]
          },
          "metadata": {},
          "execution_count": 67
        }
      ]
    },
    {
      "cell_type": "code",
      "source": [
        "plt.figure(figsize=(10, 6))\n",
        "plt.boxplot(df['idade'], vert=True)"
      ],
      "metadata": {
        "colab": {
          "base_uri": "https://localhost:8080/",
          "height": 667
        },
        "id": "iBv0pYVL4al9",
        "outputId": "2f1f275f-d0c3-4276-ab16-a9f4983bb50d"
      },
      "execution_count": 68,
      "outputs": [
        {
          "output_type": "execute_result",
          "data": {
            "text/plain": [
              "{'whiskers': [<matplotlib.lines.Line2D at 0x7a3d04703c40>,\n",
              "  <matplotlib.lines.Line2D at 0x7a3d04703ee0>],\n",
              " 'caps': [<matplotlib.lines.Line2D at 0x7a3d047681c0>,\n",
              "  <matplotlib.lines.Line2D at 0x7a3d04768460>],\n",
              " 'boxes': [<matplotlib.lines.Line2D at 0x7a3d047039a0>],\n",
              " 'medians': [<matplotlib.lines.Line2D at 0x7a3d04768700>],\n",
              " 'fliers': [<matplotlib.lines.Line2D at 0x7a3d047689a0>],\n",
              " 'means': []}"
            ]
          },
          "metadata": {},
          "execution_count": 68
        },
        {
          "output_type": "display_data",
          "data": {
            "text/plain": [
              "<Figure size 1000x600 with 1 Axes>"
            ],
            "image/png": "[encoded data removed]"
          },
          "metadata": {}
        }
      ]
    },
    {
      "cell_type": "code",
      "source": [
        "#IDENTIFICANDO OUTLIERS IDADE\n",
        "\n",
        "# Calcular Q1 (25º percentil) e Q3 (75º percentil)\n",
        "Q1 = df['idade'].quantile(0.25)\n",
        "Q3 = df['idade'].quantile(0.75)\n",
        "\n",
        "# Calcular IQR\n",
        "IQR = Q3 - Q1\n",
        "\n",
        "# Definir limites para outliers\n",
        "lower_bound = Q1 - 1.5 * IQR\n",
        "upper_bound = Q3 + 1.5 * IQR\n",
        "\n",
        "# Identificar outliers\n",
        "outliers_idade = df[(df['idade'] < lower_bound) | (df['idade'] > upper_bound)]\n",
        "print(outliers_idade['idade'].min())\n",
        "print(outliers_idade['idade'].max())\n",
        "print(outliers_idade['idade'].count())\n",
        "\n"
      ],
      "metadata": {
        "colab": {
          "base_uri": "https://localhost:8080/"
        },
        "id": "zd-J1ukL1ucd",
        "outputId": "fb3dbeea-61ff-4916-cbcb-4648a72670ce"
      },
      "execution_count": 69,
      "outputs": [
        {
          "output_type": "stream",
          "name": "stdout",
          "text": [
            "97\n",
            "109\n",
            "10\n"
          ]
        }
      ]
    },
    {
      "cell_type": "code",
      "source": [
        "df['idade'].hist(figsize=(10, 5))"
      ],
      "metadata": {
        "colab": {
          "base_uri": "https://localhost:8080/",
          "height": 463
        },
        "id": "He8ArXiKqcxc",
        "outputId": "fb3a7029-e7ee-4005-f284-739ad14b9f27"
      },
      "execution_count": 70,
      "outputs": [
        {
          "output_type": "execute_result",
          "data": {
            "text/plain": [
              "<Axes: >"
            ]
          },
          "metadata": {},
          "execution_count": 70
        },
        {
          "output_type": "display_data",
          "data": {
            "text/plain": [
              "<Figure size 1000x500 with 1 Axes>"
            ],
            "image/png": "[encoded data removed]"
          },
          "metadata": {}
        }
      ]
    },
    {
      "cell_type": "markdown",
      "source": [
        "# **Criação faixas idade**\n",
        "*   21-30 anos: Jovens adultos\n",
        "*   31-40 anos: Adultos jovens\n",
        "*   41-50 anos: Adultos de meia-idade\n",
        "*   51-60 anos: Adultos maduros\n",
        "*   61-70 anos: Idosos jovens\n",
        "*   71 anos ou mais: Idosos"
      ],
      "metadata": {
        "id": "2nmCNHAmaJha"
      }
    },
    {
      "cell_type": "code",
      "source": [
        "bins= [21, 30, 40, 50, 60, 70, float('inf')]\n",
        "rotulos = ['Jovens adultos 21-30 anos', 'Adultos jovens 31-40 anos', 'Adultos de meia-idade 41-50 anos', 'Adultos maduros 51-60 anos', 'Idosos jovens 61-70 anos', 'Idosos 71 anos ou mais']\n",
        "df['faixa_idade'] = pd.cut(df['idade'], bins=bins, labels=rotulos, include_lowest=True)\n",
        "\n",
        "# Verificar distribuição dos dados\n",
        "distribuicao_faixas = df['faixa_idade'].value_counts()\n",
        "distribuicao_faixas\n"
      ],
      "metadata": {
        "colab": {
          "base_uri": "https://localhost:8080/"
        },
        "id": "vLkCOB9xa3n0",
        "outputId": "fed318c5-6044-4177-cd5e-515795d61b60"
      },
      "execution_count": 71,
      "outputs": [
        {
          "output_type": "execute_result",
          "data": {
            "text/plain": [
              "faixa_idade\n",
              "Adultos de meia-idade 41-50 anos    8447\n",
              "Adultos maduros 51-60 anos          8339\n",
              "Idosos jovens 61-70 anos            6632\n",
              "Adultos jovens 31-40 anos           5723\n",
              "Idosos 71 anos ou mais              4265\n",
              "Jovens adultos 21-30 anos           2526\n",
              "Name: count, dtype: int64"
            ]
          },
          "metadata": {},
          "execution_count": 71
        }
      ]
    },
    {
      "cell_type": "markdown",
      "source": [
        "# **ANÁLISE DISTRIBUIÇÃO SALÁRIOS**\n",
        "\n",
        "\n",
        "*   Metade dos clientes recebe menos de 5.408, portanto, abaixo da média que é 6.425\n",
        "\n",
        "\n"
      ],
      "metadata": {
        "id": "p9BQK2Ny29e1"
      }
    },
    {
      "cell_type": "code",
      "source": [
        "df['salario_ultimo_mes'].describe()"
      ],
      "metadata": {
        "colab": {
          "base_uri": "https://localhost:8080/"
        },
        "id": "l4xQpbbx3KnX",
        "outputId": "cb1d648d-ce0a-4886-d3b1-fc2f823bfe17"
      },
      "execution_count": 72,
      "outputs": [
        {
          "output_type": "execute_result",
          "data": {
            "text/plain": [
              "count     35932.00\n",
              "mean       6425.12\n",
              "std       11614.16\n",
              "min           0.00\n",
              "25%        3907.25\n",
              "50%        5408.00\n",
              "75%        7423.25\n",
              "max     1560100.00\n",
              "Name: salario_ultimo_mes, dtype: float64"
            ]
          },
          "metadata": {},
          "execution_count": 72
        }
      ]
    },
    {
      "cell_type": "code",
      "source": [
        "plt.boxplot(df['salario_ultimo_mes'], vert=True)"
      ],
      "metadata": {
        "colab": {
          "base_uri": "https://localhost:8080/",
          "height": 590
        },
        "id": "hGOo4wusnfir",
        "outputId": "952111a9-5519-4ac2-b89b-a679c3c9e102"
      },
      "execution_count": 73,
      "outputs": [
        {
          "output_type": "execute_result",
          "data": {
            "text/plain": [
              "{'whiskers': [<matplotlib.lines.Line2D at 0x7a3d04652230>,\n",
              "  <matplotlib.lines.Line2D at 0x7a3d046524d0>],\n",
              " 'caps': [<matplotlib.lines.Line2D at 0x7a3d04652770>,\n",
              "  <matplotlib.lines.Line2D at 0x7a3d04652a10>],\n",
              " 'boxes': [<matplotlib.lines.Line2D at 0x7a3d04651f90>],\n",
              " 'medians': [<matplotlib.lines.Line2D at 0x7a3d04652cb0>],\n",
              " 'fliers': [<matplotlib.lines.Line2D at 0x7a3d04652f50>],\n",
              " 'means': []}"
            ]
          },
          "metadata": {},
          "execution_count": 73
        },
        {
          "output_type": "display_data",
          "data": {
            "text/plain": [
              "<Figure size 640x480 with 1 Axes>"
            ],
            "image/png": "[encoded data removed]"
          },
          "metadata": {}
        }
      ]
    },
    {
      "cell_type": "code",
      "source": [
        "#distribuição dos salários é assimétrica à direita (positivamente assimétrica),\n",
        "#Isso geralmente ocorre quando há alguns salários muito altos que elevam a média, mas a maioria dos salários é relativamente menor\n",
        "df_sal=df.loc[df['salario_ultimo_mes'] <= 40000]\n",
        "df_sal['salario_ultimo_mes'].hist()\n"
      ],
      "metadata": {
        "colab": {
          "base_uri": "https://localhost:8080/",
          "height": 448
        },
        "id": "3w3Jdmn8xmp_",
        "outputId": "56ec11a3-2945-4d4b-a6e7-6e10b3238b82"
      },
      "execution_count": 74,
      "outputs": [
        {
          "output_type": "execute_result",
          "data": {
            "text/plain": [
              "<Axes: >"
            ]
          },
          "metadata": {},
          "execution_count": 74
        },
        {
          "output_type": "display_data",
          "data": {
            "text/plain": [
              "<Figure size 640x480 with 1 Axes>"
            ],
            "image/png": "[encoded data removed]"
          },
          "metadata": {}
        }
      ]
    },
    {
      "cell_type": "code",
      "source": [
        "#IDENTIFICANDO OUTLIERS VARIÁVEL SALÁRIO ULTIMO MES\n",
        "\n",
        "# Calcular Q1 (25º percentil) e Q3 (75º percentil)\n",
        "Q1 = df['salario_ultimo_mes'].quantile(0.25)\n",
        "Q3 = df['salario_ultimo_mes'].quantile(0.75)\n",
        "\n",
        "# Calcular IQR\n",
        "IQR = Q3 - Q1\n",
        "\n",
        "# Definir limites para outliers\n",
        "lower_bound = Q1 - 1.5 * IQR\n",
        "upper_bound = Q3 + 1.5 * IQR\n",
        "\n",
        "# Identificar outliers\n",
        "outliers_salarios = df[(df['salario_ultimo_mes'] < lower_bound) | (df['salario_ultimo_mes'] > upper_bound)]\n",
        "outliers_salarios.count()\n"
      ],
      "metadata": {
        "colab": {
          "base_uri": "https://localhost:8080/"
        },
        "id": "fV9ehhyS3K5I",
        "outputId": "485d38b1-8e58-4ef7-d573-cfc30074c9ac"
      },
      "execution_count": 75,
      "outputs": [
        {
          "output_type": "execute_result",
          "data": {
            "text/plain": [
              "id_usuario                                            2184\n",
              "indicador_inadimplencia                               2184\n",
              "quanto_esta_usando_em_relação_ao_limite_de_crédito    2184\n",
              "relacao_dividas_ativos                                2184\n",
              "mais_90_dias_atraso                                   2184\n",
              "idade                                                 2184\n",
              "sexo                                                  2184\n",
              "salario_ultimo_mes                                    2184\n",
              "numero_dependentes                                    2184\n",
              "total_imovel                                          2184\n",
              "total_outros                                          2184\n",
              "total_emprestimos                                     2184\n",
              "dummy_atraso                                          2184\n",
              "dummy_dependentes                                     2184\n",
              "faixa_uso_credito                                     2184\n",
              "faixa_endividamento                                   2184\n",
              "faixa_atrasos                                         2184\n",
              "faixa_idade                                           2184\n",
              "dtype: int64"
            ]
          },
          "metadata": {},
          "execution_count": 75
        }
      ]
    },
    {
      "cell_type": "code",
      "source": [
        "print(lower_bound)\n",
        "print(Q1)\n",
        "print(Q3)\n",
        "print(upper_bound)"
      ],
      "metadata": {
        "colab": {
          "base_uri": "https://localhost:8080/"
        },
        "id": "NOyNPV7U6HGV",
        "outputId": "94e8d247-b3da-498a-c7c1-f55e2b78352c"
      },
      "execution_count": 76,
      "outputs": [
        {
          "output_type": "stream",
          "name": "stdout",
          "text": [
            "-1366.75\n",
            "3907.25\n",
            "7423.25\n",
            "12697.25\n"
          ]
        }
      ]
    },
    {
      "cell_type": "markdown",
      "source": [
        "# **Criação faixas salário**\n",
        "*   Salário Baixo: Abaixo do 1º quartil (<= 3.908,00)\n",
        "*   Salário Médio-Baixo: Entre o 1º quartil e a mediana (3.908,01 a 5.408,00)\n",
        "*   Salário Médio: Entre a mediana e o 3º quartil (5.408,01 a 7.424,00)\n",
        "*   Salário Médio-Alto: Entre o 3º quartil  e o limite máximo do boxplot (7.424,01 a 12.698,00)\n",
        "*   Salário Alto: Acima do limite máximo do boxplot (12.698,01)\n"
      ],
      "metadata": {
        "id": "WrC0RwaFlrcq"
      }
    },
    {
      "cell_type": "code",
      "source": [
        "bins= [0, 3908, 5408, 7424, 12698, float('inf')]\n",
        "rotulos = ['Salário Baixo (menos de 3.908,00)', 'Salário Médio-Baixo (de 3.908,01 a 5.408,00)', 'Salário Médio (de 5.408,01 a 7.424,00)', 'Salário Médio-Alto (de 7.424,01 a 12.698,00)', 'Salário Alto (acima de 12.698,01)']\n",
        "df['faixa_salario'] = pd.cut(df['salario_ultimo_mes'], bins=bins, labels=rotulos, include_lowest=True)\n",
        "\n",
        "# Verificar distribuição dos dados\n",
        "distribuicao_faixas = df['faixa_salario'].value_counts()\n",
        "distribuicao_faixas"
      ],
      "metadata": {
        "colab": {
          "base_uri": "https://localhost:8080/"
        },
        "id": "7d8Oau8SoEeK",
        "outputId": "5c117608-5e13-45c8-9729-b84e28930241"
      },
      "execution_count": 77,
      "outputs": [
        {
          "output_type": "execute_result",
          "data": {
            "text/plain": [
              "faixa_salario\n",
              "Salário Médio-Baixo (de 3.908,01 a 5.408,00)    12564\n",
              "Salário Baixo (menos de 3.908,00)                8985\n",
              "Salário Médio-Alto (de 7.424,01 a 12.698,00)     6798\n",
              "Salário Médio (de 5.408,01 a 7.424,00)           5401\n",
              "Salário Alto (acima de 12.698,01)                2184\n",
              "Name: count, dtype: int64"
            ]
          },
          "metadata": {},
          "execution_count": 77
        }
      ]
    },
    {
      "cell_type": "markdown",
      "source": [
        "# **ANÁLISE NÚMERO DEPENDENTES**\n",
        "*   60,67% dos clientes não possuem dependentes\n",
        "*   30,34% tem entre 1 e 2 filhos\n"
      ],
      "metadata": {
        "id": "deQvK5V_3Dgq"
      }
    },
    {
      "cell_type": "code",
      "source": [
        "df['numero_dependentes'].describe()"
      ],
      "metadata": {
        "colab": {
          "base_uri": "https://localhost:8080/"
        },
        "id": "ilpdgJTl4Ffa",
        "outputId": "0d0f9a39-c03a-4a9d-aae2-0cf8f22f139c"
      },
      "execution_count": 78,
      "outputs": [
        {
          "output_type": "execute_result",
          "data": {
            "text/plain": [
              "count   35932.00\n",
              "mean        0.74\n",
              "std         1.11\n",
              "min         0.00\n",
              "25%         0.00\n",
              "50%         0.00\n",
              "75%         1.00\n",
              "max        13.00\n",
              "Name: numero_dependentes, dtype: float64"
            ]
          },
          "metadata": {},
          "execution_count": 78
        }
      ]
    },
    {
      "cell_type": "code",
      "source": [
        "df.groupby('numero_dependentes')['id_usuario'].count()"
      ],
      "metadata": {
        "colab": {
          "base_uri": "https://localhost:8080/"
        },
        "id": "VzUdiqGFmIQ-",
        "outputId": "1a4c865d-1189-4f07-f4ae-7c5648970ce5"
      },
      "execution_count": 79,
      "outputs": [
        {
          "output_type": "execute_result",
          "data": {
            "text/plain": [
              "numero_dependentes\n",
              "0.00     21803\n",
              "1.00      6192\n",
              "2.00      4711\n",
              "3.00      2322\n",
              "4.00       668\n",
              "5.00       171\n",
              "6.00        40\n",
              "7.00        12\n",
              "8.00         8\n",
              "9.00         3\n",
              "10.00        1\n",
              "13.00        1\n",
              "Name: id_usuario, dtype: int64"
            ]
          },
          "metadata": {},
          "execution_count": 79
        }
      ]
    },
    {
      "cell_type": "code",
      "source": [
        "plt.figure(figsize=(10, 6))\n",
        "plt.boxplot(df['numero_dependentes'], vert=True)"
      ],
      "metadata": {
        "colab": {
          "base_uri": "https://localhost:8080/",
          "height": 667
        },
        "id": "oNHuxvK04jy0",
        "outputId": "abfd4f30-9dc0-4587-85e3-29cd09789c95"
      },
      "execution_count": 80,
      "outputs": [
        {
          "output_type": "execute_result",
          "data": {
            "text/plain": [
              "{'whiskers': [<matplotlib.lines.Line2D at 0x7a3d0457dbd0>,\n",
              "  <matplotlib.lines.Line2D at 0x7a3d0457de70>],\n",
              " 'caps': [<matplotlib.lines.Line2D at 0x7a3d0457e110>,\n",
              "  <matplotlib.lines.Line2D at 0x7a3d0457e3b0>],\n",
              " 'boxes': [<matplotlib.lines.Line2D at 0x7a3d0457d930>],\n",
              " 'medians': [<matplotlib.lines.Line2D at 0x7a3d0457e650>],\n",
              " 'fliers': [<matplotlib.lines.Line2D at 0x7a3d0457e8f0>],\n",
              " 'means': []}"
            ]
          },
          "metadata": {},
          "execution_count": 80
        },
        {
          "output_type": "display_data",
          "data": {
            "text/plain": [
              "<Figure size 1000x600 with 1 Axes>"
            ],
            "image/png": "[encoded data removed]"
          },
          "metadata": {}
        }
      ]
    },
    {
      "cell_type": "code",
      "source": [
        "df['numero_dependentes'].hist(figsize=(10, 5))"
      ],
      "metadata": {
        "colab": {
          "base_uri": "https://localhost:8080/",
          "height": 463
        },
        "id": "oitT_Ne039KE",
        "outputId": "a091d26d-76d2-4dba-d004-96870df17cc1"
      },
      "execution_count": 81,
      "outputs": [
        {
          "output_type": "execute_result",
          "data": {
            "text/plain": [
              "<Axes: >"
            ]
          },
          "metadata": {},
          "execution_count": 81
        },
        {
          "output_type": "display_data",
          "data": {
            "text/plain": [
              "<Figure size 1000x500 with 1 Axes>"
            ],
            "image/png": "[encoded data removed]"
          },
          "metadata": {}
        }
      ]
    },
    {
      "cell_type": "code",
      "source": [
        "#IDENTIFICANDO OULIERS VARIÁVEL NUMERO DEPENDENTES\n",
        "\n",
        "# Calcular Q1 (25º percentil) e Q3 (75º percentil)\n",
        "Q1 = df['numero_dependentes'].quantile(0.25)\n",
        "Q3 = df['numero_dependentes'].quantile(0.75)\n",
        "\n",
        "# Calcular IQR\n",
        "IQR = Q3 - Q1\n",
        "\n",
        "# Definir limites para outliers\n",
        "lower_bound = Q1 - 1.5 * IQR\n",
        "upper_bound = Q3 + 1.5 * IQR\n",
        "\n",
        "# Identificar outliers\n",
        "outliers_n_dependentes = df[(df['numero_dependentes'] < lower_bound) | (df['numero_dependentes'] > upper_bound)]\n",
        "outliers_n_dependentes\n",
        "outliers_n_dependentes.count()"
      ],
      "metadata": {
        "colab": {
          "base_uri": "https://localhost:8080/"
        },
        "id": "lcOoTwlU3MA3",
        "outputId": "f5e51b53-cd16-478f-b6f6-c010bcdd5eca"
      },
      "execution_count": 82,
      "outputs": [
        {
          "output_type": "execute_result",
          "data": {
            "text/plain": [
              "id_usuario                                            3226\n",
              "indicador_inadimplencia                               3226\n",
              "quanto_esta_usando_em_relação_ao_limite_de_crédito    3226\n",
              "relacao_dividas_ativos                                3226\n",
              "mais_90_dias_atraso                                   3226\n",
              "idade                                                 3226\n",
              "sexo                                                  3226\n",
              "salario_ultimo_mes                                    3226\n",
              "numero_dependentes                                    3226\n",
              "total_imovel                                          3226\n",
              "total_outros                                          3226\n",
              "total_emprestimos                                     3226\n",
              "dummy_atraso                                          3226\n",
              "dummy_dependentes                                     3226\n",
              "faixa_uso_credito                                     3226\n",
              "faixa_endividamento                                   3226\n",
              "faixa_atrasos                                         3226\n",
              "faixa_idade                                           3226\n",
              "faixa_salario                                         3226\n",
              "dtype: int64"
            ]
          },
          "metadata": {},
          "execution_count": 82
        }
      ]
    },
    {
      "cell_type": "code",
      "source": [
        "print(lower_bound)\n",
        "print(Q1)\n",
        "print(Q3)\n",
        "print(upper_bound)"
      ],
      "metadata": {
        "colab": {
          "base_uri": "https://localhost:8080/"
        },
        "id": "z5RyUUmf5Nu3",
        "outputId": "fa809576-3e79-4c80-a3ab-691013e3fb4a"
      },
      "execution_count": 83,
      "outputs": [
        {
          "output_type": "stream",
          "name": "stdout",
          "text": [
            "-1.5\n",
            "0.0\n",
            "1.0\n",
            "2.5\n"
          ]
        }
      ]
    },
    {
      "cell_type": "markdown",
      "source": [
        "# **Criação faixas número dependentes**\n",
        "*   Sem dependentes\n",
        "*   1 dependente\n",
        "*   2 dependentes\n",
        "*   3 dependentes\n",
        "*   4 dependentes\n",
        "*   Mais de 5 dependentes\n"
      ],
      "metadata": {
        "id": "fOJHgyVOEeWA"
      }
    },
    {
      "cell_type": "code",
      "source": [
        "def categorizar_numero_dependentes(numero_dependentes):\n",
        "    if numero_dependentes == 0:\n",
        "        return 'Sem dependentes'\n",
        "    elif numero_dependentes == 1:\n",
        "        return '1 dependente'\n",
        "    elif numero_dependentes == 2:\n",
        "        return '2 dependentes'\n",
        "    elif numero_dependentes == 3:\n",
        "        return '3 dependentes'\n",
        "    elif numero_dependentes == 4:\n",
        "        return '4 dependentes'\n",
        "    elif numero_dependentes >=5:\n",
        "        return 'Mais de 5 dependentes'\n",
        "    else:\n",
        "        return 'Outros'"
      ],
      "metadata": {
        "id": "_TieGr7uGTiL"
      },
      "execution_count": 84,
      "outputs": []
    },
    {
      "cell_type": "code",
      "source": [
        "df['faixa_numero_dependentes'] = df['numero_dependentes'].apply(categorizar_numero_dependentes)\n",
        "\n",
        "df['faixa_numero_dependentes'].value_counts()"
      ],
      "metadata": {
        "colab": {
          "base_uri": "https://localhost:8080/"
        },
        "id": "IKC7BTo_KZ5c",
        "outputId": "057c0d26-d5f5-4b44-b3dd-1a007c6c216d"
      },
      "execution_count": 85,
      "outputs": [
        {
          "output_type": "execute_result",
          "data": {
            "text/plain": [
              "faixa_numero_dependentes\n",
              "Sem dependentes          21803\n",
              "1 dependente              6192\n",
              "2 dependentes             4711\n",
              "3 dependentes             2322\n",
              "4 dependentes              668\n",
              "Mais de 5 dependentes      236\n",
              "Name: count, dtype: int64"
            ]
          },
          "metadata": {},
          "execution_count": 85
        }
      ]
    },
    {
      "cell_type": "markdown",
      "source": [
        "# **ANÁLISE NÚMERO TOTAL EMPRÉSTIMOS**\n",
        "*   Metade dos clientes possui cerca de 8 empréstimos ativos\n",
        "\n",
        "\n",
        "\n"
      ],
      "metadata": {
        "id": "EmkaWg173Qux"
      }
    },
    {
      "cell_type": "code",
      "source": [
        "df['total_emprestimos'].describe()"
      ],
      "metadata": {
        "colab": {
          "base_uri": "https://localhost:8080/"
        },
        "id": "AbLgKg7F3Vel",
        "outputId": "11b95bcb-31e0-4ec7-98c5-2b402fc0c723"
      },
      "execution_count": 86,
      "outputs": [
        {
          "output_type": "execute_result",
          "data": {
            "text/plain": [
              "count   35932.00\n",
              "mean        8.50\n",
              "std         5.17\n",
              "min         0.00\n",
              "25%         5.00\n",
              "50%         8.00\n",
              "75%        11.00\n",
              "max        57.00\n",
              "Name: total_emprestimos, dtype: float64"
            ]
          },
          "metadata": {},
          "execution_count": 86
        }
      ]
    },
    {
      "cell_type": "code",
      "source": [
        "df['total_emprestimos'].sum()"
      ],
      "metadata": {
        "colab": {
          "base_uri": "https://localhost:8080/"
        },
        "id": "6hJ2alwQiIuL",
        "outputId": "c18bdafe-1521-49aa-d239-69d6c9beb113"
      },
      "execution_count": 87,
      "outputs": [
        {
          "output_type": "execute_result",
          "data": {
            "text/plain": [
              "305297"
            ]
          },
          "metadata": {},
          "execution_count": 87
        }
      ]
    },
    {
      "cell_type": "code",
      "source": [
        "#total outros empréstimos\n",
        "df[['total_outros']].sum()"
      ],
      "metadata": {
        "colab": {
          "base_uri": "https://localhost:8080/"
        },
        "id": "qKZPA2wakiWA",
        "outputId": "e4331129-b5fe-4e09-e3b2-d5471e25a09b"
      },
      "execution_count": 88,
      "outputs": [
        {
          "output_type": "execute_result",
          "data": {
            "text/plain": [
              "total_outros    268745\n",
              "dtype: int64"
            ]
          },
          "metadata": {},
          "execution_count": 88
        }
      ]
    },
    {
      "cell_type": "code",
      "source": [
        "#total imovel\n",
        "df[['total_imovel']].sum()"
      ],
      "metadata": {
        "colab": {
          "base_uri": "https://localhost:8080/"
        },
        "id": "Ycv6L_aqkwva",
        "outputId": "cb5c87e6-fd3d-4a7b-d4ba-608ea52b6e08"
      },
      "execution_count": 89,
      "outputs": [
        {
          "output_type": "execute_result",
          "data": {
            "text/plain": [
              "total_imovel    36552\n",
              "dtype: int64"
            ]
          },
          "metadata": {},
          "execution_count": 89
        }
      ]
    },
    {
      "cell_type": "code",
      "source": [
        "df.info()"
      ],
      "metadata": {
        "colab": {
          "base_uri": "https://localhost:8080/"
        },
        "id": "GMz6CoCYkTBK",
        "outputId": "84072d5b-b22c-4e65-de5c-907e4c258f7b"
      },
      "execution_count": 90,
      "outputs": [
        {
          "output_type": "stream",
          "name": "stdout",
          "text": [
            "<class 'pandas.core.frame.DataFrame'>\n",
            "Index: 35932 entries, 0 to 35999\n",
            "Data columns (total 20 columns):\n",
            " #   Column                                              Non-Null Count  Dtype   \n",
            "---  ------                                              --------------  -----   \n",
            " 0   id_usuario                                          35932 non-null  int64   \n",
            " 1   indicador_inadimplencia                             35932 non-null  int64   \n",
            " 2   quanto_esta_usando_em_relação_ao_limite_de_crédito  35932 non-null  float64 \n",
            " 3   relacao_dividas_ativos                              35932 non-null  float64 \n",
            " 4   mais_90_dias_atraso                                 35932 non-null  int64   \n",
            " 5   idade                                               35932 non-null  int64   \n",
            " 6   sexo                                                35932 non-null  object  \n",
            " 7   salario_ultimo_mes                                  35932 non-null  float64 \n",
            " 8   numero_dependentes                                  35932 non-null  float64 \n",
            " 9   total_imovel                                        35932 non-null  int64   \n",
            " 10  total_outros                                        35932 non-null  int64   \n",
            " 11  total_emprestimos                                   35932 non-null  int64   \n",
            " 12  dummy_atraso                                        35932 non-null  int64   \n",
            " 13  dummy_dependentes                                   35932 non-null  int64   \n",
            " 14  faixa_uso_credito                                   35932 non-null  category\n",
            " 15  faixa_endividamento                                 35932 non-null  category\n",
            " 16  faixa_atrasos                                       35932 non-null  object  \n",
            " 17  faixa_idade                                         35932 non-null  category\n",
            " 18  faixa_salario                                       35932 non-null  category\n",
            " 19  faixa_numero_dependentes                            35932 non-null  object  \n",
            "dtypes: category(4), float64(4), int64(9), object(3)\n",
            "memory usage: 4.8+ MB\n"
          ]
        }
      ]
    },
    {
      "cell_type": "code",
      "source": [
        "#IDENTIFICANDO OUTLIERS TOTAL EMPRESTIMOS\n",
        "\n",
        "# Calcular Q1 (25º percentil) e Q3 (75º percentil)\n",
        "Q1 = df['total_emprestimos'].quantile(0.25)\n",
        "Q3 = df['total_emprestimos'].quantile(0.75)\n",
        "\n",
        "# Calcular IQR\n",
        "IQR = Q3 - Q1\n",
        "\n",
        "# Definir limites para outliers\n",
        "lower_bound = Q1 - 1.5 * IQR\n",
        "upper_bound = Q3 + 1.5 * IQR\n",
        "\n",
        "# Identificar outliers\n",
        "outliers_total_emprestimos = df[(df['total_emprestimos'] < lower_bound) | (df['total_emprestimos'] > upper_bound)]\n",
        "outliers_total_emprestimos\n",
        "outliers_total_emprestimos.count()"
      ],
      "metadata": {
        "colab": {
          "base_uri": "https://localhost:8080/"
        },
        "id": "IMuWDw5JG2dS",
        "outputId": "c528d3e4-283c-4c05-fb06-0a0b94247d0e"
      },
      "execution_count": 91,
      "outputs": [
        {
          "output_type": "execute_result",
          "data": {
            "text/plain": [
              "id_usuario                                            975\n",
              "indicador_inadimplencia                               975\n",
              "quanto_esta_usando_em_relação_ao_limite_de_crédito    975\n",
              "relacao_dividas_ativos                                975\n",
              "mais_90_dias_atraso                                   975\n",
              "idade                                                 975\n",
              "sexo                                                  975\n",
              "salario_ultimo_mes                                    975\n",
              "numero_dependentes                                    975\n",
              "total_imovel                                          975\n",
              "total_outros                                          975\n",
              "total_emprestimos                                     975\n",
              "dummy_atraso                                          975\n",
              "dummy_dependentes                                     975\n",
              "faixa_uso_credito                                     975\n",
              "faixa_endividamento                                   975\n",
              "faixa_atrasos                                         975\n",
              "faixa_idade                                           975\n",
              "faixa_salario                                         975\n",
              "faixa_numero_dependentes                              975\n",
              "dtype: int64"
            ]
          },
          "metadata": {},
          "execution_count": 91
        }
      ]
    },
    {
      "cell_type": "code",
      "source": [
        "print(lower_bound)\n",
        "print(Q1)\n",
        "print(Q3)\n",
        "print(upper_bound)"
      ],
      "metadata": {
        "colab": {
          "base_uri": "https://localhost:8080/"
        },
        "id": "nBGF-pnQHGxX",
        "outputId": "e5c5e35f-2c4e-45bf-e7ec-869323e4e6de"
      },
      "execution_count": 92,
      "outputs": [
        {
          "output_type": "stream",
          "name": "stdout",
          "text": [
            "-4.0\n",
            "5.0\n",
            "11.0\n",
            "20.0\n"
          ]
        }
      ]
    },
    {
      "cell_type": "code",
      "source": [
        "\n",
        "plt.boxplot(df['total_emprestimos'], vert=True)"
      ],
      "metadata": {
        "colab": {
          "base_uri": "https://localhost:8080/",
          "height": 575
        },
        "id": "Y-9M6LswmX7x",
        "outputId": "a43487d6-9083-4ade-8727-9ab15057f796"
      },
      "execution_count": 93,
      "outputs": [
        {
          "output_type": "execute_result",
          "data": {
            "text/plain": [
              "{'whiskers': [<matplotlib.lines.Line2D at 0x7a3d0437a1a0>,\n",
              "  <matplotlib.lines.Line2D at 0x7a3d0437a440>],\n",
              " 'caps': [<matplotlib.lines.Line2D at 0x7a3d0437a6e0>,\n",
              "  <matplotlib.lines.Line2D at 0x7a3d0437a980>],\n",
              " 'boxes': [<matplotlib.lines.Line2D at 0x7a3d04379f00>],\n",
              " 'medians': [<matplotlib.lines.Line2D at 0x7a3d0437ac20>],\n",
              " 'fliers': [<matplotlib.lines.Line2D at 0x7a3d0437aec0>],\n",
              " 'means': []}"
            ]
          },
          "metadata": {},
          "execution_count": 93
        },
        {
          "output_type": "display_data",
          "data": {
            "text/plain": [
              "<Figure size 640x480 with 1 Axes>"
            ],
            "image/png": "[encoded data removed]"
          },
          "metadata": {}
        }
      ]
    },
    {
      "cell_type": "markdown",
      "source": [
        "# **Criação faixas números empréstimos**\n",
        "*   Nenhum empréstimo: 0 empréstimos\n",
        "*   Poucos empréstimos: 1 a 10 empréstimos\n",
        "*   Empréstimos moderados: 11 a 20 empréstimos\n",
        "*   Muitos empréstimos: 21 a 30 empréstimos\n",
        "*   Empréstimos elevados: 31 a 40 empréstimos\n",
        "*   Empréstimos muito elevados: 41 a 57 empréstimos"
      ],
      "metadata": {
        "id": "eMFliSpSSAzS"
      }
    },
    {
      "cell_type": "code",
      "source": [
        "# Função para categorizar os dados referentes ao número de empréstimos\n",
        "def categorizar_numero_emprestimos(total_emprestimos):\n",
        "    if total_emprestimos == 0:\n",
        "        return 'Nenhum empréstimo'\n",
        "    elif 1 <= total_emprestimos <= 10:\n",
        "        return 'Poucos empréstimos (1 a 10)'\n",
        "    elif 11 <= total_emprestimos <= 20:\n",
        "        return 'Empréstimos moderados (11 a 20)'\n",
        "    elif 21 <= total_emprestimos <= 30:\n",
        "        return 'Muitos empréstimos (21 a 30)'\n",
        "    elif 31 <= total_emprestimos <= 40:\n",
        "        return 'Empréstimos elevados (31 a 40)'\n",
        "    elif total_emprestimos >= 41:\n",
        "        return 'Empréstimos muito elevados (mais de 41)'\n",
        "    else:\n",
        "        return 'Outros'"
      ],
      "metadata": {
        "id": "dU7LNJ8njkMO"
      },
      "execution_count": 94,
      "outputs": []
    },
    {
      "cell_type": "code",
      "source": [
        "df['faixa_numero_emprestimos'] = df['total_emprestimos'].apply(categorizar_numero_emprestimos)\n",
        "\n",
        "df['faixa_numero_emprestimos'].value_counts()\n"
      ],
      "metadata": {
        "colab": {
          "base_uri": "https://localhost:8080/"
        },
        "id": "Tb63H0KLFcWt",
        "outputId": "1b91d00f-6515-4dea-ee0f-4d4ec386988c"
      },
      "execution_count": 95,
      "outputs": [
        {
          "output_type": "execute_result",
          "data": {
            "text/plain": [
              "faixa_numero_emprestimos\n",
              "Poucos empréstimos (1 a 10)                25238\n",
              "Empréstimos moderados (11 a 20)             9356\n",
              "Muitos empréstimos (21 a 30)                 872\n",
              "Nenhum empréstimo                            363\n",
              "Empréstimos elevados (31 a 40)                83\n",
              "Empréstimos muito elevados (mais de 41)       20\n",
              "Name: count, dtype: int64"
            ]
          },
          "metadata": {},
          "execution_count": 95
        }
      ]
    },
    {
      "cell_type": "code",
      "source": [
        "df.groupby('total_emprestimos')['id_usuario'].count()"
      ],
      "metadata": {
        "colab": {
          "base_uri": "https://localhost:8080/"
        },
        "collapsed": true,
        "id": "YAs-S-BiSFc1",
        "outputId": "2dafef75-1a06-4609-83af-4affd03df22f"
      },
      "execution_count": 96,
      "outputs": [
        {
          "output_type": "execute_result",
          "data": {
            "text/plain": [
              "total_emprestimos\n",
              "0      363\n",
              "1     1064\n",
              "2     1581\n",
              "3     2136\n",
              "4     2794\n",
              "5     3054\n",
              "6     3271\n",
              "7     3234\n",
              "8     3048\n",
              "9     2787\n",
              "10    2269\n",
              "11    2007\n",
              "12    1700\n",
              "13    1363\n",
              "14    1048\n",
              "15     885\n",
              "16     745\n",
              "17     562\n",
              "18     400\n",
              "19     357\n",
              "20     289\n",
              "21     199\n",
              "22     149\n",
              "23     129\n",
              "24      99\n",
              "25      99\n",
              "26      62\n",
              "27      53\n",
              "28      36\n",
              "29      21\n",
              "30      25\n",
              "31      15\n",
              "32      12\n",
              "33      15\n",
              "34      14\n",
              "35      14\n",
              "36       1\n",
              "37       2\n",
              "38       2\n",
              "39       6\n",
              "40       2\n",
              "41       1\n",
              "42       4\n",
              "43       4\n",
              "45       3\n",
              "47       1\n",
              "48       1\n",
              "49       2\n",
              "50       1\n",
              "52       1\n",
              "53       1\n",
              "57       1\n",
              "Name: id_usuario, dtype: int64"
            ]
          },
          "metadata": {},
          "execution_count": 96
        }
      ]
    },
    {
      "cell_type": "markdown",
      "source": [
        "# Função para formatar os números com 4 casas decimais após a vírgula"
      ],
      "metadata": {
        "id": "PmEtB3Lu8F63"
      }
    },
    {
      "cell_type": "code",
      "source": [
        "#Função para formatar os números em um formato mais legível\n",
        "pd.options.display.float_format = '{:.4f}'.format"
      ],
      "metadata": {
        "id": "H4jnT-jv7wm1"
      },
      "execution_count": 97,
      "outputs": []
    },
    {
      "cell_type": "markdown",
      "source": [
        "# **CÁLCULO TAXA INADIMPLÊNCIA E RISCO DE CRÉDITO POR CATEGORIA dE CADA VARIÁVEL**\n",
        "*   Dos 35.932 clientes, apenas 632 já ficaram inadimplentes, portanto, a taxa de inadimplência geral é de aprox. 1,76%\n",
        "\n",
        "\n"
      ],
      "metadata": {
        "id": "abLQKccgXTJM"
      }
    },
    {
      "cell_type": "code",
      "source": [
        "df['indicador_inadimplencia'].value_counts()"
      ],
      "metadata": {
        "colab": {
          "base_uri": "https://localhost:8080/"
        },
        "id": "IsmEJCFLzYlN",
        "outputId": "268c9016-c1da-4bb9-84cc-e0945bad525a"
      },
      "execution_count": 98,
      "outputs": [
        {
          "output_type": "execute_result",
          "data": {
            "text/plain": [
              "indicador_inadimplencia\n",
              "0    35300\n",
              "1      632\n",
              "Name: count, dtype: int64"
            ]
          },
          "metadata": {},
          "execution_count": 98
        }
      ]
    },
    {
      "cell_type": "code",
      "source": [
        "35300+632\n"
      ],
      "metadata": {
        "colab": {
          "base_uri": "https://localhost:8080/"
        },
        "id": "6kMLPrXWqJnb",
        "outputId": "443f59ce-6b4d-47f7-fa66-b6b270d603d1"
      },
      "execution_count": 99,
      "outputs": [
        {
          "output_type": "execute_result",
          "data": {
            "text/plain": [
              "35932"
            ]
          },
          "metadata": {},
          "execution_count": 99
        }
      ]
    },
    {
      "cell_type": "code",
      "source": [
        "df['indicador_inadimplencia'].value_counts(normalize=True)"
      ],
      "metadata": {
        "colab": {
          "base_uri": "https://localhost:8080/"
        },
        "id": "S72B_fqqza1q",
        "outputId": "56dd783d-9dc5-48db-cc9a-d10f6604f3cf"
      },
      "execution_count": 100,
      "outputs": [
        {
          "output_type": "execute_result",
          "data": {
            "text/plain": [
              "indicador_inadimplencia\n",
              "0   0.9824\n",
              "1   0.0176\n",
              "Name: proportion, dtype: float64"
            ]
          },
          "metadata": {},
          "execution_count": 100
        }
      ]
    },
    {
      "cell_type": "code",
      "source": [
        "taxa_inadimplencia_geral=df['indicador_inadimplencia'].mean()*100\n",
        "taxa_inadimplencia_geral"
      ],
      "metadata": {
        "colab": {
          "base_uri": "https://localhost:8080/"
        },
        "id": "hVbJ2FzRYViw",
        "outputId": "975c395c-c239-4aae-91ab-4fdb1043b457"
      },
      "execution_count": 101,
      "outputs": [
        {
          "output_type": "execute_result",
          "data": {
            "text/plain": [
              "1.7588778804408327"
            ]
          },
          "metadata": {},
          "execution_count": 101
        }
      ]
    },
    {
      "cell_type": "markdown",
      "source": [
        "# **Taxa de inadimplência e risco de acordo com o uso do limite de crédito**\n",
        "*   A maior taxa de inadimplência está entre os clientes cujo uso do limite de crédito é considerado extremo, essa taxa é de 28,90%. A segunda maior taxa é dos clientes com alto uso, onde a taxa é de 6,16%\n",
        "\n",
        "\n"
      ],
      "metadata": {
        "id": "3p621_SiyvK-"
      }
    },
    {
      "cell_type": "code",
      "source": [
        "risco_relativo_uso_credito=(df.groupby('faixa_uso_credito')['indicador_inadimplencia'].mean()*100).to_frame()\n",
        "risco_relativo_uso_credito.rename(columns={'indicador_inadimplencia': 'probab_inadimplencia %'}, inplace=True)\n",
        "risco_relativo_uso_credito ['risco_relativo']=risco_relativo_uso_credito['probab_inadimplencia %']/taxa_inadimplencia_geral\n",
        "risco_relativo_uso_credito['classif_risco_uso_crédito'] = risco_relativo_uso_credito['risco_relativo'].apply(\n",
        "    lambda x: 'baixo risco' if x <= 1 else 'alto risco')\n",
        "risco_relativo_uso_credito.reset_index(inplace=True)\n",
        "risco_relativo_uso_credito\n",
        "\n"
      ],
      "metadata": {
        "colab": {
          "base_uri": "https://localhost:8080/",
          "height": 175
        },
        "id": "Fc_Las4GYrlQ",
        "outputId": "73880e37-9d50-4112-873e-2c2f6b2a26e8"
      },
      "execution_count": 102,
      "outputs": [
        {
          "output_type": "execute_result",
          "data": {
            "text/plain": [
              "             faixa_uso_credito  probab_inadimplencia %  risco_relativo  \\\n",
              "0          Baixo Uso - 0 a 15%                  0.0500          0.0284   \n",
              "1     Uso Moderado - 16% a 55%                  0.3776          0.2147   \n",
              "2        Uso Alto - 56% a 132%                  6.1699          3.5078   \n",
              "3  Uso Extremo - mais de 132%                  28.9017         16.4319   \n",
              "\n",
              "  classif_risco_uso_crédito  \n",
              "0               baixo risco  \n",
              "1               baixo risco  \n",
              "2                alto risco  \n",
              "3                alto risco  "
            ],
            "text/html": [
              "\n",
              "  <div id=\"df-5971a234-7a90-4f69-89fc-347555ddeb3d\" class=\"colab-df-container\">\n",
              "    <div>\n",
              "<style scoped>\n",
              "    .dataframe tbody tr th:only-of-type {\n",
              "        vertical-align: middle;\n",
              "    }\n",
              "\n",
              "    .dataframe tbody tr th {\n",
              "        vertical-align: top;\n",
              "    }\n",
              "\n",
              "    .dataframe thead th {\n",
              "        text-align: right;\n",
              "    }\n",
              "</style>\n",
              "<table border=\"1\" class=\"dataframe\">\n",
              "  <thead>\n",
              "    <tr style=\"text-align: right;\">\n",
              "      <th></th>\n",
              "      <th>faixa_uso_credito</th>\n",
              "      <th>probab_inadimplencia %</th>\n",
              "      <th>risco_relativo</th>\n",
              "      <th>classif_risco_uso_crédito</th>\n",
              "    </tr>\n",
              "  </thead>\n",
              "  <tbody>\n",
              "    <tr>\n",
              "      <th>0</th>\n",
              "      <td>Baixo Uso - 0 a 15%</td>\n",
              "      <td>0.0500</td>\n",
              "      <td>0.0284</td>\n",
              "      <td>baixo risco</td>\n",
              "    </tr>\n",
              "    <tr>\n",
              "      <th>1</th>\n",
              "      <td>Uso Moderado - 16% a 55%</td>\n",
              "      <td>0.3776</td>\n",
              "      <td>0.2147</td>\n",
              "      <td>baixo risco</td>\n",
              "    </tr>\n",
              "    <tr>\n",
              "      <th>2</th>\n",
              "      <td>Uso Alto - 56% a 132%</td>\n",
              "      <td>6.1699</td>\n",
              "      <td>3.5078</td>\n",
              "      <td>alto risco</td>\n",
              "    </tr>\n",
              "    <tr>\n",
              "      <th>3</th>\n",
              "      <td>Uso Extremo - mais de 132%</td>\n",
              "      <td>28.9017</td>\n",
              "      <td>16.4319</td>\n",
              "      <td>alto risco</td>\n",
              "    </tr>\n",
              "  </tbody>\n",
              "</table>\n",
              "</div>\n",
              "    <div class=\"colab-df-buttons\">\n",
              "\n",
              "  <div class=\"colab-df-container\">\n",
              "    <button class=\"colab-df-convert\" onclick=\"convertToInteractive('df-5971a234-7a90-4f69-89fc-347555ddeb3d')\"\n",
              "            title=\"Convert this dataframe to an interactive table.\"\n",
              "            style=\"display:none;\">\n",
              "\n",
              "  <svg xmlns=\"http://www.w3.org/2000/svg\" height=\"24px\" viewBox=\"0 -960 960 960\">\n",
              "    <path d=\"M120-120v-720h720v720H120Zm60-500h600v-160H180v160Zm220 220h160v-160H400v160Zm0 220h160v-160H400v160ZM180-400h160v-160H180v160Zm440 0h160v-160H620v160ZM180-180h160v-160H180v160Zm440 0h160v-160H620v160Z\"/>\n",
              "  </svg>\n",
              "    </button>\n",
              "\n",
              "  <style>\n",
              "    .colab-df-container {\n",
              "      display:flex;\n",
              "      gap: 12px;\n",
              "    }\n",
              "\n",
              "    .colab-df-convert {\n",
              "      background-color: #E8F0FE;\n",
              "      border: none;\n",
              "      border-radius: 50%;\n",
              "      cursor: pointer;\n",
              "      display: none;\n",
              "      fill: #1967D2;\n",
              "      height: 32px;\n",
              "      padding: 0 0 0 0;\n",
              "      width: 32px;\n",
              "    }\n",
              "\n",
              "    .colab-df-convert:hover {\n",
              "      background-color: #E2EBFA;\n",
              "      box-shadow: 0px 1px 2px rgba(60, 64, 67, 0.3), 0px 1px 3px 1px rgba(60, 64, 67, 0.15);\n",
              "      fill: #174EA6;\n",
              "    }\n",
              "\n",
              "    .colab-df-buttons div {\n",
              "      margin-bottom: 4px;\n",
              "    }\n",
              "\n",
              "    [theme=dark] .colab-df-convert {\n",
              "      background-color: #3B4455;\n",
              "      fill: #D2E3FC;\n",
              "    }\n",
              "\n",
              "    [theme=dark] .colab-df-convert:hover {\n",
              "      background-color: #434B5C;\n",
              "      box-shadow: 0px 1px 3px 1px rgba(0, 0, 0, 0.15);\n",
              "      filter: drop-shadow(0px 1px 2px rgba(0, 0, 0, 0.3));\n",
              "      fill: #FFFFFF;\n",
              "    }\n",
              "  </style>\n",
              "\n",
              "    <script>\n",
              "      const buttonEl =\n",
              "        document.querySelector('#df-5971a234-7a90-4f69-89fc-347555ddeb3d button.colab-df-convert');\n",
              "      buttonEl.style.display =\n",
              "        google.colab.kernel.accessAllowed ? 'block' : 'none';\n",
              "\n",
              "      async function convertToInteractive(key) {\n",
              "        const element = document.querySelector('#df-5971a234-7a90-4f69-89fc-347555ddeb3d');\n",
              "        const dataTable =\n",
              "          await google.colab.kernel.invokeFunction('convertToInteractive',\n",
              "                                                    [key], {});\n",
              "        if (!dataTable) return;\n",
              "\n",
              "        const docLinkHtml = 'Like what you see? Visit the ' +\n",
              "          '<a target=\"_blank\" href=https://colab.research.google.com/notebooks/data_table.ipynb>data table notebook</a>'\n",
              "          + ' to learn more about interactive tables.';\n",
              "        element.innerHTML = '';\n",
              "        dataTable['output_type'] = 'display_data';\n",
              "        await google.colab.output.renderOutput(dataTable, element);\n",
              "        const docLink = document.createElement('div');\n",
              "        docLink.innerHTML = docLinkHtml;\n",
              "        element.appendChild(docLink);\n",
              "      }\n",
              "    </script>\n",
              "  </div>\n",
              "\n",
              "\n",
              "<div id=\"df-3d9a1d7b-6f28-4188-8d5f-f79237999543\">\n",
              "  <button class=\"colab-df-quickchart\" onclick=\"quickchart('df-3d9a1d7b-6f28-4188-8d5f-f79237999543')\"\n",
              "            title=\"Suggest charts\"\n",
              "            style=\"display:none;\">\n",
              "\n",
              "<svg xmlns=\"http://www.w3.org/2000/svg\" height=\"24px\"viewBox=\"0 0 24 24\"\n",
              "     width=\"24px\">\n",
              "    <g>\n",
              "        <path d=\"M19 3H5c-1.1 0-2 .9-2 2v14c0 1.1.9 2 2 2h14c1.1 0 2-.9 2-2V5c0-1.1-.9-2-2-2zM9 17H7v-7h2v7zm4 0h-2V7h2v10zm4 0h-2v-4h2v4z\"/>\n",
              "    </g>\n",
              "</svg>\n",
              "  </button>\n",
              "\n",
              "<style>\n",
              "  .colab-df-quickchart {\n",
              "      --bg-color: #E8F0FE;\n",
              "      --fill-color: #1967D2;\n",
              "      --hover-bg-color: #E2EBFA;\n",
              "      --hover-fill-color: #174EA6;\n",
              "      --disabled-fill-color: #AAA;\n",
              "      --disabled-bg-color: #DDD;\n",
              "  }\n",
              "\n",
              "  [theme=dark] .colab-df-quickchart {\n",
              "      --bg-color: #3B4455;\n",
              "      --fill-color: #D2E3FC;\n",
              "      --hover-bg-color: #434B5C;\n",
              "      --hover-fill-color: #FFFFFF;\n",
              "      --disabled-bg-color: #3B4455;\n",
              "      --disabled-fill-color: #666;\n",
              "  }\n",
              "\n",
              "  .colab-df-quickchart {\n",
              "    background-color: var(--bg-color);\n",
              "    border: none;\n",
              "    border-radius: 50%;\n",
              "    cursor: pointer;\n",
              "    display: none;\n",
              "    fill: var(--fill-color);\n",
              "    height: 32px;\n",
              "    padding: 0;\n",
              "    width: 32px;\n",
              "  }\n",
              "\n",
              "  .colab-df-quickchart:hover {\n",
              "    background-color: var(--hover-bg-color);\n",
              "    box-shadow: 0 1px 2px rgba(60, 64, 67, 0.3), 0 1px 3px 1px rgba(60, 64, 67, 0.15);\n",
              "    fill: var(--button-hover-fill-color);\n",
              "  }\n",
              "\n",
              "  .colab-df-quickchart-complete:disabled,\n",
              "  .colab-df-quickchart-complete:disabled:hover {\n",
              "    background-color: var(--disabled-bg-color);\n",
              "    fill: var(--disabled-fill-color);\n",
              "    box-shadow: none;\n",
              "  }\n",
              "\n",
              "  .colab-df-spinner {\n",
              "    border: 2px solid var(--fill-color);\n",
              "    border-color: transparent;\n",
              "    border-bottom-color: var(--fill-color);\n",
              "    animation:\n",
              "      spin 1s steps(1) infinite;\n",
              "  }\n",
              "\n",
              "  @keyframes spin {\n",
              "    0% {\n",
              "      border-color: transparent;\n",
              "      border-bottom-color: var(--fill-color);\n",
              "      border-left-color: var(--fill-color);\n",
              "    }\n",
              "    20% {\n",
              "      border-color: transparent;\n",
              "      border-left-color: var(--fill-color);\n",
              "      border-top-color: var(--fill-color);\n",
              "    }\n",
              "    30% {\n",
              "      border-color: transparent;\n",
              "      border-left-color: var(--fill-color);\n",
              "      border-top-color: var(--fill-color);\n",
              "      border-right-color: var(--fill-color);\n",
              "    }\n",
              "    40% {\n",
              "      border-color: transparent;\n",
              "      border-right-color: var(--fill-color);\n",
              "      border-top-color: var(--fill-color);\n",
              "    }\n",
              "    60% {\n",
              "      border-color: transparent;\n",
              "      border-right-color: var(--fill-color);\n",
              "    }\n",
              "    80% {\n",
              "      border-color: transparent;\n",
              "      border-right-color: var(--fill-color);\n",
              "      border-bottom-color: var(--fill-color);\n",
              "    }\n",
              "    90% {\n",
              "      border-color: transparent;\n",
              "      border-bottom-color: var(--fill-color);\n",
              "    }\n",
              "  }\n",
              "</style>\n",
              "\n",
              "  <script>\n",
              "    async function quickchart(key) {\n",
              "      const quickchartButtonEl =\n",
              "        document.querySelector('#' + key + ' button');\n",
              "      quickchartButtonEl.disabled = true;  // To prevent multiple clicks.\n",
              "      quickchartButtonEl.classList.add('colab-df-spinner');\n",
              "      try {\n",
              "        const charts = await google.colab.kernel.invokeFunction(\n",
              "            'suggestCharts', [key], {});\n",
              "      } catch (error) {\n",
              "        console.error('Error during call to suggestCharts:', error);\n",
              "      }\n",
              "      quickchartButtonEl.classList.remove('colab-df-spinner');\n",
              "      quickchartButtonEl.classList.add('colab-df-quickchart-complete');\n",
              "    }\n",
              "    (() => {\n",
              "      let quickchartButtonEl =\n",
              "        document.querySelector('#df-3d9a1d7b-6f28-4188-8d5f-f79237999543 button');\n",
              "      quickchartButtonEl.style.display =\n",
              "        google.colab.kernel.accessAllowed ? 'block' : 'none';\n",
              "    })();\n",
              "  </script>\n",
              "</div>\n",
              "\n",
              "  <div id=\"id_f213afcf-231a-4362-8a9c-8086f0ced36f\">\n",
              "    <style>\n",
              "      .colab-df-generate {\n",
              "        background-color: #E8F0FE;\n",
              "        border: none;\n",
              "        border-radius: 50%;\n",
              "        cursor: pointer;\n",
              "        display: none;\n",
              "        fill: #1967D2;\n",
              "        height: 32px;\n",
              "        padding: 0 0 0 0;\n",
              "        width: 32px;\n",
              "      }\n",
              "\n",
              "      .colab-df-generate:hover {\n",
              "        background-color: #E2EBFA;\n",
              "        box-shadow: 0px 1px 2px rgba(60, 64, 67, 0.3), 0px 1px 3px 1px rgba(60, 64, 67, 0.15);\n",
              "        fill: #174EA6;\n",
              "      }\n",
              "\n",
              "      [theme=dark] .colab-df-generate {\n",
              "        background-color: #3B4455;\n",
              "        fill: #D2E3FC;\n",
              "      }\n",
              "\n",
              "      [theme=dark] .colab-df-generate:hover {\n",
              "        background-color: #434B5C;\n",
              "        box-shadow: 0px 1px 3px 1px rgba(0, 0, 0, 0.15);\n",
              "        filter: drop-shadow(0px 1px 2px rgba(0, 0, 0, 0.3));\n",
              "        fill: #FFFFFF;\n",
              "      }\n",
              "    </style>\n",
              "    <button class=\"colab-df-generate\" onclick=\"generateWithVariable('risco_relativo_uso_credito')\"\n",
              "            title=\"Generate code using this dataframe.\"\n",
              "            style=\"display:none;\">\n",
              "\n",
              "  <svg xmlns=\"http://www.w3.org/2000/svg\" height=\"24px\"viewBox=\"0 0 24 24\"\n",
              "       width=\"24px\">\n",
              "    <path d=\"M7,19H8.4L18.45,9,17,7.55,7,17.6ZM5,21V16.75L18.45,3.32a2,2,0,0,1,2.83,0l1.4,1.43a1.91,1.91,0,0,1,.58,1.4,1.91,1.91,0,0,1-.58,1.4L9.25,21ZM18.45,9,17,7.55Zm-12,3A5.31,5.31,0,0,0,4.9,8.1,5.31,5.31,0,0,0,1,6.5,5.31,5.31,0,0,0,4.9,4.9,5.31,5.31,0,0,0,6.5,1,5.31,5.31,0,0,0,8.1,4.9,5.31,5.31,0,0,0,12,6.5,5.46,5.46,0,0,0,6.5,12Z\"/>\n",
              "  </svg>\n",
              "    </button>\n",
              "    <script>\n",
              "      (() => {\n",
              "      const buttonEl =\n",
              "        document.querySelector('#id_f213afcf-231a-4362-8a9c-8086f0ced36f button.colab-df-generate');\n",
              "      buttonEl.style.display =\n",
              "        google.colab.kernel.accessAllowed ? 'block' : 'none';\n",
              "\n",
              "      buttonEl.onclick = () => {\n",
              "        google.colab.notebook.generateWithVariable('risco_relativo_uso_credito');\n",
              "      }\n",
              "      })();\n",
              "    </script>\n",
              "  </div>\n",
              "\n",
              "    </div>\n",
              "  </div>\n"
            ],
            "application/vnd.google.colaboratory.intrinsic+json": {
              "type": "dataframe",
              "variable_name": "risco_relativo_uso_credito",
              "summary": "{\n  \"name\": \"risco_relativo_uso_credito\",\n  \"rows\": 4,\n  \"fields\": [\n    {\n      \"column\": \"faixa_uso_credito\",\n      \"properties\": {\n        \"dtype\": \"category\",\n        \"num_unique_values\": 4,\n        \"samples\": [\n          \"Uso Moderado - 16% a 55%\",\n          \"Uso Extremo - mais de 132% \",\n          \"Baixo Uso - 0 a 15%\"\n        ],\n        \"semantic_type\": \"\",\n        \"description\": \"\"\n      }\n    },\n    {\n      \"column\": \"probab_inadimplencia %\",\n      \"properties\": {\n        \"dtype\": \"number\",\n        \"std\": 13.64399323514476,\n        \"min\": 0.04995004995004995,\n        \"max\": 28.901734104046245,\n        \"num_unique_values\": 4,\n        \"samples\": [\n          0.3775680177679067,\n          28.901734104046245,\n          0.04995004995004995\n        ],\n        \"semantic_type\": \"\",\n        \"description\": \"\"\n      }\n    },\n    {\n      \"column\": \"risco_relativo\",\n      \"properties\": {\n        \"dtype\": \"number\",\n        \"std\": 7.757214634892746,\n        \"min\": 0.02839881637349992,\n        \"max\": 16.43191629472452,\n        \"num_unique_values\": 4,\n        \"samples\": [\n          0.2146641457980447,\n          16.43191629472452,\n          0.02839881637349992\n        ],\n        \"semantic_type\": \"\",\n        \"description\": \"\"\n      }\n    },\n    {\n      \"column\": \"classif_risco_uso_cr\\u00e9dito\",\n      \"properties\": {\n        \"dtype\": \"string\",\n        \"num_unique_values\": 2,\n        \"samples\": [\n          \"alto risco\",\n          \"baixo risco\"\n        ],\n        \"semantic_type\": \"\",\n        \"description\": \"\"\n      }\n    }\n  ]\n}"
            }
          },
          "metadata": {},
          "execution_count": 102
        }
      ]
    },
    {
      "cell_type": "code",
      "source": [
        "dict_uso_credito = dict(zip(risco_relativo_uso_credito['faixa_uso_credito'], risco_relativo_uso_credito['classif_risco_uso_crédito']))\n",
        "df['classif_risco_uso_crédito'] = df['faixa_uso_credito'].map(dict_uso_credito)\n",
        "df['classif_risco_uso_crédito']"
      ],
      "metadata": {
        "id": "io_T1Htonl9T",
        "colab": {
          "base_uri": "https://localhost:8080/"
        },
        "outputId": "db5ac962-2994-4424-bc2a-790c9923370d"
      },
      "execution_count": 103,
      "outputs": [
        {
          "output_type": "execute_result",
          "data": {
            "text/plain": [
              "0        baixo risco\n",
              "1        baixo risco\n",
              "2        baixo risco\n",
              "3        baixo risco\n",
              "4        baixo risco\n",
              "            ...     \n",
              "35995    baixo risco\n",
              "35996    baixo risco\n",
              "35997    baixo risco\n",
              "35998    baixo risco\n",
              "35999     alto risco\n",
              "Name: classif_risco_uso_crédito, Length: 35932, dtype: object"
            ]
          },
          "metadata": {},
          "execution_count": 103
        }
      ]
    },
    {
      "cell_type": "code",
      "source": [
        "df.groupby(['faixa_uso_credito'])['indicador_inadimplencia'].value_counts()"
      ],
      "metadata": {
        "colab": {
          "base_uri": "https://localhost:8080/"
        },
        "id": "Q81_81lztciu",
        "outputId": "cc68f5c7-2257-4775-94fa-f4d32d6c54c0"
      },
      "execution_count": 104,
      "outputs": [
        {
          "output_type": "execute_result",
          "data": {
            "text/plain": [
              "faixa_uso_credito            indicador_inadimplencia\n",
              "Baixo Uso - 0 a 15%          0                          18009\n",
              "                             1                              9\n",
              "Uso Moderado - 16% a 55%     0                           8971\n",
              "                             1                             34\n",
              "Uso Alto - 56% a 132%        0                           8197\n",
              "                             1                            539\n",
              "Uso Extremo - mais de 132%   0                            123\n",
              "                             1                             50\n",
              "Name: count, dtype: int64"
            ]
          },
          "metadata": {},
          "execution_count": 104
        }
      ]
    },
    {
      "cell_type": "markdown",
      "source": [
        "# **Taxa de inadimplência e risco de acordo com o nível de endividamento**\n",
        "*   Os maiores índices de inadimplência está entre os clientes cujo nível de endividamento é considerado alto a muito alto (Esses clientes possuem dívidas que variam entre 38 a 192% o valor do seu patrimônio).\n",
        "*   Um aspecto importante observado foi que clientes com dívidas extremas (mais de 192% ) têm menor probabilidade de inadimplência, probabilidade essa que se aproxima de clientes com nível de endividamento considerado baixo a moderado\n",
        "\n",
        "\n",
        "\n",
        "\n"
      ],
      "metadata": {
        "id": "GTreLa3a2KTW"
      }
    },
    {
      "cell_type": "code",
      "source": [
        "risco_relativo_nivel_endividamento=(df.groupby('faixa_endividamento')['indicador_inadimplencia'].mean()*100).to_frame()\n",
        "risco_relativo_nivel_endividamento.rename(columns={'indicador_inadimplencia': 'probab_inadimplencia %'}, inplace=True)\n",
        "risco_relativo_nivel_endividamento ['risco_relativo']=risco_relativo_nivel_endividamento['probab_inadimplencia %']/taxa_inadimplencia_geral\n",
        "risco_relativo_nivel_endividamento['classif_risco_nivel_dividas'] = risco_relativo_nivel_endividamento['risco_relativo'].apply(\n",
        "    lambda x: 'baixo risco' if x <= 1 else 'alto risco')\n",
        "risco_relativo_nivel_endividamento.reset_index(inplace=True)\n",
        "risco_relativo_nivel_endividamento\n"
      ],
      "metadata": {
        "colab": {
          "base_uri": "https://localhost:8080/",
          "height": 206
        },
        "id": "pO4Azk6ov5f5",
        "outputId": "0df97faa-b307-45a3-f311-d3c1f3e39adc"
      },
      "execution_count": 105,
      "outputs": [
        {
          "output_type": "execute_result",
          "data": {
            "text/plain": [
              "                     faixa_endividamento  probab_inadimplencia %  \\\n",
              "0          Baixo endividamento - 0 a 18%                  1.3482   \n",
              "1     Endividamento moderado - 19% a 37%                  1.5477   \n",
              "2         Alto endividamento - 38% a 87%                  2.2897   \n",
              "3  Endividamento muito alto - 88% a 192%                  3.4722   \n",
              "4   Extremo endividamento - mais de 192%                  1.5596   \n",
              "\n",
              "   risco_relativo classif_risco_nivel_dividas  \n",
              "0          0.7665                 baixo risco  \n",
              "1          0.8799                 baixo risco  \n",
              "2          1.3018                  alto risco  \n",
              "3          1.9741                  alto risco  \n",
              "4          0.8867                 baixo risco  "
            ],
            "text/html": [
              "\n",
              "  <div id=\"df-7f3a6741-9008-4038-9126-6f351f2fffec\" class=\"colab-df-container\">\n",
              "    <div>\n",
              "<style scoped>\n",
              "    .dataframe tbody tr th:only-of-type {\n",
              "        vertical-align: middle;\n",
              "    }\n",
              "\n",
              "    .dataframe tbody tr th {\n",
              "        vertical-align: top;\n",
              "    }\n",
              "\n",
              "    .dataframe thead th {\n",
              "        text-align: right;\n",
              "    }\n",
              "</style>\n",
              "<table border=\"1\" class=\"dataframe\">\n",
              "  <thead>\n",
              "    <tr style=\"text-align: right;\">\n",
              "      <th></th>\n",
              "      <th>faixa_endividamento</th>\n",
              "      <th>probab_inadimplencia %</th>\n",
              "      <th>risco_relativo</th>\n",
              "      <th>classif_risco_nivel_dividas</th>\n",
              "    </tr>\n",
              "  </thead>\n",
              "  <tbody>\n",
              "    <tr>\n",
              "      <th>0</th>\n",
              "      <td>Baixo endividamento - 0 a 18%</td>\n",
              "      <td>1.3482</td>\n",
              "      <td>0.7665</td>\n",
              "      <td>baixo risco</td>\n",
              "    </tr>\n",
              "    <tr>\n",
              "      <th>1</th>\n",
              "      <td>Endividamento moderado - 19% a 37%</td>\n",
              "      <td>1.5477</td>\n",
              "      <td>0.8799</td>\n",
              "      <td>baixo risco</td>\n",
              "    </tr>\n",
              "    <tr>\n",
              "      <th>2</th>\n",
              "      <td>Alto endividamento - 38% a 87%</td>\n",
              "      <td>2.2897</td>\n",
              "      <td>1.3018</td>\n",
              "      <td>alto risco</td>\n",
              "    </tr>\n",
              "    <tr>\n",
              "      <th>3</th>\n",
              "      <td>Endividamento muito alto - 88% a 192%</td>\n",
              "      <td>3.4722</td>\n",
              "      <td>1.9741</td>\n",
              "      <td>alto risco</td>\n",
              "    </tr>\n",
              "    <tr>\n",
              "      <th>4</th>\n",
              "      <td>Extremo endividamento - mais de 192%</td>\n",
              "      <td>1.5596</td>\n",
              "      <td>0.8867</td>\n",
              "      <td>baixo risco</td>\n",
              "    </tr>\n",
              "  </tbody>\n",
              "</table>\n",
              "</div>\n",
              "    <div class=\"colab-df-buttons\">\n",
              "\n",
              "  <div class=\"colab-df-container\">\n",
              "    <button class=\"colab-df-convert\" onclick=\"convertToInteractive('df-7f3a6741-9008-4038-9126-6f351f2fffec')\"\n",
              "            title=\"Convert this dataframe to an interactive table.\"\n",
              "            style=\"display:none;\">\n",
              "\n",
              "  <svg xmlns=\"http://www.w3.org/2000/svg\" height=\"24px\" viewBox=\"0 -960 960 960\">\n",
              "    <path d=\"M120-120v-720h720v720H120Zm60-500h600v-160H180v160Zm220 220h160v-160H400v160Zm0 220h160v-160H400v160ZM180-400h160v-160H180v160Zm440 0h160v-160H620v160ZM180-180h160v-160H180v160Zm440 0h160v-160H620v160Z\"/>\n",
              "  </svg>\n",
              "    </button>\n",
              "\n",
              "  <style>\n",
              "    .colab-df-container {\n",
              "      display:flex;\n",
              "      gap: 12px;\n",
              "    }\n",
              "\n",
              "    .colab-df-convert {\n",
              "      background-color: #E8F0FE;\n",
              "      border: none;\n",
              "      border-radius: 50%;\n",
              "      cursor: pointer;\n",
              "      display: none;\n",
              "      fill: #1967D2;\n",
              "      height: 32px;\n",
              "      padding: 0 0 0 0;\n",
              "      width: 32px;\n",
              "    }\n",
              "\n",
              "    .colab-df-convert:hover {\n",
              "      background-color: #E2EBFA;\n",
              "      box-shadow: 0px 1px 2px rgba(60, 64, 67, 0.3), 0px 1px 3px 1px rgba(60, 64, 67, 0.15);\n",
              "      fill: #174EA6;\n",
              "    }\n",
              "\n",
              "    .colab-df-buttons div {\n",
              "      margin-bottom: 4px;\n",
              "    }\n",
              "\n",
              "    [theme=dark] .colab-df-convert {\n",
              "      background-color: #3B4455;\n",
              "      fill: #D2E3FC;\n",
              "    }\n",
              "\n",
              "    [theme=dark] .colab-df-convert:hover {\n",
              "      background-color: #434B5C;\n",
              "      box-shadow: 0px 1px 3px 1px rgba(0, 0, 0, 0.15);\n",
              "      filter: drop-shadow(0px 1px 2px rgba(0, 0, 0, 0.3));\n",
              "      fill: #FFFFFF;\n",
              "    }\n",
              "  </style>\n",
              "\n",
              "    <script>\n",
              "      const buttonEl =\n",
              "        document.querySelector('#df-7f3a6741-9008-4038-9126-6f351f2fffec button.colab-df-convert');\n",
              "      buttonEl.style.display =\n",
              "        google.colab.kernel.accessAllowed ? 'block' : 'none';\n",
              "\n",
              "      async function convertToInteractive(key) {\n",
              "        const element = document.querySelector('#df-7f3a6741-9008-4038-9126-6f351f2fffec');\n",
              "        const dataTable =\n",
              "          await google.colab.kernel.invokeFunction('convertToInteractive',\n",
              "                                                    [key], {});\n",
              "        if (!dataTable) return;\n",
              "\n",
              "        const docLinkHtml = 'Like what you see? Visit the ' +\n",
              "          '<a target=\"_blank\" href=https://colab.research.google.com/notebooks/data_table.ipynb>data table notebook</a>'\n",
              "          + ' to learn more about interactive tables.';\n",
              "        element.innerHTML = '';\n",
              "        dataTable['output_type'] = 'display_data';\n",
              "        await google.colab.output.renderOutput(dataTable, element);\n",
              "        const docLink = document.createElement('div');\n",
              "        docLink.innerHTML = docLinkHtml;\n",
              "        element.appendChild(docLink);\n",
              "      }\n",
              "    </script>\n",
              "  </div>\n",
              "\n",
              "\n",
              "<div id=\"df-52ca48e7-4e04-4918-987a-5b67946a0227\">\n",
              "  <button class=\"colab-df-quickchart\" onclick=\"quickchart('df-52ca48e7-4e04-4918-987a-5b67946a0227')\"\n",
              "            title=\"Suggest charts\"\n",
              "            style=\"display:none;\">\n",
              "\n",
              "<svg xmlns=\"http://www.w3.org/2000/svg\" height=\"24px\"viewBox=\"0 0 24 24\"\n",
              "     width=\"24px\">\n",
              "    <g>\n",
              "        <path d=\"M19 3H5c-1.1 0-2 .9-2 2v14c0 1.1.9 2 2 2h14c1.1 0 2-.9 2-2V5c0-1.1-.9-2-2-2zM9 17H7v-7h2v7zm4 0h-2V7h2v10zm4 0h-2v-4h2v4z\"/>\n",
              "    </g>\n",
              "</svg>\n",
              "  </button>\n",
              "\n",
              "<style>\n",
              "  .colab-df-quickchart {\n",
              "      --bg-color: #E8F0FE;\n",
              "      --fill-color: #1967D2;\n",
              "      --hover-bg-color: #E2EBFA;\n",
              "      --hover-fill-color: #174EA6;\n",
              "      --disabled-fill-color: #AAA;\n",
              "      --disabled-bg-color: #DDD;\n",
              "  }\n",
              "\n",
              "  [theme=dark] .colab-df-quickchart {\n",
              "      --bg-color: #3B4455;\n",
              "      --fill-color: #D2E3FC;\n",
              "      --hover-bg-color: #434B5C;\n",
              "      --hover-fill-color: #FFFFFF;\n",
              "      --disabled-bg-color: #3B4455;\n",
              "      --disabled-fill-color: #666;\n",
              "  }\n",
              "\n",
              "  .colab-df-quickchart {\n",
              "    background-color: var(--bg-color);\n",
              "    border: none;\n",
              "    border-radius: 50%;\n",
              "    cursor: pointer;\n",
              "    display: none;\n",
              "    fill: var(--fill-color);\n",
              "    height: 32px;\n",
              "    padding: 0;\n",
              "    width: 32px;\n",
              "  }\n",
              "\n",
              "  .colab-df-quickchart:hover {\n",
              "    background-color: var(--hover-bg-color);\n",
              "    box-shadow: 0 1px 2px rgba(60, 64, 67, 0.3), 0 1px 3px 1px rgba(60, 64, 67, 0.15);\n",
              "    fill: var(--button-hover-fill-color);\n",
              "  }\n",
              "\n",
              "  .colab-df-quickchart-complete:disabled,\n",
              "  .colab-df-quickchart-complete:disabled:hover {\n",
              "    background-color: var(--disabled-bg-color);\n",
              "    fill: var(--disabled-fill-color);\n",
              "    box-shadow: none;\n",
              "  }\n",
              "\n",
              "  .colab-df-spinner {\n",
              "    border: 2px solid var(--fill-color);\n",
              "    border-color: transparent;\n",
              "    border-bottom-color: var(--fill-color);\n",
              "    animation:\n",
              "      spin 1s steps(1) infinite;\n",
              "  }\n",
              "\n",
              "  @keyframes spin {\n",
              "    0% {\n",
              "      border-color: transparent;\n",
              "      border-bottom-color: var(--fill-color);\n",
              "      border-left-color: var(--fill-color);\n",
              "    }\n",
              "    20% {\n",
              "      border-color: transparent;\n",
              "      border-left-color: var(--fill-color);\n",
              "      border-top-color: var(--fill-color);\n",
              "    }\n",
              "    30% {\n",
              "      border-color: transparent;\n",
              "      border-left-color: var(--fill-color);\n",
              "      border-top-color: var(--fill-color);\n",
              "      border-right-color: var(--fill-color);\n",
              "    }\n",
              "    40% {\n",
              "      border-color: transparent;\n",
              "      border-right-color: var(--fill-color);\n",
              "      border-top-color: var(--fill-color);\n",
              "    }\n",
              "    60% {\n",
              "      border-color: transparent;\n",
              "      border-right-color: var(--fill-color);\n",
              "    }\n",
              "    80% {\n",
              "      border-color: transparent;\n",
              "      border-right-color: var(--fill-color);\n",
              "      border-bottom-color: var(--fill-color);\n",
              "    }\n",
              "    90% {\n",
              "      border-color: transparent;\n",
              "      border-bottom-color: var(--fill-color);\n",
              "    }\n",
              "  }\n",
              "</style>\n",
              "\n",
              "  <script>\n",
              "    async function quickchart(key) {\n",
              "      const quickchartButtonEl =\n",
              "        document.querySelector('#' + key + ' button');\n",
              "      quickchartButtonEl.disabled = true;  // To prevent multiple clicks.\n",
              "      quickchartButtonEl.classList.add('colab-df-spinner');\n",
              "      try {\n",
              "        const charts = await google.colab.kernel.invokeFunction(\n",
              "            'suggestCharts', [key], {});\n",
              "      } catch (error) {\n",
              "        console.error('Error during call to suggestCharts:', error);\n",
              "      }\n",
              "      quickchartButtonEl.classList.remove('colab-df-spinner');\n",
              "      quickchartButtonEl.classList.add('colab-df-quickchart-complete');\n",
              "    }\n",
              "    (() => {\n",
              "      let quickchartButtonEl =\n",
              "        document.querySelector('#df-52ca48e7-4e04-4918-987a-5b67946a0227 button');\n",
              "      quickchartButtonEl.style.display =\n",
              "        google.colab.kernel.accessAllowed ? 'block' : 'none';\n",
              "    })();\n",
              "  </script>\n",
              "</div>\n",
              "\n",
              "  <div id=\"id_58d410c2-d57b-4ac1-a49c-dcdb843ae764\">\n",
              "    <style>\n",
              "      .colab-df-generate {\n",
              "        background-color: #E8F0FE;\n",
              "        border: none;\n",
              "        border-radius: 50%;\n",
              "        cursor: pointer;\n",
              "        display: none;\n",
              "        fill: #1967D2;\n",
              "        height: 32px;\n",
              "        padding: 0 0 0 0;\n",
              "        width: 32px;\n",
              "      }\n",
              "\n",
              "      .colab-df-generate:hover {\n",
              "        background-color: #E2EBFA;\n",
              "        box-shadow: 0px 1px 2px rgba(60, 64, 67, 0.3), 0px 1px 3px 1px rgba(60, 64, 67, 0.15);\n",
              "        fill: #174EA6;\n",
              "      }\n",
              "\n",
              "      [theme=dark] .colab-df-generate {\n",
              "        background-color: #3B4455;\n",
              "        fill: #D2E3FC;\n",
              "      }\n",
              "\n",
              "      [theme=dark] .colab-df-generate:hover {\n",
              "        background-color: #434B5C;\n",
              "        box-shadow: 0px 1px 3px 1px rgba(0, 0, 0, 0.15);\n",
              "        filter: drop-shadow(0px 1px 2px rgba(0, 0, 0, 0.3));\n",
              "        fill: #FFFFFF;\n",
              "      }\n",
              "    </style>\n",
              "    <button class=\"colab-df-generate\" onclick=\"generateWithVariable('risco_relativo_nivel_endividamento')\"\n",
              "            title=\"Generate code using this dataframe.\"\n",
              "            style=\"display:none;\">\n",
              "\n",
              "  <svg xmlns=\"http://www.w3.org/2000/svg\" height=\"24px\"viewBox=\"0 0 24 24\"\n",
              "       width=\"24px\">\n",
              "    <path d=\"M7,19H8.4L18.45,9,17,7.55,7,17.6ZM5,21V16.75L18.45,3.32a2,2,0,0,1,2.83,0l1.4,1.43a1.91,1.91,0,0,1,.58,1.4,1.91,1.91,0,0,1-.58,1.4L9.25,21ZM18.45,9,17,7.55Zm-12,3A5.31,5.31,0,0,0,4.9,8.1,5.31,5.31,0,0,0,1,6.5,5.31,5.31,0,0,0,4.9,4.9,5.31,5.31,0,0,0,6.5,1,5.31,5.31,0,0,0,8.1,4.9,5.31,5.31,0,0,0,12,6.5,5.46,5.46,0,0,0,6.5,12Z\"/>\n",
              "  </svg>\n",
              "    </button>\n",
              "    <script>\n",
              "      (() => {\n",
              "      const buttonEl =\n",
              "        document.querySelector('#id_58d410c2-d57b-4ac1-a49c-dcdb843ae764 button.colab-df-generate');\n",
              "      buttonEl.style.display =\n",
              "        google.colab.kernel.accessAllowed ? 'block' : 'none';\n",
              "\n",
              "      buttonEl.onclick = () => {\n",
              "        google.colab.notebook.generateWithVariable('risco_relativo_nivel_endividamento');\n",
              "      }\n",
              "      })();\n",
              "    </script>\n",
              "  </div>\n",
              "\n",
              "    </div>\n",
              "  </div>\n"
            ],
            "application/vnd.google.colaboratory.intrinsic+json": {
              "type": "dataframe",
              "variable_name": "risco_relativo_nivel_endividamento",
              "summary": "{\n  \"name\": \"risco_relativo_nivel_endividamento\",\n  \"rows\": 5,\n  \"fields\": [\n    {\n      \"column\": \"faixa_endividamento\",\n      \"properties\": {\n        \"dtype\": \"category\",\n        \"num_unique_values\": 5,\n        \"samples\": [\n          \"Endividamento moderado - 19% a 37%\",\n          \"Extremo endividamento - mais de 192%\",\n          \"Alto endividamento - 38% a 87%\"\n        ],\n        \"semantic_type\": \"\",\n        \"description\": \"\"\n      }\n    },\n    {\n      \"column\": \"probab_inadimplencia %\",\n      \"properties\": {\n        \"dtype\": \"number\",\n        \"std\": 0.875388286616465,\n        \"min\": 1.348240710292667,\n        \"max\": 3.4722222222222223,\n        \"num_unique_values\": 5,\n        \"samples\": [\n          1.5477118360984299,\n          1.5596087761036215,\n          2.2897302199047833\n        ],\n        \"semantic_type\": \"\",\n        \"description\": \"\"\n      }\n    },\n    {\n      \"column\": \"risco_relativo\",\n      \"properties\": {\n        \"dtype\": \"number\",\n        \"std\": 0.4976970239668167,\n        \"min\": 0.7665345759847486,\n        \"max\": 1.9741121659634318,\n        \"num_unique_values\": 5,\n        \"samples\": [\n          0.8799427483336832,\n          0.8867066858062551,\n          1.301813073759789\n        ],\n        \"semantic_type\": \"\",\n        \"description\": \"\"\n      }\n    },\n    {\n      \"column\": \"classif_risco_nivel_dividas\",\n      \"properties\": {\n        \"dtype\": \"category\",\n        \"num_unique_values\": 2,\n        \"samples\": [\n          \"alto risco\",\n          \"baixo risco\"\n        ],\n        \"semantic_type\": \"\",\n        \"description\": \"\"\n      }\n    }\n  ]\n}"
            }
          },
          "metadata": {},
          "execution_count": 105
        }
      ]
    },
    {
      "cell_type": "code",
      "source": [
        "df.groupby('faixa_endividamento')['indicador_inadimplencia'].value_counts()"
      ],
      "metadata": {
        "colab": {
          "base_uri": "https://localhost:8080/"
        },
        "id": "jOpAYHOypzgo",
        "outputId": "627fade2-5f56-46ea-d9c9-bb3d29e946ee"
      },
      "execution_count": 106,
      "outputs": [
        {
          "output_type": "execute_result",
          "data": {
            "text/plain": [
              "faixa_endividamento                    indicador_inadimplencia\n",
              "Baixo endividamento - 0 a 18%          0                          9000\n",
              "                                       1                           123\n",
              "Endividamento moderado - 19% a 37%     0                          8842\n",
              "                                       1                           139\n",
              "Alto endividamento - 38% a 87%         0                          8620\n",
              "                                       1                           202\n",
              "Endividamento muito alto - 88% a 192%  0                          1390\n",
              "                                       1                            50\n",
              "Extremo endividamento - mais de 192%   0                          7448\n",
              "                                       1                           118\n",
              "Name: count, dtype: int64"
            ]
          },
          "metadata": {},
          "execution_count": 106
        }
      ]
    },
    {
      "cell_type": "code",
      "source": [
        "dict_nivel_endividamento = dict(zip(risco_relativo_nivel_endividamento['faixa_endividamento'], risco_relativo_nivel_endividamento['classif_risco_nivel_dividas']))\n",
        "df['classif_risco_nivel_dividas'] = df['faixa_endividamento'].map(dict_nivel_endividamento)\n"
      ],
      "metadata": {
        "id": "VuYIwssHuDC-"
      },
      "execution_count": 107,
      "outputs": []
    },
    {
      "cell_type": "markdown",
      "source": [
        "# **Taxa inadimplência em relação ao atraso nos pagamentos em mais de 90 dias**\n",
        "\n",
        "*   Como esperado, clientes que costumam atrasar seus pagamentos apresentam os maiores índices de inadimplência\n",
        "**negrito**\n"
      ],
      "metadata": {
        "id": "juejf-WOM1Vu"
      }
    },
    {
      "cell_type": "code",
      "source": [
        "df.groupby('faixa_atrasos')['indicador_inadimplencia'].value_counts()"
      ],
      "metadata": {
        "colab": {
          "base_uri": "https://localhost:8080/"
        },
        "id": "uPVrRHKvNFaY",
        "outputId": "4e47b81c-212f-43b8-fc45-8888c865c89d"
      },
      "execution_count": 108,
      "outputs": [
        {
          "output_type": "execute_result",
          "data": {
            "text/plain": [
              "faixa_atrasos                     indicador_inadimplencia\n",
              "Atrasos moderados (4 a 6 vezes)   1                             95\n",
              "                                  0                             24\n",
              "Muitos atrasos (mais de 7 vezes)  1                             21\n",
              "                                  0                              8\n",
              "Nenhum atraso                     0                          33993\n",
              "                                  1                             56\n",
              "Poucos atrasos (1 a 3 vezes)      0                           1275\n",
              "                                  1                            460\n",
              "Name: count, dtype: int64"
            ]
          },
          "metadata": {},
          "execution_count": 108
        }
      ]
    },
    {
      "cell_type": "code",
      "source": [
        "risco_relativo_numero_atrasos = (df.groupby('faixa_atrasos')['indicador_inadimplencia'].mean()*100).to_frame()\n",
        "risco_relativo_numero_atrasos.rename(columns={'indicador_inadimplencia': 'probab_inadimplencia %'}, inplace=True)\n",
        "risco_relativo_numero_atrasos ['risco_relativo']=risco_relativo_numero_atrasos['probab_inadimplencia %']/taxa_inadimplencia_geral\n",
        "risco_relativo_numero_atrasos['classif_risco_numero_atrasos'] = risco_relativo_numero_atrasos['risco_relativo'].apply(\n",
        "    lambda x: 'baixo risco' if x <= 1 else 'alto risco')\n",
        "risco_relativo_numero_atrasos.reset_index(inplace=True)\n",
        "risco_relativo_numero_atrasos\n"
      ],
      "metadata": {
        "colab": {
          "base_uri": "https://localhost:8080/",
          "height": 175
        },
        "id": "uw09piHdNUih",
        "outputId": "c718ad5d-de9b-435a-f887-43d23e76a2d7"
      },
      "execution_count": 109,
      "outputs": [
        {
          "output_type": "execute_result",
          "data": {
            "text/plain": [
              "                      faixa_atrasos  probab_inadimplencia %  risco_relativo  \\\n",
              "0   Atrasos moderados (4 a 6 vezes)                 79.8319         45.3880   \n",
              "1  Muitos atrasos (mais de 7 vezes)                 72.4138         41.1704   \n",
              "2                     Nenhum atraso                  0.1645          0.0935   \n",
              "3      Poucos atrasos (1 a 3 vezes)                 26.5130         15.0738   \n",
              "\n",
              "  classif_risco_numero_atrasos  \n",
              "0                   alto risco  \n",
              "1                   alto risco  \n",
              "2                  baixo risco  \n",
              "3                   alto risco  "
            ],
            "text/html": [
              "\n",
              "  <div id=\"df-6c2ff1be-1471-44b1-b5c5-fb0b14dacdc3\" class=\"colab-df-container\">\n",
              "    <div>\n",
              "<style scoped>\n",
              "    .dataframe tbody tr th:only-of-type {\n",
              "        vertical-align: middle;\n",
              "    }\n",
              "\n",
              "    .dataframe tbody tr th {\n",
              "        vertical-align: top;\n",
              "    }\n",
              "\n",
              "    .dataframe thead th {\n",
              "        text-align: right;\n",
              "    }\n",
              "</style>\n",
              "<table border=\"1\" class=\"dataframe\">\n",
              "  <thead>\n",
              "    <tr style=\"text-align: right;\">\n",
              "      <th></th>\n",
              "      <th>faixa_atrasos</th>\n",
              "      <th>probab_inadimplencia %</th>\n",
              "      <th>risco_relativo</th>\n",
              "      <th>classif_risco_numero_atrasos</th>\n",
              "    </tr>\n",
              "  </thead>\n",
              "  <tbody>\n",
              "    <tr>\n",
              "      <th>0</th>\n",
              "      <td>Atrasos moderados (4 a 6 vezes)</td>\n",
              "      <td>79.8319</td>\n",
              "      <td>45.3880</td>\n",
              "      <td>alto risco</td>\n",
              "    </tr>\n",
              "    <tr>\n",
              "      <th>1</th>\n",
              "      <td>Muitos atrasos (mais de 7 vezes)</td>\n",
              "      <td>72.4138</td>\n",
              "      <td>41.1704</td>\n",
              "      <td>alto risco</td>\n",
              "    </tr>\n",
              "    <tr>\n",
              "      <th>2</th>\n",
              "      <td>Nenhum atraso</td>\n",
              "      <td>0.1645</td>\n",
              "      <td>0.0935</td>\n",
              "      <td>baixo risco</td>\n",
              "    </tr>\n",
              "    <tr>\n",
              "      <th>3</th>\n",
              "      <td>Poucos atrasos (1 a 3 vezes)</td>\n",
              "      <td>26.5130</td>\n",
              "      <td>15.0738</td>\n",
              "      <td>alto risco</td>\n",
              "    </tr>\n",
              "  </tbody>\n",
              "</table>\n",
              "</div>\n",
              "    <div class=\"colab-df-buttons\">\n",
              "\n",
              "  <div class=\"colab-df-container\">\n",
              "    <button class=\"colab-df-convert\" onclick=\"convertToInteractive('df-6c2ff1be-1471-44b1-b5c5-fb0b14dacdc3')\"\n",
              "            title=\"Convert this dataframe to an interactive table.\"\n",
              "            style=\"display:none;\">\n",
              "\n",
              "  <svg xmlns=\"http://www.w3.org/2000/svg\" height=\"24px\" viewBox=\"0 -960 960 960\">\n",
              "    <path d=\"M120-120v-720h720v720H120Zm60-500h600v-160H180v160Zm220 220h160v-160H400v160Zm0 220h160v-160H400v160ZM180-400h160v-160H180v160Zm440 0h160v-160H620v160ZM180-180h160v-160H180v160Zm440 0h160v-160H620v160Z\"/>\n",
              "  </svg>\n",
              "    </button>\n",
              "\n",
              "  <style>\n",
              "    .colab-df-container {\n",
              "      display:flex;\n",
              "      gap: 12px;\n",
              "    }\n",
              "\n",
              "    .colab-df-convert {\n",
              "      background-color: #E8F0FE;\n",
              "      border: none;\n",
              "      border-radius: 50%;\n",
              "      cursor: pointer;\n",
              "      display: none;\n",
              "      fill: #1967D2;\n",
              "      height: 32px;\n",
              "      padding: 0 0 0 0;\n",
              "      width: 32px;\n",
              "    }\n",
              "\n",
              "    .colab-df-convert:hover {\n",
              "      background-color: #E2EBFA;\n",
              "      box-shadow: 0px 1px 2px rgba(60, 64, 67, 0.3), 0px 1px 3px 1px rgba(60, 64, 67, 0.15);\n",
              "      fill: #174EA6;\n",
              "    }\n",
              "\n",
              "    .colab-df-buttons div {\n",
              "      margin-bottom: 4px;\n",
              "    }\n",
              "\n",
              "    [theme=dark] .colab-df-convert {\n",
              "      background-color: #3B4455;\n",
              "      fill: #D2E3FC;\n",
              "    }\n",
              "\n",
              "    [theme=dark] .colab-df-convert:hover {\n",
              "      background-color: #434B5C;\n",
              "      box-shadow: 0px 1px 3px 1px rgba(0, 0, 0, 0.15);\n",
              "      filter: drop-shadow(0px 1px 2px rgba(0, 0, 0, 0.3));\n",
              "      fill: #FFFFFF;\n",
              "    }\n",
              "  </style>\n",
              "\n",
              "    <script>\n",
              "      const buttonEl =\n",
              "        document.querySelector('#df-6c2ff1be-1471-44b1-b5c5-fb0b14dacdc3 button.colab-df-convert');\n",
              "      buttonEl.style.display =\n",
              "        google.colab.kernel.accessAllowed ? 'block' : 'none';\n",
              "\n",
              "      async function convertToInteractive(key) {\n",
              "        const element = document.querySelector('#df-6c2ff1be-1471-44b1-b5c5-fb0b14dacdc3');\n",
              "        const dataTable =\n",
              "          await google.colab.kernel.invokeFunction('convertToInteractive',\n",
              "                                                    [key], {});\n",
              "        if (!dataTable) return;\n",
              "\n",
              "        const docLinkHtml = 'Like what you see? Visit the ' +\n",
              "          '<a target=\"_blank\" href=https://colab.research.google.com/notebooks/data_table.ipynb>data table notebook</a>'\n",
              "          + ' to learn more about interactive tables.';\n",
              "        element.innerHTML = '';\n",
              "        dataTable['output_type'] = 'display_data';\n",
              "        await google.colab.output.renderOutput(dataTable, element);\n",
              "        const docLink = document.createElement('div');\n",
              "        docLink.innerHTML = docLinkHtml;\n",
              "        element.appendChild(docLink);\n",
              "      }\n",
              "    </script>\n",
              "  </div>\n",
              "\n",
              "\n",
              "<div id=\"df-22b750e3-9209-4e18-98ce-7e3a21ccfe93\">\n",
              "  <button class=\"colab-df-quickchart\" onclick=\"quickchart('df-22b750e3-9209-4e18-98ce-7e3a21ccfe93')\"\n",
              "            title=\"Suggest charts\"\n",
              "            style=\"display:none;\">\n",
              "\n",
              "<svg xmlns=\"http://www.w3.org/2000/svg\" height=\"24px\"viewBox=\"0 0 24 24\"\n",
              "     width=\"24px\">\n",
              "    <g>\n",
              "        <path d=\"M19 3H5c-1.1 0-2 .9-2 2v14c0 1.1.9 2 2 2h14c1.1 0 2-.9 2-2V5c0-1.1-.9-2-2-2zM9 17H7v-7h2v7zm4 0h-2V7h2v10zm4 0h-2v-4h2v4z\"/>\n",
              "    </g>\n",
              "</svg>\n",
              "  </button>\n",
              "\n",
              "<style>\n",
              "  .colab-df-quickchart {\n",
              "      --bg-color: #E8F0FE;\n",
              "      --fill-color: #1967D2;\n",
              "      --hover-bg-color: #E2EBFA;\n",
              "      --hover-fill-color: #174EA6;\n",
              "      --disabled-fill-color: #AAA;\n",
              "      --disabled-bg-color: #DDD;\n",
              "  }\n",
              "\n",
              "  [theme=dark] .colab-df-quickchart {\n",
              "      --bg-color: #3B4455;\n",
              "      --fill-color: #D2E3FC;\n",
              "      --hover-bg-color: #434B5C;\n",
              "      --hover-fill-color: #FFFFFF;\n",
              "      --disabled-bg-color: #3B4455;\n",
              "      --disabled-fill-color: #666;\n",
              "  }\n",
              "\n",
              "  .colab-df-quickchart {\n",
              "    background-color: var(--bg-color);\n",
              "    border: none;\n",
              "    border-radius: 50%;\n",
              "    cursor: pointer;\n",
              "    display: none;\n",
              "    fill: var(--fill-color);\n",
              "    height: 32px;\n",
              "    padding: 0;\n",
              "    width: 32px;\n",
              "  }\n",
              "\n",
              "  .colab-df-quickchart:hover {\n",
              "    background-color: var(--hover-bg-color);\n",
              "    box-shadow: 0 1px 2px rgba(60, 64, 67, 0.3), 0 1px 3px 1px rgba(60, 64, 67, 0.15);\n",
              "    fill: var(--button-hover-fill-color);\n",
              "  }\n",
              "\n",
              "  .colab-df-quickchart-complete:disabled,\n",
              "  .colab-df-quickchart-complete:disabled:hover {\n",
              "    background-color: var(--disabled-bg-color);\n",
              "    fill: var(--disabled-fill-color);\n",
              "    box-shadow: none;\n",
              "  }\n",
              "\n",
              "  .colab-df-spinner {\n",
              "    border: 2px solid var(--fill-color);\n",
              "    border-color: transparent;\n",
              "    border-bottom-color: var(--fill-color);\n",
              "    animation:\n",
              "      spin 1s steps(1) infinite;\n",
              "  }\n",
              "\n",
              "  @keyframes spin {\n",
              "    0% {\n",
              "      border-color: transparent;\n",
              "      border-bottom-color: var(--fill-color);\n",
              "      border-left-color: var(--fill-color);\n",
              "    }\n",
              "    20% {\n",
              "      border-color: transparent;\n",
              "      border-left-color: var(--fill-color);\n",
              "      border-top-color: var(--fill-color);\n",
              "    }\n",
              "    30% {\n",
              "      border-color: transparent;\n",
              "      border-left-color: var(--fill-color);\n",
              "      border-top-color: var(--fill-color);\n",
              "      border-right-color: var(--fill-color);\n",
              "    }\n",
              "    40% {\n",
              "      border-color: transparent;\n",
              "      border-right-color: var(--fill-color);\n",
              "      border-top-color: var(--fill-color);\n",
              "    }\n",
              "    60% {\n",
              "      border-color: transparent;\n",
              "      border-right-color: var(--fill-color);\n",
              "    }\n",
              "    80% {\n",
              "      border-color: transparent;\n",
              "      border-right-color: var(--fill-color);\n",
              "      border-bottom-color: var(--fill-color);\n",
              "    }\n",
              "    90% {\n",
              "      border-color: transparent;\n",
              "      border-bottom-color: var(--fill-color);\n",
              "    }\n",
              "  }\n",
              "</style>\n",
              "\n",
              "  <script>\n",
              "    async function quickchart(key) {\n",
              "      const quickchartButtonEl =\n",
              "        document.querySelector('#' + key + ' button');\n",
              "      quickchartButtonEl.disabled = true;  // To prevent multiple clicks.\n",
              "      quickchartButtonEl.classList.add('colab-df-spinner');\n",
              "      try {\n",
              "        const charts = await google.colab.kernel.invokeFunction(\n",
              "            'suggestCharts', [key], {});\n",
              "      } catch (error) {\n",
              "        console.error('Error during call to suggestCharts:', error);\n",
              "      }\n",
              "      quickchartButtonEl.classList.remove('colab-df-spinner');\n",
              "      quickchartButtonEl.classList.add('colab-df-quickchart-complete');\n",
              "    }\n",
              "    (() => {\n",
              "      let quickchartButtonEl =\n",
              "        document.querySelector('#df-22b750e3-9209-4e18-98ce-7e3a21ccfe93 button');\n",
              "      quickchartButtonEl.style.display =\n",
              "        google.colab.kernel.accessAllowed ? 'block' : 'none';\n",
              "    })();\n",
              "  </script>\n",
              "</div>\n",
              "\n",
              "  <div id=\"id_e9ce76b5-ebdf-42bd-a562-28caedb46f46\">\n",
              "    <style>\n",
              "      .colab-df-generate {\n",
              "        background-color: #E8F0FE;\n",
              "        border: none;\n",
              "        border-radius: 50%;\n",
              "        cursor: pointer;\n",
              "        display: none;\n",
              "        fill: #1967D2;\n",
              "        height: 32px;\n",
              "        padding: 0 0 0 0;\n",
              "        width: 32px;\n",
              "      }\n",
              "\n",
              "      .colab-df-generate:hover {\n",
              "        background-color: #E2EBFA;\n",
              "        box-shadow: 0px 1px 2px rgba(60, 64, 67, 0.3), 0px 1px 3px 1px rgba(60, 64, 67, 0.15);\n",
              "        fill: #174EA6;\n",
              "      }\n",
              "\n",
              "      [theme=dark] .colab-df-generate {\n",
              "        background-color: #3B4455;\n",
              "        fill: #D2E3FC;\n",
              "      }\n",
              "\n",
              "      [theme=dark] .colab-df-generate:hover {\n",
              "        background-color: #434B5C;\n",
              "        box-shadow: 0px 1px 3px 1px rgba(0, 0, 0, 0.15);\n",
              "        filter: drop-shadow(0px 1px 2px rgba(0, 0, 0, 0.3));\n",
              "        fill: #FFFFFF;\n",
              "      }\n",
              "    </style>\n",
              "    <button class=\"colab-df-generate\" onclick=\"generateWithVariable('risco_relativo_numero_atrasos')\"\n",
              "            title=\"Generate code using this dataframe.\"\n",
              "            style=\"display:none;\">\n",
              "\n",
              "  <svg xmlns=\"http://www.w3.org/2000/svg\" height=\"24px\"viewBox=\"0 0 24 24\"\n",
              "       width=\"24px\">\n",
              "    <path d=\"M7,19H8.4L18.45,9,17,7.55,7,17.6ZM5,21V16.75L18.45,3.32a2,2,0,0,1,2.83,0l1.4,1.43a1.91,1.91,0,0,1,.58,1.4,1.91,1.91,0,0,1-.58,1.4L9.25,21ZM18.45,9,17,7.55Zm-12,3A5.31,5.31,0,0,0,4.9,8.1,5.31,5.31,0,0,0,1,6.5,5.31,5.31,0,0,0,4.9,4.9,5.31,5.31,0,0,0,6.5,1,5.31,5.31,0,0,0,8.1,4.9,5.31,5.31,0,0,0,12,6.5,5.46,5.46,0,0,0,6.5,12Z\"/>\n",
              "  </svg>\n",
              "    </button>\n",
              "    <script>\n",
              "      (() => {\n",
              "      const buttonEl =\n",
              "        document.querySelector('#id_e9ce76b5-ebdf-42bd-a562-28caedb46f46 button.colab-df-generate');\n",
              "      buttonEl.style.display =\n",
              "        google.colab.kernel.accessAllowed ? 'block' : 'none';\n",
              "\n",
              "      buttonEl.onclick = () => {\n",
              "        google.colab.notebook.generateWithVariable('risco_relativo_numero_atrasos');\n",
              "      }\n",
              "      })();\n",
              "    </script>\n",
              "  </div>\n",
              "\n",
              "    </div>\n",
              "  </div>\n"
            ],
            "application/vnd.google.colaboratory.intrinsic+json": {
              "type": "dataframe",
              "variable_name": "risco_relativo_numero_atrasos",
              "summary": "{\n  \"name\": \"risco_relativo_numero_atrasos\",\n  \"rows\": 4,\n  \"fields\": [\n    {\n      \"column\": \"faixa_atrasos\",\n      \"properties\": {\n        \"dtype\": \"string\",\n        \"num_unique_values\": 4,\n        \"samples\": [\n          \"Muitos atrasos (mais de 7 vezes)\",\n          \"Poucos atrasos (1 a 3 vezes)\",\n          \"Atrasos moderados (4 a 6 vezes)\"\n        ],\n        \"semantic_type\": \"\",\n        \"description\": \"\"\n      }\n    },\n    {\n      \"column\": \"probab_inadimplencia %\",\n      \"properties\": {\n        \"dtype\": \"number\",\n        \"std\": 37.931890245638066,\n        \"min\": 0.16446885371082853,\n        \"max\": 79.83193277310924,\n        \"num_unique_values\": 4,\n        \"samples\": [\n          72.41379310344827,\n          26.512968299711815,\n          79.83193277310924\n        ],\n        \"semantic_type\": \"\",\n        \"description\": \"\"\n      }\n    },\n    {\n      \"column\": \"risco_relativo\",\n      \"properties\": {\n        \"dtype\": \"number\",\n        \"std\": 21.565960131428273,\n        \"min\": 0.09350782992939068,\n        \"max\": 45.38799063929369,\n        \"num_unique_values\": 4,\n        \"samples\": [\n          41.17044958533391,\n          15.073797103564003,\n          45.38799063929369\n        ],\n        \"semantic_type\": \"\",\n        \"description\": \"\"\n      }\n    },\n    {\n      \"column\": \"classif_risco_numero_atrasos\",\n      \"properties\": {\n        \"dtype\": \"string\",\n        \"num_unique_values\": 2,\n        \"samples\": [\n          \"baixo risco\",\n          \"alto risco\"\n        ],\n        \"semantic_type\": \"\",\n        \"description\": \"\"\n      }\n    }\n  ]\n}"
            }
          },
          "metadata": {},
          "execution_count": 109
        }
      ]
    },
    {
      "cell_type": "code",
      "source": [
        "dict_numero_atrasos = dict(zip(risco_relativo_numero_atrasos['faixa_atrasos'], risco_relativo_numero_atrasos['classif_risco_numero_atrasos']))\n",
        "df['classif_risco_numero_atrasos'] = df['faixa_atrasos'].map(dict_numero_atrasos)"
      ],
      "metadata": {
        "id": "LaJZdsASv6UD"
      },
      "execution_count": 110,
      "outputs": []
    },
    {
      "cell_type": "code",
      "source": [
        "df.groupby('faixa_atrasos')['indicador_inadimplencia'].value_counts()"
      ],
      "metadata": {
        "colab": {
          "base_uri": "https://localhost:8080/"
        },
        "id": "qofn1dLcrWqk",
        "outputId": "7018d786-7f39-49a7-ee42-7948ea313220"
      },
      "execution_count": 111,
      "outputs": [
        {
          "output_type": "execute_result",
          "data": {
            "text/plain": [
              "faixa_atrasos                     indicador_inadimplencia\n",
              "Atrasos moderados (4 a 6 vezes)   1                             95\n",
              "                                  0                             24\n",
              "Muitos atrasos (mais de 7 vezes)  1                             21\n",
              "                                  0                              8\n",
              "Nenhum atraso                     0                          33993\n",
              "                                  1                             56\n",
              "Poucos atrasos (1 a 3 vezes)      0                           1275\n",
              "                                  1                            460\n",
              "Name: count, dtype: int64"
            ]
          },
          "metadata": {},
          "execution_count": 111
        }
      ]
    },
    {
      "cell_type": "code",
      "source": [
        "dict_numero_atrasos = dict(zip(risco_relativo_numero_atrasos['faixa_atrasos'], risco_relativo_numero_atrasos['classif_risco_numero_atrasos']))"
      ],
      "metadata": {
        "id": "-gumXKPx5YPw"
      },
      "execution_count": 112,
      "outputs": []
    },
    {
      "cell_type": "markdown",
      "source": [
        "# **Taxa inadimplência e risco de acordo com a faixa salarial**\n",
        "*   A maior taxa de inadimplência está entre os clientes cujos salários são os mais baixos (8,13%)\n"
      ],
      "metadata": {
        "id": "KDov9K4eeQHo"
      }
    },
    {
      "cell_type": "code",
      "source": [
        "risco_relativo_salario = (df.groupby('faixa_salario')['indicador_inadimplencia'].mean()*100).to_frame()\n",
        "risco_relativo_salario.rename(columns={'indicador_inadimplencia': 'probab_inadimplencia %'}, inplace=True)\n",
        "risco_relativo_salario ['risco_relativo']=risco_relativo_salario['probab_inadimplencia %']/taxa_inadimplencia_geral\n",
        "risco_relativo_salario['classif_risco_salario'] = risco_relativo_salario['risco_relativo'].apply(\n",
        "    lambda x: 'baixo risco' if x <= 1 else 'alto risco')\n",
        "risco_relativo_salario.reset_index(inplace=True)\n",
        "risco_relativo_salario"
      ],
      "metadata": {
        "colab": {
          "base_uri": "https://localhost:8080/",
          "height": 0
        },
        "id": "2NO5nlyi_E_9",
        "outputId": "e19240da-f970-4065-cb04-7fd04dcaeb84"
      },
      "execution_count": 113,
      "outputs": [
        {
          "output_type": "execute_result",
          "data": {
            "text/plain": [
              "                                  faixa_salario  probab_inadimplencia %  \\\n",
              "0             Salário Baixo (menos de 3.908,00)                  2.7490   \n",
              "1  Salário Médio-Baixo (de 3.908,01 a 5.408,00)                  1.7351   \n",
              "2        Salário Médio (de 5.408,01 a 7.424,00)                  1.7404   \n",
              "3  Salário Médio-Alto (de 7.424,01 a 12.698,00)                  0.9267   \n",
              "4             Salário Alto (acima de 12.698,01)                  0.4579   \n",
              "\n",
              "   risco_relativo classif_risco_salario  \n",
              "0          1.5629            alto risco  \n",
              "1          0.9865           baixo risco  \n",
              "2          0.9895           baixo risco  \n",
              "3          0.5269           baixo risco  \n",
              "4          0.2603           baixo risco  "
            ],
            "text/html": [
              "\n",
              "  <div id=\"df-91e74fc6-24a8-4c17-86d7-910a6600eebd\" class=\"colab-df-container\">\n",
              "    <div>\n",
              "<style scoped>\n",
              "    .dataframe tbody tr th:only-of-type {\n",
              "        vertical-align: middle;\n",
              "    }\n",
              "\n",
              "    .dataframe tbody tr th {\n",
              "        vertical-align: top;\n",
              "    }\n",
              "\n",
              "    .dataframe thead th {\n",
              "        text-align: right;\n",
              "    }\n",
              "</style>\n",
              "<table border=\"1\" class=\"dataframe\">\n",
              "  <thead>\n",
              "    <tr style=\"text-align: right;\">\n",
              "      <th></th>\n",
              "      <th>faixa_salario</th>\n",
              "      <th>probab_inadimplencia %</th>\n",
              "      <th>risco_relativo</th>\n",
              "      <th>classif_risco_salario</th>\n",
              "    </tr>\n",
              "  </thead>\n",
              "  <tbody>\n",
              "    <tr>\n",
              "      <th>0</th>\n",
              "      <td>Salário Baixo (menos de 3.908,00)</td>\n",
              "      <td>2.7490</td>\n",
              "      <td>1.5629</td>\n",
              "      <td>alto risco</td>\n",
              "    </tr>\n",
              "    <tr>\n",
              "      <th>1</th>\n",
              "      <td>Salário Médio-Baixo (de 3.908,01 a 5.408,00)</td>\n",
              "      <td>1.7351</td>\n",
              "      <td>0.9865</td>\n",
              "      <td>baixo risco</td>\n",
              "    </tr>\n",
              "    <tr>\n",
              "      <th>2</th>\n",
              "      <td>Salário Médio (de 5.408,01 a 7.424,00)</td>\n",
              "      <td>1.7404</td>\n",
              "      <td>0.9895</td>\n",
              "      <td>baixo risco</td>\n",
              "    </tr>\n",
              "    <tr>\n",
              "      <th>3</th>\n",
              "      <td>Salário Médio-Alto (de 7.424,01 a 12.698,00)</td>\n",
              "      <td>0.9267</td>\n",
              "      <td>0.5269</td>\n",
              "      <td>baixo risco</td>\n",
              "    </tr>\n",
              "    <tr>\n",
              "      <th>4</th>\n",
              "      <td>Salário Alto (acima de 12.698,01)</td>\n",
              "      <td>0.4579</td>\n",
              "      <td>0.2603</td>\n",
              "      <td>baixo risco</td>\n",
              "    </tr>\n",
              "  </tbody>\n",
              "</table>\n",
              "</div>\n",
              "    <div class=\"colab-df-buttons\">\n",
              "\n",
              "  <div class=\"colab-df-container\">\n",
              "    <button class=\"colab-df-convert\" onclick=\"convertToInteractive('df-91e74fc6-24a8-4c17-86d7-910a6600eebd')\"\n",
              "            title=\"Convert this dataframe to an interactive table.\"\n",
              "            style=\"display:none;\">\n",
              "\n",
              "  <svg xmlns=\"http://www.w3.org/2000/svg\" height=\"24px\" viewBox=\"0 -960 960 960\">\n",
              "    <path d=\"M120-120v-720h720v720H120Zm60-500h600v-160H180v160Zm220 220h160v-160H400v160Zm0 220h160v-160H400v160ZM180-400h160v-160H180v160Zm440 0h160v-160H620v160ZM180-180h160v-160H180v160Zm440 0h160v-160H620v160Z\"/>\n",
              "  </svg>\n",
              "    </button>\n",
              "\n",
              "  <style>\n",
              "    .colab-df-container {\n",
              "      display:flex;\n",
              "      gap: 12px;\n",
              "    }\n",
              "\n",
              "    .colab-df-convert {\n",
              "      background-color: #E8F0FE;\n",
              "      border: none;\n",
              "      border-radius: 50%;\n",
              "      cursor: pointer;\n",
              "      display: none;\n",
              "      fill: #1967D2;\n",
              "      height: 32px;\n",
              "      padding: 0 0 0 0;\n",
              "      width: 32px;\n",
              "    }\n",
              "\n",
              "    .colab-df-convert:hover {\n",
              "      background-color: #E2EBFA;\n",
              "      box-shadow: 0px 1px 2px rgba(60, 64, 67, 0.3), 0px 1px 3px 1px rgba(60, 64, 67, 0.15);\n",
              "      fill: #174EA6;\n",
              "    }\n",
              "\n",
              "    .colab-df-buttons div {\n",
              "      margin-bottom: 4px;\n",
              "    }\n",
              "\n",
              "    [theme=dark] .colab-df-convert {\n",
              "      background-color: #3B4455;\n",
              "      fill: #D2E3FC;\n",
              "    }\n",
              "\n",
              "    [theme=dark] .colab-df-convert:hover {\n",
              "      background-color: #434B5C;\n",
              "      box-shadow: 0px 1px 3px 1px rgba(0, 0, 0, 0.15);\n",
              "      filter: drop-shadow(0px 1px 2px rgba(0, 0, 0, 0.3));\n",
              "      fill: #FFFFFF;\n",
              "    }\n",
              "  </style>\n",
              "\n",
              "    <script>\n",
              "      const buttonEl =\n",
              "        document.querySelector('#df-91e74fc6-24a8-4c17-86d7-910a6600eebd button.colab-df-convert');\n",
              "      buttonEl.style.display =\n",
              "        google.colab.kernel.accessAllowed ? 'block' : 'none';\n",
              "\n",
              "      async function convertToInteractive(key) {\n",
              "        const element = document.querySelector('#df-91e74fc6-24a8-4c17-86d7-910a6600eebd');\n",
              "        const dataTable =\n",
              "          await google.colab.kernel.invokeFunction('convertToInteractive',\n",
              "                                                    [key], {});\n",
              "        if (!dataTable) return;\n",
              "\n",
              "        const docLinkHtml = 'Like what you see? Visit the ' +\n",
              "          '<a target=\"_blank\" href=https://colab.research.google.com/notebooks/data_table.ipynb>data table notebook</a>'\n",
              "          + ' to learn more about interactive tables.';\n",
              "        element.innerHTML = '';\n",
              "        dataTable['output_type'] = 'display_data';\n",
              "        await google.colab.output.renderOutput(dataTable, element);\n",
              "        const docLink = document.createElement('div');\n",
              "        docLink.innerHTML = docLinkHtml;\n",
              "        element.appendChild(docLink);\n",
              "      }\n",
              "    </script>\n",
              "  </div>\n",
              "\n",
              "\n",
              "<div id=\"df-7f780215-30d3-48c3-98dc-501b49a8e846\">\n",
              "  <button class=\"colab-df-quickchart\" onclick=\"quickchart('df-7f780215-30d3-48c3-98dc-501b49a8e846')\"\n",
              "            title=\"Suggest charts\"\n",
              "            style=\"display:none;\">\n",
              "\n",
              "<svg xmlns=\"http://www.w3.org/2000/svg\" height=\"24px\"viewBox=\"0 0 24 24\"\n",
              "     width=\"24px\">\n",
              "    <g>\n",
              "        <path d=\"M19 3H5c-1.1 0-2 .9-2 2v14c0 1.1.9 2 2 2h14c1.1 0 2-.9 2-2V5c0-1.1-.9-2-2-2zM9 17H7v-7h2v7zm4 0h-2V7h2v10zm4 0h-2v-4h2v4z\"/>\n",
              "    </g>\n",
              "</svg>\n",
              "  </button>\n",
              "\n",
              "<style>\n",
              "  .colab-df-quickchart {\n",
              "      --bg-color: #E8F0FE;\n",
              "      --fill-color: #1967D2;\n",
              "      --hover-bg-color: #E2EBFA;\n",
              "      --hover-fill-color: #174EA6;\n",
              "      --disabled-fill-color: #AAA;\n",
              "      --disabled-bg-color: #DDD;\n",
              "  }\n",
              "\n",
              "  [theme=dark] .colab-df-quickchart {\n",
              "      --bg-color: #3B4455;\n",
              "      --fill-color: #D2E3FC;\n",
              "      --hover-bg-color: #434B5C;\n",
              "      --hover-fill-color: #FFFFFF;\n",
              "      --disabled-bg-color: #3B4455;\n",
              "      --disabled-fill-color: #666;\n",
              "  }\n",
              "\n",
              "  .colab-df-quickchart {\n",
              "    background-color: var(--bg-color);\n",
              "    border: none;\n",
              "    border-radius: 50%;\n",
              "    cursor: pointer;\n",
              "    display: none;\n",
              "    fill: var(--fill-color);\n",
              "    height: 32px;\n",
              "    padding: 0;\n",
              "    width: 32px;\n",
              "  }\n",
              "\n",
              "  .colab-df-quickchart:hover {\n",
              "    background-color: var(--hover-bg-color);\n",
              "    box-shadow: 0 1px 2px rgba(60, 64, 67, 0.3), 0 1px 3px 1px rgba(60, 64, 67, 0.15);\n",
              "    fill: var(--button-hover-fill-color);\n",
              "  }\n",
              "\n",
              "  .colab-df-quickchart-complete:disabled,\n",
              "  .colab-df-quickchart-complete:disabled:hover {\n",
              "    background-color: var(--disabled-bg-color);\n",
              "    fill: var(--disabled-fill-color);\n",
              "    box-shadow: none;\n",
              "  }\n",
              "\n",
              "  .colab-df-spinner {\n",
              "    border: 2px solid var(--fill-color);\n",
              "    border-color: transparent;\n",
              "    border-bottom-color: var(--fill-color);\n",
              "    animation:\n",
              "      spin 1s steps(1) infinite;\n",
              "  }\n",
              "\n",
              "  @keyframes spin {\n",
              "    0% {\n",
              "      border-color: transparent;\n",
              "      border-bottom-color: var(--fill-color);\n",
              "      border-left-color: var(--fill-color);\n",
              "    }\n",
              "    20% {\n",
              "      border-color: transparent;\n",
              "      border-left-color: var(--fill-color);\n",
              "      border-top-color: var(--fill-color);\n",
              "    }\n",
              "    30% {\n",
              "      border-color: transparent;\n",
              "      border-left-color: var(--fill-color);\n",
              "      border-top-color: var(--fill-color);\n",
              "      border-right-color: var(--fill-color);\n",
              "    }\n",
              "    40% {\n",
              "      border-color: transparent;\n",
              "      border-right-color: var(--fill-color);\n",
              "      border-top-color: var(--fill-color);\n",
              "    }\n",
              "    60% {\n",
              "      border-color: transparent;\n",
              "      border-right-color: var(--fill-color);\n",
              "    }\n",
              "    80% {\n",
              "      border-color: transparent;\n",
              "      border-right-color: var(--fill-color);\n",
              "      border-bottom-color: var(--fill-color);\n",
              "    }\n",
              "    90% {\n",
              "      border-color: transparent;\n",
              "      border-bottom-color: var(--fill-color);\n",
              "    }\n",
              "  }\n",
              "</style>\n",
              "\n",
              "  <script>\n",
              "    async function quickchart(key) {\n",
              "      const quickchartButtonEl =\n",
              "        document.querySelector('#' + key + ' button');\n",
              "      quickchartButtonEl.disabled = true;  // To prevent multiple clicks.\n",
              "      quickchartButtonEl.classList.add('colab-df-spinner');\n",
              "      try {\n",
              "        const charts = await google.colab.kernel.invokeFunction(\n",
              "            'suggestCharts', [key], {});\n",
              "      } catch (error) {\n",
              "        console.error('Error during call to suggestCharts:', error);\n",
              "      }\n",
              "      quickchartButtonEl.classList.remove('colab-df-spinner');\n",
              "      quickchartButtonEl.classList.add('colab-df-quickchart-complete');\n",
              "    }\n",
              "    (() => {\n",
              "      let quickchartButtonEl =\n",
              "        document.querySelector('#df-7f780215-30d3-48c3-98dc-501b49a8e846 button');\n",
              "      quickchartButtonEl.style.display =\n",
              "        google.colab.kernel.accessAllowed ? 'block' : 'none';\n",
              "    })();\n",
              "  </script>\n",
              "</div>\n",
              "\n",
              "  <div id=\"id_3f984576-0499-445a-baef-1f620589024f\">\n",
              "    <style>\n",
              "      .colab-df-generate {\n",
              "        background-color: #E8F0FE;\n",
              "        border: none;\n",
              "        border-radius: 50%;\n",
              "        cursor: pointer;\n",
              "        display: none;\n",
              "        fill: #1967D2;\n",
              "        height: 32px;\n",
              "        padding: 0 0 0 0;\n",
              "        width: 32px;\n",
              "      }\n",
              "\n",
              "      .colab-df-generate:hover {\n",
              "        background-color: #E2EBFA;\n",
              "        box-shadow: 0px 1px 2px rgba(60, 64, 67, 0.3), 0px 1px 3px 1px rgba(60, 64, 67, 0.15);\n",
              "        fill: #174EA6;\n",
              "      }\n",
              "\n",
              "      [theme=dark] .colab-df-generate {\n",
              "        background-color: #3B4455;\n",
              "        fill: #D2E3FC;\n",
              "      }\n",
              "\n",
              "      [theme=dark] .colab-df-generate:hover {\n",
              "        background-color: #434B5C;\n",
              "        box-shadow: 0px 1px 3px 1px rgba(0, 0, 0, 0.15);\n",
              "        filter: drop-shadow(0px 1px 2px rgba(0, 0, 0, 0.3));\n",
              "        fill: #FFFFFF;\n",
              "      }\n",
              "    </style>\n",
              "    <button class=\"colab-df-generate\" onclick=\"generateWithVariable('risco_relativo_salario')\"\n",
              "            title=\"Generate code using this dataframe.\"\n",
              "            style=\"display:none;\">\n",
              "\n",
              "  <svg xmlns=\"http://www.w3.org/2000/svg\" height=\"24px\"viewBox=\"0 0 24 24\"\n",
              "       width=\"24px\">\n",
              "    <path d=\"M7,19H8.4L18.45,9,17,7.55,7,17.6ZM5,21V16.75L18.45,3.32a2,2,0,0,1,2.83,0l1.4,1.43a1.91,1.91,0,0,1,.58,1.4,1.91,1.91,0,0,1-.58,1.4L9.25,21ZM18.45,9,17,7.55Zm-12,3A5.31,5.31,0,0,0,4.9,8.1,5.31,5.31,0,0,0,1,6.5,5.31,5.31,0,0,0,4.9,4.9,5.31,5.31,0,0,0,6.5,1,5.31,5.31,0,0,0,8.1,4.9,5.31,5.31,0,0,0,12,6.5,5.46,5.46,0,0,0,6.5,12Z\"/>\n",
              "  </svg>\n",
              "    </button>\n",
              "    <script>\n",
              "      (() => {\n",
              "      const buttonEl =\n",
              "        document.querySelector('#id_3f984576-0499-445a-baef-1f620589024f button.colab-df-generate');\n",
              "      buttonEl.style.display =\n",
              "        google.colab.kernel.accessAllowed ? 'block' : 'none';\n",
              "\n",
              "      buttonEl.onclick = () => {\n",
              "        google.colab.notebook.generateWithVariable('risco_relativo_salario');\n",
              "      }\n",
              "      })();\n",
              "    </script>\n",
              "  </div>\n",
              "\n",
              "    </div>\n",
              "  </div>\n"
            ],
            "application/vnd.google.colaboratory.intrinsic+json": {
              "type": "dataframe",
              "variable_name": "risco_relativo_salario",
              "summary": "{\n  \"name\": \"risco_relativo_salario\",\n  \"rows\": 5,\n  \"fields\": [\n    {\n      \"column\": \"faixa_salario\",\n      \"properties\": {\n        \"dtype\": \"category\",\n        \"num_unique_values\": 5,\n        \"samples\": [\n          \"Sal\\u00e1rio M\\u00e9dio-Baixo (de 3.908,01 a 5.408,00)\",\n          \"Sal\\u00e1rio Alto (acima de 12.698,01)\",\n          \"Sal\\u00e1rio M\\u00e9dio (de 5.408,01 a 7.424,00)\"\n        ],\n        \"semantic_type\": \"\",\n        \"description\": \"\"\n      }\n    },\n    {\n      \"column\": \"probab_inadimplencia %\",\n      \"properties\": {\n        \"dtype\": \"number\",\n        \"std\": 0.8782667489000168,\n        \"min\": 0.4578754578754579,\n        \"max\": 2.7490261547022814,\n        \"num_unique_values\": 5,\n        \"samples\": [\n          1.7351162050302453,\n          0.4578754578754579,\n          1.7404184410294388\n        ],\n        \"semantic_type\": \"\",\n        \"description\": \"\"\n      }\n    },\n    {\n      \"column\": \"risco_relativo\",\n      \"properties\": {\n        \"dtype\": \"number\",\n        \"std\": 0.49933355730182605,\n        \"min\": 0.26032248342374925,\n        \"max\": 1.56294316124624,\n        \"num_unique_values\": 5,\n        \"samples\": [\n          0.9864904347966261,\n          0.26032248342374925,\n          0.9895049908713575\n        ],\n        \"semantic_type\": \"\",\n        \"description\": \"\"\n      }\n    },\n    {\n      \"column\": \"classif_risco_salario\",\n      \"properties\": {\n        \"dtype\": \"category\",\n        \"num_unique_values\": 2,\n        \"samples\": [\n          \"baixo risco\",\n          \"alto risco\"\n        ],\n        \"semantic_type\": \"\",\n        \"description\": \"\"\n      }\n    }\n  ]\n}"
            }
          },
          "metadata": {},
          "execution_count": 113
        }
      ]
    },
    {
      "cell_type": "code",
      "source": [
        "df.groupby('faixa_salario')['indicador_inadimplencia'].value_counts()"
      ],
      "metadata": {
        "colab": {
          "base_uri": "https://localhost:8080/"
        },
        "id": "JSC5-5z_eeKB",
        "outputId": "b2a00362-5baa-489a-c4a0-23472c451ecb"
      },
      "execution_count": 114,
      "outputs": [
        {
          "output_type": "execute_result",
          "data": {
            "text/plain": [
              "faixa_salario                                 indicador_inadimplencia\n",
              "Salário Baixo (menos de 3.908,00)             0                           8738\n",
              "                                              1                            247\n",
              "Salário Médio-Baixo (de 3.908,01 a 5.408,00)  0                          12346\n",
              "                                              1                            218\n",
              "Salário Médio (de 5.408,01 a 7.424,00)        0                           5307\n",
              "                                              1                             94\n",
              "Salário Médio-Alto (de 7.424,01 a 12.698,00)  0                           6735\n",
              "                                              1                             63\n",
              "Salário Alto (acima de 12.698,01)             0                           2174\n",
              "                                              1                             10\n",
              "Name: count, dtype: int64"
            ]
          },
          "metadata": {},
          "execution_count": 114
        }
      ]
    },
    {
      "cell_type": "code",
      "source": [
        "dict_salario = dict(zip(risco_relativo_salario['faixa_salario'], risco_relativo_salario['classif_risco_salario']))\n",
        "df['classif_risco_salario'] = df['faixa_salario'].map(dict_salario)"
      ],
      "metadata": {
        "id": "Q0JbI4bTur6P"
      },
      "execution_count": 115,
      "outputs": []
    },
    {
      "cell_type": "markdown",
      "source": [
        "# **Taxa de inadimplência e risco de acordo com faixa etária**\n",
        "*  O grupo de clientes que têm maior incidência de inadimplentes é o grupo que tem entre 21 e 30 anos com 9,22%\n",
        "\n"
      ],
      "metadata": {
        "id": "hWUzng6zee52"
      }
    },
    {
      "cell_type": "code",
      "source": [
        "risco_relativo_idade = (df.groupby('faixa_idade')['indicador_inadimplencia'].mean()*100).to_frame()\n",
        "risco_relativo_idade.rename(columns={'indicador_inadimplencia': 'probab_inadimplencia %'}, inplace=True)\n",
        "risco_relativo_idade ['risco_relativo']=risco_relativo_idade['probab_inadimplencia %']/taxa_inadimplencia_geral\n",
        "risco_relativo_idade['classif_risco_idade'] = risco_relativo_idade['risco_relativo'].apply(\n",
        "    lambda x: 'baixo risco' if x <= 1.2385 else 'alto risco')\n",
        "risco_relativo_idade.reset_index(inplace=True)\n",
        "risco_relativo_idade"
      ],
      "metadata": {
        "colab": {
          "base_uri": "https://localhost:8080/",
          "height": 0
        },
        "id": "vvnKznrq32xR",
        "outputId": "44500f5e-9222-403d-a558-93e268fa7b32"
      },
      "execution_count": 116,
      "outputs": [
        {
          "output_type": "execute_result",
          "data": {
            "text/plain": [
              "                        faixa_idade  probab_inadimplencia %  risco_relativo  \\\n",
              "0         Jovens adultos 21-30 anos                  2.8504          1.6206   \n",
              "1         Adultos jovens 31-40 anos                  3.1627          1.7981   \n",
              "2  Adultos de meia-idade 41-50 anos                  2.1783          1.2385   \n",
              "3        Adultos maduros 51-60 anos                  1.5589          0.8863   \n",
              "4          Idosos jovens 61-70 anos                  0.6785          0.3858   \n",
              "5            Idosos 71 anos ou mais                  0.4689          0.2666   \n",
              "\n",
              "  classif_risco_idade  \n",
              "0          alto risco  \n",
              "1          alto risco  \n",
              "2         baixo risco  \n",
              "3         baixo risco  \n",
              "4         baixo risco  \n",
              "5         baixo risco  "
            ],
            "text/html": [
              "\n",
              "  <div id=\"df-ba83b524-23fc-4c5d-a938-9e881871a094\" class=\"colab-df-container\">\n",
              "    <div>\n",
              "<style scoped>\n",
              "    .dataframe tbody tr th:only-of-type {\n",
              "        vertical-align: middle;\n",
              "    }\n",
              "\n",
              "    .dataframe tbody tr th {\n",
              "        vertical-align: top;\n",
              "    }\n",
              "\n",
              "    .dataframe thead th {\n",
              "        text-align: right;\n",
              "    }\n",
              "</style>\n",
              "<table border=\"1\" class=\"dataframe\">\n",
              "  <thead>\n",
              "    <tr style=\"text-align: right;\">\n",
              "      <th></th>\n",
              "      <th>faixa_idade</th>\n",
              "      <th>probab_inadimplencia %</th>\n",
              "      <th>risco_relativo</th>\n",
              "      <th>classif_risco_idade</th>\n",
              "    </tr>\n",
              "  </thead>\n",
              "  <tbody>\n",
              "    <tr>\n",
              "      <th>0</th>\n",
              "      <td>Jovens adultos 21-30 anos</td>\n",
              "      <td>2.8504</td>\n",
              "      <td>1.6206</td>\n",
              "      <td>alto risco</td>\n",
              "    </tr>\n",
              "    <tr>\n",
              "      <th>1</th>\n",
              "      <td>Adultos jovens 31-40 anos</td>\n",
              "      <td>3.1627</td>\n",
              "      <td>1.7981</td>\n",
              "      <td>alto risco</td>\n",
              "    </tr>\n",
              "    <tr>\n",
              "      <th>2</th>\n",
              "      <td>Adultos de meia-idade 41-50 anos</td>\n",
              "      <td>2.1783</td>\n",
              "      <td>1.2385</td>\n",
              "      <td>baixo risco</td>\n",
              "    </tr>\n",
              "    <tr>\n",
              "      <th>3</th>\n",
              "      <td>Adultos maduros 51-60 anos</td>\n",
              "      <td>1.5589</td>\n",
              "      <td>0.8863</td>\n",
              "      <td>baixo risco</td>\n",
              "    </tr>\n",
              "    <tr>\n",
              "      <th>4</th>\n",
              "      <td>Idosos jovens 61-70 anos</td>\n",
              "      <td>0.6785</td>\n",
              "      <td>0.3858</td>\n",
              "      <td>baixo risco</td>\n",
              "    </tr>\n",
              "    <tr>\n",
              "      <th>5</th>\n",
              "      <td>Idosos 71 anos ou mais</td>\n",
              "      <td>0.4689</td>\n",
              "      <td>0.2666</td>\n",
              "      <td>baixo risco</td>\n",
              "    </tr>\n",
              "  </tbody>\n",
              "</table>\n",
              "</div>\n",
              "    <div class=\"colab-df-buttons\">\n",
              "\n",
              "  <div class=\"colab-df-container\">\n",
              "    <button class=\"colab-df-convert\" onclick=\"convertToInteractive('df-ba83b524-23fc-4c5d-a938-9e881871a094')\"\n",
              "            title=\"Convert this dataframe to an interactive table.\"\n",
              "            style=\"display:none;\">\n",
              "\n",
              "  <svg xmlns=\"http://www.w3.org/2000/svg\" height=\"24px\" viewBox=\"0 -960 960 960\">\n",
              "    <path d=\"M120-120v-720h720v720H120Zm60-500h600v-160H180v160Zm220 220h160v-160H400v160Zm0 220h160v-160H400v160ZM180-400h160v-160H180v160Zm440 0h160v-160H620v160ZM180-180h160v-160H180v160Zm440 0h160v-160H620v160Z\"/>\n",
              "  </svg>\n",
              "    </button>\n",
              "\n",
              "  <style>\n",
              "    .colab-df-container {\n",
              "      display:flex;\n",
              "      gap: 12px;\n",
              "    }\n",
              "\n",
              "    .colab-df-convert {\n",
              "      background-color: #E8F0FE;\n",
              "      border: none;\n",
              "      border-radius: 50%;\n",
              "      cursor: pointer;\n",
              "      display: none;\n",
              "      fill: #1967D2;\n",
              "      height: 32px;\n",
              "      padding: 0 0 0 0;\n",
              "      width: 32px;\n",
              "    }\n",
              "\n",
              "    .colab-df-convert:hover {\n",
              "      background-color: #E2EBFA;\n",
              "      box-shadow: 0px 1px 2px rgba(60, 64, 67, 0.3), 0px 1px 3px 1px rgba(60, 64, 67, 0.15);\n",
              "      fill: #174EA6;\n",
              "    }\n",
              "\n",
              "    .colab-df-buttons div {\n",
              "      margin-bottom: 4px;\n",
              "    }\n",
              "\n",
              "    [theme=dark] .colab-df-convert {\n",
              "      background-color: #3B4455;\n",
              "      fill: #D2E3FC;\n",
              "    }\n",
              "\n",
              "    [theme=dark] .colab-df-convert:hover {\n",
              "      background-color: #434B5C;\n",
              "      box-shadow: 0px 1px 3px 1px rgba(0, 0, 0, 0.15);\n",
              "      filter: drop-shadow(0px 1px 2px rgba(0, 0, 0, 0.3));\n",
              "      fill: #FFFFFF;\n",
              "    }\n",
              "  </style>\n",
              "\n",
              "    <script>\n",
              "      const buttonEl =\n",
              "        document.querySelector('#df-ba83b524-23fc-4c5d-a938-9e881871a094 button.colab-df-convert');\n",
              "      buttonEl.style.display =\n",
              "        google.colab.kernel.accessAllowed ? 'block' : 'none';\n",
              "\n",
              "      async function convertToInteractive(key) {\n",
              "        const element = document.querySelector('#df-ba83b524-23fc-4c5d-a938-9e881871a094');\n",
              "        const dataTable =\n",
              "          await google.colab.kernel.invokeFunction('convertToInteractive',\n",
              "                                                    [key], {});\n",
              "        if (!dataTable) return;\n",
              "\n",
              "        const docLinkHtml = 'Like what you see? Visit the ' +\n",
              "          '<a target=\"_blank\" href=https://colab.research.google.com/notebooks/data_table.ipynb>data table notebook</a>'\n",
              "          + ' to learn more about interactive tables.';\n",
              "        element.innerHTML = '';\n",
              "        dataTable['output_type'] = 'display_data';\n",
              "        await google.colab.output.renderOutput(dataTable, element);\n",
              "        const docLink = document.createElement('div');\n",
              "        docLink.innerHTML = docLinkHtml;\n",
              "        element.appendChild(docLink);\n",
              "      }\n",
              "    </script>\n",
              "  </div>\n",
              "\n",
              "\n",
              "<div id=\"df-475d9c3a-eaf3-4f53-8697-7960aeced90f\">\n",
              "  <button class=\"colab-df-quickchart\" onclick=\"quickchart('df-475d9c3a-eaf3-4f53-8697-7960aeced90f')\"\n",
              "            title=\"Suggest charts\"\n",
              "            style=\"display:none;\">\n",
              "\n",
              "<svg xmlns=\"http://www.w3.org/2000/svg\" height=\"24px\"viewBox=\"0 0 24 24\"\n",
              "     width=\"24px\">\n",
              "    <g>\n",
              "        <path d=\"M19 3H5c-1.1 0-2 .9-2 2v14c0 1.1.9 2 2 2h14c1.1 0 2-.9 2-2V5c0-1.1-.9-2-2-2zM9 17H7v-7h2v7zm4 0h-2V7h2v10zm4 0h-2v-4h2v4z\"/>\n",
              "    </g>\n",
              "</svg>\n",
              "  </button>\n",
              "\n",
              "<style>\n",
              "  .colab-df-quickchart {\n",
              "      --bg-color: #E8F0FE;\n",
              "      --fill-color: #1967D2;\n",
              "      --hover-bg-color: #E2EBFA;\n",
              "      --hover-fill-color: #174EA6;\n",
              "      --disabled-fill-color: #AAA;\n",
              "      --disabled-bg-color: #DDD;\n",
              "  }\n",
              "\n",
              "  [theme=dark] .colab-df-quickchart {\n",
              "      --bg-color: #3B4455;\n",
              "      --fill-color: #D2E3FC;\n",
              "      --hover-bg-color: #434B5C;\n",
              "      --hover-fill-color: #FFFFFF;\n",
              "      --disabled-bg-color: #3B4455;\n",
              "      --disabled-fill-color: #666;\n",
              "  }\n",
              "\n",
              "  .colab-df-quickchart {\n",
              "    background-color: var(--bg-color);\n",
              "    border: none;\n",
              "    border-radius: 50%;\n",
              "    cursor: pointer;\n",
              "    display: none;\n",
              "    fill: var(--fill-color);\n",
              "    height: 32px;\n",
              "    padding: 0;\n",
              "    width: 32px;\n",
              "  }\n",
              "\n",
              "  .colab-df-quickchart:hover {\n",
              "    background-color: var(--hover-bg-color);\n",
              "    box-shadow: 0 1px 2px rgba(60, 64, 67, 0.3), 0 1px 3px 1px rgba(60, 64, 67, 0.15);\n",
              "    fill: var(--button-hover-fill-color);\n",
              "  }\n",
              "\n",
              "  .colab-df-quickchart-complete:disabled,\n",
              "  .colab-df-quickchart-complete:disabled:hover {\n",
              "    background-color: var(--disabled-bg-color);\n",
              "    fill: var(--disabled-fill-color);\n",
              "    box-shadow: none;\n",
              "  }\n",
              "\n",
              "  .colab-df-spinner {\n",
              "    border: 2px solid var(--fill-color);\n",
              "    border-color: transparent;\n",
              "    border-bottom-color: var(--fill-color);\n",
              "    animation:\n",
              "      spin 1s steps(1) infinite;\n",
              "  }\n",
              "\n",
              "  @keyframes spin {\n",
              "    0% {\n",
              "      border-color: transparent;\n",
              "      border-bottom-color: var(--fill-color);\n",
              "      border-left-color: var(--fill-color);\n",
              "    }\n",
              "    20% {\n",
              "      border-color: transparent;\n",
              "      border-left-color: var(--fill-color);\n",
              "      border-top-color: var(--fill-color);\n",
              "    }\n",
              "    30% {\n",
              "      border-color: transparent;\n",
              "      border-left-color: var(--fill-color);\n",
              "      border-top-color: var(--fill-color);\n",
              "      border-right-color: var(--fill-color);\n",
              "    }\n",
              "    40% {\n",
              "      border-color: transparent;\n",
              "      border-right-color: var(--fill-color);\n",
              "      border-top-color: var(--fill-color);\n",
              "    }\n",
              "    60% {\n",
              "      border-color: transparent;\n",
              "      border-right-color: var(--fill-color);\n",
              "    }\n",
              "    80% {\n",
              "      border-color: transparent;\n",
              "      border-right-color: var(--fill-color);\n",
              "      border-bottom-color: var(--fill-color);\n",
              "    }\n",
              "    90% {\n",
              "      border-color: transparent;\n",
              "      border-bottom-color: var(--fill-color);\n",
              "    }\n",
              "  }\n",
              "</style>\n",
              "\n",
              "  <script>\n",
              "    async function quickchart(key) {\n",
              "      const quickchartButtonEl =\n",
              "        document.querySelector('#' + key + ' button');\n",
              "      quickchartButtonEl.disabled = true;  // To prevent multiple clicks.\n",
              "      quickchartButtonEl.classList.add('colab-df-spinner');\n",
              "      try {\n",
              "        const charts = await google.colab.kernel.invokeFunction(\n",
              "            'suggestCharts', [key], {});\n",
              "      } catch (error) {\n",
              "        console.error('Error during call to suggestCharts:', error);\n",
              "      }\n",
              "      quickchartButtonEl.classList.remove('colab-df-spinner');\n",
              "      quickchartButtonEl.classList.add('colab-df-quickchart-complete');\n",
              "    }\n",
              "    (() => {\n",
              "      let quickchartButtonEl =\n",
              "        document.querySelector('#df-475d9c3a-eaf3-4f53-8697-7960aeced90f button');\n",
              "      quickchartButtonEl.style.display =\n",
              "        google.colab.kernel.accessAllowed ? 'block' : 'none';\n",
              "    })();\n",
              "  </script>\n",
              "</div>\n",
              "\n",
              "  <div id=\"id_a22492bf-ebeb-42b9-989e-cdcf622287ee\">\n",
              "    <style>\n",
              "      .colab-df-generate {\n",
              "        background-color: #E8F0FE;\n",
              "        border: none;\n",
              "        border-radius: 50%;\n",
              "        cursor: pointer;\n",
              "        display: none;\n",
              "        fill: #1967D2;\n",
              "        height: 32px;\n",
              "        padding: 0 0 0 0;\n",
              "        width: 32px;\n",
              "      }\n",
              "\n",
              "      .colab-df-generate:hover {\n",
              "        background-color: #E2EBFA;\n",
              "        box-shadow: 0px 1px 2px rgba(60, 64, 67, 0.3), 0px 1px 3px 1px rgba(60, 64, 67, 0.15);\n",
              "        fill: #174EA6;\n",
              "      }\n",
              "\n",
              "      [theme=dark] .colab-df-generate {\n",
              "        background-color: #3B4455;\n",
              "        fill: #D2E3FC;\n",
              "      }\n",
              "\n",
              "      [theme=dark] .colab-df-generate:hover {\n",
              "        background-color: #434B5C;\n",
              "        box-shadow: 0px 1px 3px 1px rgba(0, 0, 0, 0.15);\n",
              "        filter: drop-shadow(0px 1px 2px rgba(0, 0, 0, 0.3));\n",
              "        fill: #FFFFFF;\n",
              "      }\n",
              "    </style>\n",
              "    <button class=\"colab-df-generate\" onclick=\"generateWithVariable('risco_relativo_idade')\"\n",
              "            title=\"Generate code using this dataframe.\"\n",
              "            style=\"display:none;\">\n",
              "\n",
              "  <svg xmlns=\"http://www.w3.org/2000/svg\" height=\"24px\"viewBox=\"0 0 24 24\"\n",
              "       width=\"24px\">\n",
              "    <path d=\"M7,19H8.4L18.45,9,17,7.55,7,17.6ZM5,21V16.75L18.45,3.32a2,2,0,0,1,2.83,0l1.4,1.43a1.91,1.91,0,0,1,.58,1.4,1.91,1.91,0,0,1-.58,1.4L9.25,21ZM18.45,9,17,7.55Zm-12,3A5.31,5.31,0,0,0,4.9,8.1,5.31,5.31,0,0,0,1,6.5,5.31,5.31,0,0,0,4.9,4.9,5.31,5.31,0,0,0,6.5,1,5.31,5.31,0,0,0,8.1,4.9,5.31,5.31,0,0,0,12,6.5,5.46,5.46,0,0,0,6.5,12Z\"/>\n",
              "  </svg>\n",
              "    </button>\n",
              "    <script>\n",
              "      (() => {\n",
              "      const buttonEl =\n",
              "        document.querySelector('#id_a22492bf-ebeb-42b9-989e-cdcf622287ee button.colab-df-generate');\n",
              "      buttonEl.style.display =\n",
              "        google.colab.kernel.accessAllowed ? 'block' : 'none';\n",
              "\n",
              "      buttonEl.onclick = () => {\n",
              "        google.colab.notebook.generateWithVariable('risco_relativo_idade');\n",
              "      }\n",
              "      })();\n",
              "    </script>\n",
              "  </div>\n",
              "\n",
              "    </div>\n",
              "  </div>\n"
            ],
            "application/vnd.google.colaboratory.intrinsic+json": {
              "type": "dataframe",
              "variable_name": "risco_relativo_idade",
              "summary": "{\n  \"name\": \"risco_relativo_idade\",\n  \"rows\": 6,\n  \"fields\": [\n    {\n      \"column\": \"faixa_idade\",\n      \"properties\": {\n        \"dtype\": \"category\",\n        \"num_unique_values\": 6,\n        \"samples\": [\n          \"Jovens adultos 21-30 anos\",\n          \"Adultos jovens 31-40 anos\",\n          \"Idosos 71 anos ou mais\"\n        ],\n        \"semantic_type\": \"\",\n        \"description\": \"\"\n      }\n    },\n    {\n      \"column\": \"probab_inadimplencia %\",\n      \"properties\": {\n        \"dtype\": \"number\",\n        \"std\": 1.1125820907886619,\n        \"min\": 0.4689331770222743,\n        \"max\": 3.162676917700507,\n        \"num_unique_values\": 6,\n        \"samples\": [\n          2.8503562945368173,\n          3.162676917700507,\n          0.4689331770222743\n        ],\n        \"semantic_type\": \"\",\n        \"description\": \"\"\n      }\n    },\n    {\n      \"column\": \"risco_relativo\",\n      \"properties\": {\n        \"dtype\": \"number\",\n        \"std\": 0.6325522102249715,\n        \"min\": 0.2666092866576639,\n        \"max\": 1.798121946310358,\n        \"num_unique_values\": 6,\n        \"samples\": [\n          1.6205538350521664,\n          1.798121946310358,\n          0.2666092866576639\n        ],\n        \"semantic_type\": \"\",\n        \"description\": \"\"\n      }\n    },\n    {\n      \"column\": \"classif_risco_idade\",\n      \"properties\": {\n        \"dtype\": \"category\",\n        \"num_unique_values\": 2,\n        \"samples\": [\n          \"baixo risco\",\n          \"alto risco\"\n        ],\n        \"semantic_type\": \"\",\n        \"description\": \"\"\n      }\n    }\n  ]\n}"
            }
          },
          "metadata": {},
          "execution_count": 116
        }
      ]
    },
    {
      "cell_type": "code",
      "source": [
        "dict_idade = dict(zip(risco_relativo_idade['faixa_idade'], risco_relativo_idade['classif_risco_idade']))\n",
        "df['classif_risco_idade'] = df['faixa_idade'].map(dict_idade)"
      ],
      "metadata": {
        "id": "42ERL18Du0ct"
      },
      "execution_count": 117,
      "outputs": []
    },
    {
      "cell_type": "code",
      "source": [
        "df.groupby('faixa_idade')['indicador_inadimplencia'].value_counts()"
      ],
      "metadata": {
        "colab": {
          "base_uri": "https://localhost:8080/"
        },
        "id": "NOWSjnD_xgcm",
        "outputId": "0d6c541d-374d-4680-a22d-c63c175b0011"
      },
      "execution_count": 118,
      "outputs": [
        {
          "output_type": "execute_result",
          "data": {
            "text/plain": [
              "faixa_idade                       indicador_inadimplencia\n",
              "Jovens adultos 21-30 anos         0                          2454\n",
              "                                  1                            72\n",
              "Adultos jovens 31-40 anos         0                          5542\n",
              "                                  1                           181\n",
              "Adultos de meia-idade 41-50 anos  0                          8263\n",
              "                                  1                           184\n",
              "Adultos maduros 51-60 anos        0                          8209\n",
              "                                  1                           130\n",
              "Idosos jovens 61-70 anos          0                          6587\n",
              "                                  1                            45\n",
              "Idosos 71 anos ou mais            0                          4245\n",
              "                                  1                            20\n",
              "Name: count, dtype: int64"
            ]
          },
          "metadata": {},
          "execution_count": 118
        }
      ]
    },
    {
      "cell_type": "markdown",
      "source": [
        "# **Taxa inadimplência de acordo com o número de dependentes**\n",
        "*   Clientes com maior número de dependentes tem maiores índices de inadimplencia\n",
        "*   Em contrapartida, clientes sem dependentes tem o menor índice\n",
        "\n"
      ],
      "metadata": {
        "id": "b_0SjsW63hik"
      }
    },
    {
      "cell_type": "code",
      "source": [
        "df.groupby('faixa_numero_dependentes')['indicador_inadimplencia'].value_counts()"
      ],
      "metadata": {
        "colab": {
          "base_uri": "https://localhost:8080/"
        },
        "id": "h8wrw6Jm3ohO",
        "outputId": "5c7fda95-fba0-49fe-d85b-305ccd879e95"
      },
      "execution_count": 119,
      "outputs": [
        {
          "output_type": "execute_result",
          "data": {
            "text/plain": [
              "faixa_numero_dependentes  indicador_inadimplencia\n",
              "1 dependente              0                           6063\n",
              "                          1                            129\n",
              "2 dependentes             0                           4611\n",
              "                          1                            100\n",
              "3 dependentes             0                           2259\n",
              "                          1                             63\n",
              "4 dependentes             0                            649\n",
              "                          1                             19\n",
              "Mais de 5 dependentes     0                            224\n",
              "                          1                             12\n",
              "Sem dependentes           0                          21494\n",
              "                          1                            309\n",
              "Name: count, dtype: int64"
            ]
          },
          "metadata": {},
          "execution_count": 119
        }
      ]
    },
    {
      "cell_type": "code",
      "source": [
        "risco_relativo_numero_dependentes = (df.groupby('faixa_numero_dependentes')['indicador_inadimplencia'].mean()*100).to_frame()\n",
        "risco_relativo_numero_dependentes=risco_relativo_numero_dependentes.rename(columns={'indicador_inadimplencia': 'probab_inadimplencia %'})\n",
        "risco_relativo_numero_dependentes['risco_relativo']=risco_relativo_numero_dependentes['probab_inadimplencia %']/taxa_inadimplencia_geral\n",
        "risco_relativo_numero_dependentes['classif_risco_numero_dependentes'] = risco_relativo_numero_dependentes['risco_relativo'].apply(\n",
        "    lambda x: 'baixo risco' if x <= 1.2069 else 'alto risco')\n",
        "risco_relativo_numero_dependentes.reset_index(inplace=True)\n",
        "risco_relativo_numero_dependentes"
      ],
      "metadata": {
        "colab": {
          "base_uri": "https://localhost:8080/",
          "height": 0
        },
        "id": "jgtxHAZY3rCt",
        "outputId": "1099c38c-d88d-4abb-8276-a2ed9de8a018"
      },
      "execution_count": 120,
      "outputs": [
        {
          "output_type": "execute_result",
          "data": {
            "text/plain": [
              "  faixa_numero_dependentes  probab_inadimplencia %  risco_relativo  \\\n",
              "0             1 dependente                  2.0833          1.1845   \n",
              "1            2 dependentes                  2.1227          1.2068   \n",
              "2            3 dependentes                  2.7132          1.5426   \n",
              "3            4 dependentes                  2.8443          1.6171   \n",
              "4    Mais de 5 dependentes                  5.0847          2.8909   \n",
              "5          Sem dependentes                  1.4172          0.8058   \n",
              "\n",
              "  classif_risco_numero_dependentes  \n",
              "0                      baixo risco  \n",
              "1                      baixo risco  \n",
              "2                       alto risco  \n",
              "3                       alto risco  \n",
              "4                       alto risco  \n",
              "5                      baixo risco  "
            ],
            "text/html": [
              "\n",
              "  <div id=\"df-f940eb05-600b-4571-bd1d-5e74056adc31\" class=\"colab-df-container\">\n",
              "    <div>\n",
              "<style scoped>\n",
              "    .dataframe tbody tr th:only-of-type {\n",
              "        vertical-align: middle;\n",
              "    }\n",
              "\n",
              "    .dataframe tbody tr th {\n",
              "        vertical-align: top;\n",
              "    }\n",
              "\n",
              "    .dataframe thead th {\n",
              "        text-align: right;\n",
              "    }\n",
              "</style>\n",
              "<table border=\"1\" class=\"dataframe\">\n",
              "  <thead>\n",
              "    <tr style=\"text-align: right;\">\n",
              "      <th></th>\n",
              "      <th>faixa_numero_dependentes</th>\n",
              "      <th>probab_inadimplencia %</th>\n",
              "      <th>risco_relativo</th>\n",
              "      <th>classif_risco_numero_dependentes</th>\n",
              "    </tr>\n",
              "  </thead>\n",
              "  <tbody>\n",
              "    <tr>\n",
              "      <th>0</th>\n",
              "      <td>1 dependente</td>\n",
              "      <td>2.0833</td>\n",
              "      <td>1.1845</td>\n",
              "      <td>baixo risco</td>\n",
              "    </tr>\n",
              "    <tr>\n",
              "      <th>1</th>\n",
              "      <td>2 dependentes</td>\n",
              "      <td>2.1227</td>\n",
              "      <td>1.2068</td>\n",
              "      <td>baixo risco</td>\n",
              "    </tr>\n",
              "    <tr>\n",
              "      <th>2</th>\n",
              "      <td>3 dependentes</td>\n",
              "      <td>2.7132</td>\n",
              "      <td>1.5426</td>\n",
              "      <td>alto risco</td>\n",
              "    </tr>\n",
              "    <tr>\n",
              "      <th>3</th>\n",
              "      <td>4 dependentes</td>\n",
              "      <td>2.8443</td>\n",
              "      <td>1.6171</td>\n",
              "      <td>alto risco</td>\n",
              "    </tr>\n",
              "    <tr>\n",
              "      <th>4</th>\n",
              "      <td>Mais de 5 dependentes</td>\n",
              "      <td>5.0847</td>\n",
              "      <td>2.8909</td>\n",
              "      <td>alto risco</td>\n",
              "    </tr>\n",
              "    <tr>\n",
              "      <th>5</th>\n",
              "      <td>Sem dependentes</td>\n",
              "      <td>1.4172</td>\n",
              "      <td>0.8058</td>\n",
              "      <td>baixo risco</td>\n",
              "    </tr>\n",
              "  </tbody>\n",
              "</table>\n",
              "</div>\n",
              "    <div class=\"colab-df-buttons\">\n",
              "\n",
              "  <div class=\"colab-df-container\">\n",
              "    <button class=\"colab-df-convert\" onclick=\"convertToInteractive('df-f940eb05-600b-4571-bd1d-5e74056adc31')\"\n",
              "            title=\"Convert this dataframe to an interactive table.\"\n",
              "            style=\"display:none;\">\n",
              "\n",
              "  <svg xmlns=\"http://www.w3.org/2000/svg\" height=\"24px\" viewBox=\"0 -960 960 960\">\n",
              "    <path d=\"M120-120v-720h720v720H120Zm60-500h600v-160H180v160Zm220 220h160v-160H400v160Zm0 220h160v-160H400v160ZM180-400h160v-160H180v160Zm440 0h160v-160H620v160ZM180-180h160v-160H180v160Zm440 0h160v-160H620v160Z\"/>\n",
              "  </svg>\n",
              "    </button>\n",
              "\n",
              "  <style>\n",
              "    .colab-df-container {\n",
              "      display:flex;\n",
              "      gap: 12px;\n",
              "    }\n",
              "\n",
              "    .colab-df-convert {\n",
              "      background-color: #E8F0FE;\n",
              "      border: none;\n",
              "      border-radius: 50%;\n",
              "      cursor: pointer;\n",
              "      display: none;\n",
              "      fill: #1967D2;\n",
              "      height: 32px;\n",
              "      padding: 0 0 0 0;\n",
              "      width: 32px;\n",
              "    }\n",
              "\n",
              "    .colab-df-convert:hover {\n",
              "      background-color: #E2EBFA;\n",
              "      box-shadow: 0px 1px 2px rgba(60, 64, 67, 0.3), 0px 1px 3px 1px rgba(60, 64, 67, 0.15);\n",
              "      fill: #174EA6;\n",
              "    }\n",
              "\n",
              "    .colab-df-buttons div {\n",
              "      margin-bottom: 4px;\n",
              "    }\n",
              "\n",
              "    [theme=dark] .colab-df-convert {\n",
              "      background-color: #3B4455;\n",
              "      fill: #D2E3FC;\n",
              "    }\n",
              "\n",
              "    [theme=dark] .colab-df-convert:hover {\n",
              "      background-color: #434B5C;\n",
              "      box-shadow: 0px 1px 3px 1px rgba(0, 0, 0, 0.15);\n",
              "      filter: drop-shadow(0px 1px 2px rgba(0, 0, 0, 0.3));\n",
              "      fill: #FFFFFF;\n",
              "    }\n",
              "  </style>\n",
              "\n",
              "    <script>\n",
              "      const buttonEl =\n",
              "        document.querySelector('#df-f940eb05-600b-4571-bd1d-5e74056adc31 button.colab-df-convert');\n",
              "      buttonEl.style.display =\n",
              "        google.colab.kernel.accessAllowed ? 'block' : 'none';\n",
              "\n",
              "      async function convertToInteractive(key) {\n",
              "        const element = document.querySelector('#df-f940eb05-600b-4571-bd1d-5e74056adc31');\n",
              "        const dataTable =\n",
              "          await google.colab.kernel.invokeFunction('convertToInteractive',\n",
              "                                                    [key], {});\n",
              "        if (!dataTable) return;\n",
              "\n",
              "        const docLinkHtml = 'Like what you see? Visit the ' +\n",
              "          '<a target=\"_blank\" href=https://colab.research.google.com/notebooks/data_table.ipynb>data table notebook</a>'\n",
              "          + ' to learn more about interactive tables.';\n",
              "        element.innerHTML = '';\n",
              "        dataTable['output_type'] = 'display_data';\n",
              "        await google.colab.output.renderOutput(dataTable, element);\n",
              "        const docLink = document.createElement('div');\n",
              "        docLink.innerHTML = docLinkHtml;\n",
              "        element.appendChild(docLink);\n",
              "      }\n",
              "    </script>\n",
              "  </div>\n",
              "\n",
              "\n",
              "<div id=\"df-f0d9ee61-c136-402e-944b-d1e9c573e8e4\">\n",
              "  <button class=\"colab-df-quickchart\" onclick=\"quickchart('df-f0d9ee61-c136-402e-944b-d1e9c573e8e4')\"\n",
              "            title=\"Suggest charts\"\n",
              "            style=\"display:none;\">\n",
              "\n",
              "<svg xmlns=\"http://www.w3.org/2000/svg\" height=\"24px\"viewBox=\"0 0 24 24\"\n",
              "     width=\"24px\">\n",
              "    <g>\n",
              "        <path d=\"M19 3H5c-1.1 0-2 .9-2 2v14c0 1.1.9 2 2 2h14c1.1 0 2-.9 2-2V5c0-1.1-.9-2-2-2zM9 17H7v-7h2v7zm4 0h-2V7h2v10zm4 0h-2v-4h2v4z\"/>\n",
              "    </g>\n",
              "</svg>\n",
              "  </button>\n",
              "\n",
              "<style>\n",
              "  .colab-df-quickchart {\n",
              "      --bg-color: #E8F0FE;\n",
              "      --fill-color: #1967D2;\n",
              "      --hover-bg-color: #E2EBFA;\n",
              "      --hover-fill-color: #174EA6;\n",
              "      --disabled-fill-color: #AAA;\n",
              "      --disabled-bg-color: #DDD;\n",
              "  }\n",
              "\n",
              "  [theme=dark] .colab-df-quickchart {\n",
              "      --bg-color: #3B4455;\n",
              "      --fill-color: #D2E3FC;\n",
              "      --hover-bg-color: #434B5C;\n",
              "      --hover-fill-color: #FFFFFF;\n",
              "      --disabled-bg-color: #3B4455;\n",
              "      --disabled-fill-color: #666;\n",
              "  }\n",
              "\n",
              "  .colab-df-quickchart {\n",
              "    background-color: var(--bg-color);\n",
              "    border: none;\n",
              "    border-radius: 50%;\n",
              "    cursor: pointer;\n",
              "    display: none;\n",
              "    fill: var(--fill-color);\n",
              "    height: 32px;\n",
              "    padding: 0;\n",
              "    width: 32px;\n",
              "  }\n",
              "\n",
              "  .colab-df-quickchart:hover {\n",
              "    background-color: var(--hover-bg-color);\n",
              "    box-shadow: 0 1px 2px rgba(60, 64, 67, 0.3), 0 1px 3px 1px rgba(60, 64, 67, 0.15);\n",
              "    fill: var(--button-hover-fill-color);\n",
              "  }\n",
              "\n",
              "  .colab-df-quickchart-complete:disabled,\n",
              "  .colab-df-quickchart-complete:disabled:hover {\n",
              "    background-color: var(--disabled-bg-color);\n",
              "    fill: var(--disabled-fill-color);\n",
              "    box-shadow: none;\n",
              "  }\n",
              "\n",
              "  .colab-df-spinner {\n",
              "    border: 2px solid var(--fill-color);\n",
              "    border-color: transparent;\n",
              "    border-bottom-color: var(--fill-color);\n",
              "    animation:\n",
              "      spin 1s steps(1) infinite;\n",
              "  }\n",
              "\n",
              "  @keyframes spin {\n",
              "    0% {\n",
              "      border-color: transparent;\n",
              "      border-bottom-color: var(--fill-color);\n",
              "      border-left-color: var(--fill-color);\n",
              "    }\n",
              "    20% {\n",
              "      border-color: transparent;\n",
              "      border-left-color: var(--fill-color);\n",
              "      border-top-color: var(--fill-color);\n",
              "    }\n",
              "    30% {\n",
              "      border-color: transparent;\n",
              "      border-left-color: var(--fill-color);\n",
              "      border-top-color: var(--fill-color);\n",
              "      border-right-color: var(--fill-color);\n",
              "    }\n",
              "    40% {\n",
              "      border-color: transparent;\n",
              "      border-right-color: var(--fill-color);\n",
              "      border-top-color: var(--fill-color);\n",
              "    }\n",
              "    60% {\n",
              "      border-color: transparent;\n",
              "      border-right-color: var(--fill-color);\n",
              "    }\n",
              "    80% {\n",
              "      border-color: transparent;\n",
              "      border-right-color: var(--fill-color);\n",
              "      border-bottom-color: var(--fill-color);\n",
              "    }\n",
              "    90% {\n",
              "      border-color: transparent;\n",
              "      border-bottom-color: var(--fill-color);\n",
              "    }\n",
              "  }\n",
              "</style>\n",
              "\n",
              "  <script>\n",
              "    async function quickchart(key) {\n",
              "      const quickchartButtonEl =\n",
              "        document.querySelector('#' + key + ' button');\n",
              "      quickchartButtonEl.disabled = true;  // To prevent multiple clicks.\n",
              "      quickchartButtonEl.classList.add('colab-df-spinner');\n",
              "      try {\n",
              "        const charts = await google.colab.kernel.invokeFunction(\n",
              "            'suggestCharts', [key], {});\n",
              "      } catch (error) {\n",
              "        console.error('Error during call to suggestCharts:', error);\n",
              "      }\n",
              "      quickchartButtonEl.classList.remove('colab-df-spinner');\n",
              "      quickchartButtonEl.classList.add('colab-df-quickchart-complete');\n",
              "    }\n",
              "    (() => {\n",
              "      let quickchartButtonEl =\n",
              "        document.querySelector('#df-f0d9ee61-c136-402e-944b-d1e9c573e8e4 button');\n",
              "      quickchartButtonEl.style.display =\n",
              "        google.colab.kernel.accessAllowed ? 'block' : 'none';\n",
              "    })();\n",
              "  </script>\n",
              "</div>\n",
              "\n",
              "  <div id=\"id_650e7377-64f5-4fa7-a119-022e340ded7e\">\n",
              "    <style>\n",
              "      .colab-df-generate {\n",
              "        background-color: #E8F0FE;\n",
              "        border: none;\n",
              "        border-radius: 50%;\n",
              "        cursor: pointer;\n",
              "        display: none;\n",
              "        fill: #1967D2;\n",
              "        height: 32px;\n",
              "        padding: 0 0 0 0;\n",
              "        width: 32px;\n",
              "      }\n",
              "\n",
              "      .colab-df-generate:hover {\n",
              "        background-color: #E2EBFA;\n",
              "        box-shadow: 0px 1px 2px rgba(60, 64, 67, 0.3), 0px 1px 3px 1px rgba(60, 64, 67, 0.15);\n",
              "        fill: #174EA6;\n",
              "      }\n",
              "\n",
              "      [theme=dark] .colab-df-generate {\n",
              "        background-color: #3B4455;\n",
              "        fill: #D2E3FC;\n",
              "      }\n",
              "\n",
              "      [theme=dark] .colab-df-generate:hover {\n",
              "        background-color: #434B5C;\n",
              "        box-shadow: 0px 1px 3px 1px rgba(0, 0, 0, 0.15);\n",
              "        filter: drop-shadow(0px 1px 2px rgba(0, 0, 0, 0.3));\n",
              "        fill: #FFFFFF;\n",
              "      }\n",
              "    </style>\n",
              "    <button class=\"colab-df-generate\" onclick=\"generateWithVariable('risco_relativo_numero_dependentes')\"\n",
              "            title=\"Generate code using this dataframe.\"\n",
              "            style=\"display:none;\">\n",
              "\n",
              "  <svg xmlns=\"http://www.w3.org/2000/svg\" height=\"24px\"viewBox=\"0 0 24 24\"\n",
              "       width=\"24px\">\n",
              "    <path d=\"M7,19H8.4L18.45,9,17,7.55,7,17.6ZM5,21V16.75L18.45,3.32a2,2,0,0,1,2.83,0l1.4,1.43a1.91,1.91,0,0,1,.58,1.4,1.91,1.91,0,0,1-.58,1.4L9.25,21ZM18.45,9,17,7.55Zm-12,3A5.31,5.31,0,0,0,4.9,8.1,5.31,5.31,0,0,0,1,6.5,5.31,5.31,0,0,0,4.9,4.9,5.31,5.31,0,0,0,6.5,1,5.31,5.31,0,0,0,8.1,4.9,5.31,5.31,0,0,0,12,6.5,5.46,5.46,0,0,0,6.5,12Z\"/>\n",
              "  </svg>\n",
              "    </button>\n",
              "    <script>\n",
              "      (() => {\n",
              "      const buttonEl =\n",
              "        document.querySelector('#id_650e7377-64f5-4fa7-a119-022e340ded7e button.colab-df-generate');\n",
              "      buttonEl.style.display =\n",
              "        google.colab.kernel.accessAllowed ? 'block' : 'none';\n",
              "\n",
              "      buttonEl.onclick = () => {\n",
              "        google.colab.notebook.generateWithVariable('risco_relativo_numero_dependentes');\n",
              "      }\n",
              "      })();\n",
              "    </script>\n",
              "  </div>\n",
              "\n",
              "    </div>\n",
              "  </div>\n"
            ],
            "application/vnd.google.colaboratory.intrinsic+json": {
              "type": "dataframe",
              "variable_name": "risco_relativo_numero_dependentes",
              "summary": "{\n  \"name\": \"risco_relativo_numero_dependentes\",\n  \"rows\": 6,\n  \"fields\": [\n    {\n      \"column\": \"faixa_numero_dependentes\",\n      \"properties\": {\n        \"dtype\": \"string\",\n        \"num_unique_values\": 6,\n        \"samples\": [\n          \"1 dependente\",\n          \"2 dependentes\",\n          \"Sem dependentes\"\n        ],\n        \"semantic_type\": \"\",\n        \"description\": \"\"\n      }\n    },\n    {\n      \"column\": \"probab_inadimplencia %\",\n      \"properties\": {\n        \"dtype\": \"number\",\n        \"std\": 1.2701450858157195,\n        \"min\": 1.4172361601614458,\n        \"max\": 5.084745762711865,\n        \"num_unique_values\": 6,\n        \"samples\": [\n          2.083333333333333,\n          2.1226915729144555,\n          1.4172361601614458\n        ],\n        \"semantic_type\": \"\",\n        \"description\": \"\"\n      }\n    },\n    {\n      \"column\": \"risco_relativo\",\n      \"properties\": {\n        \"dtype\": \"number\",\n        \"std\": 0.7221337535368739,\n        \"min\": 0.8057615459955866,\n        \"max\": 2.8909032396481447,\n        \"num_unique_values\": 6,\n        \"samples\": [\n          1.184467299578059,\n          1.2068442024994022,\n          0.8057615459955866\n        ],\n        \"semantic_type\": \"\",\n        \"description\": \"\"\n      }\n    },\n    {\n      \"column\": \"classif_risco_numero_dependentes\",\n      \"properties\": {\n        \"dtype\": \"category\",\n        \"num_unique_values\": 2,\n        \"samples\": [\n          \"alto risco\",\n          \"baixo risco\"\n        ],\n        \"semantic_type\": \"\",\n        \"description\": \"\"\n      }\n    }\n  ]\n}"
            }
          },
          "metadata": {},
          "execution_count": 120
        }
      ]
    },
    {
      "cell_type": "code",
      "source": [
        "dict_numero_dependentes = dict(zip(risco_relativo_numero_dependentes['faixa_numero_dependentes'], risco_relativo_numero_dependentes['classif_risco_numero_dependentes']))\n",
        "df['classif_risco_numero_dependentes'] = df['faixa_numero_dependentes'].map(dict_numero_dependentes)"
      ],
      "metadata": {
        "id": "VjwPXZ1bvHMs"
      },
      "execution_count": 121,
      "outputs": []
    },
    {
      "cell_type": "markdown",
      "source": [
        "# **Taxa inadimplência e risco de acordo com o número de empréstimos**"
      ],
      "metadata": {
        "id": "Zbhek_RxsAn2"
      }
    },
    {
      "cell_type": "code",
      "source": [
        "risco_relativo_numero_emprestimos = (df.groupby('faixa_numero_emprestimos')['indicador_inadimplencia'].mean()*100).to_frame()\n",
        "risco_relativo_numero_emprestimos=risco_relativo_numero_emprestimos.rename(columns={'indicador_inadimplencia': 'probab_inadimplencia %'})\n",
        "risco_relativo_numero_emprestimos['risco_relativo']=risco_relativo_numero_emprestimos['probab_inadimplencia %']/taxa_inadimplencia_geral\n",
        "risco_relativo_numero_emprestimos['classif_risco_numero_emprestimos'] = risco_relativo_numero_emprestimos['risco_relativo'].apply(\n",
        "    lambda x: 'baixo risco' if x <= 1.13 else 'alto risco')\n",
        "risco_relativo_numero_emprestimos.reset_index(inplace=True)\n",
        "risco_relativo_numero_emprestimos"
      ],
      "metadata": {
        "colab": {
          "base_uri": "https://localhost:8080/",
          "height": 0
        },
        "id": "CVijKGV3AjdP",
        "outputId": "44314aed-f2d6-48dd-f408-8198378b8dc7"
      },
      "execution_count": 122,
      "outputs": [
        {
          "output_type": "execute_result",
          "data": {
            "text/plain": [
              "                  faixa_numero_emprestimos  probab_inadimplencia %  \\\n",
              "0           Empréstimos elevados (31 a 40)                  0.0000   \n",
              "1          Empréstimos moderados (11 a 20)                  1.1650   \n",
              "2  Empréstimos muito elevados (mais de 41)                  0.0000   \n",
              "3             Muitos empréstimos (21 a 30)                  1.3761   \n",
              "4                        Nenhum empréstimo                  3.0303   \n",
              "5              Poucos empréstimos (1 a 10)                  1.9811   \n",
              "\n",
              "   risco_relativo classif_risco_numero_emprestimos  \n",
              "0          0.0000                      baixo risco  \n",
              "1          0.6624                      baixo risco  \n",
              "2          0.0000                      baixo risco  \n",
              "3          0.7824                      baixo risco  \n",
              "4          1.7229                       alto risco  \n",
              "5          1.1264                      baixo risco  "
            ],
            "text/html": [
              "\n",
              "  <div id=\"df-1ef70b15-0dba-4be4-ad5d-e2858a1a73d8\" class=\"colab-df-container\">\n",
              "    <div>\n",
              "<style scoped>\n",
              "    .dataframe tbody tr th:only-of-type {\n",
              "        vertical-align: middle;\n",
              "    }\n",
              "\n",
              "    .dataframe tbody tr th {\n",
              "        vertical-align: top;\n",
              "    }\n",
              "\n",
              "    .dataframe thead th {\n",
              "        text-align: right;\n",
              "    }\n",
              "</style>\n",
              "<table border=\"1\" class=\"dataframe\">\n",
              "  <thead>\n",
              "    <tr style=\"text-align: right;\">\n",
              "      <th></th>\n",
              "      <th>faixa_numero_emprestimos</th>\n",
              "      <th>probab_inadimplencia %</th>\n",
              "      <th>risco_relativo</th>\n",
              "      <th>classif_risco_numero_emprestimos</th>\n",
              "    </tr>\n",
              "  </thead>\n",
              "  <tbody>\n",
              "    <tr>\n",
              "      <th>0</th>\n",
              "      <td>Empréstimos elevados (31 a 40)</td>\n",
              "      <td>0.0000</td>\n",
              "      <td>0.0000</td>\n",
              "      <td>baixo risco</td>\n",
              "    </tr>\n",
              "    <tr>\n",
              "      <th>1</th>\n",
              "      <td>Empréstimos moderados (11 a 20)</td>\n",
              "      <td>1.1650</td>\n",
              "      <td>0.6624</td>\n",
              "      <td>baixo risco</td>\n",
              "    </tr>\n",
              "    <tr>\n",
              "      <th>2</th>\n",
              "      <td>Empréstimos muito elevados (mais de 41)</td>\n",
              "      <td>0.0000</td>\n",
              "      <td>0.0000</td>\n",
              "      <td>baixo risco</td>\n",
              "    </tr>\n",
              "    <tr>\n",
              "      <th>3</th>\n",
              "      <td>Muitos empréstimos (21 a 30)</td>\n",
              "      <td>1.3761</td>\n",
              "      <td>0.7824</td>\n",
              "      <td>baixo risco</td>\n",
              "    </tr>\n",
              "    <tr>\n",
              "      <th>4</th>\n",
              "      <td>Nenhum empréstimo</td>\n",
              "      <td>3.0303</td>\n",
              "      <td>1.7229</td>\n",
              "      <td>alto risco</td>\n",
              "    </tr>\n",
              "    <tr>\n",
              "      <th>5</th>\n",
              "      <td>Poucos empréstimos (1 a 10)</td>\n",
              "      <td>1.9811</td>\n",
              "      <td>1.1264</td>\n",
              "      <td>baixo risco</td>\n",
              "    </tr>\n",
              "  </tbody>\n",
              "</table>\n",
              "</div>\n",
              "    <div class=\"colab-df-buttons\">\n",
              "\n",
              "  <div class=\"colab-df-container\">\n",
              "    <button class=\"colab-df-convert\" onclick=\"convertToInteractive('df-1ef70b15-0dba-4be4-ad5d-e2858a1a73d8')\"\n",
              "            title=\"Convert this dataframe to an interactive table.\"\n",
              "            style=\"display:none;\">\n",
              "\n",
              "  <svg xmlns=\"http://www.w3.org/2000/svg\" height=\"24px\" viewBox=\"0 -960 960 960\">\n",
              "    <path d=\"M120-120v-720h720v720H120Zm60-500h600v-160H180v160Zm220 220h160v-160H400v160Zm0 220h160v-160H400v160ZM180-400h160v-160H180v160Zm440 0h160v-160H620v160ZM180-180h160v-160H180v160Zm440 0h160v-160H620v160Z\"/>\n",
              "  </svg>\n",
              "    </button>\n",
              "\n",
              "  <style>\n",
              "    .colab-df-container {\n",
              "      display:flex;\n",
              "      gap: 12px;\n",
              "    }\n",
              "\n",
              "    .colab-df-convert {\n",
              "      background-color: #E8F0FE;\n",
              "      border: none;\n",
              "      border-radius: 50%;\n",
              "      cursor: pointer;\n",
              "      display: none;\n",
              "      fill: #1967D2;\n",
              "      height: 32px;\n",
              "      padding: 0 0 0 0;\n",
              "      width: 32px;\n",
              "    }\n",
              "\n",
              "    .colab-df-convert:hover {\n",
              "      background-color: #E2EBFA;\n",
              "      box-shadow: 0px 1px 2px rgba(60, 64, 67, 0.3), 0px 1px 3px 1px rgba(60, 64, 67, 0.15);\n",
              "      fill: #174EA6;\n",
              "    }\n",
              "\n",
              "    .colab-df-buttons div {\n",
              "      margin-bottom: 4px;\n",
              "    }\n",
              "\n",
              "    [theme=dark] .colab-df-convert {\n",
              "      background-color: #3B4455;\n",
              "      fill: #D2E3FC;\n",
              "    }\n",
              "\n",
              "    [theme=dark] .colab-df-convert:hover {\n",
              "      background-color: #434B5C;\n",
              "      box-shadow: 0px 1px 3px 1px rgba(0, 0, 0, 0.15);\n",
              "      filter: drop-shadow(0px 1px 2px rgba(0, 0, 0, 0.3));\n",
              "      fill: #FFFFFF;\n",
              "    }\n",
              "  </style>\n",
              "\n",
              "    <script>\n",
              "      const buttonEl =\n",
              "        document.querySelector('#df-1ef70b15-0dba-4be4-ad5d-e2858a1a73d8 button.colab-df-convert');\n",
              "      buttonEl.style.display =\n",
              "        google.colab.kernel.accessAllowed ? 'block' : 'none';\n",
              "\n",
              "      async function convertToInteractive(key) {\n",
              "        const element = document.querySelector('#df-1ef70b15-0dba-4be4-ad5d-e2858a1a73d8');\n",
              "        const dataTable =\n",
              "          await google.colab.kernel.invokeFunction('convertToInteractive',\n",
              "                                                    [key], {});\n",
              "        if (!dataTable) return;\n",
              "\n",
              "        const docLinkHtml = 'Like what you see? Visit the ' +\n",
              "          '<a target=\"_blank\" href=https://colab.research.google.com/notebooks/data_table.ipynb>data table notebook</a>'\n",
              "          + ' to learn more about interactive tables.';\n",
              "        element.innerHTML = '';\n",
              "        dataTable['output_type'] = 'display_data';\n",
              "        await google.colab.output.renderOutput(dataTable, element);\n",
              "        const docLink = document.createElement('div');\n",
              "        docLink.innerHTML = docLinkHtml;\n",
              "        element.appendChild(docLink);\n",
              "      }\n",
              "    </script>\n",
              "  </div>\n",
              "\n",
              "\n",
              "<div id=\"df-025d2684-6d5e-417a-a2a1-cca24ba3c9ae\">\n",
              "  <button class=\"colab-df-quickchart\" onclick=\"quickchart('df-025d2684-6d5e-417a-a2a1-cca24ba3c9ae')\"\n",
              "            title=\"Suggest charts\"\n",
              "            style=\"display:none;\">\n",
              "\n",
              "<svg xmlns=\"http://www.w3.org/2000/svg\" height=\"24px\"viewBox=\"0 0 24 24\"\n",
              "     width=\"24px\">\n",
              "    <g>\n",
              "        <path d=\"M19 3H5c-1.1 0-2 .9-2 2v14c0 1.1.9 2 2 2h14c1.1 0 2-.9 2-2V5c0-1.1-.9-2-2-2zM9 17H7v-7h2v7zm4 0h-2V7h2v10zm4 0h-2v-4h2v4z\"/>\n",
              "    </g>\n",
              "</svg>\n",
              "  </button>\n",
              "\n",
              "<style>\n",
              "  .colab-df-quickchart {\n",
              "      --bg-color: #E8F0FE;\n",
              "      --fill-color: #1967D2;\n",
              "      --hover-bg-color: #E2EBFA;\n",
              "      --hover-fill-color: #174EA6;\n",
              "      --disabled-fill-color: #AAA;\n",
              "      --disabled-bg-color: #DDD;\n",
              "  }\n",
              "\n",
              "  [theme=dark] .colab-df-quickchart {\n",
              "      --bg-color: #3B4455;\n",
              "      --fill-color: #D2E3FC;\n",
              "      --hover-bg-color: #434B5C;\n",
              "      --hover-fill-color: #FFFFFF;\n",
              "      --disabled-bg-color: #3B4455;\n",
              "      --disabled-fill-color: #666;\n",
              "  }\n",
              "\n",
              "  .colab-df-quickchart {\n",
              "    background-color: var(--bg-color);\n",
              "    border: none;\n",
              "    border-radius: 50%;\n",
              "    cursor: pointer;\n",
              "    display: none;\n",
              "    fill: var(--fill-color);\n",
              "    height: 32px;\n",
              "    padding: 0;\n",
              "    width: 32px;\n",
              "  }\n",
              "\n",
              "  .colab-df-quickchart:hover {\n",
              "    background-color: var(--hover-bg-color);\n",
              "    box-shadow: 0 1px 2px rgba(60, 64, 67, 0.3), 0 1px 3px 1px rgba(60, 64, 67, 0.15);\n",
              "    fill: var(--button-hover-fill-color);\n",
              "  }\n",
              "\n",
              "  .colab-df-quickchart-complete:disabled,\n",
              "  .colab-df-quickchart-complete:disabled:hover {\n",
              "    background-color: var(--disabled-bg-color);\n",
              "    fill: var(--disabled-fill-color);\n",
              "    box-shadow: none;\n",
              "  }\n",
              "\n",
              "  .colab-df-spinner {\n",
              "    border: 2px solid var(--fill-color);\n",
              "    border-color: transparent;\n",
              "    border-bottom-color: var(--fill-color);\n",
              "    animation:\n",
              "      spin 1s steps(1) infinite;\n",
              "  }\n",
              "\n",
              "  @keyframes spin {\n",
              "    0% {\n",
              "      border-color: transparent;\n",
              "      border-bottom-color: var(--fill-color);\n",
              "      border-left-color: var(--fill-color);\n",
              "    }\n",
              "    20% {\n",
              "      border-color: transparent;\n",
              "      border-left-color: var(--fill-color);\n",
              "      border-top-color: var(--fill-color);\n",
              "    }\n",
              "    30% {\n",
              "      border-color: transparent;\n",
              "      border-left-color: var(--fill-color);\n",
              "      border-top-color: var(--fill-color);\n",
              "      border-right-color: var(--fill-color);\n",
              "    }\n",
              "    40% {\n",
              "      border-color: transparent;\n",
              "      border-right-color: var(--fill-color);\n",
              "      border-top-color: var(--fill-color);\n",
              "    }\n",
              "    60% {\n",
              "      border-color: transparent;\n",
              "      border-right-color: var(--fill-color);\n",
              "    }\n",
              "    80% {\n",
              "      border-color: transparent;\n",
              "      border-right-color: var(--fill-color);\n",
              "      border-bottom-color: var(--fill-color);\n",
              "    }\n",
              "    90% {\n",
              "      border-color: transparent;\n",
              "      border-bottom-color: var(--fill-color);\n",
              "    }\n",
              "  }\n",
              "</style>\n",
              "\n",
              "  <script>\n",
              "    async function quickchart(key) {\n",
              "      const quickchartButtonEl =\n",
              "        document.querySelector('#' + key + ' button');\n",
              "      quickchartButtonEl.disabled = true;  // To prevent multiple clicks.\n",
              "      quickchartButtonEl.classList.add('colab-df-spinner');\n",
              "      try {\n",
              "        const charts = await google.colab.kernel.invokeFunction(\n",
              "            'suggestCharts', [key], {});\n",
              "      } catch (error) {\n",
              "        console.error('Error during call to suggestCharts:', error);\n",
              "      }\n",
              "      quickchartButtonEl.classList.remove('colab-df-spinner');\n",
              "      quickchartButtonEl.classList.add('colab-df-quickchart-complete');\n",
              "    }\n",
              "    (() => {\n",
              "      let quickchartButtonEl =\n",
              "        document.querySelector('#df-025d2684-6d5e-417a-a2a1-cca24ba3c9ae button');\n",
              "      quickchartButtonEl.style.display =\n",
              "        google.colab.kernel.accessAllowed ? 'block' : 'none';\n",
              "    })();\n",
              "  </script>\n",
              "</div>\n",
              "\n",
              "  <div id=\"id_7847d40a-ef0e-45ad-917a-a7f0113484ea\">\n",
              "    <style>\n",
              "      .colab-df-generate {\n",
              "        background-color: #E8F0FE;\n",
              "        border: none;\n",
              "        border-radius: 50%;\n",
              "        cursor: pointer;\n",
              "        display: none;\n",
              "        fill: #1967D2;\n",
              "        height: 32px;\n",
              "        padding: 0 0 0 0;\n",
              "        width: 32px;\n",
              "      }\n",
              "\n",
              "      .colab-df-generate:hover {\n",
              "        background-color: #E2EBFA;\n",
              "        box-shadow: 0px 1px 2px rgba(60, 64, 67, 0.3), 0px 1px 3px 1px rgba(60, 64, 67, 0.15);\n",
              "        fill: #174EA6;\n",
              "      }\n",
              "\n",
              "      [theme=dark] .colab-df-generate {\n",
              "        background-color: #3B4455;\n",
              "        fill: #D2E3FC;\n",
              "      }\n",
              "\n",
              "      [theme=dark] .colab-df-generate:hover {\n",
              "        background-color: #434B5C;\n",
              "        box-shadow: 0px 1px 3px 1px rgba(0, 0, 0, 0.15);\n",
              "        filter: drop-shadow(0px 1px 2px rgba(0, 0, 0, 0.3));\n",
              "        fill: #FFFFFF;\n",
              "      }\n",
              "    </style>\n",
              "    <button class=\"colab-df-generate\" onclick=\"generateWithVariable('risco_relativo_numero_emprestimos')\"\n",
              "            title=\"Generate code using this dataframe.\"\n",
              "            style=\"display:none;\">\n",
              "\n",
              "  <svg xmlns=\"http://www.w3.org/2000/svg\" height=\"24px\"viewBox=\"0 0 24 24\"\n",
              "       width=\"24px\">\n",
              "    <path d=\"M7,19H8.4L18.45,9,17,7.55,7,17.6ZM5,21V16.75L18.45,3.32a2,2,0,0,1,2.83,0l1.4,1.43a1.91,1.91,0,0,1,.58,1.4,1.91,1.91,0,0,1-.58,1.4L9.25,21ZM18.45,9,17,7.55Zm-12,3A5.31,5.31,0,0,0,4.9,8.1,5.31,5.31,0,0,0,1,6.5,5.31,5.31,0,0,0,4.9,4.9,5.31,5.31,0,0,0,6.5,1,5.31,5.31,0,0,0,8.1,4.9,5.31,5.31,0,0,0,12,6.5,5.46,5.46,0,0,0,6.5,12Z\"/>\n",
              "  </svg>\n",
              "    </button>\n",
              "    <script>\n",
              "      (() => {\n",
              "      const buttonEl =\n",
              "        document.querySelector('#id_7847d40a-ef0e-45ad-917a-a7f0113484ea button.colab-df-generate');\n",
              "      buttonEl.style.display =\n",
              "        google.colab.kernel.accessAllowed ? 'block' : 'none';\n",
              "\n",
              "      buttonEl.onclick = () => {\n",
              "        google.colab.notebook.generateWithVariable('risco_relativo_numero_emprestimos');\n",
              "      }\n",
              "      })();\n",
              "    </script>\n",
              "  </div>\n",
              "\n",
              "    </div>\n",
              "  </div>\n"
            ],
            "application/vnd.google.colaboratory.intrinsic+json": {
              "type": "dataframe",
              "variable_name": "risco_relativo_numero_emprestimos",
              "summary": "{\n  \"name\": \"risco_relativo_numero_emprestimos\",\n  \"rows\": 6,\n  \"fields\": [\n    {\n      \"column\": \"faixa_numero_emprestimos\",\n      \"properties\": {\n        \"dtype\": \"string\",\n        \"num_unique_values\": 6,\n        \"samples\": [\n          \"Empr\\u00e9stimos elevados (31 a 40)\",\n          \"Empr\\u00e9stimos moderados (11 a 20)\",\n          \"Poucos empr\\u00e9stimos (1 a 10)\"\n        ],\n        \"semantic_type\": \"\",\n        \"description\": \"\"\n      }\n    },\n    {\n      \"column\": \"probab_inadimplencia %\",\n      \"properties\": {\n        \"dtype\": \"number\",\n        \"std\": 1.1706165712767505,\n        \"min\": 0.0,\n        \"max\": 3.0303030303030303,\n        \"num_unique_values\": 5,\n        \"samples\": [\n          1.1650277896536982,\n          1.9811395514700056,\n          1.3761467889908259\n        ],\n        \"semantic_type\": \"\",\n        \"description\": \"\"\n      }\n    },\n    {\n      \"column\": \"risco_relativo\",\n      \"properties\": {\n        \"dtype\": \"number\",\n        \"std\": 0.6655473835303196,\n        \"min\": 0.0,\n        \"max\": 1.722861526658995,\n        \"num_unique_values\": 5,\n        \"samples\": [\n          0.6623699135733653,\n          1.126365607016143,\n          0.7824004180699107\n        ],\n        \"semantic_type\": \"\",\n        \"description\": \"\"\n      }\n    },\n    {\n      \"column\": \"classif_risco_numero_emprestimos\",\n      \"properties\": {\n        \"dtype\": \"category\",\n        \"num_unique_values\": 2,\n        \"samples\": [\n          \"alto risco\",\n          \"baixo risco\"\n        ],\n        \"semantic_type\": \"\",\n        \"description\": \"\"\n      }\n    }\n  ]\n}"
            }
          },
          "metadata": {},
          "execution_count": 122
        }
      ]
    },
    {
      "cell_type": "code",
      "source": [
        "df.groupby('faixa_numero_emprestimos')['indicador_inadimplencia'].value_counts()"
      ],
      "metadata": {
        "colab": {
          "base_uri": "https://localhost:8080/"
        },
        "id": "YKiFN2V8ZSYp",
        "outputId": "0609826f-02fb-4112-f552-21b02611039e"
      },
      "execution_count": 123,
      "outputs": [
        {
          "output_type": "execute_result",
          "data": {
            "text/plain": [
              "faixa_numero_emprestimos                 indicador_inadimplencia\n",
              "Empréstimos elevados (31 a 40)           0                             83\n",
              "Empréstimos moderados (11 a 20)          0                           9247\n",
              "                                         1                            109\n",
              "Empréstimos muito elevados (mais de 41)  0                             20\n",
              "Muitos empréstimos (21 a 30)             0                            860\n",
              "                                         1                             12\n",
              "Nenhum empréstimo                        0                            352\n",
              "                                         1                             11\n",
              "Poucos empréstimos (1 a 10)              0                          24738\n",
              "                                         1                            500\n",
              "Name: count, dtype: int64"
            ]
          },
          "metadata": {},
          "execution_count": 123
        }
      ]
    },
    {
      "cell_type": "code",
      "source": [
        "dict_numero_emprestimos = dict(zip(risco_relativo_numero_emprestimos['faixa_numero_emprestimos'], risco_relativo_numero_emprestimos['classif_risco_numero_emprestimos']))\n",
        "df['classif_risco_numero_emprestimos'] = df['faixa_numero_emprestimos'].map(dict_numero_emprestimos)"
      ],
      "metadata": {
        "id": "e7mOGsnTgQ6N"
      },
      "execution_count": 124,
      "outputs": []
    },
    {
      "cell_type": "markdown",
      "source": [
        "# **Criação variáveis dummy**"
      ],
      "metadata": {
        "id": "C5ZkJFIR6sEj"
      }
    },
    {
      "cell_type": "code",
      "source": [
        "df['dummy_risco_uso_credito']=df['classif_risco_uso_crédito'].apply(lambda x: 1 if x=='alto risco' else 0)\n",
        "df['dummy_risco_nivel_endividamento']=df['classif_risco_nivel_dividas'].apply(lambda x: 1 if x=='alto risco' else 0)\n",
        "df['dummy_risco_idade']=df['classif_risco_idade'].apply(lambda x: 1 if x=='alto risco' else 0)\n",
        "df['dummy_risco_salario']=df['classif_risco_salario'].apply(lambda x: 1 if x=='alto risco' else 0)\n",
        "df['dummy_risco_numero_dependentes']=df['classif_risco_numero_dependentes'].apply(lambda x: 1 if x=='alto risco' else 0)\n",
        "df['dummy_risco_numero_emprestimos']=df['classif_risco_numero_emprestimos'].apply(lambda x: 1 if x=='alto risco' else 0)\n",
        "df['dummy_risco_numero_atrasos']=df['classif_risco_numero_atrasos'].apply(lambda x: 1 if x=='alto risco' else 0)\n",
        "\n"
      ],
      "metadata": {
        "id": "sdZZGWOPBYJ7"
      },
      "execution_count": 125,
      "outputs": []
    },
    {
      "cell_type": "markdown",
      "source": [
        "# **Criação variável \"score\" (correspondente à soma das variáveis dummy)**"
      ],
      "metadata": {
        "id": "YOFNUbrb60Gw"
      }
    },
    {
      "cell_type": "code",
      "source": [
        "df['score']=(df['dummy_risco_uso_credito']+df['dummy_risco_nivel_endividamento']+df['dummy_risco_idade']+df['dummy_risco_salario']+df['dummy_risco_numero_emprestimos']+df['dummy_risco_numero_atrasos'])"
      ],
      "metadata": {
        "id": "T4OktIlD0fig"
      },
      "execution_count": 126,
      "outputs": []
    },
    {
      "cell_type": "code",
      "source": [
        "df['score'].describe()"
      ],
      "metadata": {
        "colab": {
          "base_uri": "https://localhost:8080/"
        },
        "id": "1S1O9KnACY6Z",
        "outputId": "ea60b5ba-3b83-4075-c4ff-fb343fa050d9"
      },
      "execution_count": 127,
      "outputs": [
        {
          "output_type": "execute_result",
          "data": {
            "text/plain": [
              "count   35932.0000\n",
              "mean        1.0757\n",
              "std         1.0771\n",
              "min         0.0000\n",
              "25%         0.0000\n",
              "50%         1.0000\n",
              "75%         2.0000\n",
              "max         5.0000\n",
              "Name: score, dtype: float64"
            ]
          },
          "metadata": {},
          "execution_count": 127
        }
      ]
    },
    {
      "cell_type": "markdown",
      "source": [
        "# **Classificação do score**\n",
        "\n",
        "*   Clientes que obtiverem 4 pontos ou mais no score são classificados como clientes de RISCO ALTO\n",
        "*   Clientes que obtiverem 3 pontos são classificados como clientes de RISCO MÉDIO\n",
        "*   Clientes que obtiverem 1 ou 2 pontos são classificados como clientes de RISCO BAIXO\n",
        "\n",
        "\n",
        "\n",
        "\n",
        "\n"
      ],
      "metadata": {
        "id": "SGP1HKa77sr6"
      }
    },
    {
      "cell_type": "code",
      "source": [
        "df['classif_score']=df['score'].apply(lambda x:'risco alto' if x >= 4 else ('risco medio' if x == 3 else 'risco baixo'))"
      ],
      "metadata": {
        "id": "Zci74uYa7wxu"
      },
      "execution_count": 128,
      "outputs": []
    },
    {
      "cell_type": "code",
      "source": [
        "df.groupby('classif_score')['id_usuario'].count()"
      ],
      "metadata": {
        "id": "q_-A5b3dCZ6v",
        "colab": {
          "base_uri": "https://localhost:8080/"
        },
        "outputId": "126abac7-6240-46d4-dd9f-edb8a331b485"
      },
      "execution_count": 129,
      "outputs": [
        {
          "output_type": "execute_result",
          "data": {
            "text/plain": [
              "classif_score\n",
              "risco alto       947\n",
              "risco baixo    32054\n",
              "risco medio     2931\n",
              "Name: id_usuario, dtype: int64"
            ]
          },
          "metadata": {},
          "execution_count": 129
        }
      ]
    },
    {
      "cell_type": "code",
      "source": [],
      "metadata": {
        "id": "kaEXpGLTO1wx"
      },
      "execution_count": 129,
      "outputs": []
    },
    {
      "cell_type": "markdown",
      "source": [
        "# **Dataframe final salvo em CSV**"
      ],
      "metadata": {
        "id": "tuWj8dMBzZ5_"
      }
    },
    {
      "cell_type": "code",
      "source": [
        "df.info()"
      ],
      "metadata": {
        "colab": {
          "base_uri": "https://localhost:8080/"
        },
        "id": "VHxglZCizccj",
        "outputId": "1e0a476e-a9b7-4699-a05c-d34e46ff0826"
      },
      "execution_count": 130,
      "outputs": [
        {
          "output_type": "stream",
          "name": "stdout",
          "text": [
            "<class 'pandas.core.frame.DataFrame'>\n",
            "Index: 35932 entries, 0 to 35999\n",
            "Data columns (total 37 columns):\n",
            " #   Column                                              Non-Null Count  Dtype   \n",
            "---  ------                                              --------------  -----   \n",
            " 0   id_usuario                                          35932 non-null  int64   \n",
            " 1   indicador_inadimplencia                             35932 non-null  int64   \n",
            " 2   quanto_esta_usando_em_relação_ao_limite_de_crédito  35932 non-null  float64 \n",
            " 3   relacao_dividas_ativos                              35932 non-null  float64 \n",
            " 4   mais_90_dias_atraso                                 35932 non-null  int64   \n",
            " 5   idade                                               35932 non-null  int64   \n",
            " 6   sexo                                                35932 non-null  object  \n",
            " 7   salario_ultimo_mes                                  35932 non-null  float64 \n",
            " 8   numero_dependentes                                  35932 non-null  float64 \n",
            " 9   total_imovel                                        35932 non-null  int64   \n",
            " 10  total_outros                                        35932 non-null  int64   \n",
            " 11  total_emprestimos                                   35932 non-null  int64   \n",
            " 12  dummy_atraso                                        35932 non-null  int64   \n",
            " 13  dummy_dependentes                                   35932 non-null  int64   \n",
            " 14  faixa_uso_credito                                   35932 non-null  category\n",
            " 15  faixa_endividamento                                 35932 non-null  category\n",
            " 16  faixa_atrasos                                       35932 non-null  object  \n",
            " 17  faixa_idade                                         35932 non-null  category\n",
            " 18  faixa_salario                                       35932 non-null  category\n",
            " 19  faixa_numero_dependentes                            35932 non-null  object  \n",
            " 20  faixa_numero_emprestimos                            35932 non-null  object  \n",
            " 21  classif_risco_uso_crédito                           35932 non-null  object  \n",
            " 22  classif_risco_nivel_dividas                         35932 non-null  object  \n",
            " 23  classif_risco_numero_atrasos                        35932 non-null  object  \n",
            " 24  classif_risco_salario                               35932 non-null  object  \n",
            " 25  classif_risco_idade                                 35932 non-null  object  \n",
            " 26  classif_risco_numero_dependentes                    35932 non-null  object  \n",
            " 27  classif_risco_numero_emprestimos                    35932 non-null  object  \n",
            " 28  dummy_risco_uso_credito                             35932 non-null  int64   \n",
            " 29  dummy_risco_nivel_endividamento                     35932 non-null  int64   \n",
            " 30  dummy_risco_idade                                   35932 non-null  int64   \n",
            " 31  dummy_risco_salario                                 35932 non-null  int64   \n",
            " 32  dummy_risco_numero_dependentes                      35932 non-null  int64   \n",
            " 33  dummy_risco_numero_emprestimos                      35932 non-null  int64   \n",
            " 34  dummy_risco_numero_atrasos                          35932 non-null  int64   \n",
            " 35  score                                               35932 non-null  int64   \n",
            " 36  classif_score                                       35932 non-null  object  \n",
            "dtypes: category(4), float64(4), int64(17), object(12)\n",
            "memory usage: 9.5+ MB\n"
          ]
        }
      ]
    },
    {
      "cell_type": "code",
      "source": [
        "df.to_csv('df_final_analise_risco_relativo_looker.csv', index=False)"
      ],
      "metadata": {
        "id": "i8JXzykAzeDs"
      },
      "execution_count": 131,
      "outputs": []
    },
    {
      "cell_type": "code",
      "source": [
        "df.groupby('faixa_idade')['relacao_dividas_ativos'].describe()"
      ],
      "metadata": {
        "colab": {
          "base_uri": "https://localhost:8080/",
          "height": 269
        },
        "id": "5wnhaZjlzotY",
        "outputId": "398b43d1-3f13-424b-beec-38cf2eee604a"
      },
      "execution_count": 132,
      "outputs": [
        {
          "output_type": "execute_result",
          "data": {
            "text/plain": [
              "                                     count     mean       std    min    25%  \\\n",
              "faixa_idade                                                                   \n",
              "Jovens adultos 21-30 anos        2526.0000 100.1269  401.1938 0.0000 0.0701   \n",
              "Adultos jovens 31-40 anos        5723.0000 243.0107  982.1101 0.0000 0.1830   \n",
              "Adultos de meia-idade 41-50 anos 8447.0000 363.7413 1207.9636 0.0000 0.2232   \n",
              "Adultos maduros 51-60 anos       8339.0000 455.4408 1434.1487 0.0000 0.2232   \n",
              "Idosos jovens 61-70 anos         6632.0000 446.0464 1448.1462 0.0000 0.1836   \n",
              "Idosos 71 anos ou mais           4265.0000 204.4743  656.6964 0.0000 0.0315   \n",
              "\n",
              "                                    50%    75%        max  \n",
              "faixa_idade                                                \n",
              "Jovens adultos 21-30 anos        0.2089 0.5758  5696.0000  \n",
              "Adultos jovens 31-40 anos        0.3563 0.6728 34719.0000  \n",
              "Adultos de meia-idade 41-50 anos 0.3911 0.7387 24591.0000  \n",
              "Adultos maduros 51-60 anos       0.3962 0.9584 49112.0000  \n",
              "Idosos jovens 61-70 anos         0.3785 7.0000 60212.0000  \n",
              "Idosos 71 anos ou mais           0.2894 9.0000  9898.0000  "
            ],
            "text/html": [
              "\n",
              "  <div id=\"df-5d2f34b9-0c06-4ff0-a0e4-a9947b199184\" class=\"colab-df-container\">\n",
              "    <div>\n",
              "<style scoped>\n",
              "    .dataframe tbody tr th:only-of-type {\n",
              "        vertical-align: middle;\n",
              "    }\n",
              "\n",
              "    .dataframe tbody tr th {\n",
              "        vertical-align: top;\n",
              "    }\n",
              "\n",
              "    .dataframe thead th {\n",
              "        text-align: right;\n",
              "    }\n",
              "</style>\n",
              "<table border=\"1\" class=\"dataframe\">\n",
              "  <thead>\n",
              "    <tr style=\"text-align: right;\">\n",
              "      <th></th>\n",
              "      <th>count</th>\n",
              "      <th>mean</th>\n",
              "      <th>std</th>\n",
              "      <th>min</th>\n",
              "      <th>25%</th>\n",
              "      <th>50%</th>\n",
              "      <th>75%</th>\n",
              "      <th>max</th>\n",
              "    </tr>\n",
              "    <tr>\n",
              "      <th>faixa_idade</th>\n",
              "      <th></th>\n",
              "      <th></th>\n",
              "      <th></th>\n",
              "      <th></th>\n",
              "      <th></th>\n",
              "      <th></th>\n",
              "      <th></th>\n",
              "      <th></th>\n",
              "    </tr>\n",
              "  </thead>\n",
              "  <tbody>\n",
              "    <tr>\n",
              "      <th>Jovens adultos 21-30 anos</th>\n",
              "      <td>2526.0000</td>\n",
              "      <td>100.1269</td>\n",
              "      <td>401.1938</td>\n",
              "      <td>0.0000</td>\n",
              "      <td>0.0701</td>\n",
              "      <td>0.2089</td>\n",
              "      <td>0.5758</td>\n",
              "      <td>5696.0000</td>\n",
              "    </tr>\n",
              "    <tr>\n",
              "      <th>Adultos jovens 31-40 anos</th>\n",
              "      <td>5723.0000</td>\n",
              "      <td>243.0107</td>\n",
              "      <td>982.1101</td>\n",
              "      <td>0.0000</td>\n",
              "      <td>0.1830</td>\n",
              "      <td>0.3563</td>\n",
              "      <td>0.6728</td>\n",
              "      <td>34719.0000</td>\n",
              "    </tr>\n",
              "    <tr>\n",
              "      <th>Adultos de meia-idade 41-50 anos</th>\n",
              "      <td>8447.0000</td>\n",
              "      <td>363.7413</td>\n",
              "      <td>1207.9636</td>\n",
              "      <td>0.0000</td>\n",
              "      <td>0.2232</td>\n",
              "      <td>0.3911</td>\n",
              "      <td>0.7387</td>\n",
              "      <td>24591.0000</td>\n",
              "    </tr>\n",
              "    <tr>\n",
              "      <th>Adultos maduros 51-60 anos</th>\n",
              "      <td>8339.0000</td>\n",
              "      <td>455.4408</td>\n",
              "      <td>1434.1487</td>\n",
              "      <td>0.0000</td>\n",
              "      <td>0.2232</td>\n",
              "      <td>0.3962</td>\n",
              "      <td>0.9584</td>\n",
              "      <td>49112.0000</td>\n",
              "    </tr>\n",
              "    <tr>\n",
              "      <th>Idosos jovens 61-70 anos</th>\n",
              "      <td>6632.0000</td>\n",
              "      <td>446.0464</td>\n",
              "      <td>1448.1462</td>\n",
              "      <td>0.0000</td>\n",
              "      <td>0.1836</td>\n",
              "      <td>0.3785</td>\n",
              "      <td>7.0000</td>\n",
              "      <td>60212.0000</td>\n",
              "    </tr>\n",
              "    <tr>\n",
              "      <th>Idosos 71 anos ou mais</th>\n",
              "      <td>4265.0000</td>\n",
              "      <td>204.4743</td>\n",
              "      <td>656.6964</td>\n",
              "      <td>0.0000</td>\n",
              "      <td>0.0315</td>\n",
              "      <td>0.2894</td>\n",
              "      <td>9.0000</td>\n",
              "      <td>9898.0000</td>\n",
              "    </tr>\n",
              "  </tbody>\n",
              "</table>\n",
              "</div>\n",
              "    <div class=\"colab-df-buttons\">\n",
              "\n",
              "  <div class=\"colab-df-container\">\n",
              "    <button class=\"colab-df-convert\" onclick=\"convertToInteractive('df-5d2f34b9-0c06-4ff0-a0e4-a9947b199184')\"\n",
              "            title=\"Convert this dataframe to an interactive table.\"\n",
              "            style=\"display:none;\">\n",
              "\n",
              "  <svg xmlns=\"http://www.w3.org/2000/svg\" height=\"24px\" viewBox=\"0 -960 960 960\">\n",
              "    <path d=\"M120-120v-720h720v720H120Zm60-500h600v-160H180v160Zm220 220h160v-160H400v160Zm0 220h160v-160H400v160ZM180-400h160v-160H180v160Zm440 0h160v-160H620v160ZM180-180h160v-160H180v160Zm440 0h160v-160H620v160Z\"/>\n",
              "  </svg>\n",
              "    </button>\n",
              "\n",
              "  <style>\n",
              "    .colab-df-container {\n",
              "      display:flex;\n",
              "      gap: 12px;\n",
              "    }\n",
              "\n",
              "    .colab-df-convert {\n",
              "      background-color: #E8F0FE;\n",
              "      border: none;\n",
              "      border-radius: 50%;\n",
              "      cursor: pointer;\n",
              "      display: none;\n",
              "      fill: #1967D2;\n",
              "      height: 32px;\n",
              "      padding: 0 0 0 0;\n",
              "      width: 32px;\n",
              "    }\n",
              "\n",
              "    .colab-df-convert:hover {\n",
              "      background-color: #E2EBFA;\n",
              "      box-shadow: 0px 1px 2px rgba(60, 64, 67, 0.3), 0px 1px 3px 1px rgba(60, 64, 67, 0.15);\n",
              "      fill: #174EA6;\n",
              "    }\n",
              "\n",
              "    .colab-df-buttons div {\n",
              "      margin-bottom: 4px;\n",
              "    }\n",
              "\n",
              "    [theme=dark] .colab-df-convert {\n",
              "      background-color: #3B4455;\n",
              "      fill: #D2E3FC;\n",
              "    }\n",
              "\n",
              "    [theme=dark] .colab-df-convert:hover {\n",
              "      background-color: #434B5C;\n",
              "      box-shadow: 0px 1px 3px 1px rgba(0, 0, 0, 0.15);\n",
              "      filter: drop-shadow(0px 1px 2px rgba(0, 0, 0, 0.3));\n",
              "      fill: #FFFFFF;\n",
              "    }\n",
              "  </style>\n",
              "\n",
              "    <script>\n",
              "      const buttonEl =\n",
              "        document.querySelector('#df-5d2f34b9-0c06-4ff0-a0e4-a9947b199184 button.colab-df-convert');\n",
              "      buttonEl.style.display =\n",
              "        google.colab.kernel.accessAllowed ? 'block' : 'none';\n",
              "\n",
              "      async function convertToInteractive(key) {\n",
              "        const element = document.querySelector('#df-5d2f34b9-0c06-4ff0-a0e4-a9947b199184');\n",
              "        const dataTable =\n",
              "          await google.colab.kernel.invokeFunction('convertToInteractive',\n",
              "                                                    [key], {});\n",
              "        if (!dataTable) return;\n",
              "\n",
              "        const docLinkHtml = 'Like what you see? Visit the ' +\n",
              "          '<a target=\"_blank\" href=https://colab.research.google.com/notebooks/data_table.ipynb>data table notebook</a>'\n",
              "          + ' to learn more about interactive tables.';\n",
              "        element.innerHTML = '';\n",
              "        dataTable['output_type'] = 'display_data';\n",
              "        await google.colab.output.renderOutput(dataTable, element);\n",
              "        const docLink = document.createElement('div');\n",
              "        docLink.innerHTML = docLinkHtml;\n",
              "        element.appendChild(docLink);\n",
              "      }\n",
              "    </script>\n",
              "  </div>\n",
              "\n",
              "\n",
              "<div id=\"df-f30ee6d5-fe23-4ab5-a50d-d8f3bffb5936\">\n",
              "  <button class=\"colab-df-quickchart\" onclick=\"quickchart('df-f30ee6d5-fe23-4ab5-a50d-d8f3bffb5936')\"\n",
              "            title=\"Suggest charts\"\n",
              "            style=\"display:none;\">\n",
              "\n",
              "<svg xmlns=\"http://www.w3.org/2000/svg\" height=\"24px\"viewBox=\"0 0 24 24\"\n",
              "     width=\"24px\">\n",
              "    <g>\n",
              "        <path d=\"M19 3H5c-1.1 0-2 .9-2 2v14c0 1.1.9 2 2 2h14c1.1 0 2-.9 2-2V5c0-1.1-.9-2-2-2zM9 17H7v-7h2v7zm4 0h-2V7h2v10zm4 0h-2v-4h2v4z\"/>\n",
              "    </g>\n",
              "</svg>\n",
              "  </button>\n",
              "\n",
              "<style>\n",
              "  .colab-df-quickchart {\n",
              "      --bg-color: #E8F0FE;\n",
              "      --fill-color: #1967D2;\n",
              "      --hover-bg-color: #E2EBFA;\n",
              "      --hover-fill-color: #174EA6;\n",
              "      --disabled-fill-color: #AAA;\n",
              "      --disabled-bg-color: #DDD;\n",
              "  }\n",
              "\n",
              "  [theme=dark] .colab-df-quickchart {\n",
              "      --bg-color: #3B4455;\n",
              "      --fill-color: #D2E3FC;\n",
              "      --hover-bg-color: #434B5C;\n",
              "      --hover-fill-color: #FFFFFF;\n",
              "      --disabled-bg-color: #3B4455;\n",
              "      --disabled-fill-color: #666;\n",
              "  }\n",
              "\n",
              "  .colab-df-quickchart {\n",
              "    background-color: var(--bg-color);\n",
              "    border: none;\n",
              "    border-radius: 50%;\n",
              "    cursor: pointer;\n",
              "    display: none;\n",
              "    fill: var(--fill-color);\n",
              "    height: 32px;\n",
              "    padding: 0;\n",
              "    width: 32px;\n",
              "  }\n",
              "\n",
              "  .colab-df-quickchart:hover {\n",
              "    background-color: var(--hover-bg-color);\n",
              "    box-shadow: 0 1px 2px rgba(60, 64, 67, 0.3), 0 1px 3px 1px rgba(60, 64, 67, 0.15);\n",
              "    fill: var(--button-hover-fill-color);\n",
              "  }\n",
              "\n",
              "  .colab-df-quickchart-complete:disabled,\n",
              "  .colab-df-quickchart-complete:disabled:hover {\n",
              "    background-color: var(--disabled-bg-color);\n",
              "    fill: var(--disabled-fill-color);\n",
              "    box-shadow: none;\n",
              "  }\n",
              "\n",
              "  .colab-df-spinner {\n",
              "    border: 2px solid var(--fill-color);\n",
              "    border-color: transparent;\n",
              "    border-bottom-color: var(--fill-color);\n",
              "    animation:\n",
              "      spin 1s steps(1) infinite;\n",
              "  }\n",
              "\n",
              "  @keyframes spin {\n",
              "    0% {\n",
              "      border-color: transparent;\n",
              "      border-bottom-color: var(--fill-color);\n",
              "      border-left-color: var(--fill-color);\n",
              "    }\n",
              "    20% {\n",
              "      border-color: transparent;\n",
              "      border-left-color: var(--fill-color);\n",
              "      border-top-color: var(--fill-color);\n",
              "    }\n",
              "    30% {\n",
              "      border-color: transparent;\n",
              "      border-left-color: var(--fill-color);\n",
              "      border-top-color: var(--fill-color);\n",
              "      border-right-color: var(--fill-color);\n",
              "    }\n",
              "    40% {\n",
              "      border-color: transparent;\n",
              "      border-right-color: var(--fill-color);\n",
              "      border-top-color: var(--fill-color);\n",
              "    }\n",
              "    60% {\n",
              "      border-color: transparent;\n",
              "      border-right-color: var(--fill-color);\n",
              "    }\n",
              "    80% {\n",
              "      border-color: transparent;\n",
              "      border-right-color: var(--fill-color);\n",
              "      border-bottom-color: var(--fill-color);\n",
              "    }\n",
              "    90% {\n",
              "      border-color: transparent;\n",
              "      border-bottom-color: var(--fill-color);\n",
              "    }\n",
              "  }\n",
              "</style>\n",
              "\n",
              "  <script>\n",
              "    async function quickchart(key) {\n",
              "      const quickchartButtonEl =\n",
              "        document.querySelector('#' + key + ' button');\n",
              "      quickchartButtonEl.disabled = true;  // To prevent multiple clicks.\n",
              "      quickchartButtonEl.classList.add('colab-df-spinner');\n",
              "      try {\n",
              "        const charts = await google.colab.kernel.invokeFunction(\n",
              "            'suggestCharts', [key], {});\n",
              "      } catch (error) {\n",
              "        console.error('Error during call to suggestCharts:', error);\n",
              "      }\n",
              "      quickchartButtonEl.classList.remove('colab-df-spinner');\n",
              "      quickchartButtonEl.classList.add('colab-df-quickchart-complete');\n",
              "    }\n",
              "    (() => {\n",
              "      let quickchartButtonEl =\n",
              "        document.querySelector('#df-f30ee6d5-fe23-4ab5-a50d-d8f3bffb5936 button');\n",
              "      quickchartButtonEl.style.display =\n",
              "        google.colab.kernel.accessAllowed ? 'block' : 'none';\n",
              "    })();\n",
              "  </script>\n",
              "</div>\n",
              "\n",
              "    </div>\n",
              "  </div>\n"
            ],
            "application/vnd.google.colaboratory.intrinsic+json": {
              "type": "dataframe",
              "summary": "{\n  \"name\": \"df\",\n  \"rows\": 6,\n  \"fields\": [\n    {\n      \"column\": \"faixa_idade\",\n      \"properties\": {\n        \"dtype\": \"category\",\n        \"num_unique_values\": 6,\n        \"samples\": [\n          \"Jovens adultos 21-30 anos\",\n          \"Adultos jovens 31-40 anos\",\n          \"Idosos 71 anos ou mais\"\n        ],\n        \"semantic_type\": \"\",\n        \"description\": \"\"\n      }\n    },\n    {\n      \"column\": \"count\",\n      \"properties\": {\n        \"dtype\": \"number\",\n        \"std\": 2324.3499449666924,\n        \"min\": 2526.0,\n        \"max\": 8447.0,\n        \"num_unique_values\": 6,\n        \"samples\": [\n          2526.0,\n          5723.0,\n          4265.0\n        ],\n        \"semantic_type\": \"\",\n        \"description\": \"\"\n      }\n    },\n    {\n      \"column\": \"mean\",\n      \"properties\": {\n        \"dtype\": \"number\",\n        \"std\": 142.72282810544576,\n        \"min\": 100.12694490598693,\n        \"max\": 455.4407897289489,\n        \"num_unique_values\": 6,\n        \"samples\": [\n          100.12694490598693,\n          243.01072069644155,\n          204.4743284497423\n        ],\n        \"semantic_type\": \"\",\n        \"description\": \"\"\n      }\n    },\n    {\n      \"column\": \"std\",\n      \"properties\": {\n        \"dtype\": \"number\",\n        \"std\": 425.79041676978864,\n        \"min\": 401.1937720450805,\n        \"max\": 1448.1462091797466,\n        \"num_unique_values\": 6,\n        \"samples\": [\n          401.1937720450805,\n          982.1101221718789,\n          656.6963909450492\n        ],\n        \"semantic_type\": \"\",\n        \"description\": \"\"\n      }\n    },\n    {\n      \"column\": \"min\",\n      \"properties\": {\n        \"dtype\": \"number\",\n        \"std\": 0.0,\n        \"min\": 0.0,\n        \"max\": 0.0,\n        \"num_unique_values\": 1,\n        \"samples\": [\n          0.0\n        ],\n        \"semantic_type\": \"\",\n        \"description\": \"\"\n      }\n    },\n    {\n      \"column\": \"25%\",\n      \"properties\": {\n        \"dtype\": \"number\",\n        \"std\": 0.0816536418321951,\n        \"min\": 0.031509121,\n        \"max\": 0.22324486999999998,\n        \"num_unique_values\": 6,\n        \"samples\": [\n          0.07007306375\n        ],\n        \"semantic_type\": \"\",\n        \"description\": \"\"\n      }\n    },\n    {\n      \"column\": \"50%\",\n      \"properties\": {\n        \"dtype\": \"number\",\n        \"std\": 0.07374306911157573,\n        \"min\": 0.20894245150000001,\n        \"max\": 0.396206968,\n        \"num_unique_values\": 6,\n        \"samples\": [\n          0.20894245150000001\n        ],\n        \"semantic_type\": \"\",\n        \"description\": \"\"\n      }\n    },\n    {\n      \"column\": \"75%\",\n      \"properties\": {\n        \"dtype\": \"number\",\n        \"std\": 3.805913150706314,\n        \"min\": 0.5758236434999999,\n        \"max\": 9.0,\n        \"num_unique_values\": 6,\n        \"samples\": [\n          0.5758236434999999\n        ],\n        \"semantic_type\": \"\",\n        \"description\": \"\"\n      }\n    },\n    {\n      \"column\": \"max\",\n      \"properties\": {\n        \"dtype\": \"number\",\n        \"std\": 21546.94975783502,\n        \"min\": 5696.0,\n        \"max\": 60212.0,\n        \"num_unique_values\": 6,\n        \"samples\": [\n          5696.0\n        ],\n        \"semantic_type\": \"\",\n        \"description\": \"\"\n      }\n    }\n  ]\n}"
            }
          },
          "metadata": {},
          "execution_count": 132
        }
      ]
    },
    {
      "cell_type": "code",
      "source": [
        "df.columns"
      ],
      "metadata": {
        "id": "eNT0t5YHz9bh",
        "colab": {
          "base_uri": "https://localhost:8080/"
        },
        "outputId": "2f191c20-c8d8-4eed-89b0-e69000e0d85b"
      },
      "execution_count": 133,
      "outputs": [
        {
          "output_type": "execute_result",
          "data": {
            "text/plain": [
              "Index(['id_usuario', 'indicador_inadimplencia',\n",
              "       'quanto_esta_usando_em_relação_ao_limite_de_crédito',\n",
              "       'relacao_dividas_ativos', 'mais_90_dias_atraso', 'idade', 'sexo',\n",
              "       'salario_ultimo_mes', 'numero_dependentes', 'total_imovel',\n",
              "       'total_outros', 'total_emprestimos', 'dummy_atraso',\n",
              "       'dummy_dependentes', 'faixa_uso_credito', 'faixa_endividamento',\n",
              "       'faixa_atrasos', 'faixa_idade', 'faixa_salario',\n",
              "       'faixa_numero_dependentes', 'faixa_numero_emprestimos',\n",
              "       'classif_risco_uso_crédito', 'classif_risco_nivel_dividas',\n",
              "       'classif_risco_numero_atrasos', 'classif_risco_salario',\n",
              "       'classif_risco_idade', 'classif_risco_numero_dependentes',\n",
              "       'classif_risco_numero_emprestimos', 'dummy_risco_uso_credito',\n",
              "       'dummy_risco_nivel_endividamento', 'dummy_risco_idade',\n",
              "       'dummy_risco_salario', 'dummy_risco_numero_dependentes',\n",
              "       'dummy_risco_numero_emprestimos', 'dummy_risco_numero_atrasos', 'score',\n",
              "       'classif_score'],\n",
              "      dtype='object')"
            ]
          },
          "metadata": {},
          "execution_count": 133
        }
      ]
    },
    {
      "cell_type": "code",
      "source": [
        "df['faixa_salario'].value_counts()"
      ],
      "metadata": {
        "id": "1Q6vs5Td2TJH",
        "colab": {
          "base_uri": "https://localhost:8080/"
        },
        "outputId": "4d1e855f-f82f-4b76-aad0-b6969cea1839"
      },
      "execution_count": 134,
      "outputs": [
        {
          "output_type": "execute_result",
          "data": {
            "text/plain": [
              "faixa_salario\n",
              "Salário Médio-Baixo (de 3.908,01 a 5.408,00)    12564\n",
              "Salário Baixo (menos de 3.908,00)                8985\n",
              "Salário Médio-Alto (de 7.424,01 a 12.698,00)     6798\n",
              "Salário Médio (de 5.408,01 a 7.424,00)           5401\n",
              "Salário Alto (acima de 12.698,01)                2184\n",
              "Name: count, dtype: int64"
            ]
          },
          "metadata": {},
          "execution_count": 134
        }
      ]
    },
    {
      "cell_type": "code",
      "source": [],
      "metadata": {
        "id": "LvzbmalTA_hR"
      },
      "execution_count": 134,
      "outputs": []
    }
  ]
}